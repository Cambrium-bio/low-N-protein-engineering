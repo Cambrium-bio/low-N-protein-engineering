{
 "cells": [
  {
   "cell_type": "markdown",
   "metadata": {},
   "source": [
    "## Compare similarity of designed GFP and beta-lactamse sequences with low-N training mutants and evotuning sequences.\n",
    "\n",
    "Creates plots that are panels within Supp Figs 8 and 12."
   ]
  },
  {
   "cell_type": "code",
   "execution_count": 1,
   "metadata": {},
   "outputs": [
    {
     "name": "stdout",
     "output_type": "stream",
     "text": [
      "\u001b[33mDEPRECATION: Python 3.5 reached the end of its life on September 13th, 2020. Please upgrade your Python as Python 3.5 is no longer maintained. pip 21.0 will drop support for Python 3.5 in January 2021. pip 21.0 will remove support for this functionality.\u001b[0m\n",
      "Requirement already satisfied: pip in /usr/local/lib/python3.5/dist-packages (20.3.4)\n",
      "Collecting pip\n",
      "  Using cached pip-20.3.4-py2.py3-none-any.whl (1.5 MB)\n",
      "  Using cached pip-20.3.3-py2.py3-none-any.whl (1.5 MB)\n",
      "\u001b[33mDEPRECATION: Python 3.5 reached the end of its life on September 13th, 2020. Please upgrade your Python as Python 3.5 is no longer maintained. pip 21.0 will drop support for Python 3.5 in January 2021. pip 21.0 will remove support for this functionality.\u001b[0m\n",
      "Requirement already satisfied: scipy==1.4.1 in /usr/local/lib/python3.5/dist-packages (1.4.1)\n",
      "Requirement already satisfied: numpy>=1.13.3 in /usr/local/lib/python3.5/dist-packages (from scipy==1.4.1) (1.15.4)\n"
     ]
    }
   ],
   "source": [
    "!pip install --upgrade pip\n",
    "!pip install scipy==1.4.1"
   ]
  },
  {
   "cell_type": "code",
   "execution_count": 2,
   "metadata": {
    "collapsed": true
   },
   "outputs": [],
   "source": [
    "import os\n",
    "import sys\n",
    "import pickle\n",
    "import random\n",
    "import copy\n",
    "import collections\n",
    "import glob\n",
    "\n",
    "import numpy as np\n",
    "import pandas as pd\n",
    "import matplotlib.pyplot as plt\n",
    "import matplotlib as mpl\n",
    "import tensorflow as tf\n",
    "import seaborn as sns\n",
    "\n",
    "from scipy.stats import spearmanr\n",
    "from scipy.stats import ks_2samp\n",
    "\n",
    "sys.path.append('../common')\n",
    "import data_io_utils\n",
    "import paths\n",
    "import constants\n",
    "import utils\n",
    "import plot_style_utils\n",
    "\n",
    "sys.path.append('../A008_analyze_chip_1/')\n",
    "import A008_common\n",
    "\n",
    "sys.path.append('../A006_simulated_annealing/')\n",
    "import A006_common\n",
    "\n",
    "\n",
    "%reload_ext autoreload\n",
    "%autoreload 2"
   ]
  },
  {
   "cell_type": "code",
   "execution_count": 3,
   "metadata": {
    "collapsed": true
   },
   "outputs": [],
   "source": [
    "def read_simple_seq_file(seq_file):\n",
    "    with open(seq_file) as f:\n",
    "        rseqs = f.read().splitlines()\n",
    "        \n",
    "    return rseqs\n",
    "\n",
    "def fasta_write(seqs, headers, file):\n",
    "    with open(file, 'w') as f:\n",
    "        for i in range(len(seqs)):\n",
    "            f.write('>' + headers[i] + '\\n')\n",
    "            f.write(seqs[i] + '\\n')"
   ]
  },
  {
   "cell_type": "code",
   "execution_count": 4,
   "metadata": {
    "collapsed": true
   },
   "outputs": [],
   "source": [
    "def create_mafft_input_fasta(seq_file, wt_seq, max_dissimilarity=0.3):\n",
    "    # change max_dissimilarity to 1 to keep all sequences as partitioned in the\n",
    "    # ablation sets.\n",
    "    \n",
    "    seqs = read_simple_seq_file(seq_file)\n",
    "    headers = ['ET_close_seq_' + str(i) for i in range(len(seqs))]\n",
    "\n",
    "    seqs = [wt_seq] + seqs # add wt\n",
    "    headers = ['WT'] + headers # add wt\n",
    "    \n",
    "    max_mut = int(max_dissimilarity*len(wt_seq))\n",
    "    ld = utils.levenshtein_distance_matrix([wt_seq], seqs).reshape(-1)\n",
    "    to_keep = ld <= max_mut\n",
    "    seqs = list(np.array(seqs)[to_keep])\n",
    "    \n",
    "    print('Max nmut:', max_mut)\n",
    "    print('N seqs kept:', len(seqs))\n",
    "    \n",
    "    outfile = seq_file.replace('.txt', '_for_MSA.fasta')\n",
    "    fasta_write(seqs, headers, outfile)"
   ]
  },
  {
   "cell_type": "code",
   "execution_count": 5,
   "metadata": {},
   "outputs": [
    {
     "name": "stdout",
     "output_type": "stream",
     "text": [
      "Max nmut: 71\n",
      "N seqs kept: 139\n",
      "Max nmut: 71\n",
      "N seqs kept: 36\n",
      "Max nmut: 85\n",
      "N seqs kept: 880\n"
     ]
    }
   ],
   "source": [
    "create_mafft_input_fasta('et_ablation_seq_sets/GFP_ET1_seqs_far_ablated.txt', constants.AVGFP_AA_SEQ)\n",
    "create_mafft_input_fasta('et_ablation_seq_sets/GFP_ET2_seqs_far_ablated.txt', constants.AVGFP_AA_SEQ)\n",
    "create_mafft_input_fasta('et_ablation_seq_sets/BLAC_ET_seqs_far_ablated.txt', constants.BETA_LAC_AA_SEQ)"
   ]
  },
  {
   "cell_type": "markdown",
   "metadata": {},
   "source": [
    "## Run MAFFT v7.471 (2020/Jul/3)\n",
    "\n",
    "Outside of the notebook run mafft to align the sequences. For ease we'll do this outside of the docker environment.\n",
    "\n",
    "Commands:\n",
    "\n",
    "`sudo sh -c 'mafft --auto GFP_ET1_seqs_far_ablated_for_MSA.fasta > GFP_ET1_seqs_far_ablated_for_MSA_aln.fasta'`\n",
    "\n",
    "`sudo sh -c 'mafft --auto GFP_ET2_seqs_far_ablated_for_MSA.fasta > GFP_ET2_seqs_far_ablated_for_MSA_aln.fasta'`\n",
    "\n",
    "`sudo sh -c 'mafft --auto BLAC_ET_seqs_far_ablated_for_MSA.fasta > BLAC_ET_seqs_far_ablated_for_MSA_aln.fasta'`"
   ]
  },
  {
   "cell_type": "code",
   "execution_count": 6,
   "metadata": {
    "collapsed": true
   },
   "outputs": [],
   "source": [
    "PROT = 'GFP' # toggle\n",
    "#PROT = 'BLAC' # toggle"
   ]
  },
  {
   "cell_type": "code",
   "execution_count": 7,
   "metadata": {
    "collapsed": true
   },
   "outputs": [],
   "source": [
    "if PROT == \"BLAC\":\n",
    "    aln_seq_file = 'et_ablation_seq_sets/BLAC_ET_seqs_far_ablated_for_MSA_aln.fasta'\n",
    "    wt_seq = constants.BETA_LAC_AA_SEQ\n",
    "    prot = 'BLAC'\n",
    "    QFUNC_COL = 'lfe_1000'\n",
    "    \n",
    "elif PROT == 'GFP':\n",
    "    aln_seq_file = 'et_ablation_seq_sets/GFP_ET1_seqs_far_ablated_for_MSA_aln.fasta'\n",
    "    wt_seq = constants.AVGFP_AA_SEQ\n",
    "    prot = 'GFP'\n",
    "    QFUNC_COL = 'qfunc'"
   ]
  },
  {
   "cell_type": "code",
   "execution_count": 8,
   "metadata": {
    "collapsed": true
   },
   "outputs": [],
   "source": [
    "def create_et_seq_matrix(et_aln_seq_file, wt_seq):\n",
    "    headers, seqs = utils.fasta_read(et_aln_seq_file)\n",
    "\n",
    "    assert len(np.unique([len(s) for s in seqs])) == 1\n",
    "\n",
    "    aseqs = np.array([list(s) for s in seqs])\n",
    "    \n",
    "    assert headers[0] == 'WT'\n",
    "\n",
    "    faseqs = aseqs[:,aseqs[0] != '-'] # remove gaps\n",
    "    \n",
    "    return faseqs"
   ]
  },
  {
   "cell_type": "code",
   "execution_count": 9,
   "metadata": {
    "collapsed": true
   },
   "outputs": [],
   "source": [
    "def get_s3_sim_anneal_pickle(seq_id, prot):\n",
    "    splits = seq_id.split('-')\n",
    "    \n",
    "    fbasename = '-'.join(splits[:-1]) + '.p'\n",
    "    \n",
    "    if prot == 'BLAC':\n",
    "        return os.path.join(data_io_utils.S3_DATA_ROOT, \n",
    "                'chip_1/simulated_annealing/beta_lactamase/' + fbasename)\n",
    "    elif prot == 'GFP':\n",
    "        return os.path.join(data_io_utils.S3_DATA_ROOT, \n",
    "                'chip_1/simulated_annealing/GFP/' + fbasename)\n",
    "\n",
    "def load_protein_data(prot):\n",
    "    if prot == 'BLAC':\n",
    "        # Generated in mlpe-gfp-pilot repository\n",
    "        lfe_data_file = os.path.join(data_io_utils.S3_DATA_ROOT, 'chip_1', \n",
    "                'A052e_BLAC_log_fold_enrichment.csv')\n",
    "        data_io_utils.sync_s3_path_to_local(lfe_data_file, is_single_file=True)\n",
    "\n",
    "        df = pd.read_csv(lfe_data_file)\n",
    "        \n",
    "    elif prot == 'GFP':\n",
    "        inf_brightness_data_file = os.path.join(data_io_utils.S3_DATA_ROOT, 'chip_1', \n",
    "                'A052b_Chip_1_inferred_brightness_v2.csv')\n",
    "        data_io_utils.sync_s3_path_to_local(inf_brightness_data_file, is_single_file=True)\n",
    "\n",
    "        df = pd.read_csv(inf_brightness_data_file)\n",
    "\n",
    "    q = df['id'].apply(lambda s: pd.Series(A008_common.split_seq_id_into_features(s)))\n",
    "    df = df.merge(q, left_index=True, right_index=True)\n",
    "    \n",
    "    df['sa_pickle'] = df['id'].apply(lambda s: get_s3_sim_anneal_pickle(s, prot))\n",
    "\n",
    "    display(df.head())\n",
    "    print(df.columns)\n",
    "    \n",
    "    return df"
   ]
  },
  {
   "cell_type": "code",
   "execution_count": 10,
   "metadata": {
    "collapsed": true
   },
   "outputs": [],
   "source": [
    "def build_training_seq_matrix(sa_pickle):    \n",
    "    with open(sa_pickle, 'rb') as f:\n",
    "        sadata = pickle.load(f)\n",
    "        \n",
    "    train_seqs = list(sadata['train_df']['seq'])\n",
    "    \n",
    "    seq_matrix = np.array([list(s) for s in train_seqs])\n",
    "    \n",
    "    del sadata\n",
    "    \n",
    "    return seq_matrix\n",
    "\n",
    "def build_and_save_all_training_matrices(df):\n",
    "\n",
    "    sa_pickles = list(np.unique(df['sa_pickle']))\n",
    "\n",
    "    for sap in sa_pickles:\n",
    "        if sap[-3:] == '/.p':\n",
    "            continue\n",
    "        \n",
    "        np_file = 'training_seq_matrices/'+os.path.basename(sap).replace('.p', '.npy')\n",
    "\n",
    "        if not os.path.exists(np_file):    \n",
    "            print(sap)\n",
    "\n",
    "            # Grab the pickl containing everything related to a particular simulated annealing run\n",
    "            data_io_utils.sync_s3_path_to_local(sap, is_single_file=True)\n",
    "\n",
    "            # Build a numpy sequence matrix \n",
    "            training_smat = build_training_seq_matrix(sap)\n",
    "            np.save(arr=training_smat, file=np_file)\n",
    "\n",
    "            # Remove the pickle for storage purposes.\n",
    "            os.remove(sap)"
   ]
  },
  {
   "cell_type": "code",
   "execution_count": 11,
   "metadata": {
    "collapsed": true
   },
   "outputs": [],
   "source": [
    "def get_pos(edit):\n",
    "    return int(edit[1:-1])\n",
    "\n",
    "def tabulate_mutations_in_seq_mat(seq_mat, wt_seq):\n",
    "    edit_counts = {}\n",
    "    pos_counts = {}\n",
    "    for sv in seq_mat:\n",
    "        seq = ''.join(list(sv))\n",
    "        \n",
    "        edits = utils.build_edit_string(seq, wt_seq)\n",
    "        \n",
    "        for e in edits:\n",
    "            if e not in edit_counts:\n",
    "                edit_counts[e] = 0\n",
    "                \n",
    "            if get_pos(e) not in pos_counts:\n",
    "                pos_counts[get_pos(e)] = 0\n",
    "                \n",
    "            edit_counts[e] += 1\n",
    "            pos_counts[get_pos(e)] += 1\n",
    "            \n",
    "    edit_df = pd.DataFrame(list(edit_counts.items()), columns=['unit', 'count'])\n",
    "    pos_df = pd.DataFrame(list(pos_counts.items()), columns=['unit', 'count'])\n",
    "        \n",
    "    return edit_df, pos_df"
   ]
  },
  {
   "cell_type": "code",
   "execution_count": 12,
   "metadata": {
    "collapsed": true
   },
   "outputs": [],
   "source": [
    "def build_design_seq_mat(df, training_smat_npy):\n",
    "    sa_run = os.path.basename(training_smat_npy).replace('.npy', '')\n",
    "    \n",
    "    mask = np.array(df['sa_pickle'].apply(lambda x: sa_run in x))\n",
    "    df_sub = df[mask]\n",
    "    #print(df_sub.shape)\n",
    "    \n",
    "    design_seqs = list(df_sub['seq'])\n",
    "    \n",
    "    design_seq_mat = np.array([list(s) for s in design_seqs])\n",
    "    \n",
    "    assert design_seq_mat.shape[0] == df_sub.shape[0]\n",
    "    \n",
    "    return design_seq_mat, df_sub"
   ]
  },
  {
   "cell_type": "code",
   "execution_count": 13,
   "metadata": {
    "collapsed": true
   },
   "outputs": [],
   "source": [
    "def characterize_variant_mutations(dseq, seq_mat, wt_seq):\n",
    "    assert len(dseq) == seq_mat.shape[1]\n",
    "    assert len(dseq) == len(wt_seq)\n",
    "\n",
    "    num_shared = 0\n",
    "    num_unique = 0\n",
    "    for i in range(len(dseq)):\n",
    "        if dseq[i] != wt_seq[i]:\n",
    "            if dseq[i] in seq_mat[:,i]:\n",
    "                num_shared += 1\n",
    "            else:\n",
    "                num_unique += 1\n",
    "\n",
    "    ref_seqs = [''.join(s) for s in seq_mat] + [wt_seq]\n",
    "    seq = ''.join(dseq)\n",
    "\n",
    "    ld = utils.levenshtein_distance_matrix([seq], ref_seqs).reshape(-1)\n",
    "    min_nmut = np.min(ld)\n",
    "\n",
    "    return {\n",
    "        'num_mut_shared': num_shared,\n",
    "        'num_mut_unique': num_unique,\n",
    "        'min_nmut_to_nearest': min_nmut\n",
    "    }\n",
    "\n",
    "def build_edit_and_pos_count_for_train_set_dfs(df, aln_seq_file, wt_seq, training_smat_npy, prot, \n",
    "        generate_per_variant_df=True):\n",
    "    et_smat = create_et_seq_matrix(aln_seq_file, wt_seq) # only need to compute once.\n",
    "    training_smat = np.load(training_smat_npy)\n",
    "    design_smat, df_sub = build_design_seq_mat(df, training_smat_npy)\n",
    "    \n",
    "    if generate_per_variant_df:\n",
    "        res = []\n",
    "        design_training_mat = np.vstack([et_smat, training_smat])\n",
    "        for dseq in design_smat:\n",
    "            res.append(characterize_variant_mutations(dseq, design_training_mat, wt_seq))\n",
    "        per_variant_df = pd.DataFrame(res)\n",
    "        assert per_variant_df.shape[0] == df_sub.shape[0]\n",
    "        per_variant_df['qfunc'] = np.array(df_sub[QFUNC_COL])\n",
    "        per_variant_df['model'] = list(df_sub['model'])\n",
    "        per_variant_df['rep'] = np.array(df_sub['rep'])\n",
    "    else:\n",
    "        per_variant_df = []\n",
    "    \n",
    "    et_edit_df, et_pos_df = tabulate_mutations_in_seq_mat(et_smat, wt_seq)\n",
    "    train_edit_df, train_pos_df = tabulate_mutations_in_seq_mat(training_smat, wt_seq)\n",
    "    design_edit_df, design_pos_df = tabulate_mutations_in_seq_mat(design_smat, wt_seq)\n",
    "    \n",
    "    edit_df = pd.merge(et_edit_df, train_edit_df, how='outer', on='unit').fillna(0)\n",
    "    edit_df = pd.merge(edit_df, design_edit_df, how='outer', on='unit').fillna(0)\n",
    "    edit_df.rename(columns={'count_x': 'count_et', 'count_y': 'count_train', 'count': 'count_design'}, inplace=True)\n",
    "\n",
    "    pos_df = pd.merge(et_pos_df, train_pos_df, how='outer', on='unit').fillna(0)\n",
    "    pos_df = pd.merge(pos_df, design_pos_df, how='outer', on='unit').fillna(0)\n",
    "    pos_df.rename(columns={'count_x': 'count_et', 'count_y': 'count_train', 'count': 'count_design'}, inplace=True)\n",
    "    \n",
    "    # Limit only to positions mutated in our experiment to be completely fair.\n",
    "    if prot == 'BLAC':\n",
    "        min_pos = A006_common.BLAC_LIB_REGION[0] + 1 # 1 based, inclusive\n",
    "        max_pos = A006_common.BLAC_LIB_REGION[1] + 1 # 1 based, exclusive\n",
    "    elif prot == 'GFP':\n",
    "        min_pos = A006_common.GFP_LIB_REGION[0] + 1 # 1 based, inclusive\n",
    "        max_pos = A006_common.GFP_LIB_REGION[1] + 1 # 1 based, exclusive\n",
    "    \n",
    "    pos = np.array(edit_df['unit'].apply(get_pos))\n",
    "    edit_df = edit_df[np.logical_and(pos >= min_pos, pos < max_pos) ] # [inclusive, exclusive)\n",
    "    \n",
    "    pos_df = pos_df[np.logical_and(pos_df['unit'] >= min_pos, pos_df['unit'] < max_pos)] # [inclusive, exclusive)\n",
    "    \n",
    "    return edit_df, pos_df, per_variant_df\n",
    "\n",
    "\n",
    "def jaccard_sim(x,y):\n",
    "    return np.sum(np.logical_and(x != 0, y !=0))/np.sum(np.logical_or(x != 0, y != 0))\n",
    "\n",
    "def frac_captured(x, y):\n",
    "    # Fraction of y captured by x.\n",
    "    return np.sum(np.logical_and(x != 0, y !=0))/np.sum(y != 0)\n",
    "\n",
    "def frac_uncaptured(ecounts, tcounts, dcounts):\n",
    "    return np.sum(\n",
    "        np.logical_and(np.logical_and(ecounts == 0, tcounts ==0), dcounts != 0)\n",
    "    ) / len(dcounts)\n",
    "\n",
    "\n",
    "def generate_summary_statistics_for_edit_and_pos_df(edit_df, pos_df): \n",
    "    summary = collections.OrderedDict()\n",
    "\n",
    "    for s in ['_et', '_train']:\n",
    "        summary['edit_jaccard_sim_to' + s] = jaccard_sim(edit_df['count' + s], edit_df['count_design'])\n",
    "        summary['pos_jaccard_sim_to' + s] = jaccard_sim(pos_df['count' + s], pos_df['count_design'])\n",
    "\n",
    "        summary['edit_frac_captured_by' + s] = frac_captured(edit_df['count' + s], edit_df['count_design'])\n",
    "        summary['pos_frac_captured_by' + s] = frac_captured(pos_df['count' + s], pos_df['count_design'])\n",
    "\n",
    "        summary['edit_spearman_to' + s] = spearmanr(edit_df['count' + s], edit_df['count_design'])[0]\n",
    "        summary['pos_spearman_to' + s] = spearmanr(pos_df['count' + s], pos_df['count_design'])[0]\n",
    "\n",
    "\n",
    "    # Fraction of all mutations in the designs not found in the ET or training sets.\n",
    "    summary['edit_frac_uncaptured_by_et_and_train'] = frac_uncaptured(\n",
    "        edit_df['count_et'], edit_df['count_train'], edit_df['count_design'])\n",
    "    summary['pos_frac_uncaptured_by_et_and_train'] = frac_uncaptured(\n",
    "        pos_df['count_et'], pos_df['count_train'], pos_df['count_design'])\n",
    "    \n",
    "    return summary\n",
    "\n",
    "def build_summary_statistic_dataframe(df, aln_seq_file, wt_seq, prot, keep_only=None):\n",
    "    training_smat_npys = glob.glob('training_seq_matrices/' + prot + '*')\n",
    "\n",
    "    summaries = []\n",
    "    per_var_df = []\n",
    "    for training_smat_npy in training_smat_npys:\n",
    "        if keep_only is not None and keep_only not in training_smat_npy:\n",
    "            continue\n",
    "        \n",
    "        #print(training_smat_npy)\n",
    "        edit_df, pos_df, pvdf = build_edit_and_pos_count_for_train_set_dfs(\n",
    "                df, aln_seq_file, wt_seq, training_smat_npy, prot)\n",
    "        per_var_df.append(pvdf)\n",
    "        \n",
    "        summary = generate_summary_statistics_for_edit_and_pos_df(edit_df, pos_df)\n",
    "\n",
    "        sa_run = os.path.basename(training_smat_npy).replace('.npy', '') + '-dummy'\n",
    "\n",
    "        runinfo = A008_common.split_seq_id_into_features(sa_run)\n",
    "        del runinfo['seq_traj_idx']\n",
    "\n",
    "        summary.update(runinfo)\n",
    "\n",
    "        summaries.append(summary)\n",
    "\n",
    "    summary_df = pd.DataFrame(summaries)\n",
    "    per_var_df = pd.concat(per_var_df)\n",
    "    \n",
    "    return summary_df, per_var_df\n",
    "\n",
    "def generate_summary_statistic_plot(summary_df, statistic, ylim=[0,1]):\n",
    "    model_name_swap = {\n",
    "        'OneHot': 'Full AA',\n",
    "        'ET_Random_Init_1': 'Local\\nUniRep',\n",
    "        'ET_Global_Init_1': 'eUniRep 1',\n",
    "        'ET_Global_Init_2': 'eUniRep 2'\n",
    "    }\n",
    "    \n",
    "    # Ignore special cases to keep comparisons fair. E.g. SmallTrust for GFP\n",
    "    # and LargeMut for BLAC. \n",
    "    summary_df = copy.deepcopy(summary_df)\n",
    "    summary_df = summary_df[summary_df['special_case'] == '']\n",
    "    nan_mask = np.isnan(summary_df['pos_spearman_to_train'])\n",
    "    summary_df = summary_df[~nan_mask]\n",
    "\n",
    "    if prot == 'GFP':\n",
    "        x_order = ['OneHot', 'ET_Random_Init_1', 'ET_Global_Init_1', 'ET_Global_Init_2']\n",
    "    elif prot == 'BLAC':\n",
    "        x_order = ['OneHot', 'ET_Random_Init_1', 'ET_Global_Init_1']\n",
    "        model_name_swap['ET_Global_Init_1'] = 'eUniRep'\n",
    "        \n",
    "    olen = len(x_order)\n",
    "    mlist = list(np.unique(summary_df['model']))\n",
    "    x_order = [x for x in x_order if x in mlist]\n",
    "\n",
    "    fig = plt.figure(figsize=(10*len(x_order)/olen,5))\n",
    "    ax = sns.stripplot(x=\"model\", y=statistic, hue=\"ntrain\",\n",
    "                       data=summary_df, palette=plot_style_utils.CAT_PALETTE, dodge=True, linewidth=1,\n",
    "                       order=x_order, size=10\n",
    "                    )\n",
    "    ax = sns.boxplot(x=\"model\", y=statistic, hue=\"ntrain\",\n",
    "                        data=summary_df, palette=plot_style_utils.CAT_PALETTE, dodge=True, linewidth=1, whis=np.inf,\n",
    "                        order=x_order, width=0.8\n",
    "                    )\n",
    "\n",
    "    for patch in ax.artists:\n",
    "        r, g, b, a = patch.get_facecolor()\n",
    "        patch.set_facecolor((r, g, b, .3))\n",
    "\n",
    "    # Get the handles and labels. For this example it'll be 2 tuples\n",
    "    # of length 4 each.\n",
    "    handles, labels = ax.get_legend_handles_labels()\n",
    "\n",
    "    # When creating the legend, only use the first two elements\n",
    "    # to effectively remove the last two.\n",
    "    l = plt.legend(handles[0:2], labels[0:2], bbox_to_anchor=(1.05, 1), loc=2, borderaxespad=0.)\n",
    "\n",
    "    plt.gca().set_xticklabels([model_name_swap[s.get_text()] for s in plt.gca().get_xticklabels()])\n",
    "    plt.xlabel('')\n",
    "    \n",
    "    if statistic == 'edit_frac_uncaptured_by_et_and_train':\n",
    "        plt.ylabel('Fraction of mutations not found in evotuning\\nor low-N training set sequences')\n",
    "        v = plt.axis()\n",
    "        plt.axis(list(v[:2]) + ylim)\n",
    "    elif statistic == 'edit_spearman_to_et':\n",
    "        plt.ylabel('Spearman corr. between mutation abundances\\nin evotuning set and designed sequences')\n",
    "\n",
    "    plt.grid('on')\n",
    "\n",
    "    plt.show()\n",
    "    return fig\n",
    "    \n",
    "def filter_for_gt_wt_for_eunirep(df, prot):\n",
    "    if prot == 'BLAC':\n",
    "        wt_idx = np.argwhere(df['seq'] == constants.BETA_LAC_AA_SEQ).reshape(-1)[0]\n",
    "        eunirep_mask = df['model'] == 'ET_Global_Init_1'\n",
    "    elif prot == 'GFP':\n",
    "        wt_idx = np.argwhere(df['seq'] == constants.AVGFP_AA_SEQ).reshape(-1)[0]\n",
    "        eunirep_mask = np.logical_or(df['model'] == 'ET_Global_Init_1',\n",
    "                df['model'] == 'ET_Global_Init_2')\n",
    "                                     \n",
    "        \n",
    "    wt_qfunc = df[QFUNC_COL].iloc[wt_idx]\n",
    "    \n",
    "    return df[np.logical_and(df[QFUNC_COL] > wt_qfunc, eunirep_mask)]\n",
    "    \n",
    "    "
   ]
  },
  {
   "cell_type": "code",
   "execution_count": 14,
   "metadata": {},
   "outputs": [
    {
     "data": {
      "text/html": [
       "<div>\n",
       "<style scoped>\n",
       "    .dataframe tbody tr th:only-of-type {\n",
       "        vertical-align: middle;\n",
       "    }\n",
       "\n",
       "    .dataframe tbody tr th {\n",
       "        vertical-align: top;\n",
       "    }\n",
       "\n",
       "    .dataframe thead th {\n",
       "        text-align: right;\n",
       "    }\n",
       "</style>\n",
       "<table border=\"1\" class=\"dataframe\">\n",
       "  <thead>\n",
       "    <tr style=\"text-align: right;\">\n",
       "      <th></th>\n",
       "      <th>id</th>\n",
       "      <th>qfunc</th>\n",
       "      <th>qfunc_rep1</th>\n",
       "      <th>qfunc_rep2</th>\n",
       "      <th>extracted_lib_nt_seq</th>\n",
       "      <th>seq_idx</th>\n",
       "      <th>trajectory_idx</th>\n",
       "      <th>predicted_fitness</th>\n",
       "      <th>ensemble_predicted_fitness</th>\n",
       "      <th>seq</th>\n",
       "      <th>...</th>\n",
       "      <th>DE_Chip_1_GFP_NGS_16</th>\n",
       "      <th>DE_Chip_1_GFP_NGS_17</th>\n",
       "      <th>DE_Chip_1_GFP_NGS_18</th>\n",
       "      <th>model</th>\n",
       "      <th>ntrain</th>\n",
       "      <th>rep</th>\n",
       "      <th>rep_hash</th>\n",
       "      <th>seq_traj_idx</th>\n",
       "      <th>special_case</th>\n",
       "      <th>sa_pickle</th>\n",
       "    </tr>\n",
       "  </thead>\n",
       "  <tbody>\n",
       "    <tr>\n",
       "      <th>0</th>\n",
       "      <td>GFP_SimAnneal-ET_Global_Init_2-0024-04-36079a2...</td>\n",
       "      <td>2.205245</td>\n",
       "      <td>2.335832</td>\n",
       "      <td>2.205245</td>\n",
       "      <td>AAAACAGAGGGTCCTAGAGACGCAACTTATGGTAAAATGACGCCGA...</td>\n",
       "      <td>2719.0</td>\n",
       "      <td>1741.0</td>\n",
       "      <td>9.660326e+07</td>\n",
       "      <td>[-4.4425168e+00 -4.4221644e+00 -5.1892853e+00 ...</td>\n",
       "      <td>MSKGEELFTGVVPILVELDGDVNGHKFSVKTEGPRDATYGKMTPKF...</td>\n",
       "      <td>...</td>\n",
       "      <td>0.0</td>\n",
       "      <td>0.0</td>\n",
       "      <td>0.0</td>\n",
       "      <td>ET_Global_Init_2</td>\n",
       "      <td>24.0</td>\n",
       "      <td>4.0</td>\n",
       "      <td>36079a2c</td>\n",
       "      <td>seq_idx_2719_1741</td>\n",
       "      <td></td>\n",
       "      <td>/notebooks/analysis/common/../../data/s3/chip_...</td>\n",
       "    </tr>\n",
       "    <tr>\n",
       "      <th>1</th>\n",
       "      <td>GFP_SimAnneal-OneHot-0024-04-4279eeb-seq_idx_2...</td>\n",
       "      <td>1.945739</td>\n",
       "      <td>2.011986</td>\n",
       "      <td>1.945739</td>\n",
       "      <td>AAAACAGAGGGTGAAGGTGACGCAACTTATGGTAAACTGAGCCTGA...</td>\n",
       "      <td>2601.0</td>\n",
       "      <td>1191.0</td>\n",
       "      <td>7.883185e-01</td>\n",
       "      <td>[0.73590547 0.76271843 0.77913585 0.75764891 0...</td>\n",
       "      <td>MSKGEELFTGVVPILVELDGDVNGHKFSVKTEGEGDATYGKLSLKF...</td>\n",
       "      <td>...</td>\n",
       "      <td>0.0</td>\n",
       "      <td>0.0</td>\n",
       "      <td>0.0</td>\n",
       "      <td>OneHot</td>\n",
       "      <td>24.0</td>\n",
       "      <td>4.0</td>\n",
       "      <td>4279eeb</td>\n",
       "      <td>seq_idx_2601_1191</td>\n",
       "      <td></td>\n",
       "      <td>/notebooks/analysis/common/../../data/s3/chip_...</td>\n",
       "    </tr>\n",
       "    <tr>\n",
       "      <th>2</th>\n",
       "      <td>GFP_SimAnneal-ET_Random_Init_1-0024-04-1989c09...</td>\n",
       "      <td>2.079981</td>\n",
       "      <td>2.279340</td>\n",
       "      <td>2.079981</td>\n",
       "      <td>AAAATGGAGGGTGAAGGTAATCCTACTGGTGGTAAACTGATTCAGA...</td>\n",
       "      <td>454.0</td>\n",
       "      <td>2029.0</td>\n",
       "      <td>7.540600e-01</td>\n",
       "      <td>[0.7710203  0.7359552  0.6161216  0.77072877 0...</td>\n",
       "      <td>MSKGEELFTGVVPILVELDGDVNGHKFSVKMEGEGNPTGGKLIQKF...</td>\n",
       "      <td>...</td>\n",
       "      <td>0.0</td>\n",
       "      <td>0.0</td>\n",
       "      <td>0.0</td>\n",
       "      <td>ET_Random_Init_1</td>\n",
       "      <td>24.0</td>\n",
       "      <td>4.0</td>\n",
       "      <td>1989c098</td>\n",
       "      <td>seq_idx_454_2029</td>\n",
       "      <td></td>\n",
       "      <td>/notebooks/analysis/common/../../data/s3/chip_...</td>\n",
       "    </tr>\n",
       "    <tr>\n",
       "      <th>3</th>\n",
       "      <td>GFP_SimAnneal-ET_Global_Init_1-0024-04-4502d3-...</td>\n",
       "      <td>2.180828</td>\n",
       "      <td>2.236717</td>\n",
       "      <td>2.180828</td>\n",
       "      <td>AAAGGCATAGGTGAAGGTGACGCAACTATGGGTAAACTGACGATTC...</td>\n",
       "      <td>1809.0</td>\n",
       "      <td>1276.0</td>\n",
       "      <td>7.377951e-01</td>\n",
       "      <td>[1.0700963  0.7323966  0.79640985 0.7426758  0...</td>\n",
       "      <td>MSKGEELFTGVVPILVELDGDVNGHKFSVKGIGEGDATMGKLTIRF...</td>\n",
       "      <td>...</td>\n",
       "      <td>0.0</td>\n",
       "      <td>0.0</td>\n",
       "      <td>0.0</td>\n",
       "      <td>ET_Global_Init_1</td>\n",
       "      <td>24.0</td>\n",
       "      <td>4.0</td>\n",
       "      <td>4502d3</td>\n",
       "      <td>seq_idx_1809_1276</td>\n",
       "      <td></td>\n",
       "      <td>/notebooks/analysis/common/../../data/s3/chip_...</td>\n",
       "    </tr>\n",
       "    <tr>\n",
       "      <th>4</th>\n",
       "      <td>GFP_SimAnneal-ET_Global_Init_1-0024-04-4502d3-...</td>\n",
       "      <td>2.670093</td>\n",
       "      <td>2.670093</td>\n",
       "      <td>2.720217</td>\n",
       "      <td>AAAGGCCAAGGTGAAGGTGAAGCAACTTATGGTAAACTGACGCTGA...</td>\n",
       "      <td>317.0</td>\n",
       "      <td>3482.0</td>\n",
       "      <td>7.378049e-01</td>\n",
       "      <td>[0.9574555  0.7345054  0.7397466  0.7718942  0...</td>\n",
       "      <td>MSKGEELFTGVVPILVELDGDVNGHKFSVKGQGEGEATYGKLTLKF...</td>\n",
       "      <td>...</td>\n",
       "      <td>1.0</td>\n",
       "      <td>1.0</td>\n",
       "      <td>0.0</td>\n",
       "      <td>ET_Global_Init_1</td>\n",
       "      <td>24.0</td>\n",
       "      <td>4.0</td>\n",
       "      <td>4502d3</td>\n",
       "      <td>seq_idx_317_3482</td>\n",
       "      <td></td>\n",
       "      <td>/notebooks/analysis/common/../../data/s3/chip_...</td>\n",
       "    </tr>\n",
       "  </tbody>\n",
       "</table>\n",
       "<p>5 rows × 46 columns</p>\n",
       "</div>"
      ],
      "text/plain": [
       "                                                  id     qfunc  qfunc_rep1  \\\n",
       "0  GFP_SimAnneal-ET_Global_Init_2-0024-04-36079a2...  2.205245    2.335832   \n",
       "1  GFP_SimAnneal-OneHot-0024-04-4279eeb-seq_idx_2...  1.945739    2.011986   \n",
       "2  GFP_SimAnneal-ET_Random_Init_1-0024-04-1989c09...  2.079981    2.279340   \n",
       "3  GFP_SimAnneal-ET_Global_Init_1-0024-04-4502d3-...  2.180828    2.236717   \n",
       "4  GFP_SimAnneal-ET_Global_Init_1-0024-04-4502d3-...  2.670093    2.670093   \n",
       "\n",
       "   qfunc_rep2                               extracted_lib_nt_seq  seq_idx  \\\n",
       "0    2.205245  AAAACAGAGGGTCCTAGAGACGCAACTTATGGTAAAATGACGCCGA...   2719.0   \n",
       "1    1.945739  AAAACAGAGGGTGAAGGTGACGCAACTTATGGTAAACTGAGCCTGA...   2601.0   \n",
       "2    2.079981  AAAATGGAGGGTGAAGGTAATCCTACTGGTGGTAAACTGATTCAGA...    454.0   \n",
       "3    2.180828  AAAGGCATAGGTGAAGGTGACGCAACTATGGGTAAACTGACGATTC...   1809.0   \n",
       "4    2.720217  AAAGGCCAAGGTGAAGGTGAAGCAACTTATGGTAAACTGACGCTGA...    317.0   \n",
       "\n",
       "   trajectory_idx  predicted_fitness  \\\n",
       "0          1741.0       9.660326e+07   \n",
       "1          1191.0       7.883185e-01   \n",
       "2          2029.0       7.540600e-01   \n",
       "3          1276.0       7.377951e-01   \n",
       "4          3482.0       7.378049e-01   \n",
       "\n",
       "                          ensemble_predicted_fitness  \\\n",
       "0  [-4.4425168e+00 -4.4221644e+00 -5.1892853e+00 ...   \n",
       "1  [0.73590547 0.76271843 0.77913585 0.75764891 0...   \n",
       "2  [0.7710203  0.7359552  0.6161216  0.77072877 0...   \n",
       "3  [1.0700963  0.7323966  0.79640985 0.7426758  0...   \n",
       "4  [0.9574555  0.7345054  0.7397466  0.7718942  0...   \n",
       "\n",
       "                                                 seq  \\\n",
       "0  MSKGEELFTGVVPILVELDGDVNGHKFSVKTEGPRDATYGKMTPKF...   \n",
       "1  MSKGEELFTGVVPILVELDGDVNGHKFSVKTEGEGDATYGKLSLKF...   \n",
       "2  MSKGEELFTGVVPILVELDGDVNGHKFSVKMEGEGNPTGGKLIQKF...   \n",
       "3  MSKGEELFTGVVPILVELDGDVNGHKFSVKGIGEGDATMGKLTIRF...   \n",
       "4  MSKGEELFTGVVPILVELDGDVNGHKFSVKGQGEGEATYGKLTLKF...   \n",
       "\n",
       "                         ...                         DE_Chip_1_GFP_NGS_16  \\\n",
       "0                        ...                                          0.0   \n",
       "1                        ...                                          0.0   \n",
       "2                        ...                                          0.0   \n",
       "3                        ...                                          0.0   \n",
       "4                        ...                                          1.0   \n",
       "\n",
       "   DE_Chip_1_GFP_NGS_17 DE_Chip_1_GFP_NGS_18             model ntrain  rep  \\\n",
       "0                   0.0                  0.0  ET_Global_Init_2   24.0  4.0   \n",
       "1                   0.0                  0.0            OneHot   24.0  4.0   \n",
       "2                   0.0                  0.0  ET_Random_Init_1   24.0  4.0   \n",
       "3                   0.0                  0.0  ET_Global_Init_1   24.0  4.0   \n",
       "4                   1.0                  0.0  ET_Global_Init_1   24.0  4.0   \n",
       "\n",
       "   rep_hash       seq_traj_idx special_case  \\\n",
       "0  36079a2c  seq_idx_2719_1741                \n",
       "1   4279eeb  seq_idx_2601_1191                \n",
       "2  1989c098   seq_idx_454_2029                \n",
       "3    4502d3  seq_idx_1809_1276                \n",
       "4    4502d3   seq_idx_317_3482                \n",
       "\n",
       "                                           sa_pickle  \n",
       "0  /notebooks/analysis/common/../../data/s3/chip_...  \n",
       "1  /notebooks/analysis/common/../../data/s3/chip_...  \n",
       "2  /notebooks/analysis/common/../../data/s3/chip_...  \n",
       "3  /notebooks/analysis/common/../../data/s3/chip_...  \n",
       "4  /notebooks/analysis/common/../../data/s3/chip_...  \n",
       "\n",
       "[5 rows x 46 columns]"
      ]
     },
     "metadata": {},
     "output_type": "display_data"
    },
    {
     "name": "stdout",
     "output_type": "stream",
     "text": [
      "Index(['id', 'qfunc', 'qfunc_rep1', 'qfunc_rep2', 'extracted_lib_nt_seq',\n",
      "       'seq_idx', 'trajectory_idx', 'predicted_fitness',\n",
      "       'ensemble_predicted_fitness', 'seq', 'protein', 'pred_score',\n",
      "       'lib_aa_seq', 'constant_where_expected', 'successfully_clones',\n",
      "       'error_message', 'dna_to_order', 'ligated_gene',\n",
      "       'ligated_gene_translated', 'n_mut_rel_wt', 'oligo_len',\n",
      "       'DE_Chip_1_GFP_NGS_01', 'DE_Chip_1_GFP_NGS_02', 'DE_Chip_1_GFP_NGS_03',\n",
      "       'DE_Chip_1_GFP_NGS_04', 'DE_Chip_1_GFP_NGS_05', 'DE_Chip_1_GFP_NGS_06',\n",
      "       'DE_Chip_1_GFP_NGS_07', 'DE_Chip_1_GFP_NGS_08', 'DE_Chip_1_GFP_NGS_09',\n",
      "       'DE_Chip_1_GFP_NGS_10', 'DE_Chip_1_GFP_NGS_11', 'DE_Chip_1_GFP_NGS_12',\n",
      "       'DE_Chip_1_GFP_NGS_13', 'DE_Chip_1_GFP_NGS_14', 'DE_Chip_1_GFP_NGS_15',\n",
      "       'DE_Chip_1_GFP_NGS_16', 'DE_Chip_1_GFP_NGS_17', 'DE_Chip_1_GFP_NGS_18',\n",
      "       'model', 'ntrain', 'rep', 'rep_hash', 'seq_traj_idx', 'special_case',\n",
      "       'sa_pickle'],\n",
      "      dtype='object')\n"
     ]
    }
   ],
   "source": [
    "df = load_protein_data(prot)\n",
    "df_wt = filter_for_gt_wt_for_eunirep(df, prot)\n",
    "build_and_save_all_training_matrices(df)"
   ]
  },
  {
   "cell_type": "markdown",
   "metadata": {},
   "source": [
    "## Stack top low-N mutants onto respective training data & close ET variants - Added 1/6/2021"
   ]
  },
  {
   "cell_type": "code",
   "execution_count": 15,
   "metadata": {},
   "outputs": [
    {
     "name": "stdout",
     "output_type": "stream",
     "text": [
      "(300, 46)\n"
     ]
    }
   ],
   "source": [
    "top_n_et_seqs = 30\n",
    "top_n_seqs = 5\n",
    "\n",
    "ntrain = 24\n",
    "model = 'ET_Global_Init_1'\n",
    "rep = 1\n",
    "\n",
    "sub_mask = np.logical_and.reduce(\n",
    "    (df['ntrain']==ntrain, df['model']==model, df['rep'] == rep))\n",
    "\n",
    "df_sub = df[sub_mask].sort_values(QFUNC_COL, ascending=False)\n",
    "print(df_sub.shape)"
   ]
  },
  {
   "cell_type": "code",
   "execution_count": 16,
   "metadata": {
    "collapsed": true
   },
   "outputs": [],
   "source": [
    "assert len(np.unique(df_sub['sa_pickle'])) == 1"
   ]
  },
  {
   "cell_type": "code",
   "execution_count": 17,
   "metadata": {
    "collapsed": true
   },
   "outputs": [],
   "source": [
    "def sort_seq_mat_by_distance(seq_mat, wt_seq):\n",
    "    wt_seq_arr = np.array(list(wt_seq))\n",
    "    dists = np.array([np.sum(wt_seq_arr != seq_mat[i]) for i in range(seq_mat.shape[0])] )\n",
    "    sidx = np.argsort(dists)\n",
    "    return seq_mat[sidx]"
   ]
  },
  {
   "cell_type": "code",
   "execution_count": 18,
   "metadata": {},
   "outputs": [
    {
     "name": "stdout",
     "output_type": "stream",
     "text": [
      "(24, 238)\n",
      "(138, 238)\n",
      "(5, 238)\n"
     ]
    }
   ],
   "source": [
    "training_mat = np.load('training_seq_matrices/' + \n",
    "        os.path.basename(df_sub['sa_pickle'].iloc[0]).replace('.p', '.npy'))\n",
    "training_mat = sort_seq_mat_by_distance(training_mat, wt_seq)\n",
    "print(training_mat.shape)\n",
    "\n",
    "et_seq_mat = create_et_seq_matrix(aln_seq_file, wt_seq)[1:] # Exclude wt seq\n",
    "et_seq_mat = sort_seq_mat_by_distance(et_seq_mat, wt_seq)\n",
    "print(et_seq_mat.shape)\n",
    "\n",
    "top_seq_mat = np.vstack([np.array(list(s)) for s in list(df_sub['seq'])[:top_n_seqs]])\n",
    "print(top_seq_mat.shape)"
   ]
  },
  {
   "cell_type": "code",
   "execution_count": 19,
   "metadata": {
    "collapsed": true
   },
   "outputs": [],
   "source": [
    "wt_seq_arr = np.array(list(wt_seq))\n",
    "var_pos = []\n",
    "for ts in top_seq_mat:\n",
    "    var_pos += list(np.argwhere(ts != wt_seq_arr).reshape(-1))\n",
    "    \n",
    "var_pos = np.unique(var_pos)"
   ]
  },
  {
   "cell_type": "code",
   "execution_count": 20,
   "metadata": {},
   "outputs": [
    {
     "name": "stdout",
     "output_type": "stream",
     "text": [
      "(60, 12)\n"
     ]
    }
   ],
   "source": [
    "agg_seq_mat = np.vstack([wt_seq_arr.reshape(1,-1), top_seq_mat, training_mat, et_seq_mat[:30]])[:,var_pos]\n",
    "\n",
    "print(agg_seq_mat.shape)"
   ]
  },
  {
   "cell_type": "code",
   "execution_count": 21,
   "metadata": {
    "collapsed": true
   },
   "outputs": [],
   "source": [
    "alphabet = constants.AA_ALPHABET_STANDARD_ORDER + '-'\n",
    "\n",
    "enc_agg_seq_mat = []\n",
    "for s in agg_seq_mat:\n",
    "    enc_agg_seq_mat.append([alphabet.find(x) for x in s])\n",
    "    \n",
    "enc_agg_seq_mat = np.vstack(enc_agg_seq_mat).T"
   ]
  },
  {
   "cell_type": "code",
   "execution_count": 22,
   "metadata": {
    "scrolled": false
   },
   "outputs": [
    {
     "name": "stderr",
     "output_type": "stream",
     "text": [
      "/usr/local/lib/python3.5/dist-packages/matplotlib/font_manager.py:1241: UserWarning: findfont: Font family ['courier'] not found. Falling back to DejaVu Sans.\n",
      "  (prop.get_family(), self.defaultFamily[fontext]))\n"
     ]
    },
    {
     "data": {
      "image/png": "[encoded data removed]",
      "text/plain": [
       "<Figure size 2160x1080 with 1 Axes>"
      ]
     },
     "metadata": {},
     "output_type": "display_data"
    }
   ],
   "source": [
    "import matplotlib\n",
    "\n",
    "def plot_box(i,j):\n",
    "    b, l, h, w = j-0.5, i-0.5, 1, 1\n",
    "    p = matplotlib.patches.Rectangle((b,l), w, h, \n",
    "            linewidth=3,edgecolor='k',facecolor='none',zorder=10)\n",
    "    plt.gca().add_patch(p)\n",
    "    \n",
    "def add_chars_to_row(r, chars, fontsize=20):\n",
    "    for i,c in enumerate(chars):\n",
    "        plt.text(i,r,c, ha='center', va='center', fontsize=fontsize, fontname='courier')\n",
    "    \n",
    "def add_text_for_seq_mat(sm):\n",
    "    for i,s in enumerate(sm):\n",
    "        add_chars_to_row(i,list(s))\n",
    "\n",
    "fig = plt.figure(figsize=(30,15))\n",
    "plt.imshow(enc_agg_seq_mat, cmap='tab20')\n",
    "plt.axvline(1-0.5, color='w', linewidth=5)\n",
    "plt.axvline(1+top_n_seqs-0.5, color='w', linewidth=5)\n",
    "plt.axvline(1+top_n_seqs+ntrain-0.5, color='w', linewidth=5)\n",
    "\n",
    "train_et_sub = enc_agg_seq_mat[:, (1+top_n_seqs):]\n",
    "for j in range(1,1+top_n_seqs): #+1 since WT is first.\n",
    "    for i in range(enc_agg_seq_mat.shape[0]):\n",
    "        char = enc_agg_seq_mat[i,j]\n",
    "        \n",
    "        if np.all(char != train_et_sub[i]):\n",
    "            plot_box(i,j)\n",
    "        \n",
    "\n",
    "add_text_for_seq_mat(agg_seq_mat.T)\n",
    "\n",
    "plt.axis('off')\n",
    "plt.show()\n",
    "\n",
    "fig_file = 'seq_stacks_wt_design_train_et_var_pos_only_%s_%s_%d_%d'%(PROT, model, ntrain, rep)\n",
    "plot_style_utils.save_for_pub(fig, path='figures/'+fig_file)"
   ]
  },
  {
   "cell_type": "markdown",
   "metadata": {},
   "source": [
    "### End of newly added code to plot sequence stacks\n",
    "\n",
    "Code from before continues."
   ]
  },
  {
   "cell_type": "code",
   "execution_count": 23,
   "metadata": {},
   "outputs": [
    {
     "name": "stdout",
     "output_type": "stream",
     "text": [
      "Loading checkpoint\n"
     ]
    }
   ],
   "source": [
    "if not os.path.isfile('A014b_checkpoint_' + prot + '.p') or False:\n",
    "    summary_df, per_variant_df = build_summary_statistic_dataframe(df, aln_seq_file, wt_seq, prot)\n",
    "    summary_df_wt, per_variant_df_wt = build_summary_statistic_dataframe(df_wt, aln_seq_file, wt_seq, prot, keep_only='ET_Global_Init')\n",
    "    \n",
    "    with open('A014b_checkpoint_' + prot + '.p', 'wb') as f:\n",
    "        pickle.dump(file=f, obj={\n",
    "            'summary_df': summary_df,\n",
    "            'per_variant_df': per_variant_df, \n",
    "            'summary_df_wt': summary_df_wt,\n",
    "            'per_variant_df_wt': per_variant_df_wt\n",
    "        })\n",
    "else:\n",
    "    print('Loading checkpoint')\n",
    "    with open('A014b_checkpoint_' + prot + '.p', 'rb') as f:\n",
    "        d = pickle.load(f)\n",
    "        \n",
    "    summary_df = d['summary_df']\n",
    "    per_variant_df = d['per_variant_df']\n",
    "    summary_df_wt = d['summary_df_wt']\n",
    "    per_variant_df_wt = d['per_variant_df_wt']"
   ]
  },
  {
   "cell_type": "code",
   "execution_count": 24,
   "metadata": {},
   "outputs": [
    {
     "data": {
      "text/html": [
       "<div>\n",
       "<style scoped>\n",
       "    .dataframe tbody tr th:only-of-type {\n",
       "        vertical-align: middle;\n",
       "    }\n",
       "\n",
       "    .dataframe tbody tr th {\n",
       "        vertical-align: top;\n",
       "    }\n",
       "\n",
       "    .dataframe thead th {\n",
       "        text-align: right;\n",
       "    }\n",
       "</style>\n",
       "<table border=\"1\" class=\"dataframe\">\n",
       "  <thead>\n",
       "    <tr style=\"text-align: right;\">\n",
       "      <th></th>\n",
       "      <th>min_nmut_to_nearest</th>\n",
       "      <th>model</th>\n",
       "      <th>num_mut_shared</th>\n",
       "      <th>num_mut_unique</th>\n",
       "      <th>qfunc</th>\n",
       "      <th>rep</th>\n",
       "    </tr>\n",
       "  </thead>\n",
       "  <tbody>\n",
       "    <tr>\n",
       "      <th>0</th>\n",
       "      <td>3.0</td>\n",
       "      <td>ET_Global_Init_2</td>\n",
       "      <td>2.0</td>\n",
       "      <td>1.0</td>\n",
       "      <td>3.469409</td>\n",
       "      <td>2.0</td>\n",
       "    </tr>\n",
       "    <tr>\n",
       "      <th>1</th>\n",
       "      <td>2.0</td>\n",
       "      <td>ET_Global_Init_2</td>\n",
       "      <td>1.0</td>\n",
       "      <td>1.0</td>\n",
       "      <td>3.466908</td>\n",
       "      <td>2.0</td>\n",
       "    </tr>\n",
       "    <tr>\n",
       "      <th>2</th>\n",
       "      <td>3.0</td>\n",
       "      <td>ET_Global_Init_2</td>\n",
       "      <td>1.0</td>\n",
       "      <td>2.0</td>\n",
       "      <td>3.718137</td>\n",
       "      <td>2.0</td>\n",
       "    </tr>\n",
       "    <tr>\n",
       "      <th>3</th>\n",
       "      <td>2.0</td>\n",
       "      <td>ET_Global_Init_2</td>\n",
       "      <td>1.0</td>\n",
       "      <td>1.0</td>\n",
       "      <td>3.553983</td>\n",
       "      <td>2.0</td>\n",
       "    </tr>\n",
       "    <tr>\n",
       "      <th>4</th>\n",
       "      <td>5.0</td>\n",
       "      <td>ET_Global_Init_2</td>\n",
       "      <td>3.0</td>\n",
       "      <td>2.0</td>\n",
       "      <td>3.847598</td>\n",
       "      <td>2.0</td>\n",
       "    </tr>\n",
       "  </tbody>\n",
       "</table>\n",
       "</div>"
      ],
      "text/plain": [
       "   min_nmut_to_nearest             model  num_mut_shared  num_mut_unique  \\\n",
       "0                  3.0  ET_Global_Init_2             2.0             1.0   \n",
       "1                  2.0  ET_Global_Init_2             1.0             1.0   \n",
       "2                  3.0  ET_Global_Init_2             1.0             2.0   \n",
       "3                  2.0  ET_Global_Init_2             1.0             1.0   \n",
       "4                  5.0  ET_Global_Init_2             3.0             2.0   \n",
       "\n",
       "      qfunc  rep  \n",
       "0  3.469409  2.0  \n",
       "1  3.466908  2.0  \n",
       "2  3.718137  2.0  \n",
       "3  3.553983  2.0  \n",
       "4  3.847598  2.0  "
      ]
     },
     "execution_count": 24,
     "metadata": {},
     "output_type": "execute_result"
    }
   ],
   "source": [
    "per_variant_df_wt.head()"
   ]
  },
  {
   "cell_type": "code",
   "execution_count": 25,
   "metadata": {
    "collapsed": true
   },
   "outputs": [],
   "source": [
    "plot_style_utils.set_pub_plot_context()"
   ]
  },
  {
   "cell_type": "code",
   "execution_count": 26,
   "metadata": {
    "scrolled": false
   },
   "outputs": [
    {
     "name": "stderr",
     "output_type": "stream",
     "text": [
      "/usr/local/lib/python3.5/dist-packages/matplotlib/cbook/__init__.py:424: MatplotlibDeprecationWarning: \n",
      "Passing one of 'on', 'true', 'off', 'false' as a boolean is deprecated; use an actual boolean (True/False) instead.\n",
      "  warn_deprecated(\"2.2\", \"Passing one of 'on', 'true', 'off', 'false' as a \"\n",
      "/usr/local/lib/python3.5/dist-packages/matplotlib/font_manager.py:1241: UserWarning: findfont: Font family ['Helvetica'] not found. Falling back to DejaVu Sans.\n",
      "  (prop.get_family(), self.defaultFamily[fontext]))\n"
     ]
    },
    {
     "data": {
      "image/png": "[encoded data removed]",
      "text/plain": [
       "<Figure size 720x360 with 1 Axes>"
      ]
     },
     "metadata": {},
     "output_type": "display_data"
    },
    {
     "data": {
      "image/png": "[encoded data removed]",
      "text/plain": [
       "<Figure size 360x360 with 1 Axes>"
      ]
     },
     "metadata": {},
     "output_type": "display_data"
    },
    {
     "data": {
      "image/png": "[encoded data removed]",
      "text/plain": [
       "<Figure size 720x360 with 1 Axes>"
      ]
     },
     "metadata": {},
     "output_type": "display_data"
    },
    {
     "data": {
      "image/png": "[encoded data removed]",
      "text/plain": [
       "<Figure size 360x360 with 1 Axes>"
      ]
     },
     "metadata": {},
     "output_type": "display_data"
    }
   ],
   "source": [
    "np.random.seed(42)\n",
    "random.seed(42)\n",
    "\n",
    "fig = generate_summary_statistic_plot(summary_df, 'edit_frac_uncaptured_by_et_and_train')\n",
    "plot_style_utils.save_for_pub(fig=fig, path='figures/edit_frac_uncaptured_by_et_and_train_' + 'all_designs_' + prot)\n",
    "\n",
    "fig = generate_summary_statistic_plot(summary_df_wt, 'edit_frac_uncaptured_by_et_and_train', ylim=[0, 0.5])\n",
    "plot_style_utils.save_for_pub(fig=fig, path='figures/edit_frac_uncaptured_by_et_and_train_' + 'hfunc_designs_' + prot)\n",
    "\n",
    "fig = generate_summary_statistic_plot(summary_df, 'edit_spearman_to_et')\n",
    "plot_style_utils.save_for_pub(fig=fig, path='figures/edit_spearman_to_et' + 'all_designs_' + prot)\n",
    "\n",
    "fig = generate_summary_statistic_plot(summary_df_wt, 'edit_spearman_to_et', ylim=[0, 0.5])\n",
    "plot_style_utils.save_for_pub(fig=fig, path='figures/edit_spearman_to_et' + 'hfunc_designs_' + prot)\n"
   ]
  },
  {
   "cell_type": "markdown",
   "metadata": {},
   "source": [
    "# Find unique eUniRep mutations with strong background averaged effect."
   ]
  },
  {
   "cell_type": "code",
   "execution_count": 27,
   "metadata": {
    "collapsed": true
   },
   "outputs": [],
   "source": [
    "if prot == 'GFP':\n",
    "    df[QFUNC_COL] = df[QFUNC_COL] - np.min(df[QFUNC_COL])\n",
    "    WT_QFUNC = df[df['id'] == 'avGFP']['qfunc'].iloc[0]\n",
    "elif prot == 'BLAC':\n",
    "    WT_QFUNC = df[df['seq'] == constants.BETA_LAC_AA_SEQ][QFUNC_COL].iloc[0]"
   ]
  },
  {
   "cell_type": "code",
   "execution_count": 28,
   "metadata": {},
   "outputs": [],
   "source": [
    "training_smat_npys = glob.glob('training_seq_matrices/' + prot + '*')\n",
    "keep_only = 'ET_Global_Init'\n",
    "\n",
    "edit_dfs = []\n",
    "for training_smat_npy in training_smat_npys:\n",
    "    if keep_only is not None and keep_only not in training_smat_npy:\n",
    "        continue\n",
    "\n",
    "    edit_df, _, _ = build_edit_and_pos_count_for_train_set_dfs(\n",
    "            df_wt, aln_seq_file, wt_seq, training_smat_npy, prot, generate_per_variant_df=False)\n",
    "    edit_dfs.append(edit_df)\n",
    "    \n",
    "master_edit_df = pd.concat(edit_dfs)"
   ]
  },
  {
   "cell_type": "code",
   "execution_count": 29,
   "metadata": {},
   "outputs": [
    {
     "name": "stdout",
     "output_type": "stream",
     "text": [
      "(989, 4)\n",
      "(2669, 4)\n",
      "255\n",
      "259\n",
      "frac unique: 0.4961089494163424\n"
     ]
    }
   ],
   "source": [
    "unique_mask = np.logical_and(master_edit_df['count_design'] != 0, \n",
    "        np.logical_and(master_edit_df['count_et'] == 0, master_edit_df['count_train'] == 0))\n",
    "unique_edit_df = master_edit_df[unique_mask]\n",
    "nonunique_edit_df = master_edit_df[~unique_mask]\n",
    "\n",
    "unique_edits = np.unique(unique_edit_df['unit'])\n",
    "nonunique_edits = np.unique(nonunique_edit_df['unit'])\n",
    "\n",
    "\n",
    "print(unique_edit_df.shape)\n",
    "print(nonunique_edit_df.shape)\n",
    "print(len(unique_edits))\n",
    "print(len(nonunique_edits))\n",
    "\n",
    "print(\"frac unique:\", len(unique_edits)/(len(unique_edits) + len(nonunique_edits)))"
   ]
  },
  {
   "cell_type": "code",
   "execution_count": 30,
   "metadata": {
    "collapsed": true
   },
   "outputs": [],
   "source": [
    "def edit_in_seq(seq, wt_seq, edit):\n",
    "    pos = int(edit[1:-1])-1\n",
    "    \n",
    "    assert wt_seq[pos] == edit[0]\n",
    "    \n",
    "    return seq[pos] == edit[-1]\n",
    "    \n",
    "def get_seqs_and_qfuncs_with_edit(edit, df, wt_seq, return_raw=False):\n",
    "    qfuncs = []\n",
    "    seqs = []\n",
    "    for i in range(df.shape[0]):\n",
    "        s = df['seq'].iloc[i]\n",
    "        if type(s) == str and edit_in_seq(s, wt_seq, edit):\n",
    "            qfuncs.append(df[QFUNC_COL].iloc[i])\n",
    "            seqs.append(s)\n",
    "            \n",
    "    summ_stat, pval = ks_2samp(qfuncs, df[QFUNC_COL], alternative='less')\n",
    "            \n",
    "    res = {\n",
    "        'summary_stat': summ_stat,\n",
    "        'pval': pval,\n",
    "        'num_seqs': len(seqs)\n",
    "    }\n",
    "    \n",
    "    if return_raw:\n",
    "        res['qfunc_seqs_with_edit'] = qfuncs\n",
    "            \n",
    "    return res"
   ]
  },
  {
   "cell_type": "code",
   "execution_count": 31,
   "metadata": {
    "collapsed": true,
    "scrolled": true
   },
   "outputs": [],
   "source": [
    "unique_edit_res_df = []\n",
    "for i,edit in enumerate(unique_edits):\n",
    "    #print(i)\n",
    "    res = get_seqs_and_qfuncs_with_edit(edit, df, wt_seq)\n",
    "    res['edit'] = edit\n",
    "    \n",
    "    unique_edit_res_df.append(res)\n",
    "    \n",
    "unique_edit_res_df = pd.DataFrame(unique_edit_res_df)"
   ]
  },
  {
   "cell_type": "code",
   "execution_count": 32,
   "metadata": {},
   "outputs": [
    {
     "data": {
      "image/png": "[encoded data removed]",
      "text/plain": [
       "<Figure size 432x288 with 1 Axes>"
      ]
     },
     "metadata": {},
     "output_type": "display_data"
    }
   ],
   "source": [
    "plt.hist(-np.log10(unique_edit_res_df['pval']), bins=30, color=plot_style_utils.CAT_PALETTE[0])\n",
    "plt.yscale('log')\n",
    "plt.show()"
   ]
  },
  {
   "cell_type": "code",
   "execution_count": 33,
   "metadata": {},
   "outputs": [
    {
     "name": "stdout",
     "output_type": "stream",
     "text": [
      "(255, 4)\n",
      "35\n",
      "0.13725490196078433\n"
     ]
    }
   ],
   "source": [
    "print(unique_edit_res_df.shape)\n",
    "print(np.sum(unique_edit_res_df['pval'] < 0.05))\n",
    "print(np.sum(unique_edit_res_df['pval'] < 0.05)/unique_edit_res_df.shape[0])"
   ]
  },
  {
   "cell_type": "code",
   "execution_count": 34,
   "metadata": {},
   "outputs": [
    {
     "data": {
      "text/html": [
       "<div>\n",
       "<style scoped>\n",
       "    .dataframe tbody tr th:only-of-type {\n",
       "        vertical-align: middle;\n",
       "    }\n",
       "\n",
       "    .dataframe tbody tr th {\n",
       "        vertical-align: top;\n",
       "    }\n",
       "\n",
       "    .dataframe thead th {\n",
       "        text-align: right;\n",
       "    }\n",
       "</style>\n",
       "<table border=\"1\" class=\"dataframe\">\n",
       "  <thead>\n",
       "    <tr style=\"text-align: right;\">\n",
       "      <th></th>\n",
       "      <th>edit</th>\n",
       "      <th>num_seqs</th>\n",
       "      <th>pval</th>\n",
       "      <th>summary_stat</th>\n",
       "    </tr>\n",
       "  </thead>\n",
       "  <tbody>\n",
       "    <tr>\n",
       "      <th>225</th>\n",
       "      <td>T97M</td>\n",
       "      <td>311</td>\n",
       "      <td>2.767640e-15</td>\n",
       "      <td>0.234098</td>\n",
       "    </tr>\n",
       "    <tr>\n",
       "      <th>91</th>\n",
       "      <td>K101R</td>\n",
       "      <td>868</td>\n",
       "      <td>1.360204e-10</td>\n",
       "      <td>0.117601</td>\n",
       "    </tr>\n",
       "    <tr>\n",
       "      <th>144</th>\n",
       "      <td>N105Q</td>\n",
       "      <td>237</td>\n",
       "      <td>6.551124e-07</td>\n",
       "      <td>0.174022</td>\n",
       "    </tr>\n",
       "  </tbody>\n",
       "</table>\n",
       "</div>"
      ],
      "text/plain": [
       "      edit  num_seqs          pval  summary_stat\n",
       "225   T97M       311  2.767640e-15      0.234098\n",
       "91   K101R       868  1.360204e-10      0.117601\n",
       "144  N105Q       237  6.551124e-07      0.174022"
      ]
     },
     "execution_count": 34,
     "metadata": {},
     "output_type": "execute_result"
    }
   ],
   "source": [
    "nlarge_df = unique_edit_res_df.nsmallest(3, 'pval').sort_values('pval')\n",
    "nlarge_df"
   ]
  },
  {
   "cell_type": "code",
   "execution_count": 35,
   "metadata": {},
   "outputs": [
    {
     "name": "stderr",
     "output_type": "stream",
     "text": [
      "/usr/local/lib/python3.5/dist-packages/matplotlib/axes/_axes.py:6521: MatplotlibDeprecationWarning: \n",
      "The 'normed' kwarg was deprecated in Matplotlib 2.1 and will be removed in 3.1. Use 'density' instead.\n",
      "  alternative=\"'density'\", removal=\"3.1\")\n",
      "/usr/local/lib/python3.5/dist-packages/matplotlib/cbook/__init__.py:424: MatplotlibDeprecationWarning: \n",
      "Passing one of 'on', 'true', 'off', 'false' as a boolean is deprecated; use an actual boolean (True/False) instead.\n",
      "  warn_deprecated(\"2.2\", \"Passing one of 'on', 'true', 'off', 'false' as a \"\n"
     ]
    },
    {
     "data": {
      "image/png": "[encoded data removed]",
      "text/plain": [
       "<Figure size 1296x288 with 3 Axes>"
      ]
     },
     "metadata": {},
     "output_type": "display_data"
    }
   ],
   "source": [
    "fig = plt.figure(figsize=(6*nlarge_df.shape[0],4))\n",
    "for i in range(nlarge_df.shape[0]):\n",
    "    edit = nlarge_df['edit'].iloc[i]\n",
    "    res_special = get_seqs_and_qfuncs_with_edit(edit, df, wt_seq, return_raw=True)\n",
    "    \n",
    "    plt.subplot(1,nlarge_df.shape[0],i+1)\n",
    "    plt.hist(res_special['qfunc_seqs_with_edit'], bins=30, normed=True, alpha=0.5, \n",
    "             color=plot_style_utils.CAT_PALETTE[2])\n",
    "    plt.hist(df[QFUNC_COL], bins=30, normed=True, alpha=0.5, \n",
    "             color=plot_style_utils.CAT_PALETTE[4])\n",
    "    \n",
    "    plt.title(edit + ' (%d seqs)'%nlarge_df['num_seqs'].iloc[i])\n",
    "    \n",
    "    if prot == 'GFP':\n",
    "        AVGFP_QFUNC = df[df['id'] == 'avGFP']['qfunc'].iloc[0]\n",
    "        SFGFP_QFUNC = df[df['id'] == 'sfGFP']['qfunc'].iloc[0]\n",
    "        plt.axvline(AVGFP_QFUNC, color=plot_style_utils.CAT_PALETTE[0], linewidth=3)\n",
    "        plt.axvline(SFGFP_QFUNC, color=plot_style_utils.CAT_PALETTE[1], linewidth=3)\n",
    "    if prot == 'BLAC':\n",
    "        plt.axvline(WT_QFUNC, color=plot_style_utils.CAT_PALETTE[0], linewidth=3)\n",
    "        \n",
    "    plt.grid('on')\n",
    "    \n",
    "plt.show()\n",
    "\n",
    "plot_style_utils.save_for_pub(fig=fig, path='figures/bg_avged_enriched_unique_mutants_' + prot )"
   ]
  },
  {
   "cell_type": "markdown",
   "metadata": {
    "collapsed": true
   },
   "source": [
    "## Look at how fraction of unique mutations correlates with quantitative function"
   ]
  },
  {
   "cell_type": "code",
   "execution_count": 36,
   "metadata": {},
   "outputs": [
    {
     "data": {
      "text/html": [
       "<div>\n",
       "<style scoped>\n",
       "    .dataframe tbody tr th:only-of-type {\n",
       "        vertical-align: middle;\n",
       "    }\n",
       "\n",
       "    .dataframe tbody tr th {\n",
       "        vertical-align: top;\n",
       "    }\n",
       "\n",
       "    .dataframe thead th {\n",
       "        text-align: right;\n",
       "    }\n",
       "</style>\n",
       "<table border=\"1\" class=\"dataframe\">\n",
       "  <thead>\n",
       "    <tr style=\"text-align: right;\">\n",
       "      <th></th>\n",
       "      <th>min_nmut_to_nearest</th>\n",
       "      <th>num_mut_shared</th>\n",
       "      <th>num_mut_unique</th>\n",
       "      <th>qfunc</th>\n",
       "      <th>model</th>\n",
       "      <th>rep</th>\n",
       "    </tr>\n",
       "  </thead>\n",
       "  <tbody>\n",
       "    <tr>\n",
       "      <th>0</th>\n",
       "      <td>9.0</td>\n",
       "      <td>1</td>\n",
       "      <td>8</td>\n",
       "      <td>1.969042</td>\n",
       "      <td>ET_Random_Init_1</td>\n",
       "      <td>4.0</td>\n",
       "    </tr>\n",
       "    <tr>\n",
       "      <th>1</th>\n",
       "      <td>11.0</td>\n",
       "      <td>0</td>\n",
       "      <td>11</td>\n",
       "      <td>2.009121</td>\n",
       "      <td>ET_Random_Init_1</td>\n",
       "      <td>4.0</td>\n",
       "    </tr>\n",
       "    <tr>\n",
       "      <th>2</th>\n",
       "      <td>7.0</td>\n",
       "      <td>1</td>\n",
       "      <td>6</td>\n",
       "      <td>2.157112</td>\n",
       "      <td>ET_Random_Init_1</td>\n",
       "      <td>4.0</td>\n",
       "    </tr>\n",
       "    <tr>\n",
       "      <th>3</th>\n",
       "      <td>11.0</td>\n",
       "      <td>4</td>\n",
       "      <td>7</td>\n",
       "      <td>2.120423</td>\n",
       "      <td>ET_Random_Init_1</td>\n",
       "      <td>4.0</td>\n",
       "    </tr>\n",
       "    <tr>\n",
       "      <th>4</th>\n",
       "      <td>12.0</td>\n",
       "      <td>3</td>\n",
       "      <td>10</td>\n",
       "      <td>2.067962</td>\n",
       "      <td>ET_Random_Init_1</td>\n",
       "      <td>4.0</td>\n",
       "    </tr>\n",
       "  </tbody>\n",
       "</table>\n",
       "</div>"
      ],
      "text/plain": [
       "   min_nmut_to_nearest  num_mut_shared  num_mut_unique     qfunc  \\\n",
       "0                  9.0               1               8  1.969042   \n",
       "1                 11.0               0              11  2.009121   \n",
       "2                  7.0               1               6  2.157112   \n",
       "3                 11.0               4               7  2.120423   \n",
       "4                 12.0               3              10  2.067962   \n",
       "\n",
       "              model  rep  \n",
       "0  ET_Random_Init_1  4.0  \n",
       "1  ET_Random_Init_1  4.0  \n",
       "2  ET_Random_Init_1  4.0  \n",
       "3  ET_Random_Init_1  4.0  \n",
       "4  ET_Random_Init_1  4.0  "
      ]
     },
     "execution_count": 36,
     "metadata": {},
     "output_type": "execute_result"
    }
   ],
   "source": [
    "per_variant_df.head()"
   ]
  },
  {
   "cell_type": "code",
   "execution_count": 37,
   "metadata": {
    "collapsed": true
   },
   "outputs": [],
   "source": [
    "if prot == 'GFP':\n",
    "    per_variant_df['qfunc'] += -np.min(per_variant_df['qfunc'])\n",
    "\n",
    "per_variant_df['frac_mut_unique'] = (\n",
    "    per_variant_df['num_mut_unique']/(per_variant_df['num_mut_unique'] + per_variant_df['num_mut_shared'])\n",
    ")\n",
    "per_variant_df['total_mut'] = (per_variant_df['num_mut_unique'] + per_variant_df['num_mut_shared']).astype(int)"
   ]
  },
  {
   "cell_type": "code",
   "execution_count": 38,
   "metadata": {},
   "outputs": [
    {
     "data": {
      "text/html": [
       "<div>\n",
       "<style scoped>\n",
       "    .dataframe tbody tr th:only-of-type {\n",
       "        vertical-align: middle;\n",
       "    }\n",
       "\n",
       "    .dataframe tbody tr th {\n",
       "        vertical-align: top;\n",
       "    }\n",
       "\n",
       "    .dataframe thead th {\n",
       "        text-align: right;\n",
       "    }\n",
       "</style>\n",
       "<table border=\"1\" class=\"dataframe\">\n",
       "  <thead>\n",
       "    <tr style=\"text-align: right;\">\n",
       "      <th></th>\n",
       "      <th>min_nmut_to_nearest</th>\n",
       "      <th>num_mut_shared</th>\n",
       "      <th>num_mut_unique</th>\n",
       "      <th>qfunc</th>\n",
       "      <th>model</th>\n",
       "      <th>rep</th>\n",
       "      <th>frac_mut_unique</th>\n",
       "      <th>total_mut</th>\n",
       "    </tr>\n",
       "  </thead>\n",
       "  <tbody>\n",
       "    <tr>\n",
       "      <th>0</th>\n",
       "      <td>11.0</td>\n",
       "      <td>4</td>\n",
       "      <td>7</td>\n",
       "      <td>0.246795</td>\n",
       "      <td>ET_Global_Init_1</td>\n",
       "      <td>2.0</td>\n",
       "      <td>0.636364</td>\n",
       "      <td>11</td>\n",
       "    </tr>\n",
       "    <tr>\n",
       "      <th>1</th>\n",
       "      <td>5.0</td>\n",
       "      <td>1</td>\n",
       "      <td>4</td>\n",
       "      <td>1.222820</td>\n",
       "      <td>ET_Global_Init_1</td>\n",
       "      <td>2.0</td>\n",
       "      <td>0.800000</td>\n",
       "      <td>5</td>\n",
       "    </tr>\n",
       "    <tr>\n",
       "      <th>2</th>\n",
       "      <td>13.0</td>\n",
       "      <td>5</td>\n",
       "      <td>8</td>\n",
       "      <td>0.465573</td>\n",
       "      <td>ET_Global_Init_1</td>\n",
       "      <td>2.0</td>\n",
       "      <td>0.615385</td>\n",
       "      <td>13</td>\n",
       "    </tr>\n",
       "    <tr>\n",
       "      <th>3</th>\n",
       "      <td>10.0</td>\n",
       "      <td>4</td>\n",
       "      <td>6</td>\n",
       "      <td>0.069724</td>\n",
       "      <td>ET_Global_Init_1</td>\n",
       "      <td>2.0</td>\n",
       "      <td>0.600000</td>\n",
       "      <td>10</td>\n",
       "    </tr>\n",
       "    <tr>\n",
       "      <th>4</th>\n",
       "      <td>11.0</td>\n",
       "      <td>4</td>\n",
       "      <td>7</td>\n",
       "      <td>0.448175</td>\n",
       "      <td>ET_Global_Init_1</td>\n",
       "      <td>2.0</td>\n",
       "      <td>0.636364</td>\n",
       "      <td>11</td>\n",
       "    </tr>\n",
       "  </tbody>\n",
       "</table>\n",
       "</div>"
      ],
      "text/plain": [
       "   min_nmut_to_nearest  num_mut_shared  num_mut_unique     qfunc  \\\n",
       "0                 11.0               4               7  0.246795   \n",
       "1                  5.0               1               4  1.222820   \n",
       "2                 13.0               5               8  0.465573   \n",
       "3                 10.0               4               6  0.069724   \n",
       "4                 11.0               4               7  0.448175   \n",
       "\n",
       "              model  rep  frac_mut_unique  total_mut  \n",
       "0  ET_Global_Init_1  2.0         0.636364         11  \n",
       "1  ET_Global_Init_1  2.0         0.800000          5  \n",
       "2  ET_Global_Init_1  2.0         0.615385         13  \n",
       "3  ET_Global_Init_1  2.0         0.600000         10  \n",
       "4  ET_Global_Init_1  2.0         0.636364         11  "
      ]
     },
     "execution_count": 38,
     "metadata": {},
     "output_type": "execute_result"
    }
   ],
   "source": [
    "sdf = per_variant_df[per_variant_df['model'] == 'ET_Global_Init_1']\n",
    "sdf.head()"
   ]
  },
  {
   "cell_type": "code",
   "execution_count": 39,
   "metadata": {
    "collapsed": true
   },
   "outputs": [],
   "source": [
    "def calc_hit_rate_vs_frac_unique(qfuncs, frac_unique, wt_qfunc):\n",
    "    nmuts = frac_unique\n",
    "    unmuts, cts = np.unique(nmuts, return_counts=True)\n",
    "    cts = cts[unmuts >= 0]\n",
    "    unmuts = unmuts[unmuts >= 0]\n",
    "    \n",
    "    \n",
    "    hr = np.array([np.sum(qfuncs[nmuts==n] > wt_qfunc)/len(qfuncs[nmuts==n]) for n in unmuts])\n",
    "    \n",
    "    hw = 1.96*np.sqrt(hr*(1-hr)/cts) # half width of 95% CI.\n",
    "    \n",
    "    \n",
    "    sidx = np.argsort(unmuts)\n",
    "    return unmuts[sidx], hr[sidx], hw[sidx]"
   ]
  },
  {
   "cell_type": "code",
   "execution_count": 40,
   "metadata": {
    "scrolled": false
   },
   "outputs": [
    {
     "name": "stderr",
     "output_type": "stream",
     "text": [
      "/usr/local/lib/python3.5/dist-packages/matplotlib/cbook/__init__.py:424: MatplotlibDeprecationWarning: \n",
      "Passing one of 'on', 'true', 'off', 'false' as a boolean is deprecated; use an actual boolean (True/False) instead.\n",
      "  warn_deprecated(\"2.2\", \"Passing one of 'on', 'true', 'off', 'false' as a \"\n"
     ]
    },
    {
     "data": {
      "image/png": "[encoded data removed]",
      "text/plain": [
       "<Figure size 432x144 with 1 Axes>"
      ]
     },
     "metadata": {},
     "output_type": "display_data"
    },
    {
     "name": "stdout",
     "output_type": "stream",
     "text": [
      "SpearmanrResult(correlation=-0.16586563118214767, pvalue=0.0001346048444911568)\n"
     ]
    },
    {
     "data": {
      "image/png": "[encoded data removed]",
      "text/plain": [
       "<Figure size 432x288 with 1 Axes>"
      ]
     },
     "metadata": {},
     "output_type": "display_data"
    }
   ],
   "source": [
    "np.random.seed(42)\n",
    "random.seed(42)\n",
    "\n",
    "# Pick most common number of mutations\n",
    "if prot == 'BLAC':\n",
    "    TOTAL_MUT = 7\n",
    "elif prot == 'GFP':\n",
    "    TOTAL_MUT = 6\n",
    "    \n",
    "sub_sdf = sdf[sdf['total_mut'] == TOTAL_MUT]\n",
    "min_frac = np.min(sub_sdf['frac_mut_unique'])\n",
    "\n",
    "\n",
    "fig = plt.figure(figsize=(6,2))\n",
    "fu, hr, hw = calc_hit_rate_vs_frac_unique(sub_sdf['qfunc'], sub_sdf['frac_mut_unique'], WT_QFUNC)\n",
    "plt.errorbar(fu, hr, yerr=hw, fmt='-ok')\n",
    "\n",
    "yl = plt.ylim()\n",
    "plt.yticks([0, 0.1, 0.2, 0.3, 0.4, 0.5, 0.6, 0.7, 0.8, 0.9, 1.0])\n",
    "plt.ylim(yl)\n",
    "plt.ylim(bottom=0)\n",
    "plt.xticks(np.arange(int(min_frac*TOTAL_MUT),TOTAL_MUT+1)/TOTAL_MUT)\n",
    "plt.gca().set_xticklabels([])\n",
    "plt.xlim([min_frac-0.07, 1+0.07])\n",
    "plt.grid('on')\n",
    "plt.show()\n",
    "\n",
    "plot_style_utils.save_for_pub(fig=fig, path='figures/hit_rate_vs_frac_unique_mut_ET_Global_Init_1_' + prot)\n",
    "\n",
    "\n",
    "fig = plt.figure()\n",
    "sns.stripplot(x=\"frac_mut_unique\", y=\"qfunc\", data=sub_sdf, color='k')\n",
    "sns.boxplot(x=\"frac_mut_unique\", y=\"qfunc\", data=sub_sdf, fliersize=0)\n",
    "plt.xticks(rotation=90)\n",
    "plt.gca().set_xticklabels(['%0.2f'%float(l._text) for l in plt.gca().get_xticklabels()])\n",
    "plt.axhline(WT_QFUNC, color=plot_style_utils.CAT_PALETTE[0])\n",
    "plt.xlabel('')\n",
    "plt.ylabel('')\n",
    "\n",
    "if prot == 'GFP':\n",
    "    SFGFP_QFUNC = df[df['id'] == 'sfGFP']['qfunc'].iloc[0]\n",
    "    plt.axhline(SFGFP_QFUNC, color=plot_style_utils.CAT_PALETTE[1])\n",
    "print(spearmanr(sub_sdf['frac_mut_unique'], sub_sdf['qfunc']))\n",
    "plt.grid('on')\n",
    "\n",
    "plt.show()\n",
    "\n",
    "plot_style_utils.save_for_pub(fig=fig, path='figures/strip_plot_frac_unique_mut_ET_Global_Init_1_' + prot)"
   ]
  },
  {
   "cell_type": "code",
   "execution_count": 41,
   "metadata": {},
   "outputs": [
    {
     "name": "stdout",
     "output_type": "stream",
     "text": [
      "FRACTION OF >WT DESIGNS WITH UNIQUE MUTATION - GFP\n",
      "445\n",
      "499\n",
      "0.8917835671342685\n"
     ]
    }
   ],
   "source": [
    "print('FRACTION OF >WT DESIGNS WITH UNIQUE MUTATION - ' + prot)\n",
    "sdf_wt = sdf[sdf['qfunc'] > WT_QFUNC]\n",
    "\n",
    "print(np.sum(sdf_wt['frac_mut_unique']>0))\n",
    "print(sdf_wt['frac_mut_unique'].shape[0])\n",
    "print(np.sum(sdf_wt['frac_mut_unique']>0) / sdf_wt['frac_mut_unique'].shape[0])"
   ]
  },
  {
   "cell_type": "code",
   "execution_count": 42,
   "metadata": {},
   "outputs": [
    {
     "name": "stdout",
     "output_type": "stream",
     "text": [
      "\n",
      "ET_Global_Init_1\n",
      "SpearmanrResult(correlation=-0.48393642563693384, pvalue=5.878630897463796e-07)\n",
      "SpearmanrResult(correlation=-0.16095169846990548, pvalue=0.008295263017291344)\n",
      "SpearmanrResult(correlation=-0.15311825962859701, pvalue=0.0016483275194239498)\n",
      "SpearmanrResult(correlation=-0.1422418775470159, pvalue=0.003047006194560225)\n",
      "SpearmanrResult(correlation=-0.1589543642529605, pvalue=0.00033575311748906567)\n",
      "SpearmanrResult(correlation=-0.16586563118214767, pvalue=0.0001346048444911568)\n",
      "SpearmanrResult(correlation=-0.08160041758416922, pvalue=0.06399716316876085)\n",
      "SpearmanrResult(correlation=-0.03098932357413997, pvalue=0.6483287155096233)\n",
      "SpearmanrResult(correlation=-0.09558643193734497, pvalue=0.16859147475140548)\n",
      "SpearmanrResult(correlation=-0.13833771373664475, pvalue=0.0913655999270525)\n",
      "SpearmanrResult(correlation=0.09660939566308385, pvalue=0.28579106629309553)\n",
      "SpearmanrResult(correlation=-0.06805035282434506, pvalue=0.5435411859461027)\n",
      "SpearmanrResult(correlation=-0.078694451206836, pvalue=0.4767471460990562)\n",
      "SpearmanrResult(correlation=-0.05851211727241564, pvalue=0.6108516740958907)\n",
      "\n",
      "ET_Global_Init_2\n",
      "SpearmanrResult(correlation=-0.27450787508570657, pvalue=0.026903846637250595)\n",
      "SpearmanrResult(correlation=-0.20896749291917463, pvalue=0.008845182434738757)\n",
      "SpearmanrResult(correlation=-0.08948605603925709, pvalue=0.18910393468601153)\n",
      "SpearmanrResult(correlation=-0.18763101866703488, pvalue=0.0008179366351222159)\n",
      "SpearmanrResult(correlation=-0.1932710428678442, pvalue=0.00042256534714566363)\n",
      "SpearmanrResult(correlation=-0.14361145355853666, pvalue=0.013080297494813552)\n",
      "SpearmanrResult(correlation=-0.04648254151750881, pvalue=0.4477145999942401)\n",
      "SpearmanrResult(correlation=-0.010133227887821226, pvalue=0.8812003936729019)\n",
      "SpearmanrResult(correlation=-0.18455046297174893, pvalue=0.00791841755638628)\n",
      "SpearmanrResult(correlation=-0.12813313407635546, pvalue=0.13277993786570746)\n",
      "SpearmanrResult(correlation=-0.16618896208794012, pvalue=0.10560717327682154)\n",
      "SpearmanrResult(correlation=-0.20477829525091676, pvalue=0.07024388324752012)\n",
      "SpearmanrResult(correlation=0.013643324999428568, pvalue=0.9087923234950526)\n",
      "SpearmanrResult(correlation=-0.2513427963655516, pvalue=0.01565908319270055)\n"
     ]
    }
   ],
   "source": [
    "for m in set(np.unique(per_variant_df['model'])) - set(['OneHot', 'ET_Random_Init_1']):\n",
    "    print()\n",
    "    print(m)\n",
    "    sdf = per_variant_df[per_variant_df['model'] == m]\n",
    "    for n in range(1,15):\n",
    "        sub_sdf = sdf[sdf['total_mut'] == n]\n",
    "        print(spearmanr(sub_sdf['frac_mut_unique'], sub_sdf['qfunc']))"
   ]
  },
  {
   "cell_type": "markdown",
   "metadata": {},
   "source": [
    "### MAFFT Output for GFP ET1\n",
    "\n",
    "```\n",
    "outputhat23=2\n",
    "treein = 0\n",
    "compacttree = 0\n",
    "stacksize: 8192 kb\n",
    "rescale = 1\n",
    "All-to-all alignment.\n",
    "tbfast-pair (aa) Version 7.471\n",
    "alg=L, model=BLOSUM62, 2.00, -0.10, +0.10, noshift, amax=0.0\n",
    "0 thread(s)\n",
    "\n",
    "outputhat23=2\n",
    "Loading 'hat3.seed' ... \n",
    "done.\n",
    "Writing hat3 for iterative refinement\n",
    "rescale = 1\n",
    "Gap Penalty = -1.53, +0.00, +0.00\n",
    "tbutree = 1, compacttree = 0\n",
    "Constructing a UPGMA tree ... \n",
    "  190 / 192\n",
    "done.\n",
    "\n",
    "Progressive alignment ... \n",
    "STEP   191 /191 \n",
    "done.\n",
    "tbfast (aa) Version 7.471\n",
    "alg=A, model=BLOSUM62, 1.53, -0.00, -0.00, noshift, amax=0.0\n",
    "1 thread(s)\n",
    "\n",
    "minimumweight = 0.000010\n",
    "autosubalignment = 0.000000\n",
    "nthread = 0\n",
    "randomseed = 0\n",
    "blosum 62 / kimura 200\n",
    "poffset = 0\n",
    "niter = 2\n",
    "sueff_global = 0.100000\n",
    "nadd = 2\n",
    "Loading 'hat3' ... done.\n",
    "rescale = 1\n",
    "\n",
    "  190 / 192\n",
    "Segment   1/  1    1- 374\n",
    "done 002-001-1  identical.   \n",
    "dvtditr (aa) Version 7.471\n",
    "alg=A, model=BLOSUM62, 1.53, -0.00, -0.00, noshift, amax=0.0\n",
    "0 thread(s)\n",
    "\n",
    "\n",
    "Strategy:\n",
    " L-INS-i (Probably most accurate, very slow)\n",
    " Iterative refinement method (<2) with LOCAL pairwise alignment information\n",
    "\n",
    "If unsure which option to use, try 'mafft --auto input > output'.\n",
    "For more information, see 'mafft --help', 'mafft --man' and the mafft page.\n",
    "\n",
    "The default gap scoring scheme has been changed in version 7.110 (2013 Oct).\n",
    "It tends to insert more gaps into gap-rich regions than previous versions.\n",
    "To disable this change, add the --leavegappyregion option.\n",
    "```"
   ]
  },
  {
   "cell_type": "markdown",
   "metadata": {},
   "source": [
    "### Output for GFP ET2\n",
    "\n",
    "```\n",
    "outputhat23=16\n",
    "treein = 0\n",
    "compacttree = 0\n",
    "stacksize: 8192 kb\n",
    "rescale = 1\n",
    "All-to-all alignment.\n",
    "tbfast-pair (aa) Version 7.471\n",
    "alg=L, model=BLOSUM62, 2.00, -0.10, +0.10, noshift, amax=0.0\n",
    "0 thread(s)\n",
    "\n",
    "outputhat23=16\n",
    "Loading 'hat3.seed' ... \n",
    "done.\n",
    "Writing hat3 for iterative refinement\n",
    "rescale = 1\n",
    "Gap Penalty = -1.53, +0.00, +0.00\n",
    "tbutree = 1, compacttree = 0\n",
    "Constructing a UPGMA tree ... \n",
    "   70 / 76\n",
    "done.\n",
    "\n",
    "Progressive alignment ... \n",
    "STEP    75 /75 \n",
    "done.\n",
    "tbfast (aa) Version 7.471\n",
    "alg=A, model=BLOSUM62, 1.53, -0.00, -0.00, noshift, amax=0.0\n",
    "1 thread(s)\n",
    "\n",
    "minimumweight = 0.000010\n",
    "autosubalignment = 0.000000\n",
    "nthread = 0\n",
    "randomseed = 0\n",
    "blosum 62 / kimura 200\n",
    "poffset = 0\n",
    "niter = 16\n",
    "sueff_global = 0.100000\n",
    "nadd = 16\n",
    "Loading 'hat3' ... done.\n",
    "rescale = 1\n",
    "\n",
    "   70 / 76\n",
    "Segment   1/  1    1- 373\n",
    "STEP 003-019-1  identical.   \n",
    "Converged.\n",
    "\n",
    "done\n",
    "dvtditr (aa) Version 7.471\n",
    "alg=A, model=BLOSUM62, 1.53, -0.00, -0.00, noshift, amax=0.0\n",
    "0 thread(s)\n",
    "\n",
    "\n",
    "Strategy:\n",
    " L-INS-i (Probably most accurate, very slow)\n",
    " Iterative refinement method (<16) with LOCAL pairwise alignment information\n",
    "\n",
    "If unsure which option to use, try 'mafft --auto input > output'.\n",
    "For more information, see 'mafft --help', 'mafft --man' and the mafft page.\n",
    "\n",
    "The default gap scoring scheme has been changed in version 7.110 (2013 Oct).\n",
    "It tends to insert more gaps into gap-rich regions than previous versions.\n",
    "To disable this change, add the --leavegappyregion option.\n",
    "```"
   ]
  },
  {
   "cell_type": "markdown",
   "metadata": {},
   "source": [
    "### Output for BLAC ET\n",
    "\n",
    "```\n",
    "nthread = 0\n",
    "nthreadpair = 0\n",
    "nthreadtb = 0\n",
    "ppenalty_ex = 0\n",
    "stacksize: 8192 kb\n",
    "rescale = 1\n",
    "Gap Penalty = -1.53, +0.00, +0.00\n",
    "\n",
    "\n",
    "\n",
    "Making a distance matrix ..\n",
    " 8301 / 8355\n",
    "done.\n",
    "\n",
    "Constructing a UPGMA tree (efffree=0) ... \n",
    " 8350 / 8355\n",
    "done.\n",
    "\n",
    "Progressive alignment 1/2... \n",
    "STEP  3101 / 8354  f\n",
    "Reallocating..done. *alloclen = 1704\n",
    "STEP  8201 / 8354  f\n",
    "Reallocating..done. *alloclen = 2772\n",
    "STEP  8301 / 8354  h\n",
    "done.\n",
    "\n",
    "Making a distance matrix from msa.. \n",
    " 8300 / 8355\n",
    "done.\n",
    "\n",
    "Constructing a UPGMA tree (efffree=1) ... \n",
    " 8350 / 8355\n",
    "done.\n",
    "\n",
    "Progressive alignment 2/2... \n",
    "STEP  5101 / 8354  h\n",
    "Reallocating..done. *alloclen = 1704\n",
    "STEP  8301 / 8354  f\n",
    "Reallocating..done. *alloclen = 2776\n",
    "\n",
    "done.\n",
    "\n",
    "disttbfast (aa) Version 7.471\n",
    "alg=A, model=BLOSUM62, 1.53, -0.00, -0.00, noshift, amax=0.0\n",
    "0 thread(s)\n",
    "\n",
    "\n",
    "Strategy:\n",
    " FFT-NS-2 (Fast but rough)\n",
    " Progressive method (guide trees were built 2 times.)\n",
    "\n",
    "If unsure which option to use, try 'mafft --auto input > output'.\n",
    "For more information, see 'mafft --help', 'mafft --man' and the mafft page.\n",
    "\n",
    "The default gap scoring scheme has been changed in version 7.110 (2013 Oct).\n",
    "It tends to insert more gaps into gap-rich regions than previous versions.\n",
    "To disable this change, add the --leavegappyregion option.\n",
    "```"
   ]
  }
 ],
 "metadata": {
  "kernelspec": {
   "display_name": "Python 3",
   "language": "python",
   "name": "python3"
  },
  "language_info": {
   "codemirror_mode": {
    "name": "ipython",
    "version": 3
   },
   "file_extension": ".py",
   "mimetype": "text/x-python",
   "name": "python",
   "nbconvert_exporter": "python",
   "pygments_lexer": "ipython3",
   "version": "3.5.2"
  }
 },
 "nbformat": 4,
 "nbformat_minor": 2
}
