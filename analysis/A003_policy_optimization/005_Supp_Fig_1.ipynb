{
 "cells": [
  {
   "cell_type": "code",
   "execution_count": 1,
   "metadata": {},
   "outputs": [
    {
     "name": "stdout",
     "output_type": "stream",
     "text": [
      "\u001b[33mDEPRECATION: Python 3.5 reached the end of its life on September 13th, 2020. Please upgrade your Python as Python 3.5 is no longer maintained. pip 21.0 will drop support for Python 3.5 in January 2021. pip 21.0 will remove support for this functionality.\u001b[0m\n",
      "Requirement already satisfied: pip in /usr/local/lib/python3.5/dist-packages (20.3.4)\n",
      "Collecting pip\n",
      "  Using cached pip-20.3.4-py2.py3-none-any.whl (1.5 MB)\n",
      "  Using cached pip-20.3.3-py2.py3-none-any.whl (1.5 MB)\n",
      "\u001b[33mDEPRECATION: Python 3.5 reached the end of its life on September 13th, 2020. Please upgrade your Python as Python 3.5 is no longer maintained. pip 21.0 will drop support for Python 3.5 in January 2021. pip 21.0 will remove support for this functionality.\u001b[0m\n",
      "Requirement already satisfied: matplotlib==3.0.3 in /usr/local/lib/python3.5/dist-packages (3.0.3)\n",
      "Requirement already satisfied: kiwisolver>=1.0.1 in /usr/local/lib/python3.5/dist-packages (from matplotlib==3.0.3) (1.1.0)\n",
      "Requirement already satisfied: pyparsing!=2.0.4,!=2.1.2,!=2.1.6,>=2.0.1 in /usr/local/lib/python3.5/dist-packages (from matplotlib==3.0.3) (2.2.0)\n",
      "Requirement already satisfied: cycler>=0.10 in /usr/local/lib/python3.5/dist-packages (from matplotlib==3.0.3) (0.10.0)\n",
      "Requirement already satisfied: numpy>=1.10.0 in /usr/local/lib/python3.5/dist-packages (from matplotlib==3.0.3) (1.15.4)\n",
      "Requirement already satisfied: python-dateutil>=2.1 in /usr/local/lib/python3.5/dist-packages (from matplotlib==3.0.3) (2.6.1)\n",
      "Requirement already satisfied: six in /usr/local/lib/python3.5/dist-packages (from cycler>=0.10->matplotlib==3.0.3) (1.10.0)\n",
      "Requirement already satisfied: setuptools in /usr/local/lib/python3.5/dist-packages (from kiwisolver>=1.0.1->matplotlib==3.0.3) (36.2.7)\n"
     ]
    }
   ],
   "source": [
    "!pip install --upgrade pip\n",
    "!pip install matplotlib==3.0.3"
   ]
  },
  {
   "cell_type": "code",
   "execution_count": 2,
   "metadata": {
    "collapsed": true,
    "scrolled": true
   },
   "outputs": [],
   "source": [
    "import os\n",
    "import sys\n",
    "import glob\n",
    "import pickle\n",
    "import random\n",
    "\n",
    "import numpy as np\n",
    "import pandas as pd\n",
    "import matplotlib\n",
    "import matplotlib.pyplot as plt\n",
    "\n",
    "import policy_evaluation\n",
    "\n",
    "sys.path.append('../common/')\n",
    "import data_io_utils\n",
    "import paths\n",
    "import utils\n",
    "import constants\n",
    "import plot_style_utils\n",
    "\n",
    "\n",
    "import A003_common\n",
    "\n",
    "%reload_ext autoreload\n",
    "%autoreload 2"
   ]
  },
  {
   "cell_type": "markdown",
   "metadata": {},
   "source": [
    "## First generate dataset summary figures"
   ]
  },
  {
   "cell_type": "code",
   "execution_count": 3,
   "metadata": {
    "collapsed": true
   },
   "outputs": [],
   "source": [
    "data_io_utils.sync_s3_path_to_local(paths.SARKISYAN_SPLIT_2_FILE, is_single_file=True)\n",
    "data_io_utils.sync_s3_path_to_local(paths.SYNTHETIC_NEIGH_SPLIT_2_FILE, is_single_file=True)\n",
    "data_io_utils.sync_s3_path_to_local(paths.FP_HOMOLOGS_GEN_SPLIT_2_FILE, is_single_file=True)\n",
    "\n",
    "# Auxilliary files \n",
    "data_io_utils.sync_s3_path_to_local(paths.SYNTHETIC_NEIGH_PARENTS_INFO_FILE, is_single_file=True)"
   ]
  },
  {
   "cell_type": "code",
   "execution_count": 4,
   "metadata": {},
   "outputs": [],
   "source": [
    "sark_df = pd.read_csv(paths.SARKISYAN_SPLIT_2_FILE)"
   ]
  },
  {
   "cell_type": "markdown",
   "metadata": {
    "collapsed": true
   },
   "source": [
    "\"Simplify\" synthetic neighborhoods and FP homologs datasets"
   ]
  },
  {
   "cell_type": "code",
   "execution_count": 5,
   "metadata": {},
   "outputs": [
    {
     "name": "stdout",
     "output_type": "stream",
     "text": [
      "FP homolog parents contained in gen set: 3\n"
     ]
    }
   ],
   "source": [
    "sn_df = pd.read_csv(paths.SYNTHETIC_NEIGH_SPLIT_2_FILE)\n",
    "fp_df = pd.read_csv(paths.FP_HOMOLOGS_GEN_SPLIT_2_FILE)\n",
    "\n",
    "fused_df = A003_common.generate_simplified_and_fused_gen_set(sn_df, fp_df)"
   ]
  },
  {
   "cell_type": "code",
   "execution_count": 6,
   "metadata": {},
   "outputs": [
    {
     "name": "stderr",
     "output_type": "stream",
     "text": [
      "/usr/local/lib/python3.5/dist-packages/ipykernel_launcher.py:4: SettingWithCopyWarning: \n",
      "A value is trying to be set on a copy of a slice from a DataFrame.\n",
      "Try using .loc[row_indexer,col_indexer] = value instead\n",
      "\n",
      "See the caveats in the documentation: http://pandas.pydata.org/pandas-docs/stable/indexing.html#indexing-view-versus-copy\n",
      "  after removing the cwd from sys.path.\n"
     ]
    },
    {
     "data": {
      "text/html": [
       "<div>\n",
       "<style scoped>\n",
       "    .dataframe tbody tr th:only-of-type {\n",
       "        vertical-align: middle;\n",
       "    }\n",
       "\n",
       "    .dataframe tbody tr th {\n",
       "        vertical-align: top;\n",
       "    }\n",
       "\n",
       "    .dataframe thead th {\n",
       "        text-align: right;\n",
       "    }\n",
       "</style>\n",
       "<table border=\"1\" class=\"dataframe\">\n",
       "  <thead>\n",
       "    <tr style=\"text-align: right;\">\n",
       "      <th></th>\n",
       "      <th>seq</th>\n",
       "      <th>quantitative_function</th>\n",
       "      <th>gen_set</th>\n",
       "    </tr>\n",
       "  </thead>\n",
       "  <tbody>\n",
       "    <tr>\n",
       "      <th>0</th>\n",
       "      <td>MRKGEELFTGFVTILVELDGDVNGHKFSVRGEGEGDATNGKLTLCF...</td>\n",
       "      <td>1.448735e-01</td>\n",
       "      <td>simple_syn_neigh</td>\n",
       "    </tr>\n",
       "    <tr>\n",
       "      <th>1</th>\n",
       "      <td>MRKGEELFTGFVTILVELDGDVNGHKFSVRGEGEGDATNGKLTLEF...</td>\n",
       "      <td>1.448735e-01</td>\n",
       "      <td>simple_syn_neigh</td>\n",
       "    </tr>\n",
       "    <tr>\n",
       "      <th>2</th>\n",
       "      <td>MRKGEELFTGFVTILVELDGDVNGHKFSVRGEGEGDATNGKLTLEF...</td>\n",
       "      <td>1.448735e-01</td>\n",
       "      <td>simple_syn_neigh</td>\n",
       "    </tr>\n",
       "    <tr>\n",
       "      <th>3</th>\n",
       "      <td>MRKGEELFTGFVTILVELDGDVNGHKFSVRGEGEGDATNGKLTLEF...</td>\n",
       "      <td>2.007325e-07</td>\n",
       "      <td>simple_syn_neigh</td>\n",
       "    </tr>\n",
       "    <tr>\n",
       "      <th>4</th>\n",
       "      <td>MRKGEELFTGFVTILVELDGDVNGHKFSVRGEGEGDATNGKLTLEF...</td>\n",
       "      <td>2.007325e-07</td>\n",
       "      <td>simple_syn_neigh</td>\n",
       "    </tr>\n",
       "  </tbody>\n",
       "</table>\n",
       "</div>"
      ],
      "text/plain": [
       "                                                 seq  quantitative_function  \\\n",
       "0  MRKGEELFTGFVTILVELDGDVNGHKFSVRGEGEGDATNGKLTLCF...           1.448735e-01   \n",
       "1  MRKGEELFTGFVTILVELDGDVNGHKFSVRGEGEGDATNGKLTLEF...           1.448735e-01   \n",
       "2  MRKGEELFTGFVTILVELDGDVNGHKFSVRGEGEGDATNGKLTLEF...           1.448735e-01   \n",
       "3  MRKGEELFTGFVTILVELDGDVNGHKFSVRGEGEGDATNGKLTLEF...           2.007325e-07   \n",
       "4  MRKGEELFTGFVTILVELDGDVNGHKFSVRGEGEGDATNGKLTLEF...           2.007325e-07   \n",
       "\n",
       "            gen_set  \n",
       "0  simple_syn_neigh  \n",
       "1  simple_syn_neigh  \n",
       "2  simple_syn_neigh  \n",
       "3  simple_syn_neigh  \n",
       "4  simple_syn_neigh  "
      ]
     },
     "metadata": {},
     "output_type": "display_data"
    },
    {
     "data": {
      "text/html": [
       "<div>\n",
       "<style scoped>\n",
       "    .dataframe tbody tr th:only-of-type {\n",
       "        vertical-align: middle;\n",
       "    }\n",
       "\n",
       "    .dataframe tbody tr th {\n",
       "        vertical-align: top;\n",
       "    }\n",
       "\n",
       "    .dataframe thead th {\n",
       "        text-align: right;\n",
       "    }\n",
       "</style>\n",
       "<table border=\"1\" class=\"dataframe\">\n",
       "  <thead>\n",
       "    <tr style=\"text-align: right;\">\n",
       "      <th></th>\n",
       "      <th>seq</th>\n",
       "      <th>quantitative_function</th>\n",
       "      <th>gen_set</th>\n",
       "    </tr>\n",
       "  </thead>\n",
       "  <tbody>\n",
       "    <tr>\n",
       "      <th>16316</th>\n",
       "      <td>MSKGEELFTGVVPILVELDGDVNDHKFSVSGEGEGDATYGKLTLKF...</td>\n",
       "      <td>0.191779</td>\n",
       "      <td>simple_fp_homologs</td>\n",
       "    </tr>\n",
       "    <tr>\n",
       "      <th>16317</th>\n",
       "      <td>MSKGEELFTGVVPILVELDGDVNGHKFSVSGEGEGDATYGKLTLKF...</td>\n",
       "      <td>0.202580</td>\n",
       "      <td>simple_fp_homologs</td>\n",
       "    </tr>\n",
       "    <tr>\n",
       "      <th>16318</th>\n",
       "      <td>MSKGEELFTGVVPILVELDGDVNGRKFSVRGEGVGDATYGKLTLKF...</td>\n",
       "      <td>0.185254</td>\n",
       "      <td>simple_fp_homologs</td>\n",
       "    </tr>\n",
       "    <tr>\n",
       "      <th>16319</th>\n",
       "      <td>MSKGEELFTGVVPILVELDGDVNGHKFSVSGEGEGDATYGKLTLNL...</td>\n",
       "      <td>0.193319</td>\n",
       "      <td>simple_fp_homologs</td>\n",
       "    </tr>\n",
       "    <tr>\n",
       "      <th>16320</th>\n",
       "      <td>MRKGEELFTGVVPILVELDGDVNGHRFSVSGEGEGDATNGKLTLKF...</td>\n",
       "      <td>0.179590</td>\n",
       "      <td>simple_fp_homologs</td>\n",
       "    </tr>\n",
       "  </tbody>\n",
       "</table>\n",
       "</div>"
      ],
      "text/plain": [
       "                                                     seq  \\\n",
       "16316  MSKGEELFTGVVPILVELDGDVNDHKFSVSGEGEGDATYGKLTLKF...   \n",
       "16317  MSKGEELFTGVVPILVELDGDVNGHKFSVSGEGEGDATYGKLTLKF...   \n",
       "16318  MSKGEELFTGVVPILVELDGDVNGRKFSVRGEGVGDATYGKLTLKF...   \n",
       "16319  MSKGEELFTGVVPILVELDGDVNGHKFSVSGEGEGDATYGKLTLNL...   \n",
       "16320  MRKGEELFTGVVPILVELDGDVNGHRFSVSGEGEGDATNGKLTLKF...   \n",
       "\n",
       "       quantitative_function             gen_set  \n",
       "16316               0.191779  simple_fp_homologs  \n",
       "16317               0.202580  simple_fp_homologs  \n",
       "16318               0.185254  simple_fp_homologs  \n",
       "16319               0.193319  simple_fp_homologs  \n",
       "16320               0.179590  simple_fp_homologs  "
      ]
     },
     "metadata": {},
     "output_type": "display_data"
    }
   ],
   "source": [
    "simple_sn_df = fused_df[fused_df['gen_set'] == 'simple_syn_neigh']\n",
    "simple_fp_df = fused_df[fused_df['gen_set'] == 'simple_fp_homologs']\n",
    "simple_fp_df['quantitative_function'] = (\n",
    "    simple_fp_df['quantitative_function'] - np.min(simple_fp_df['quantitative_function']))\n",
    "\n",
    "display(simple_sn_df.head())\n",
    "display(simple_fp_df.head())"
   ]
  },
  {
   "cell_type": "markdown",
   "metadata": {},
   "source": [
    "## Plot"
   ]
  },
  {
   "cell_type": "markdown",
   "metadata": {},
   "source": [
    "Basic set up"
   ]
  },
  {
   "cell_type": "code",
   "execution_count": 7,
   "metadata": {
    "collapsed": true
   },
   "outputs": [],
   "source": [
    "plot_style_utils.set_pub_plot_context()\n",
    "\n",
    "def cwhist(ax, data, drange, nbins=30, color='k'):\n",
    "    hvals, bins = np.histogram(data, bins=nbins, range=drange, normed=True)\n",
    "    bc = (bins[:-1] + bins[1:])/2\n",
    "    ax.bar(bc, hvals, width=np.diff(drange)[0]/nbins, color=color)"
   ]
  },
  {
   "cell_type": "code",
   "execution_count": 8,
   "metadata": {
    "collapsed": true
   },
   "outputs": [],
   "source": [
    "def plot_dataset_summary(df):\n",
    "\n",
    "    np.random.seed(1)\n",
    "    random.seed(1)\n",
    "\n",
    "    nsub = 200\n",
    "    pidx = np.random.permutation(df.shape[0])[:nsub]\n",
    "    iu = np.triu_indices(nsub, k=1)\n",
    "\n",
    "    ld_av = utils.levenshtein_distance_matrix([constants.AVGFP_AA_SEQ], list(df['seq'])).reshape(-1)\n",
    "    ld_pw = utils.levenshtein_distance_matrix(list(df['seq'].iloc[pidx]))\n",
    "    ld_pw = ld_pw[iu]\n",
    "    \n",
    "    fig = plt.figure(figsize=(8,4))\n",
    "    gs = fig.add_gridspec(2, 2)\n",
    "    plt.rcParams.update({'font.size': 22})\n",
    "\n",
    "    nmut_range = [0, 64]\n",
    "    qfunc_range = [0, 2.95]\n",
    "\n",
    "    ax1 = fig.add_subplot(gs[:,0])\n",
    "    plot_style_utils.prettify_ax(ax1)\n",
    "    cwhist(ax1, df['quantitative_function'], qfunc_range, nbins=20)\n",
    "    ax1.set_yscale('log')\n",
    "    ax1.set_yticks([])\n",
    "    ax1.set_xlim(qfunc_range)\n",
    "    ax1.set_xlabel('Log rel. fluorescence', fontsize=22)\n",
    "    ax1.axvline(1, color='r', linestyle='--', zorder=-1)\n",
    "\n",
    "    ax2 = fig.add_subplot(gs[0,1])\n",
    "    plot_style_utils.prettify_ax(ax2)\n",
    "    cwhist(ax2, ld_av, nmut_range, nbins=20)\n",
    "    ax2.set_xlim(nmut_range)\n",
    "    ax2.set_yticks([])\n",
    "    ax2.set_xticks([])\n",
    "\n",
    "    ax3 = fig.add_subplot(gs[1,1])\n",
    "    plot_style_utils.prettify_ax(ax3)\n",
    "    cwhist(ax3, ld_pw, nmut_range, nbins=20)\n",
    "    ax3.set_yticks([])\n",
    "    ax3.set_xlim(nmut_range)\n",
    "    ax3.set_xlabel('Num. mutations', fontsize=22)\n",
    "    \n",
    "   \n",
    "\n",
    "    plt.show()\n",
    "    \n",
    "    return fig"
   ]
  },
  {
   "cell_type": "code",
   "execution_count": 9,
   "metadata": {},
   "outputs": [
    {
     "name": "stdout",
     "output_type": "stream",
     "text": [
      "(17238, 2)\n",
      "(16316, 3)\n",
      "(2916, 3)\n"
     ]
    }
   ],
   "source": [
    "print(sark_df.shape)\n",
    "print(simple_sn_df.shape)\n",
    "print(simple_fp_df.shape)"
   ]
  },
  {
   "cell_type": "code",
   "execution_count": 10,
   "metadata": {},
   "outputs": [
    {
     "name": "stderr",
     "output_type": "stream",
     "text": [
      "/usr/local/lib/python3.5/dist-packages/ipykernel_launcher.py:4: VisibleDeprecationWarning: Passing `normed=True` on non-uniform bins has always been broken, and computes neither the probability density function nor the probability mass function. The result is only correct if the bins are uniform, when density=True will produce the same result anyway. The argument will be removed in a future version of numpy.\n",
      "  after removing the cwd from sys.path.\n",
      "/usr/local/lib/python3.5/dist-packages/matplotlib/font_manager.py:1241: UserWarning: findfont: Font family ['Helvetica'] not found. Falling back to DejaVu Sans.\n",
      "  (prop.get_family(), self.defaultFamily[fontext]))\n"
     ]
    },
    {
     "data": {
      "image/png": "[encoded data removed]",
      "text/plain": [
       "<Figure size 576x288 with 3 Axes>"
      ]
     },
     "metadata": {},
     "output_type": "display_data"
    }
   ],
   "source": [
    "fig = plot_dataset_summary(sark_df)\n",
    "plot_style_utils.save_for_pub(fig, path=\"figures/sarkisyan_summary\", dpi=300)"
   ]
  },
  {
   "cell_type": "code",
   "execution_count": 11,
   "metadata": {
    "scrolled": false
   },
   "outputs": [
    {
     "name": "stderr",
     "output_type": "stream",
     "text": [
      "/usr/local/lib/python3.5/dist-packages/ipykernel_launcher.py:4: VisibleDeprecationWarning: Passing `normed=True` on non-uniform bins has always been broken, and computes neither the probability density function nor the probability mass function. The result is only correct if the bins are uniform, when density=True will produce the same result anyway. The argument will be removed in a future version of numpy.\n",
      "  after removing the cwd from sys.path.\n"
     ]
    },
    {
     "data": {
      "image/png": "[encoded data removed]",
      "text/plain": [
       "<Figure size 576x288 with 3 Axes>"
      ]
     },
     "metadata": {},
     "output_type": "display_data"
    }
   ],
   "source": [
    "fig = plot_dataset_summary(simple_sn_df)\n",
    "plot_style_utils.save_for_pub(fig, path=\"figures/simple_syn_neigh\", dpi=300)"
   ]
  },
  {
   "cell_type": "code",
   "execution_count": 12,
   "metadata": {},
   "outputs": [
    {
     "name": "stderr",
     "output_type": "stream",
     "text": [
      "/usr/local/lib/python3.5/dist-packages/ipykernel_launcher.py:4: VisibleDeprecationWarning: Passing `normed=True` on non-uniform bins has always been broken, and computes neither the probability density function nor the probability mass function. The result is only correct if the bins are uniform, when density=True will produce the same result anyway. The argument will be removed in a future version of numpy.\n",
      "  after removing the cwd from sys.path.\n"
     ]
    },
    {
     "data": {
      "image/png": "[encoded data removed]",
      "text/plain": [
       "<Figure size 576x288 with 3 Axes>"
      ]
     },
     "metadata": {},
     "output_type": "display_data"
    }
   ],
   "source": [
    "fig = plot_dataset_summary(simple_fp_df)\n",
    "plot_style_utils.save_for_pub(fig, path=\"figures/simple_fp_homologs\", dpi=300)"
   ]
  }
 ],
 "metadata": {
  "kernelspec": {
   "display_name": "Python 3",
   "language": "python",
   "name": "python3"
  },
  "language_info": {
   "codemirror_mode": {
    "name": "ipython",
    "version": 3
   },
   "file_extension": ".py",
   "mimetype": "text/x-python",
   "name": "python",
   "nbconvert_exporter": "python",
   "pygments_lexer": "ipython3",
   "version": "3.5.2"
  }
 },
 "nbformat": 4,
 "nbformat_minor": 2
}
