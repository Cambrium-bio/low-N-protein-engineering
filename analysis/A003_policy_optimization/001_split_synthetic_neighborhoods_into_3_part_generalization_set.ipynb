{
 "cells": [
  {
   "cell_type": "markdown",
   "metadata": {},
   "source": [
    "# Split synthetic neighborhoods (Exp4-8) into three generalization sets\n",
    "\n",
    "Splits are done based on parent (WT) sequences of each sequence neighborhood. Neighborhoods are split randomly across the three sets. \n",
    "\n",
    "Re-run top to bottom April 30, 2019."
   ]
  },
  {
   "cell_type": "code",
   "execution_count": 1,
   "metadata": {
    "collapsed": true
   },
   "outputs": [],
   "source": [
    "import sys\n",
    "import os\n",
    "import random\n",
    "\n",
    "import numpy as np\n",
    "import pandas as pd\n",
    "from sklearn.manifold import MDS\n",
    "from sklearn.model_selection import KFold\n",
    "import matplotlib.pyplot as plt\n",
    "\n",
    "sys.path.append('../common')\n",
    "import data_io_utils\n",
    "import paths\n",
    "import utils\n",
    "import constants\n",
    "\n",
    "%reload_ext autoreload\n",
    "%autoreload 2"
   ]
  },
  {
   "cell_type": "markdown",
   "metadata": {},
   "source": [
    "## Set seed for reproducibility"
   ]
  },
  {
   "cell_type": "code",
   "execution_count": 2,
   "metadata": {
    "collapsed": true
   },
   "outputs": [],
   "source": [
    "np.random.seed(1)\n",
    "random.seed(1)"
   ]
  },
  {
   "cell_type": "markdown",
   "metadata": {},
   "source": [
    "## Define how to split up variants"
   ]
  },
  {
   "cell_type": "code",
   "execution_count": 3,
   "metadata": {
    "collapsed": true
   },
   "outputs": [],
   "source": [
    "SPLIT_BY = 'nearest_parent'"
   ]
  },
  {
   "cell_type": "markdown",
   "metadata": {},
   "source": [
    "## Sync data"
   ]
  },
  {
   "cell_type": "code",
   "execution_count": 4,
   "metadata": {},
   "outputs": [
    {
     "data": {
      "text/plain": [
       "'/notebooks/analysis/common/../../data/s3/datasets/Exp4-8_inferred_brightness_parents_assigned.csv'"
      ]
     },
     "execution_count": 4,
     "metadata": {},
     "output_type": "execute_result"
    }
   ],
   "source": [
    "paths.SYNTHETIC_NEIGH_DATA_FILE"
   ]
  },
  {
   "cell_type": "code",
   "execution_count": 5,
   "metadata": {},
   "outputs": [
    {
     "name": "stdout",
     "output_type": "stream",
     "text": [
      "(104285, 4)\n"
     ]
    },
    {
     "data": {
      "text/html": [
       "<div>\n",
       "<style scoped>\n",
       "    .dataframe tbody tr th:only-of-type {\n",
       "        vertical-align: middle;\n",
       "    }\n",
       "\n",
       "    .dataframe tbody tr th {\n",
       "        vertical-align: top;\n",
       "    }\n",
       "\n",
       "    .dataframe thead th {\n",
       "        text-align: right;\n",
       "    }\n",
       "</style>\n",
       "<table border=\"1\" class=\"dataframe\">\n",
       "  <thead>\n",
       "    <tr style=\"text-align: right;\">\n",
       "      <th></th>\n",
       "      <th>seq</th>\n",
       "      <th>quantitative_function</th>\n",
       "      <th>nearest_parent</th>\n",
       "      <th>nearest_parent_min_dist</th>\n",
       "    </tr>\n",
       "  </thead>\n",
       "  <tbody>\n",
       "    <tr>\n",
       "      <th>0</th>\n",
       "      <td>MRKGEELFTGFVTILVELDGDVNGHKFSVRGEGEGDATNGKLTLCF...</td>\n",
       "      <td>1.448735e-01</td>\n",
       "      <td>mc_training_day_seed_033_i_273</td>\n",
       "      <td>mc_training_day_seed_033_i_273</td>\n",
       "    </tr>\n",
       "    <tr>\n",
       "      <th>1</th>\n",
       "      <td>MRKGEELFTGFVTILVELDGDVNGHKFSVRGEGEGDATNGKLTLCF...</td>\n",
       "      <td>2.007325e-07</td>\n",
       "      <td>mc_training_day_seed_041_i_097</td>\n",
       "      <td>Unassigned</td>\n",
       "    </tr>\n",
       "    <tr>\n",
       "      <th>2</th>\n",
       "      <td>MRKGEELFTGFVTILVELDGDVNGHKFSVRGEGEGDATNGKLTLCF...</td>\n",
       "      <td>1.448735e-01</td>\n",
       "      <td>mc_training_day_seed_041_i_097</td>\n",
       "      <td>mc_training_day_seed_041_i_097</td>\n",
       "    </tr>\n",
       "    <tr>\n",
       "      <th>3</th>\n",
       "      <td>MRKGEELFTGFVTILVELDGDVNGHKFSVRGEGEGDATNGKLTLCF...</td>\n",
       "      <td>1.448735e-01</td>\n",
       "      <td>mc_training_day_seed_036_i_072</td>\n",
       "      <td>Unassigned</td>\n",
       "    </tr>\n",
       "    <tr>\n",
       "      <th>4</th>\n",
       "      <td>MRKGEELFTGFVTILVELDGDVNGHKFSVRGEGEGDATNGKLTLEC...</td>\n",
       "      <td>7.176033e-01</td>\n",
       "      <td>mc_training_day_seed_021_i_046</td>\n",
       "      <td>mc_training_day_seed_021_i_046</td>\n",
       "    </tr>\n",
       "  </tbody>\n",
       "</table>\n",
       "</div>"
      ],
      "text/plain": [
       "                                                 seq  quantitative_function  \\\n",
       "0  MRKGEELFTGFVTILVELDGDVNGHKFSVRGEGEGDATNGKLTLCF...           1.448735e-01   \n",
       "1  MRKGEELFTGFVTILVELDGDVNGHKFSVRGEGEGDATNGKLTLCF...           2.007325e-07   \n",
       "2  MRKGEELFTGFVTILVELDGDVNGHKFSVRGEGEGDATNGKLTLCF...           1.448735e-01   \n",
       "3  MRKGEELFTGFVTILVELDGDVNGHKFSVRGEGEGDATNGKLTLCF...           1.448735e-01   \n",
       "4  MRKGEELFTGFVTILVELDGDVNGHKFSVRGEGEGDATNGKLTLEC...           7.176033e-01   \n",
       "\n",
       "                   nearest_parent         nearest_parent_min_dist  \n",
       "0  mc_training_day_seed_033_i_273  mc_training_day_seed_033_i_273  \n",
       "1  mc_training_day_seed_041_i_097                      Unassigned  \n",
       "2  mc_training_day_seed_041_i_097  mc_training_day_seed_041_i_097  \n",
       "3  mc_training_day_seed_036_i_072                      Unassigned  \n",
       "4  mc_training_day_seed_021_i_046  mc_training_day_seed_021_i_046  "
      ]
     },
     "execution_count": 5,
     "metadata": {},
     "output_type": "execute_result"
    }
   ],
   "source": [
    "data_io_utils.sync_s3_path_to_local(paths.SYNTHETIC_NEIGH_DATA_FILE, is_single_file=True)\n",
    "\n",
    "# MD5 from A049_common in mlpe-gfp-pilot repo\n",
    "data_io_utils.verify_file_md5_checksum(paths.SYNTHETIC_NEIGH_DATA_FILE, 'c026ee2ad31dd8d4d468b3b18ec70dd7')\n",
    "\n",
    "syn_neigh_df = pd.read_csv(paths.SYNTHETIC_NEIGH_DATA_FILE)\n",
    "\n",
    "print(syn_neigh_df.shape)\n",
    "syn_neigh_df.head()"
   ]
  },
  {
   "cell_type": "markdown",
   "metadata": {},
   "source": [
    "Load parent sequences."
   ]
  },
  {
   "cell_type": "code",
   "execution_count": 6,
   "metadata": {},
   "outputs": [
    {
     "name": "stdout",
     "output_type": "stream",
     "text": [
      "(286, 2)\n"
     ]
    },
    {
     "data": {
      "text/html": [
       "<div>\n",
       "<style scoped>\n",
       "    .dataframe tbody tr th:only-of-type {\n",
       "        vertical-align: middle;\n",
       "    }\n",
       "\n",
       "    .dataframe tbody tr th {\n",
       "        vertical-align: top;\n",
       "    }\n",
       "\n",
       "    .dataframe thead th {\n",
       "        text-align: right;\n",
       "    }\n",
       "</style>\n",
       "<table border=\"1\" class=\"dataframe\">\n",
       "  <thead>\n",
       "    <tr style=\"text-align: right;\">\n",
       "      <th></th>\n",
       "      <th>id</th>\n",
       "      <th>seq</th>\n",
       "    </tr>\n",
       "  </thead>\n",
       "  <tbody>\n",
       "    <tr>\n",
       "      <th>0</th>\n",
       "      <td>mc_training_day_seed_036_i_072</td>\n",
       "      <td>MRKGEELFTGFVTILVELDGDVNGHKFSVRGEGEGDATNGKLTLKF...</td>\n",
       "    </tr>\n",
       "    <tr>\n",
       "      <th>1</th>\n",
       "      <td>Exp8_11</td>\n",
       "      <td>MRKGEELFTGFVTILVELDGDVNGHKFSVRGEGEGDATNGKLTLKF...</td>\n",
       "    </tr>\n",
       "    <tr>\n",
       "      <th>2</th>\n",
       "      <td>mc_training_day_seed_010_i_048</td>\n",
       "      <td>MRKGEELFTGFVTILVELDGDVNGHKFSVRGEGEGDATNGKLTLKF...</td>\n",
       "    </tr>\n",
       "    <tr>\n",
       "      <th>3</th>\n",
       "      <td>Exp7_72</td>\n",
       "      <td>MRKGEELFTGFVTILVELDGDVNGHKFSVRGEGEGDATNGKLTLKF...</td>\n",
       "    </tr>\n",
       "    <tr>\n",
       "      <th>4</th>\n",
       "      <td>mc_training_day_seed_030_i_296</td>\n",
       "      <td>MRKGEELFTGFVTILVELDGDVNGHKFSVRGEGEGDATNGKLTLKF...</td>\n",
       "    </tr>\n",
       "  </tbody>\n",
       "</table>\n",
       "</div>"
      ],
      "text/plain": [
       "                               id  \\\n",
       "0  mc_training_day_seed_036_i_072   \n",
       "1                         Exp8_11   \n",
       "2  mc_training_day_seed_010_i_048   \n",
       "3                         Exp7_72   \n",
       "4  mc_training_day_seed_030_i_296   \n",
       "\n",
       "                                                 seq  \n",
       "0  MRKGEELFTGFVTILVELDGDVNGHKFSVRGEGEGDATNGKLTLKF...  \n",
       "1  MRKGEELFTGFVTILVELDGDVNGHKFSVRGEGEGDATNGKLTLKF...  \n",
       "2  MRKGEELFTGFVTILVELDGDVNGHKFSVRGEGEGDATNGKLTLKF...  \n",
       "3  MRKGEELFTGFVTILVELDGDVNGHKFSVRGEGEGDATNGKLTLKF...  \n",
       "4  MRKGEELFTGFVTILVELDGDVNGHKFSVRGEGEGDATNGKLTLKF...  "
      ]
     },
     "execution_count": 6,
     "metadata": {},
     "output_type": "execute_result"
    }
   ],
   "source": [
    "data_io_utils.sync_s3_path_to_local(paths.SYNTHETIC_NEIGH_PARENTS_INFO_FILE, is_single_file=True)\n",
    "syn_parents_df = pd.read_csv(paths.SYNTHETIC_NEIGH_PARENTS_INFO_FILE)\n",
    "\n",
    "# SHUFFLE. This randomizes split later in the notebook.\n",
    "syn_parents_df = syn_parents_df.sample(frac=1).reset_index(drop=True)\n",
    "\n",
    "print(syn_parents_df.shape)\n",
    "syn_parents_df.head()"
   ]
  },
  {
   "cell_type": "markdown",
   "metadata": {},
   "source": [
    "## Visualize parent relationships using MDS."
   ]
  },
  {
   "cell_type": "code",
   "execution_count": 7,
   "metadata": {
    "collapsed": true
   },
   "outputs": [],
   "source": [
    "parent_seqs = list(syn_parents_df['seq'])\n",
    "parent_ids = list(syn_parents_df['id'])\n",
    "\n",
    "parent_seqs = [constants.AVGFP_AA_SEQ, constants.SFGFP_AA_SEQ] + parent_seqs\n",
    "parent_ids = ['avGFP', 'sfGFP'] + parent_ids\n",
    "\n",
    "D = utils.levenshtein_distance_matrix(parent_seqs)\n",
    "s = MDS(n_components=2, dissimilarity='precomputed').fit_transform(D)"
   ]
  },
  {
   "cell_type": "code",
   "execution_count": 8,
   "metadata": {},
   "outputs": [
    {
     "data": {
      "image/png": "[encoded data removed]",
      "text/plain": [
       "<matplotlib.figure.Figure at 0x7fceaf5c9438>"
      ]
     },
     "metadata": {},
     "output_type": "display_data"
    },
    {
     "data": {
      "image/png": "[encoded data removed]",
      "text/plain": [
       "<matplotlib.figure.Figure at 0x7fceaed53da0>"
      ]
     },
     "metadata": {},
     "output_type": "display_data"
    }
   ],
   "source": [
    "plt.plot(s[:,0], s[:,1], '.k')\n",
    "plt.plot(s[0,0], s[0,1], 'og')\n",
    "plt.plot(s[1,0], s[1,1], 'or')\n",
    "plt.show()\n",
    "\n",
    "# Zoom in \n",
    "plt.plot(s[:,0], s[:,1], '.k')\n",
    "plt.plot(s[0,0], s[0,1], 'og')\n",
    "plt.plot(s[1,0], s[1,1], 'or')\n",
    "plt.xlim([-10, 10])\n",
    "plt.ylim([-10, 10])\n",
    "plt.show()"
   ]
  },
  {
   "cell_type": "markdown",
   "metadata": {},
   "source": [
    "As these sequences are mostly sfGFP derived, it makes sense sfGFP sits at the center, with avGFP in the mid-periphery. "
   ]
  },
  {
   "cell_type": "markdown",
   "metadata": {},
   "source": [
    "## Visualize brightness distribution of the parents."
   ]
  },
  {
   "cell_type": "code",
   "execution_count": 9,
   "metadata": {},
   "outputs": [
    {
     "name": "stdout",
     "output_type": "stream",
     "text": [
      "(228, 4)\n"
     ]
    },
    {
     "data": {
      "text/html": [
       "<div>\n",
       "<style scoped>\n",
       "    .dataframe tbody tr th:only-of-type {\n",
       "        vertical-align: middle;\n",
       "    }\n",
       "\n",
       "    .dataframe tbody tr th {\n",
       "        vertical-align: top;\n",
       "    }\n",
       "\n",
       "    .dataframe thead th {\n",
       "        text-align: right;\n",
       "    }\n",
       "</style>\n",
       "<table border=\"1\" class=\"dataframe\">\n",
       "  <thead>\n",
       "    <tr style=\"text-align: right;\">\n",
       "      <th></th>\n",
       "      <th>seq</th>\n",
       "      <th>quantitative_function</th>\n",
       "      <th>nearest_parent</th>\n",
       "      <th>nearest_parent_min_dist</th>\n",
       "    </tr>\n",
       "  </thead>\n",
       "  <tbody>\n",
       "    <tr>\n",
       "      <th>519</th>\n",
       "      <td>MRKGEELFTGFVTILVELDGDVNGHKFSVRGEGEGDATNGKLTLKC...</td>\n",
       "      <td>0.485817</td>\n",
       "      <td>mc_training_day_seed_016_i_133</td>\n",
       "      <td>mc_training_day_seed_016_i_133</td>\n",
       "    </tr>\n",
       "    <tr>\n",
       "      <th>943</th>\n",
       "      <td>MRKGEELFTGFVTILVELDGDVNGHKFSVRGEGEGDATNGKLTLKC...</td>\n",
       "      <td>1.139180</td>\n",
       "      <td>mc_training_day_seed_020_i_051</td>\n",
       "      <td>mc_training_day_seed_020_i_051</td>\n",
       "    </tr>\n",
       "    <tr>\n",
       "      <th>1108</th>\n",
       "      <td>MRKGEELFTGFVTILVELDGDVNGHKFSVRGEGEGDATNGKLTLKC...</td>\n",
       "      <td>1.026093</td>\n",
       "      <td>mc_training_day_seed_016_i_012</td>\n",
       "      <td>mc_training_day_seed_016_i_012</td>\n",
       "    </tr>\n",
       "    <tr>\n",
       "      <th>1583</th>\n",
       "      <td>MRKGEELFTGFVTILVELDGDVNGHKFSVRGEGEGDATNGKLTLKC...</td>\n",
       "      <td>0.043597</td>\n",
       "      <td>mc_training_day_seed_020_i_219</td>\n",
       "      <td>mc_training_day_seed_020_i_219</td>\n",
       "    </tr>\n",
       "    <tr>\n",
       "      <th>2292</th>\n",
       "      <td>MRKGEELFTGFVTILVELDGDVNGHKFSVRGEGEGDATNGKLTLKF...</td>\n",
       "      <td>1.668192</td>\n",
       "      <td>mc_training_day_seed_003_i_011</td>\n",
       "      <td>mc_training_day_seed_003_i_011</td>\n",
       "    </tr>\n",
       "  </tbody>\n",
       "</table>\n",
       "</div>"
      ],
      "text/plain": [
       "                                                    seq  \\\n",
       "519   MRKGEELFTGFVTILVELDGDVNGHKFSVRGEGEGDATNGKLTLKC...   \n",
       "943   MRKGEELFTGFVTILVELDGDVNGHKFSVRGEGEGDATNGKLTLKC...   \n",
       "1108  MRKGEELFTGFVTILVELDGDVNGHKFSVRGEGEGDATNGKLTLKC...   \n",
       "1583  MRKGEELFTGFVTILVELDGDVNGHKFSVRGEGEGDATNGKLTLKC...   \n",
       "2292  MRKGEELFTGFVTILVELDGDVNGHKFSVRGEGEGDATNGKLTLKF...   \n",
       "\n",
       "      quantitative_function                  nearest_parent  \\\n",
       "519                0.485817  mc_training_day_seed_016_i_133   \n",
       "943                1.139180  mc_training_day_seed_020_i_051   \n",
       "1108               1.026093  mc_training_day_seed_016_i_012   \n",
       "1583               0.043597  mc_training_day_seed_020_i_219   \n",
       "2292               1.668192  mc_training_day_seed_003_i_011   \n",
       "\n",
       "             nearest_parent_min_dist  \n",
       "519   mc_training_day_seed_016_i_133  \n",
       "943   mc_training_day_seed_020_i_051  \n",
       "1108  mc_training_day_seed_016_i_012  \n",
       "1583  mc_training_day_seed_020_i_219  \n",
       "2292  mc_training_day_seed_003_i_011  "
      ]
     },
     "execution_count": 9,
     "metadata": {},
     "output_type": "execute_result"
    }
   ],
   "source": [
    "mask = syn_neigh_df['seq'].apply(lambda x: x in parent_seqs)\n",
    "\n",
    "syn_neigh_parents_df = syn_neigh_df[mask]\n",
    "\n",
    "print(syn_neigh_parents_df.shape)\n",
    "syn_neigh_parents_df.head()"
   ]
  },
  {
   "cell_type": "markdown",
   "metadata": {},
   "source": [
    "Couldn't find all of the parents, but got most of them. "
   ]
  },
  {
   "cell_type": "code",
   "execution_count": 10,
   "metadata": {},
   "outputs": [
    {
     "data": {
      "image/png": "[encoded data removed]",
      "text/plain": [
       "<matplotlib.figure.Figure at 0x7fceaf628dd8>"
      ]
     },
     "metadata": {},
     "output_type": "display_data"
    }
   ],
   "source": [
    "plt.hist(syn_neigh_parents_df['quantitative_function'], bins=30)\n",
    "plt.show()"
   ]
  },
  {
   "cell_type": "code",
   "execution_count": 11,
   "metadata": {},
   "outputs": [
    {
     "name": "stdout",
     "output_type": "stream",
     "text": [
      "129\n"
     ]
    }
   ],
   "source": [
    "print(np.sum(syn_neigh_parents_df['quantitative_function'] > 1)) # Num parents brighter than avGFP"
   ]
  },
  {
   "cell_type": "markdown",
   "metadata": {},
   "source": [
    "There are a lot of parents brighter than avGFP, so I feel comfortable splitting randomly into thirds."
   ]
  },
  {
   "cell_type": "markdown",
   "metadata": {},
   "source": [
    "## Split the dataset by parent."
   ]
  },
  {
   "cell_type": "code",
   "execution_count": 12,
   "metadata": {
    "collapsed": true
   },
   "outputs": [],
   "source": [
    "kf = KFold(n_splits=3)\n",
    "split_indices = []\n",
    "for _, sp_idx in kf.split(parent_seqs):\n",
    "    split_indices.append(sp_idx)"
   ]
  },
  {
   "cell_type": "markdown",
   "metadata": {},
   "source": [
    "Note split indicies are continuous, but we shuffled the parents metadata dataframe above."
   ]
  },
  {
   "cell_type": "code",
   "execution_count": 13,
   "metadata": {},
   "outputs": [
    {
     "data": {
      "text/plain": [
       "array([ 96,  97,  98,  99, 100, 101, 102, 103, 104, 105, 106, 107, 108,\n",
       "       109, 110, 111, 112, 113, 114, 115, 116, 117, 118, 119, 120, 121,\n",
       "       122, 123, 124, 125, 126, 127, 128, 129, 130, 131, 132, 133, 134,\n",
       "       135, 136, 137, 138, 139, 140, 141, 142, 143, 144, 145, 146, 147,\n",
       "       148, 149, 150, 151, 152, 153, 154, 155, 156, 157, 158, 159, 160,\n",
       "       161, 162, 163, 164, 165, 166, 167, 168, 169, 170, 171, 172, 173,\n",
       "       174, 175, 176, 177, 178, 179, 180, 181, 182, 183, 184, 185, 186,\n",
       "       187, 188, 189, 190, 191])"
      ]
     },
     "execution_count": 13,
     "metadata": {},
     "output_type": "execute_result"
    }
   ],
   "source": [
    "split_indices[1]"
   ]
  },
  {
   "cell_type": "code",
   "execution_count": 14,
   "metadata": {},
   "outputs": [
    {
     "data": {
      "image/png": "[encoded data removed]",
      "text/plain": [
       "<matplotlib.figure.Figure at 0x7fceaec33518>"
      ]
     },
     "metadata": {},
     "output_type": "display_data"
    }
   ],
   "source": [
    "for si in split_indices:\n",
    "    plt.plot(s[si,0], s[si,1], '.', markersize=10)\n",
    "    \n",
    "plt.plot(s[0,0], s[0,1], 'o', markerfacecolor='None',  markeredgecolor='k', markersize=15)\n",
    "plt.plot(s[1,0], s[1,1], 'o', markerfacecolor='None',  markeredgecolor='k', markersize=15)\n",
    "plt.legend([1,2,3])\n",
    "plt.show()"
   ]
  },
  {
   "cell_type": "markdown",
   "metadata": {},
   "source": [
    "Note while avGFP and sfGFP are marked, their IDs will not be found in the full dataset dataframe and hence wont appear in the TTS."
   ]
  },
  {
   "cell_type": "markdown",
   "metadata": {},
   "source": [
    "Perform the splits. We will split by parent, using the nearest parent to decide where a variant goes."
   ]
  },
  {
   "cell_type": "code",
   "execution_count": 15,
   "metadata": {},
   "outputs": [
    {
     "name": "stdout",
     "output_type": "stream",
     "text": [
      "[ 0  1  2  3  4  5  6  7  8  9 10 11 12 13 14 15 16 17 18 19 20 21 22 23\n",
      " 24 25 26 27 28 29 30 31 32 33 34 35 36 37 38 39 40 41 42 43 44 45 46 47\n",
      " 48 49 50 51 52 53 54 55 56 57 58 59 60 61 62 63 64 65 66 67 68 69 70 71\n",
      " 72 73 74 75 76 77 78 79 80 81 82 83 84 85 86 87 88 89 90 91 92 93 94 95]\n",
      "[ 96  97  98  99 100 101 102 103 104 105 106 107 108 109 110 111 112 113\n",
      " 114 115 116 117 118 119 120 121 122 123 124 125 126 127 128 129 130 131\n",
      " 132 133 134 135 136 137 138 139 140 141 142 143 144 145 146 147 148 149\n",
      " 150 151 152 153 154 155 156 157 158 159 160 161 162 163 164 165 166 167\n",
      " 168 169 170 171 172 173 174 175 176 177 178 179 180 181 182 183 184 185\n",
      " 186 187 188 189 190 191]\n",
      "[192 193 194 195 196 197 198 199 200 201 202 203 204 205 206 207 208 209\n",
      " 210 211 212 213 214 215 216 217 218 219 220 221 222 223 224 225 226 227\n",
      " 228 229 230 231 232 233 234 235 236 237 238 239 240 241 242 243 244 245\n",
      " 246 247 248 249 250 251 252 253 254 255 256 257 258 259 260 261 262 263\n",
      " 264 265 266 267 268 269 270 271 272 273 274 275 276 277 278 279 280 281\n",
      " 282 283 284 285 286 287]\n"
     ]
    }
   ],
   "source": [
    "parent_ids = np.array(parent_ids)\n",
    "\n",
    "split_dfs = []\n",
    "for sidx in split_indices:\n",
    "    print(sidx)\n",
    "    parent_ids_split = list(parent_ids[sidx])\n",
    "    \n",
    "    mask = syn_neigh_df[SPLIT_BY].apply(lambda x: x in parent_ids_split)\n",
    "    split_dfs.append(syn_neigh_df[mask])    "
   ]
  },
  {
   "cell_type": "markdown",
   "metadata": {},
   "source": [
    "Some final checks"
   ]
  },
  {
   "cell_type": "code",
   "execution_count": 16,
   "metadata": {},
   "outputs": [
    {
     "name": "stdout",
     "output_type": "stream",
     "text": [
      "set()\n",
      "set()\n",
      "set()\n"
     ]
    }
   ],
   "source": [
    "# Assert all examples are used\n",
    "assert np.sum([sdf.shape[0] for sdf in split_dfs]) == syn_neigh_df.shape[0]\n",
    "\n",
    "# Assert no overlaps in which neighborhoods are being used between sets\n",
    "for i in range(len(split_dfs)):\n",
    "    for j in range(i+1, len(split_dfs)):\n",
    "        s1 = split_dfs[i]\n",
    "        s2 = split_dfs[j]\n",
    "        print(set(s1[SPLIT_BY]).intersection(set(s2[SPLIT_BY])))\n",
    "        \n",
    "        assert len(set(s1[SPLIT_BY]).intersection(set(s2[SPLIT_BY]))) == 0"
   ]
  },
  {
   "cell_type": "markdown",
   "metadata": {},
   "source": [
    "## Export"
   ]
  },
  {
   "cell_type": "markdown",
   "metadata": {},
   "source": [
    "Generate MD5 checksums to validate reproducibility of these files. Once this notebook is committed, we can always refer back to these checksums. "
   ]
  },
  {
   "cell_type": "code",
   "execution_count": 17,
   "metadata": {},
   "outputs": [
    {
     "name": "stdout",
     "output_type": "stream",
     "text": [
      "(37606, 4)\n",
      "/notebooks/analysis/common/../../data/s3/datasets/tts_splits/generalization_sets/Exp4-8_inferred_brightness_parents_assigned_split_0.csv\n",
      "9ec5ec061b67ae3c7a1a9e845843823d\n",
      "\n",
      "(33726, 4)\n",
      "/notebooks/analysis/common/../../data/s3/datasets/tts_splits/generalization_sets/Exp4-8_inferred_brightness_parents_assigned_split_1.csv\n",
      "a4d72ec1bc1bd3ac4c2c191666914897\n",
      "\n",
      "(32953, 4)\n",
      "/notebooks/analysis/common/../../data/s3/datasets/tts_splits/generalization_sets/Exp4-8_inferred_brightness_parents_assigned_split_2.csv\n",
      "9619cb6223870b30876ec93ce04fdac3\n",
      "\n"
     ]
    }
   ],
   "source": [
    "output_file_prefix = 'Exp4-8_inferred_brightness_parents_assigned_split_'\n",
    "\n",
    "os.makedirs(os.path.join(paths.TTS_SPLITS_DIR, 'generalization_sets'), exist_ok=True)\n",
    "\n",
    "for i,sdf in enumerate(split_dfs):\n",
    "    ofile = os.path.join(paths.TTS_SPLITS_DIR, 'generalization_sets', output_file_prefix + str(i) + '.csv')\n",
    "    sdf.to_csv(ofile, index=False)\n",
    "    \n",
    "    print(sdf.shape)\n",
    "    print(ofile)\n",
    "    print(data_io_utils.generate_md5_checksum(ofile))\n",
    "    print()"
   ]
  },
  {
   "cell_type": "markdown",
   "metadata": {},
   "source": [
    "Manually verified these results are reproducible by running the notebook 2x top to bottom and checking MD5 checksums."
   ]
  },
  {
   "cell_type": "markdown",
   "metadata": {},
   "source": [
    "## Sync back up to S3"
   ]
  },
  {
   "cell_type": "code",
   "execution_count": 18,
   "metadata": {
    "collapsed": true
   },
   "outputs": [],
   "source": [
    "# Post publication note: Disabling sync to read-only bucket.\n",
    "#data_io_utils.sync_local_path_to_s3(paths.TTS_SPLITS_DIR)"
   ]
  }
 ],
 "metadata": {
  "kernelspec": {
   "display_name": "Python 3",
   "language": "python",
   "name": "python3"
  },
  "language_info": {
   "codemirror_mode": {
    "name": "ipython",
    "version": 3
   },
   "file_extension": ".py",
   "mimetype": "text/x-python",
   "name": "python",
   "nbconvert_exporter": "python",
   "pygments_lexer": "ipython3",
   "version": "3.5.2"
  }
 },
 "nbformat": 4,
 "nbformat_minor": 2
}
