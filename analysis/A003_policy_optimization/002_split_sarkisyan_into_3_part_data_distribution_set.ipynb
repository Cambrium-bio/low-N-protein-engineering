{
 "cells": [
  {
   "cell_type": "markdown",
   "metadata": {},
   "source": [
    "# Split the Sarkisyan dataset into three data distribution sets.\n",
    "\n",
    "Will split randomly."
   ]
  },
  {
   "cell_type": "markdown",
   "metadata": {},
   "source": [
    "Re-run top to bottom Apr 30, 2019."
   ]
  },
  {
   "cell_type": "code",
   "execution_count": 1,
   "metadata": {
    "collapsed": true
   },
   "outputs": [],
   "source": [
    "import sys\n",
    "import os\n",
    "import random\n",
    "\n",
    "import numpy as np\n",
    "import pandas as pd\n",
    "from sklearn.manifold import MDS\n",
    "from sklearn.model_selection import KFold\n",
    "import matplotlib.pyplot as plt\n",
    "\n",
    "sys.path.append('../common')\n",
    "import data_io_utils\n",
    "import paths\n",
    "import utils\n",
    "\n",
    "%reload_ext autoreload\n",
    "%autoreload "
   ]
  },
  {
   "cell_type": "markdown",
   "metadata": {},
   "source": [
    "## Set seeds for reproducibility"
   ]
  },
  {
   "cell_type": "code",
   "execution_count": 2,
   "metadata": {
    "collapsed": true
   },
   "outputs": [],
   "source": [
    "np.random.seed(1)\n",
    "random.seed(1)"
   ]
  },
  {
   "cell_type": "markdown",
   "metadata": {},
   "source": [
    "## Sync data"
   ]
  },
  {
   "cell_type": "code",
   "execution_count": 3,
   "metadata": {},
   "outputs": [
    {
     "name": "stdout",
     "output_type": "stream",
     "text": [
      "(51715, 2)\n"
     ]
    },
    {
     "data": {
      "text/html": [
       "<div>\n",
       "<style scoped>\n",
       "    .dataframe tbody tr th:only-of-type {\n",
       "        vertical-align: middle;\n",
       "    }\n",
       "\n",
       "    .dataframe tbody tr th {\n",
       "        vertical-align: top;\n",
       "    }\n",
       "\n",
       "    .dataframe thead th {\n",
       "        text-align: right;\n",
       "    }\n",
       "</style>\n",
       "<table border=\"1\" class=\"dataframe\">\n",
       "  <thead>\n",
       "    <tr style=\"text-align: right;\">\n",
       "      <th></th>\n",
       "      <th>seq</th>\n",
       "      <th>quantitative_function</th>\n",
       "    </tr>\n",
       "  </thead>\n",
       "  <tbody>\n",
       "    <tr>\n",
       "      <th>0</th>\n",
       "      <td>MSKGEGLFTGVVPILVELDGDVNGHKFSVSGEGEGGATYGKLTLKY...</td>\n",
       "      <td>0.007245</td>\n",
       "    </tr>\n",
       "    <tr>\n",
       "      <th>1</th>\n",
       "      <td>MSKGEELFTGVVPILVELDGDVNGHKFSVSGEGEGDATYGKLTLKF...</td>\n",
       "      <td>0.162121</td>\n",
       "    </tr>\n",
       "    <tr>\n",
       "      <th>2</th>\n",
       "      <td>MSKGEELFTGVVPILVELDGDVNGHKFSVSGEGEGDATYGKLTLKF...</td>\n",
       "      <td>0.760652</td>\n",
       "    </tr>\n",
       "    <tr>\n",
       "      <th>3</th>\n",
       "      <td>MSKGEELFTGVVPILVELRGDVSGHKFSVSGEGEGDATSGKLTLKF...</td>\n",
       "      <td>0.991444</td>\n",
       "    </tr>\n",
       "    <tr>\n",
       "      <th>4</th>\n",
       "      <td>MSKGEELFTGVVPILVELDGDVNGHKFSVSGEGEGDATYGKLTLKF...</td>\n",
       "      <td>0.006828</td>\n",
       "    </tr>\n",
       "  </tbody>\n",
       "</table>\n",
       "</div>"
      ],
      "text/plain": [
       "                                                 seq  quantitative_function\n",
       "0  MSKGEGLFTGVVPILVELDGDVNGHKFSVSGEGEGGATYGKLTLKY...               0.007245\n",
       "1  MSKGEELFTGVVPILVELDGDVNGHKFSVSGEGEGDATYGKLTLKF...               0.162121\n",
       "2  MSKGEELFTGVVPILVELDGDVNGHKFSVSGEGEGDATYGKLTLKF...               0.760652\n",
       "3  MSKGEELFTGVVPILVELRGDVSGHKFSVSGEGEGDATSGKLTLKF...               0.991444\n",
       "4  MSKGEELFTGVVPILVELDGDVNGHKFSVSGEGEGDATYGKLTLKF...               0.006828"
      ]
     },
     "execution_count": 3,
     "metadata": {},
     "output_type": "execute_result"
    }
   ],
   "source": [
    "data_io_utils.sync_s3_path_to_local(paths.SARKISYAN_DATA_FILE, is_single_file=True)\n",
    "sark_df = pd.read_csv(paths.SARKISYAN_DATA_FILE)\n",
    "\n",
    "# Randomly shuffle\n",
    "sark_df = sark_df.sample(frac=1).reset_index(drop=True)\n",
    "\n",
    "\n",
    "print(sark_df.shape)\n",
    "sark_df.head()"
   ]
  },
  {
   "cell_type": "markdown",
   "metadata": {},
   "source": [
    "## Split"
   ]
  },
  {
   "cell_type": "code",
   "execution_count": 4,
   "metadata": {
    "collapsed": true
   },
   "outputs": [],
   "source": [
    "kf = KFold(n_splits=3)\n",
    "split_indices = []\n",
    "for _, sp_idx in kf.split(sark_df):\n",
    "    split_indices.append(sp_idx)"
   ]
  },
  {
   "cell_type": "code",
   "execution_count": 5,
   "metadata": {
    "collapsed": true
   },
   "outputs": [],
   "source": [
    "split_dfs = []\n",
    "for sidx in split_indices:\n",
    "    split_dfs.append(sark_df.iloc[sidx])"
   ]
  },
  {
   "cell_type": "markdown",
   "metadata": {},
   "source": [
    "Some checks"
   ]
  },
  {
   "cell_type": "code",
   "execution_count": 6,
   "metadata": {},
   "outputs": [
    {
     "name": "stdout",
     "output_type": "stream",
     "text": [
      "set()\n",
      "set()\n",
      "set()\n"
     ]
    }
   ],
   "source": [
    "# Assert all examples are used\n",
    "assert np.sum([sdf.shape[0] for sdf in split_dfs]) == sark_df.shape[0]\n",
    "\n",
    "# Assert no overlaps in which seqs are being used between sets\n",
    "for i in range(len(split_dfs)):\n",
    "    for j in range(i+1, len(split_dfs)):\n",
    "        s1 = split_dfs[i]\n",
    "        s2 = split_dfs[j]\n",
    "        print(set(s1['seq']).intersection(set(s2['seq'])))\n",
    "        \n",
    "        assert len(set(s1['seq']).intersection(set(s2['seq']))) == 0"
   ]
  },
  {
   "cell_type": "markdown",
   "metadata": {},
   "source": [
    "## Export"
   ]
  },
  {
   "cell_type": "code",
   "execution_count": 7,
   "metadata": {},
   "outputs": [
    {
     "name": "stdout",
     "output_type": "stream",
     "text": [
      "/notebooks/analysis/common/../../data/s3/datasets/tts_splits/data_distributions/sarkisyan_split_0.csv\n",
      "05923c69d7ecfff31e2f46d2fee52eb5\n",
      "\n",
      "/notebooks/analysis/common/../../data/s3/datasets/tts_splits/data_distributions/sarkisyan_split_1.csv\n",
      "a70b69b9077b103179fc245cbc99488d\n",
      "\n",
      "/notebooks/analysis/common/../../data/s3/datasets/tts_splits/data_distributions/sarkisyan_split_2.csv\n",
      "17c182531eca0d1e11e180cf9744e9b9\n",
      "\n"
     ]
    }
   ],
   "source": [
    "output_file_prefix = 'sarkisyan_split_'\n",
    "\n",
    "os.makedirs(os.path.join(paths.TTS_SPLITS_DIR, 'data_distributions'), exist_ok=True)\n",
    "\n",
    "for i,sdf in enumerate(split_dfs):\n",
    "    ofile = os.path.join(paths.TTS_SPLITS_DIR, 'data_distributions', output_file_prefix + str(i) + '.csv')\n",
    "    sdf.to_csv(ofile, index=False)\n",
    "    \n",
    "    print(ofile)\n",
    "    print(data_io_utils.generate_md5_checksum(ofile))\n",
    "    print()"
   ]
  },
  {
   "cell_type": "markdown",
   "metadata": {},
   "source": [
    "Manually verified these results are reproducible by running the notebook 2x top to bottom and checking MD5 checksums."
   ]
  },
  {
   "cell_type": "markdown",
   "metadata": {},
   "source": [
    "## Sync back up to S3"
   ]
  },
  {
   "cell_type": "code",
   "execution_count": 8,
   "metadata": {
    "collapsed": true
   },
   "outputs": [],
   "source": [
    "# Post publication note: Disabling sync to read-only bucket.\n",
    "#data_io_utils.sync_local_path_to_s3(paths.TTS_SPLITS_DIR)"
   ]
  }
 ],
 "metadata": {
  "kernelspec": {
   "display_name": "Python 3",
   "language": "python",
   "name": "python3"
  },
  "language_info": {
   "codemirror_mode": {
    "name": "ipython",
    "version": 3
   },
   "file_extension": ".py",
   "mimetype": "text/x-python",
   "name": "python",
   "nbconvert_exporter": "python",
   "pygments_lexer": "ipython3",
   "version": "3.5.2"
  }
 },
 "nbformat": 4,
 "nbformat_minor": 2
}
