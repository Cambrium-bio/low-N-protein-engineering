{
 "cells": [
  {
   "cell_type": "markdown",
   "metadata": {},
   "source": [
    "# Analyze FastML ASR sequences and finalize list for synthesis and testing \n",
    "\n",
    "For results presented in Fig 2c"
   ]
  },
  {
   "cell_type": "code",
   "execution_count": 1,
   "metadata": {},
   "outputs": [
    {
     "name": "stdout",
     "output_type": "stream",
     "text": [
      "\u001b[33mDEPRECATION: Python 3.5 reached the end of its life on September 13th, 2020. Please upgrade your Python as Python 3.5 is no longer maintained. pip 21.0 will drop support for Python 3.5 in January 2021. pip 21.0 will remove support for this functionality.\u001b[0m\n",
      "Requirement already satisfied: biopython in /usr/local/lib/python3.5/dist-packages (1.72)\n",
      "Requirement already satisfied: numpy in /usr/local/lib/python3.5/dist-packages (from biopython) (1.15.4)\n"
     ]
    }
   ],
   "source": [
    "!pip install biopython"
   ]
  },
  {
   "cell_type": "code",
   "execution_count": 2,
   "metadata": {
    "collapsed": true
   },
   "outputs": [],
   "source": [
    "import os\n",
    "import sys\n",
    "import pickle\n",
    "\n",
    "from Bio import SeqIO\n",
    "import numpy as np\n",
    "import pandas as pd\n",
    "import matplotlib.pyplot as plt\n",
    "import matplotlib as mpl\n",
    "import tensorflow as tf\n",
    "\n",
    "from sklearn.manifold import MDS\n",
    "from sklearn.decomposition import PCA\n",
    "\n",
    "sys.path.append('../common')\n",
    "import data_io_utils\n",
    "import paths\n",
    "import constants\n",
    "import utils\n",
    "\n",
    "import A009_common\n",
    "\n",
    "%reload_ext autoreload\n",
    "%autoreload 2"
   ]
  },
  {
   "cell_type": "code",
   "execution_count": 3,
   "metadata": {
    "collapsed": true
   },
   "outputs": [],
   "source": [
    "fasta_read = A009_common.fasta_read"
   ]
  },
  {
   "cell_type": "code",
   "execution_count": 4,
   "metadata": {
    "collapsed": true
   },
   "outputs": [],
   "source": [
    "parent_names, parent_seqs = fasta_read(\n",
    "    '20181110_filtered_FPBase_Aequorea_FPs_candidates_for_synthesis_alignment_training_homologs_only.fasta')\n",
    "\n",
    "n11_names, n11_seqs = fasta_read('N11.10MostProbSeq.fasta')\n",
    "n11_names = ['N11_'+n for n in n11_names]\n",
    "\n",
    "n1_names, n1_seqs = fasta_read('N1.10MostProbSeq.fasta')\n",
    "n1_names = ['N1_'+n for n in n1_names]\n",
    "\n",
    "\n",
    "asr_seqs = n1_seqs + n11_seqs\n",
    "asr_names = n1_names + n11_names"
   ]
  },
  {
   "cell_type": "markdown",
   "metadata": {},
   "source": [
    "## Perform dim reduction on the sequences to visualize their relationship"
   ]
  },
  {
   "cell_type": "code",
   "execution_count": 5,
   "metadata": {
    "collapsed": true
   },
   "outputs": [],
   "source": [
    "parent_enc_seqs = utils.encode_aa_seq_list_as_matrix_of_flattened_one_hots(parent_seqs)\n",
    "n11_enc_seqs = utils.encode_aa_seq_list_as_matrix_of_flattened_one_hots(n11_seqs)\n",
    "n1_enc_seqs = utils.encode_aa_seq_list_as_matrix_of_flattened_one_hots(n1_seqs)\n",
    "\n",
    "av_enc = utils.encode_aa_seq_list_as_matrix_of_flattened_one_hots([constants.AVGFP_AA_SEQ])"
   ]
  },
  {
   "cell_type": "code",
   "execution_count": 6,
   "metadata": {
    "collapsed": true
   },
   "outputs": [],
   "source": [
    "dr = PCA(n_components=2).fit(parent_enc_seqs)"
   ]
  },
  {
   "cell_type": "code",
   "execution_count": 7,
   "metadata": {
    "collapsed": true
   },
   "outputs": [],
   "source": [
    "s_parents = dr.transform(parent_enc_seqs)\n",
    "s_n11 = dr.transform(n11_enc_seqs)\n",
    "s_n1 = dr.transform(n1_enc_seqs)\n",
    "\n",
    "s_av = dr.transform(av_enc)"
   ]
  },
  {
   "cell_type": "code",
   "execution_count": 8,
   "metadata": {
    "collapsed": true
   },
   "outputs": [],
   "source": [
    "squash = lambda x: 1/(1 + np.exp(-3*x))\n",
    "\n",
    "s_parents = squash(s_parents)\n",
    "s_n11 = squash(s_n11)\n",
    "s_n1 = squash(s_n1)\n",
    "s_av = squash(s_av)"
   ]
  },
  {
   "cell_type": "code",
   "execution_count": 9,
   "metadata": {},
   "outputs": [
    {
     "data": {
      "image/png": "[encoded data removed]",
      "text/plain": [
       "<Figure size 432x288 with 1 Axes>"
      ]
     },
     "metadata": {},
     "output_type": "display_data"
    }
   ],
   "source": [
    "plt.plot(s_parents[:,0], s_parents[:,1], '.k')\n",
    "\n",
    "plt.plot(s_n11[:,0], s_n11[:,1], 'or')\n",
    "plt.plot(s_n1[:,0], s_n1[:,1], '.b')\n",
    "\n",
    "plt.plot(s_av[:,0], s_av[:,1], 'og')\n",
    "plt.show()"
   ]
  },
  {
   "cell_type": "markdown",
   "metadata": {},
   "source": [
    "Looks like we have some sequences in the intersection. How big is that intersection?"
   ]
  },
  {
   "cell_type": "code",
   "execution_count": 10,
   "metadata": {},
   "outputs": [
    {
     "data": {
      "text/plain": [
       "{'MSKGEELFTGVVPILVELDGDVNGHKFSVSGEGEGDATYGKLTLKFICTTGKLPVPWPTLVTTFGYGVQCFARYPDHMKRHDFFKSAMPEGYVQERTIFFKDDGNYKTRAEVKFEGDTLVNRIELKGIDFKEDGNILGHKLEYNYNSHNVYIMADKQKNGIKVNFKIRHNIEDGSVQLADHYQQNTPIGDGPVLLPDNHYLSTQSALSKDPNEKRDHMVLLEFVTAAGITHGMDELYK',\n",
       " 'MSKGEELFTGVVPILVELDGDVNGHKFSVSGEGEGDATYGKLTLKFICTTGKLPVPWPTLVTTFGYGVQCFSRYPDHMKRHDFFKSAMPEGYVQERTIFFKDDGNYKTRAEVKFEGDTLVNRIELKGIDFKEDGNILGHKLEYNYNSHNVYIMADKQKNGIKVNFKIRHNIEDGSVQLADHYQQNTPIGDGPVLLPDNHYLSTQSALSKDPNEKRDHMVLLEFVTAAGITHGMDELYK',\n",
       " 'MSKGEELFTGVVPILVELDGDVNGHKFSVSGEGEGDATYGKLTLKFICTTGKLPVPWPTLVTTFSYGVQCFARYPDHMKRHDFFKSAMPEGYVQERTIFFKDDGNYKTRAEVKFEGDTLVNRIELKGIDFKEDGNILGHKLEYNYNSHNVYIMADKQKNGIKVNFKIRHNIEDGSVQLADHYQQNTPIGDGPVLLPDNHYLSTQSALSKDPNEKRDHMVLLEFVTAAGITHGMDELYK',\n",
       " 'MSKGEELFTGVVPILVELDGDVNGHKFSVSGEGEGDATYGKLTLKFICTTGKLPVPWPTLVTTFTYGVQCFARYPDHMKRHDFFKSAMPEGYVQERTIFFKDDGNYKTRAEVKFEGDTLVNRIELKGIDFKEDGNILGHKLEYNYNSHNVYIMADKQKNGIKVNFKIRHNIEDGSVQLADHYQQNTPIGDGPVLLPDNHYLSTQSALSKDPNEKRDHMVLLEFVTAAGITHGMDELYK'}"
      ]
     },
     "execution_count": 10,
     "metadata": {},
     "output_type": "execute_result"
    }
   ],
   "source": [
    "set(n11_seqs).intersection(set(n1_seqs))"
   ]
  },
  {
   "cell_type": "markdown",
   "metadata": {},
   "source": [
    "## Edit distances wrt av and sfGFP?"
   ]
  },
  {
   "cell_type": "code",
   "execution_count": 11,
   "metadata": {},
   "outputs": [
    {
     "name": "stdout",
     "output_type": "stream",
     "text": [
      "[[3. 4. 4. 2. 4. 4. 3. 3. 5. 2.]]\n"
     ]
    }
   ],
   "source": [
    "print(utils.levenshtein_distance_matrix([constants.AVGFP_AA_SEQ], n11_seqs))"
   ]
  },
  {
   "cell_type": "code",
   "execution_count": 12,
   "metadata": {},
   "outputs": [
    {
     "name": "stdout",
     "output_type": "stream",
     "text": [
      "[[4. 5. 5. 3. 5. 5. 5. 3. 5. 4.]]\n"
     ]
    }
   ],
   "source": [
    "print(utils.levenshtein_distance_matrix([constants.AVGFP_AA_SEQ], n1_seqs))"
   ]
  },
  {
   "cell_type": "markdown",
   "metadata": {},
   "source": [
    "## Common mutations"
   ]
  },
  {
   "cell_type": "code",
   "execution_count": 13,
   "metadata": {
    "collapsed": true
   },
   "outputs": [],
   "source": [
    "def build_edit_string_substitutions_only(seq, wt_seq): # from mlpe-gfp-pilot\n",
    "    \"\"\"Builds a 1-indexed edit string btw seq and wt_seq where there are assumed\n",
    "    to be no indels.\n",
    "    This function doesn't use nwalign and instead does a char by char comparison.\n",
    "    Returns a String consisting of:\n",
    "        * An edit string of the form e.g. 'SA8G:SR97W'\n",
    "        * 'WT', if alignment is perfect match.\n",
    "    \"\"\"\n",
    "    # Collect parts of the edit string then combine at the end.\n",
    "    es_parts = []\n",
    "\n",
    "    for i, wt_char in enumerate(wt_seq):\n",
    "        if seq[i] != wt_char:\n",
    "            one_indexed_pos = i + 1\n",
    "            es_parts.append('{orig}{edit_pos}{new}'.format(\n",
    "                    orig=wt_char,\n",
    "                    edit_pos=one_indexed_pos,\n",
    "                    new=seq[i]))\n",
    "\n",
    "    if not es_parts:\n",
    "        return 'WT'\n",
    "\n",
    "    return es_parts"
   ]
  },
  {
   "cell_type": "code",
   "execution_count": 14,
   "metadata": {
    "collapsed": true
   },
   "outputs": [],
   "source": [
    "edits = []\n",
    "for seq in asr_seqs:\n",
    "    edits += build_edit_string_substitutions_only(seq, constants.AVGFP_AA_SEQ)\n",
    "    \n",
    "mutated_pos = [int(e[1:-1]) for e in edits]"
   ]
  },
  {
   "cell_type": "code",
   "execution_count": 15,
   "metadata": {},
   "outputs": [
    {
     "data": {
      "text/plain": [
       "[64,\n",
       " 65,\n",
       " 72,\n",
       " 80,\n",
       " 64,\n",
       " 65,\n",
       " 72,\n",
       " 79,\n",
       " 80,\n",
       " 64,\n",
       " 65,\n",
       " 72,\n",
       " 80,\n",
       " 203,\n",
       " 64,\n",
       " 72,\n",
       " 80,\n",
       " 64,\n",
       " 65,\n",
       " 68,\n",
       " 72,\n",
       " 80,\n",
       " 64,\n",
       " 65,\n",
       " 72,\n",
       " 80,\n",
       " 203,\n",
       " 64,\n",
       " 65,\n",
       " 68,\n",
       " 72,\n",
       " 80,\n",
       " 64,\n",
       " 65,\n",
       " 80,\n",
       " 64,\n",
       " 65,\n",
       " 72,\n",
       " 80,\n",
       " 203,\n",
       " 64,\n",
       " 65,\n",
       " 72,\n",
       " 80,\n",
       " 64,\n",
       " 72,\n",
       " 80,\n",
       " 64,\n",
       " 65,\n",
       " 72,\n",
       " 80,\n",
       " 64,\n",
       " 65,\n",
       " 72,\n",
       " 80,\n",
       " 64,\n",
       " 80,\n",
       " 64,\n",
       " 72,\n",
       " 80,\n",
       " 203,\n",
       " 64,\n",
       " 65,\n",
       " 72,\n",
       " 80,\n",
       " 64,\n",
       " 65,\n",
       " 80,\n",
       " 64,\n",
       " 65,\n",
       " 80,\n",
       " 64,\n",
       " 65,\n",
       " 72,\n",
       " 80,\n",
       " 203,\n",
       " 72,\n",
       " 80]"
      ]
     },
     "execution_count": 15,
     "metadata": {},
     "output_type": "execute_result"
    }
   ],
   "source": [
    "mutated_pos"
   ]
  },
  {
   "cell_type": "code",
   "execution_count": 16,
   "metadata": {},
   "outputs": [
    {
     "data": {
      "image/png": "[encoded data removed]",
      "text/plain": [
       "<Figure size 1296x288 with 1 Axes>"
      ]
     },
     "metadata": {},
     "output_type": "display_data"
    }
   ],
   "source": [
    "uv, uc = np.unique(edits, return_counts=True)\n",
    "\n",
    "sidx = np.argsort(-uc)\n",
    "\n",
    "plt.figure(figsize=(18,4))\n",
    "plt.bar(np.arange(len(uv)), uc[sidx])\n",
    "plt.xticks(np.arange(len(uv)))\n",
    "plt.gca().set_xticklabels(uv[sidx], rotation='vertical')\n",
    "plt.xlim([-1, len(uv)])\n",
    "plt.show()"
   ]
  },
  {
   "cell_type": "code",
   "execution_count": 17,
   "metadata": {},
   "outputs": [
    {
     "data": {
      "text/plain": [
       "array(['K79R', 'L64F', 'Q80R', 'S65A', 'S65G', 'S65T', 'S72A', 'T203I',\n",
       "       'T203S', 'T203Y', 'V68I', 'V68L'], dtype='<U5')"
      ]
     },
     "execution_count": 17,
     "metadata": {},
     "output_type": "execute_result"
    }
   ],
   "source": [
    "uv"
   ]
  },
  {
   "cell_type": "code",
   "execution_count": 18,
   "metadata": {},
   "outputs": [
    {
     "data": {
      "image/png": "[encoded data removed]",
      "text/plain": [
       "<Figure size 1296x288 with 1 Axes>"
      ]
     },
     "metadata": {},
     "output_type": "display_data"
    }
   ],
   "source": [
    "uv, uc = np.unique(mutated_pos, return_counts=True)\n",
    "\n",
    "sidx = np.argsort(-uc)\n",
    "\n",
    "plt.figure(figsize=(18,4))\n",
    "plt.bar(np.arange(len(uv)), uc[sidx])\n",
    "plt.xticks(np.arange(len(uv)))\n",
    "plt.gca().set_xticklabels(uv[sidx], rotation='vertical')\n",
    "plt.xlim([-1, len(uv)])\n",
    "plt.show()"
   ]
  },
  {
   "cell_type": "markdown",
   "metadata": {},
   "source": [
    "## Prepare a non-redundant list of the ASR sequences"
   ]
  },
  {
   "cell_type": "code",
   "execution_count": 19,
   "metadata": {},
   "outputs": [
    {
     "data": {
      "text/plain": [
       "['N1_1_-0.006831',\n",
       " 'N1_2_-5.751725',\n",
       " 'N1_3_-6.250951',\n",
       " 'N1_4_-6.833884',\n",
       " 'N1_5_-8.545060',\n",
       " 'N1_6_-8.762511',\n",
       " 'N1_7_-9.699390',\n",
       " 'N1_8_-9.972933',\n",
       " 'N1_9_-10.323871',\n",
       " 'N1_10_-10.890914',\n",
       " 'N11_1_-0.180372',\n",
       " 'N11_2_-2.499699',\n",
       " 'N11_3_-2.629019',\n",
       " 'N11_4_-5.380227',\n",
       " 'N11_5_-5.903730',\n",
       " 'N11_6_-6.641509',\n",
       " 'N11_7_-7.699554',\n",
       " 'N11_8_-7.828874',\n",
       " 'N11_9_-8.223057',\n",
       " 'N11_10_-8.309947']"
      ]
     },
     "execution_count": 19,
     "metadata": {},
     "output_type": "execute_result"
    }
   ],
   "source": [
    "asr_names"
   ]
  },
  {
   "cell_type": "markdown",
   "metadata": {},
   "source": [
    "Unfortunately, the dictionary created in the cell below should have been created as an OrderedDict, as the key order for a vanilla dictionary when iterating over it is not reproducible. This causes the file output at the end of the notebook to output rows in a different order! Though the conclusions are the exact same, this ends up changing some of the downstream visuals. We're sorry we weren't more careful in this situation!"
   ]
  },
  {
   "cell_type": "code",
   "execution_count": 20,
   "metadata": {
    "collapsed": true
   },
   "outputs": [],
   "source": [
    "d = {}  \n",
    "for i,s in enumerate(asr_seqs):\n",
    "    if s not in d:\n",
    "        d[s] = []\n",
    "        \n",
    "    d[s].append(asr_names[i])"
   ]
  },
  {
   "cell_type": "code",
   "execution_count": 21,
   "metadata": {},
   "outputs": [
    {
     "name": "stdout",
     "output_type": "stream",
     "text": [
      "['N11_7_-7.699554']\n",
      "['N1_8_-9.972933', 'N11_8_-7.828874']\n",
      "['N11_6_-6.641509']\n",
      "['N1_2_-5.751725']\n",
      "['N1_4_-6.833884', 'N11_1_-0.180372']\n",
      "['N1_6_-8.762511']\n",
      "['N1_1_-0.006831', 'N11_3_-2.629019']\n",
      "['N11_4_-5.380227']\n",
      "['N1_5_-8.545060']\n",
      "['N11_10_-8.309947']\n",
      "['N11_9_-8.223057']\n",
      "['N1_9_-10.323871']\n",
      "['N1_7_-9.699390']\n",
      "['N1_10_-10.890914', 'N11_2_-2.499699']\n",
      "['N1_3_-6.250951']\n",
      "['N11_5_-5.903730']\n"
     ]
    }
   ],
   "source": [
    "for s in d:\n",
    "    print(d[s])"
   ]
  },
  {
   "cell_type": "markdown",
   "metadata": {},
   "source": [
    "Interestingly the rank ordering (by likelihood) of ASR seqs for N1 and N11 isnt highly correlated."
   ]
  },
  {
   "cell_type": "code",
   "execution_count": 22,
   "metadata": {
    "collapsed": true
   },
   "outputs": [],
   "source": [
    "nr_asr_seqs = list(d.keys())\n",
    "nr_asr_seq_names = ['__'.join(d[s]) for s in nr_asr_seqs]"
   ]
  },
  {
   "cell_type": "code",
   "execution_count": 23,
   "metadata": {},
   "outputs": [
    {
     "name": "stdout",
     "output_type": "stream",
     "text": [
      "N11_7_-7.699554\n",
      "MSKGEELFTGVVPILVELDGDVNGHKFSVSGEGEGDATYGKLTLKFICTTGKLPVPWPTLVTTFTYGVQCFSRYPDHMKRHDFFKSAMPEGYVQERTIFFKDDGNYKTRAEVKFEGDTLVNRIELKGIDFKEDGNILGHKLEYNYNSHNVYIMADKQKNGIKVNFKIRHNIEDGSVQLADHYQQNTPIGDGPVLLPDNHYLSTQSALSKDPNEKRDHMVLLEFVTAAGITHGMDELYK\n",
      "N1_8_-9.972933__N11_8_-7.828874\n",
      "MSKGEELFTGVVPILVELDGDVNGHKFSVSGEGEGDATYGKLTLKFICTTGKLPVPWPTLVTTFGYGVQCFSRYPDHMKRHDFFKSAMPEGYVQERTIFFKDDGNYKTRAEVKFEGDTLVNRIELKGIDFKEDGNILGHKLEYNYNSHNVYIMADKQKNGIKVNFKIRHNIEDGSVQLADHYQQNTPIGDGPVLLPDNHYLSTQSALSKDPNEKRDHMVLLEFVTAAGITHGMDELYK\n",
      "N11_6_-6.641509\n",
      "MSKGEELFTGVVPILVELDGDVNGHKFSVSGEGEGDATYGKLTLKFICTTGKLPVPWPTLVTTFAYGVQCFARYPDHMKRHDFFKSAMPEGYVQERTIFFKDDGNYKTRAEVKFEGDTLVNRIELKGIDFKEDGNILGHKLEYNYNSHNVYIMADKQKNGIKVNFKIRHNIEDGSVQLADHYQQNTPIGDGPVLLPDNHYLSTQSALSKDPNEKRDHMVLLEFVTAAGITHGMDELYK\n",
      "N1_2_-5.751725\n",
      "MSKGEELFTGVVPILVELDGDVNGHKFSVSGEGEGDATYGKLTLKFICTTGKLPVPWPTLVTTFGYGVQCFARYPDHMRRHDFFKSAMPEGYVQERTIFFKDDGNYKTRAEVKFEGDTLVNRIELKGIDFKEDGNILGHKLEYNYNSHNVYIMADKQKNGIKVNFKIRHNIEDGSVQLADHYQQNTPIGDGPVLLPDNHYLSTQSALSKDPNEKRDHMVLLEFVTAAGITHGMDELYK\n",
      "N1_4_-6.833884__N11_1_-0.180372\n",
      "MSKGEELFTGVVPILVELDGDVNGHKFSVSGEGEGDATYGKLTLKFICTTGKLPVPWPTLVTTFSYGVQCFARYPDHMKRHDFFKSAMPEGYVQERTIFFKDDGNYKTRAEVKFEGDTLVNRIELKGIDFKEDGNILGHKLEYNYNSHNVYIMADKQKNGIKVNFKIRHNIEDGSVQLADHYQQNTPIGDGPVLLPDNHYLSTQSALSKDPNEKRDHMVLLEFVTAAGITHGMDELYK\n",
      "N1_6_-8.762511\n",
      "MSKGEELFTGVVPILVELDGDVNGHKFSVSGEGEGDATYGKLTLKFICTTGKLPVPWPTLVTTFGYGVQCFARYPDHMKRHDFFKSAMPEGYVQERTIFFKDDGNYKTRAEVKFEGDTLVNRIELKGIDFKEDGNILGHKLEYNYNSHNVYIMADKQKNGIKVNFKIRHNIEDGSVQLADHYQQNTPIGDGPVLLPDNHYLSYQSALSKDPNEKRDHMVLLEFVTAAGITHGMDELYK\n",
      "N1_1_-0.006831__N11_3_-2.629019\n",
      "MSKGEELFTGVVPILVELDGDVNGHKFSVSGEGEGDATYGKLTLKFICTTGKLPVPWPTLVTTFGYGVQCFARYPDHMKRHDFFKSAMPEGYVQERTIFFKDDGNYKTRAEVKFEGDTLVNRIELKGIDFKEDGNILGHKLEYNYNSHNVYIMADKQKNGIKVNFKIRHNIEDGSVQLADHYQQNTPIGDGPVLLPDNHYLSTQSALSKDPNEKRDHMVLLEFVTAAGITHGMDELYK\n",
      "N11_4_-5.380227\n",
      "MSKGEELFTGVVPILVELDGDVNGHKFSVSGEGEGDATYGKLTLKFICTTGKLPVPWPTLVTTFSYGVQCFSRYPDHMKRHDFFKSAMPEGYVQERTIFFKDDGNYKTRAEVKFEGDTLVNRIELKGIDFKEDGNILGHKLEYNYNSHNVYIMADKQKNGIKVNFKIRHNIEDGSVQLADHYQQNTPIGDGPVLLPDNHYLSTQSALSKDPNEKRDHMVLLEFVTAAGITHGMDELYK\n",
      "N1_5_-8.545060\n",
      "MSKGEELFTGVVPILVELDGDVNGHKFSVSGEGEGDATYGKLTLKFICTTGKLPVPWPTLVTTFGYGLQCFARYPDHMKRHDFFKSAMPEGYVQERTIFFKDDGNYKTRAEVKFEGDTLVNRIELKGIDFKEDGNILGHKLEYNYNSHNVYIMADKQKNGIKVNFKIRHNIEDGSVQLADHYQQNTPIGDGPVLLPDNHYLSTQSALSKDPNEKRDHMVLLEFVTAAGITHGMDELYK\n",
      "N11_10_-8.309947\n",
      "MSKGEELFTGVVPILVELDGDVNGHKFSVSGEGEGDATYGKLTLKFICTTGKLPVPWPTLVTTLSYGVQCFARYPDHMKRHDFFKSAMPEGYVQERTIFFKDDGNYKTRAEVKFEGDTLVNRIELKGIDFKEDGNILGHKLEYNYNSHNVYIMADKQKNGIKVNFKIRHNIEDGSVQLADHYQQNTPIGDGPVLLPDNHYLSTQSALSKDPNEKRDHMVLLEFVTAAGITHGMDELYK\n",
      "N11_9_-8.223057\n",
      "MSKGEELFTGVVPILVELDGDVNGHKFSVSGEGEGDATYGKLTLKFICTTGKLPVPWPTLVTTFTYGVQCFARYPDHMKRHDFFKSAMPEGYVQERTIFFKDDGNYKTRAEVKFEGDTLVNRIELKGIDFKEDGNILGHKLEYNYNSHNVYIMADKQKNGIKVNFKIRHNIEDGSVQLADHYQQNTPIGDGPVLLPDNHYLSIQSALSKDPNEKRDHMVLLEFVTAAGITHGMDELYK\n",
      "N1_9_-10.323871\n",
      "MSKGEELFTGVVPILVELDGDVNGHKFSVSGEGEGDATYGKLTLKFICTTGKLPVPWPTLVTTFGYGVQCFARYPDHMKRHDFFKSAMPEGYVQERTIFFKDDGNYKTRAEVKFEGDTLVNRIELKGIDFKEDGNILGHKLEYNYNSHNVYIMADKQKNGIKVNFKIRHNIEDGSVQLADHYQQNTPIGDGPVLLPDNHYLSSQSALSKDPNEKRDHMVLLEFVTAAGITHGMDELYK\n",
      "N1_7_-9.699390\n",
      "MSKGEELFTGVVPILVELDGDVNGHKFSVSGEGEGDATYGKLTLKFICTTGKLPVPWPTLVTTFGYGIQCFARYPDHMKRHDFFKSAMPEGYVQERTIFFKDDGNYKTRAEVKFEGDTLVNRIELKGIDFKEDGNILGHKLEYNYNSHNVYIMADKQKNGIKVNFKIRHNIEDGSVQLADHYQQNTPIGDGPVLLPDNHYLSTQSALSKDPNEKRDHMVLLEFVTAAGITHGMDELYK\n",
      "N1_10_-10.890914__N11_2_-2.499699\n",
      "MSKGEELFTGVVPILVELDGDVNGHKFSVSGEGEGDATYGKLTLKFICTTGKLPVPWPTLVTTFTYGVQCFARYPDHMKRHDFFKSAMPEGYVQERTIFFKDDGNYKTRAEVKFEGDTLVNRIELKGIDFKEDGNILGHKLEYNYNSHNVYIMADKQKNGIKVNFKIRHNIEDGSVQLADHYQQNTPIGDGPVLLPDNHYLSTQSALSKDPNEKRDHMVLLEFVTAAGITHGMDELYK\n",
      "N1_3_-6.250951\n",
      "MSKGEELFTGVVPILVELDGDVNGHKFSVSGEGEGDATYGKLTLKFICTTGKLPVPWPTLVTTFGYGVQCFARYPDHMKRHDFFKSAMPEGYVQERTIFFKDDGNYKTRAEVKFEGDTLVNRIELKGIDFKEDGNILGHKLEYNYNSHNVYIMADKQKNGIKVNFKIRHNIEDGSVQLADHYQQNTPIGDGPVLLPDNHYLSIQSALSKDPNEKRDHMVLLEFVTAAGITHGMDELYK\n",
      "N11_5_-5.903730\n",
      "MSKGEELFTGVVPILVELDGDVNGHKFSVSGEGEGDATYGKLTLKFICTTGKLPVPWPTLVTTFSYGVQCFARYPDHMKRHDFFKSAMPEGYVQERTIFFKDDGNYKTRAEVKFEGDTLVNRIELKGIDFKEDGNILGHKLEYNYNSHNVYIMADKQKNGIKVNFKIRHNIEDGSVQLADHYQQNTPIGDGPVLLPDNHYLSIQSALSKDPNEKRDHMVLLEFVTAAGITHGMDELYK\n"
     ]
    }
   ],
   "source": [
    "for i,n in enumerate(nr_asr_seq_names):\n",
    "    print(n)\n",
    "    print(nr_asr_seqs[i])"
   ]
  },
  {
   "cell_type": "code",
   "execution_count": 24,
   "metadata": {},
   "outputs": [
    {
     "data": {
      "text/html": [
       "<div>\n",
       "<style scoped>\n",
       "    .dataframe tbody tr th:only-of-type {\n",
       "        vertical-align: middle;\n",
       "    }\n",
       "\n",
       "    .dataframe tbody tr th {\n",
       "        vertical-align: top;\n",
       "    }\n",
       "\n",
       "    .dataframe thead th {\n",
       "        text-align: right;\n",
       "    }\n",
       "</style>\n",
       "<table border=\"1\" class=\"dataframe\">\n",
       "  <thead>\n",
       "    <tr style=\"text-align: right;\">\n",
       "      <th></th>\n",
       "      <th>id</th>\n",
       "      <th>seq</th>\n",
       "    </tr>\n",
       "  </thead>\n",
       "  <tbody>\n",
       "    <tr>\n",
       "      <th>0</th>\n",
       "      <td>N11_7_-7.699554</td>\n",
       "      <td>MSKGEELFTGVVPILVELDGDVNGHKFSVSGEGEGDATYGKLTLKF...</td>\n",
       "    </tr>\n",
       "    <tr>\n",
       "      <th>1</th>\n",
       "      <td>N1_8_-9.972933__N11_8_-7.828874</td>\n",
       "      <td>MSKGEELFTGVVPILVELDGDVNGHKFSVSGEGEGDATYGKLTLKF...</td>\n",
       "    </tr>\n",
       "    <tr>\n",
       "      <th>2</th>\n",
       "      <td>N11_6_-6.641509</td>\n",
       "      <td>MSKGEELFTGVVPILVELDGDVNGHKFSVSGEGEGDATYGKLTLKF...</td>\n",
       "    </tr>\n",
       "    <tr>\n",
       "      <th>3</th>\n",
       "      <td>N1_2_-5.751725</td>\n",
       "      <td>MSKGEELFTGVVPILVELDGDVNGHKFSVSGEGEGDATYGKLTLKF...</td>\n",
       "    </tr>\n",
       "    <tr>\n",
       "      <th>4</th>\n",
       "      <td>N1_4_-6.833884__N11_1_-0.180372</td>\n",
       "      <td>MSKGEELFTGVVPILVELDGDVNGHKFSVSGEGEGDATYGKLTLKF...</td>\n",
       "    </tr>\n",
       "  </tbody>\n",
       "</table>\n",
       "</div>"
      ],
      "text/plain": [
       "                                id  \\\n",
       "0                  N11_7_-7.699554   \n",
       "1  N1_8_-9.972933__N11_8_-7.828874   \n",
       "2                  N11_6_-6.641509   \n",
       "3                   N1_2_-5.751725   \n",
       "4  N1_4_-6.833884__N11_1_-0.180372   \n",
       "\n",
       "                                                 seq  \n",
       "0  MSKGEELFTGVVPILVELDGDVNGHKFSVSGEGEGDATYGKLTLKF...  \n",
       "1  MSKGEELFTGVVPILVELDGDVNGHKFSVSGEGEGDATYGKLTLKF...  \n",
       "2  MSKGEELFTGVVPILVELDGDVNGHKFSVSGEGEGDATYGKLTLKF...  \n",
       "3  MSKGEELFTGVVPILVELDGDVNGHKFSVSGEGEGDATYGKLTLKF...  \n",
       "4  MSKGEELFTGVVPILVELDGDVNGHKFSVSGEGEGDATYGKLTLKF...  "
      ]
     },
     "execution_count": 24,
     "metadata": {},
     "output_type": "execute_result"
    }
   ],
   "source": [
    "df = pd.DataFrame()\n",
    "df['id'] = nr_asr_seq_names\n",
    "df['seq'] = nr_asr_seqs\n",
    "\n",
    "df.head()"
   ]
  },
  {
   "cell_type": "code",
   "execution_count": 25,
   "metadata": {
    "collapsed": true
   },
   "outputs": [],
   "source": [
    "df.to_csv('GFP_FastML_N1_N11_ASR_seqs.csv', index=False)"
   ]
  }
 ],
 "metadata": {
  "kernelspec": {
   "display_name": "Python 3",
   "language": "python",
   "name": "python3"
  },
  "language_info": {
   "codemirror_mode": {
    "name": "ipython",
    "version": 3
   },
   "file_extension": ".py",
   "mimetype": "text/x-python",
   "name": "python",
   "nbconvert_exporter": "python",
   "pygments_lexer": "ipython3",
   "version": "3.5.2"
  }
 },
 "nbformat": 4,
 "nbformat_minor": 2
}
