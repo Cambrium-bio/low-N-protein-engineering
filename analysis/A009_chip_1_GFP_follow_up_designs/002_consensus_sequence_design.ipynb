{
 "cells": [
  {
   "cell_type": "markdown",
   "metadata": {},
   "source": [
    "# Perform consensus sequence design\n",
    "\n",
    "For results presented in Fig 2c"
   ]
  },
  {
   "cell_type": "code",
   "execution_count": 1,
   "metadata": {
    "collapsed": true
   },
   "outputs": [],
   "source": [
    "import os\n",
    "import sys\n",
    "import pickle\n",
    "import copy\n",
    "import random\n",
    "\n",
    "from Bio import SeqIO\n",
    "import numpy as np\n",
    "import pandas as pd\n",
    "import matplotlib.pyplot as plt\n",
    "import matplotlib as mpl\n",
    "import tensorflow as tf\n",
    "\n",
    "from sklearn.manifold import MDS\n",
    "from sklearn.decomposition import PCA\n",
    "\n",
    "sys.path.append('../common')\n",
    "import data_io_utils\n",
    "import paths\n",
    "import constants\n",
    "import utils\n",
    "\n",
    "import A009_common\n",
    "\n",
    "%reload_ext autoreload\n",
    "%autoreload 2"
   ]
  },
  {
   "cell_type": "code",
   "execution_count": 2,
   "metadata": {
    "collapsed": true
   },
   "outputs": [],
   "source": [
    "parent_names, parent_seqs = A009_common.fasta_read(\n",
    "    '20181110_filtered_FPBase_Aequorea_FPs_candidates_for_synthesis_alignment_training_homologs_only.fasta')"
   ]
  },
  {
   "cell_type": "code",
   "execution_count": 3,
   "metadata": {},
   "outputs": [
    {
     "data": {
      "text/plain": [
       "(54, 20, 238)"
      ]
     },
     "execution_count": 3,
     "metadata": {},
     "output_type": "execute_result"
    }
   ],
   "source": [
    "enc_parent_seqs = np.stack([utils.encode_aa_seq_as_one_hot(s, flatten=False) for s in parent_seqs])\n",
    "enc_parent_seqs.shape"
   ]
  },
  {
   "cell_type": "code",
   "execution_count": 4,
   "metadata": {},
   "outputs": [
    {
     "name": "stdout",
     "output_type": "stream",
     "text": [
      "(20, 238)\n"
     ]
    }
   ],
   "source": [
    "parent_pwm = np.mean(enc_parent_seqs, axis=0)\n",
    "print(parent_pwm.shape)"
   ]
  },
  {
   "cell_type": "code",
   "execution_count": 5,
   "metadata": {},
   "outputs": [
    {
     "data": {
      "image/png": "[encoded data removed]",
      "text/plain": [
       "<matplotlib.figure.Figure at 0x7f8c63c76160>"
      ]
     },
     "metadata": {},
     "output_type": "display_data"
    }
   ],
   "source": [
    "plt.figure(figsize=(18,4))\n",
    "plt.imshow(parent_pwm, aspect='auto')\n",
    "plt.colorbar()\n",
    "plt.yticks(np.arange(len(constants.AA_ALPHABET_STANDARD_ORDER)))\n",
    "plt.gca().set_yticklabels(list(constants.AA_ALPHABET_STANDARD_ORDER))\n",
    "plt.axvline(64, color='r')\n",
    "plt.show()"
   ]
  },
  {
   "cell_type": "markdown",
   "metadata": {},
   "source": [
    "## Effective number of sequences"
   ]
  },
  {
   "cell_type": "code",
   "execution_count": 6,
   "metadata": {},
   "outputs": [
    {
     "name": "stdout",
     "output_type": "stream",
     "text": [
      "366.051405594624\n"
     ]
    },
    {
     "name": "stderr",
     "output_type": "stream",
     "text": [
      "/usr/local/lib/python3.5/dist-packages/ipykernel_launcher.py:1: RuntimeWarning: divide by zero encountered in log\n",
      "  \"\"\"Entry point for launching an IPython kernel.\n",
      "/usr/local/lib/python3.5/dist-packages/ipykernel_launcher.py:1: RuntimeWarning: invalid value encountered in multiply\n",
      "  \"\"\"Entry point for launching an IPython kernel.\n"
     ]
    }
   ],
   "source": [
    "effective_aa = np.exp(-np.nansum(parent_pwm*np.log(parent_pwm), axis=0))\n",
    "print(np.prod(effective_aa)/(10**12))"
   ]
  },
  {
   "cell_type": "markdown",
   "metadata": {},
   "source": [
    "366 trillion effective sequences."
   ]
  },
  {
   "cell_type": "markdown",
   "metadata": {},
   "source": [
    "## Generate a bunch of sequences and then take the ones with the best log-likelihoods.\n",
    "\n",
    "We will do this with a metropolis hastings sampler to enrich for high probability sequences under our PWM."
   ]
  },
  {
   "cell_type": "code",
   "execution_count": 7,
   "metadata": {
    "collapsed": true
   },
   "outputs": [],
   "source": [
    "def sample_random_seq_from_pwm(pwm):\n",
    "    alphabet = list(constants.AA_ALPHABET_STANDARD_ORDER)\n",
    "    aa_idx = np.array([np.random.choice(len(alphabet), 1, p=pwm[:,i].reshape(-1))[0] for i in range(pwm.shape[1])])\n",
    "\n",
    "    seq = ''.join(list(np.array(alphabet)[aa_idx]))\n",
    "    log_like = np.sum(np.log(pwm[aa_idx, np.arange(pwm.shape[1])]))\n",
    "    \n",
    "    return seq, log_like\n",
    "\n",
    "def decode_top_seq(pwm):\n",
    "    alp_arr = np.array(list(constants.AA_ALPHABET_STANDARD_ORDER))\n",
    "\n",
    "    # Get sequence\n",
    "    top_idx = np.argmax(pwm, axis=0)\n",
    "    top_seq = ''.join(list(alp_arr[top_idx]))\n",
    "\n",
    "    # Get log-likelihood\n",
    "    col_idx = np.arange(pwm.shape[1])\n",
    "    log_like = np.sum(np.log(pwm[top_idx, col_idx]))\n",
    "\n",
    "    return top_seq, log_like, top_idx\n",
    "\n",
    "def calc_seq_log_like(seq, pwm):\n",
    "    aa_idx = utils.encode_seq_as_integer_array(seq).reshape(-1).astype(int)\n",
    "    log_like = np.sum(np.log(pwm[aa_idx, np.arange(pwm.shape[1])]))\n",
    "    \n",
    "    return log_like\n",
    "\n",
    "def make_mutation(seq, pwm, mutable_pos, effective_aa, pos_temp=1.0):\n",
    "    current_aa_idx = utils.encode_seq_as_integer_array(seq).reshape(-1).astype(int)\n",
    "\n",
    "    # Choose a position. Preferably one with a large number of effective amino acids\n",
    "    # as mutating here should not generate large penalties in log-likelihood.\n",
    "    eff_aa_at_mutable_pos = effective_aa[mutable_pos]\n",
    "    pos_prob = np.exp(pos_temp*eff_aa_at_mutable_pos)\n",
    "    pos_prob = pos_prob/np.sum(pos_prob)\n",
    "    pos = np.random.choice(mutable_pos, 1, p=pos_prob)[0]\n",
    "    \n",
    "    # Choose an amino acid that is NOT the one we are currently\n",
    "    # at.\n",
    "    prob_vec = copy.deepcopy(pwm[:, pos]).reshape(-1)\n",
    "    prob_vec[current_aa_idx[pos]] = 0\n",
    "    prob_vec = prob_vec/np.sum(prob_vec)\n",
    "    mut_aa = np.random.choice(list(constants.AA_ALPHABET_STANDARD_ORDER), 1, p=prob_vec)[0]\n",
    "\n",
    "    new_seq = seq[:pos] + mut_aa + seq[(pos+1):]\n",
    "\n",
    "    return new_seq\n",
    "    \n",
    "    \n",
    "\n",
    "def metropolis_hastings_seq_sampler(init_seq, pwm, n_iter=1000, pos_temp=1.0):\n",
    "    pwm = copy.deepcopy(pwm)\n",
    "    seq = copy.deepcopy(init_seq)\n",
    "    \n",
    "    effective_aa = np.exp(-np.nansum(pwm*np.log(pwm), axis=0))\n",
    "    mutable_pos = np.argwhere(effective_aa > 1.0).reshape(-1)\n",
    "    log_like = calc_seq_log_like(seq, pwm)\n",
    "    \n",
    "    seqs = [seq]\n",
    "    log_likes = [log_like]\n",
    "    accepts = [True]\n",
    "    for i in range(n_iter):\n",
    "        proposed_seq = make_mutation(seq, pwm, mutable_pos, \n",
    "                effective_aa, pos_temp=pos_temp)\n",
    "        proposed_log_like = calc_seq_log_like(proposed_seq, pwm)\n",
    "        \n",
    "        hastings_ratio = min(1.0, np.exp(proposed_log_like - log_like))\n",
    "        \n",
    "        if np.random.rand() < hastings_ratio: # accept\n",
    "            seq = proposed_seq\n",
    "            log_like = proposed_log_like\n",
    "            accepts.append(True)\n",
    "        else:\n",
    "            accepts.append(False)\n",
    "            \n",
    "        seqs.append(seq)\n",
    "        log_likes.append(log_like)\n",
    "        \n",
    "    return seqs, np.array(log_likes), np.array(accepts)\n",
    "        \n",
    "            \n",
    "def extract_top_seqs_from_trajectory(seqs, log_likes, n):\n",
    "    sdict = {seqs[i]: log_likes[i] for i in range(len(seqs))}\n",
    "        \n",
    "    useqs = list(sdict.keys())\n",
    "    ull = np.array([sdict[s] for s in useqs])\n",
    "\n",
    "    sidx = np.argsort(-ull)\n",
    "\n",
    "    top_useqs = list(np.array(useqs)[sidx][:n])\n",
    "    top_ull = ull[sidx][:n]\n",
    "    \n",
    "    return top_useqs, top_ull\n",
    "    "
   ]
  },
  {
   "cell_type": "code",
   "execution_count": 8,
   "metadata": {
    "collapsed": true
   },
   "outputs": [],
   "source": [
    "top_seq, top_log_like, top_aa_idx = decode_top_seq(parent_pwm)"
   ]
  },
  {
   "cell_type": "markdown",
   "metadata": {},
   "source": [
    "## Sample consensus designs using metropolis-hastings sampling"
   ]
  },
  {
   "cell_type": "code",
   "execution_count": 9,
   "metadata": {},
   "outputs": [
    {
     "name": "stderr",
     "output_type": "stream",
     "text": [
      "/usr/local/lib/python3.5/dist-packages/ipykernel_launcher.py:56: RuntimeWarning: divide by zero encountered in log\n",
      "/usr/local/lib/python3.5/dist-packages/ipykernel_launcher.py:56: RuntimeWarning: invalid value encountered in multiply\n"
     ]
    },
    {
     "name": "stdout",
     "output_type": "stream",
     "text": [
      "0.24945835138828706\n",
      "0.4782840571980934\n",
      "0.5692143595213492\n",
      "0.24355854804839838\n",
      "0.4749508349721676\n",
      "0.5757474750841639\n"
     ]
    }
   ],
   "source": [
    "np.random.seed(1)\n",
    "random.seed(1)\n",
    "\n",
    "init_seqs = [top_seq, constants.AVGFP_AA_SEQ]\n",
    "pos_temps = [1.0, 2.5, 5.0]\n",
    "\n",
    "top_traj_seqs = []\n",
    "top_traj_log_likes = []\n",
    "for init_seq in init_seqs:\n",
    "    for pos_temp in pos_temps:\n",
    "        \n",
    "        seqs, log_likes, accepts = metropolis_hastings_seq_sampler(init_seq, \n",
    "                parent_pwm, n_iter=30000, pos_temp=pos_temp)\n",
    "        \n",
    "        tts, ttll = extract_top_seqs_from_trajectory(seqs, log_likes, 100)\n",
    "        \n",
    "        print(np.mean(accepts))\n",
    "        \n",
    "        top_traj_seqs += tts\n",
    "        top_traj_log_likes += list(ttll)"
   ]
  },
  {
   "cell_type": "code",
   "execution_count": 10,
   "metadata": {},
   "outputs": [
    {
     "name": "stdout",
     "output_type": "stream",
     "text": [
      "600\n",
      "600\n"
     ]
    }
   ],
   "source": [
    "print(len(top_traj_seqs))\n",
    "print(len(top_traj_log_likes))"
   ]
  },
  {
   "cell_type": "markdown",
   "metadata": {},
   "source": [
    "Do meta-extraction of top sequences."
   ]
  },
  {
   "cell_type": "code",
   "execution_count": 11,
   "metadata": {
    "collapsed": true
   },
   "outputs": [],
   "source": [
    "final_top_traj_seqs, final_top_traj_log_likes = extract_top_seqs_from_trajectory(\n",
    "        top_traj_seqs, top_traj_log_likes, 50)"
   ]
  },
  {
   "cell_type": "code",
   "execution_count": 12,
   "metadata": {},
   "outputs": [
    {
     "data": {
      "image/png": "[encoded data removed]",
      "text/plain": [
       "<matplotlib.figure.Figure at 0x7f8c61b34b00>"
      ]
     },
     "metadata": {},
     "output_type": "display_data"
    }
   ],
   "source": [
    "plt.hist(final_top_traj_log_likes, bins=10)\n",
    "plt.axvline(top_log_like, color='r')\n",
    "plt.show()"
   ]
  },
  {
   "cell_type": "markdown",
   "metadata": {},
   "source": [
    "## Export"
   ]
  },
  {
   "cell_type": "code",
   "execution_count": 13,
   "metadata": {
    "collapsed": true
   },
   "outputs": [],
   "source": [
    "final_seqs = [top_seq] + final_top_traj_seqs\n",
    "final_log_likes = np.array([top_log_like] + list(final_top_traj_log_likes))\n",
    "ids = ['top_consensus_seq'] + ['sampled_consensus_seq_%d'%i for i in range(len(final_top_traj_seqs))]"
   ]
  },
  {
   "cell_type": "markdown",
   "metadata": {},
   "source": [
    "Do a quick double check"
   ]
  },
  {
   "cell_type": "code",
   "execution_count": 14,
   "metadata": {
    "collapsed": true
   },
   "outputs": [],
   "source": [
    "for i,s in enumerate(final_seqs):\n",
    "    assert calc_seq_log_like(s, parent_pwm) == final_log_likes[i]"
   ]
  },
  {
   "cell_type": "code",
   "execution_count": 15,
   "metadata": {},
   "outputs": [
    {
     "data": {
      "text/html": [
       "<div>\n",
       "<style scoped>\n",
       "    .dataframe tbody tr th:only-of-type {\n",
       "        vertical-align: middle;\n",
       "    }\n",
       "\n",
       "    .dataframe tbody tr th {\n",
       "        vertical-align: top;\n",
       "    }\n",
       "\n",
       "    .dataframe thead th {\n",
       "        text-align: right;\n",
       "    }\n",
       "</style>\n",
       "<table border=\"1\" class=\"dataframe\">\n",
       "  <thead>\n",
       "    <tr style=\"text-align: right;\">\n",
       "      <th></th>\n",
       "      <th>id</th>\n",
       "      <th>seq</th>\n",
       "      <th>log_likelihood</th>\n",
       "    </tr>\n",
       "  </thead>\n",
       "  <tbody>\n",
       "    <tr>\n",
       "      <th>0</th>\n",
       "      <td>top_consensus_seq</td>\n",
       "      <td>MSKGEELFTGVVPILVELDGDVNGHKFSVSGEGEGDATYGKLTLKF...</td>\n",
       "      <td>-12.190691</td>\n",
       "    </tr>\n",
       "    <tr>\n",
       "      <th>1</th>\n",
       "      <td>sampled_consensus_seq_0</td>\n",
       "      <td>MSKGEELFTGVVPILVELDGDVNGHKFSVSGEGEGDATYGKLTLKF...</td>\n",
       "      <td>-12.190691</td>\n",
       "    </tr>\n",
       "    <tr>\n",
       "      <th>3</th>\n",
       "      <td>sampled_consensus_seq_2</td>\n",
       "      <td>MSKGEELFTGVVPILVELDGDVNGHKFSVSGEGEGDATYGKLTLKF...</td>\n",
       "      <td>-12.304020</td>\n",
       "    </tr>\n",
       "    <tr>\n",
       "      <th>4</th>\n",
       "      <td>sampled_consensus_seq_3</td>\n",
       "      <td>MSKGEELFTGVVPILVELDGDVNGHKFSVSGEGEGDATYGKLTLKF...</td>\n",
       "      <td>-12.304020</td>\n",
       "    </tr>\n",
       "    <tr>\n",
       "      <th>5</th>\n",
       "      <td>sampled_consensus_seq_4</td>\n",
       "      <td>MSKGEELFTGVVPILVELDGDVNGHKFSVSGEGEGDATYGKLTLKF...</td>\n",
       "      <td>-12.500846</td>\n",
       "    </tr>\n",
       "  </tbody>\n",
       "</table>\n",
       "</div>"
      ],
      "text/plain": [
       "                        id                                                seq  \\\n",
       "0        top_consensus_seq  MSKGEELFTGVVPILVELDGDVNGHKFSVSGEGEGDATYGKLTLKF...   \n",
       "1  sampled_consensus_seq_0  MSKGEELFTGVVPILVELDGDVNGHKFSVSGEGEGDATYGKLTLKF...   \n",
       "3  sampled_consensus_seq_2  MSKGEELFTGVVPILVELDGDVNGHKFSVSGEGEGDATYGKLTLKF...   \n",
       "4  sampled_consensus_seq_3  MSKGEELFTGVVPILVELDGDVNGHKFSVSGEGEGDATYGKLTLKF...   \n",
       "5  sampled_consensus_seq_4  MSKGEELFTGVVPILVELDGDVNGHKFSVSGEGEGDATYGKLTLKF...   \n",
       "\n",
       "   log_likelihood  \n",
       "0      -12.190691  \n",
       "1      -12.190691  \n",
       "3      -12.304020  \n",
       "4      -12.304020  \n",
       "5      -12.500846  "
      ]
     },
     "execution_count": 15,
     "metadata": {},
     "output_type": "execute_result"
    }
   ],
   "source": [
    "df = pd.DataFrame()\n",
    "df['id'] = ids\n",
    "df['seq'] = final_seqs\n",
    "df['log_likelihood'] = final_log_likes\n",
    "\n",
    "df.drop_duplicates(subset='seq', keep='first', inplace=True)\n",
    "\n",
    "df.head()"
   ]
  },
  {
   "cell_type": "code",
   "execution_count": 16,
   "metadata": {
    "collapsed": true
   },
   "outputs": [],
   "source": [
    "df.to_csv('GFP_consensus_seqs.csv', index=False)"
   ]
  }
 ],
 "metadata": {
  "kernelspec": {
   "display_name": "Python 3",
   "language": "python",
   "name": "python3"
  },
  "language_info": {
   "codemirror_mode": {
    "name": "ipython",
    "version": 3
   },
   "file_extension": ".py",
   "mimetype": "text/x-python",
   "name": "python",
   "nbconvert_exporter": "python",
   "pygments_lexer": "ipython3",
   "version": "3.5.2"
  }
 },
 "nbformat": 4,
 "nbformat_minor": 2
}
