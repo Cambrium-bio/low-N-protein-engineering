{
 "cells": [
  {
   "cell_type": "markdown",
   "metadata": {},
   "source": [
    "## Make 2D embedding of existing, ASR, consensus, and eUniRep designed sequences\n",
    "\n",
    "Figure 2d"
   ]
  },
  {
   "cell_type": "code",
   "execution_count": 1,
   "metadata": {},
   "outputs": [
    {
     "name": "stdout",
     "output_type": "stream",
     "text": [
      "\u001b[33mDEPRECATION: Python 3.5 reached the end of its life on September 13th, 2020. Please upgrade your Python as Python 3.5 is no longer maintained. pip 21.0 will drop support for Python 3.5 in January 2021. pip 21.0 will remove support for this functionality.\u001b[0m\n",
      "Requirement already satisfied: pip in /usr/local/lib/python3.5/dist-packages (20.3.4)\n",
      "Collecting pip\n",
      "  Using cached pip-20.3.4-py2.py3-none-any.whl (1.5 MB)\n",
      "  Downloading pip-20.3.3-py2.py3-none-any.whl (1.5 MB)\n",
      "\u001b[K     |################################| 1.5 MB 17.7 MB/s eta 0:00:01\n",
      "\u001b[?25h\u001b[33mDEPRECATION: Python 3.5 reached the end of its life on September 13th, 2020. Please upgrade your Python as Python 3.5 is no longer maintained. pip 21.0 will drop support for Python 3.5 in January 2021. pip 21.0 will remove support for this functionality.\u001b[0m\n",
      "Requirement already satisfied: matplotlib in /usr/local/lib/python3.5/dist-packages (2.0.2)\n",
      "Collecting matplotlib\n",
      "  Downloading matplotlib-3.0.3-cp35-cp35m-manylinux1_x86_64.whl (13.0 MB)\n",
      "\u001b[K     |################################| 13.0 MB 19.9 MB/s eta 0:00:01\n",
      "\u001b[?25hRequirement already satisfied: cycler>=0.10 in /usr/local/lib/python3.5/dist-packages (from matplotlib) (0.10.0)\n",
      "Requirement already satisfied: pyparsing!=2.0.4,!=2.1.2,!=2.1.6,>=2.0.1 in /usr/local/lib/python3.5/dist-packages (from matplotlib) (2.2.0)\n",
      "Collecting kiwisolver>=1.0.1\n",
      "  Downloading kiwisolver-1.1.0-cp35-cp35m-manylinux1_x86_64.whl (90 kB)\n",
      "\u001b[K     |################################| 90 kB 13.6 MB/s eta 0:00:01\n",
      "\u001b[?25hRequirement already satisfied: python-dateutil>=2.1 in /usr/local/lib/python3.5/dist-packages (from matplotlib) (2.6.1)\n",
      "Requirement already satisfied: numpy>=1.10.0 in /usr/local/lib/python3.5/dist-packages (from matplotlib) (1.15.4)\n",
      "Requirement already satisfied: six in /usr/local/lib/python3.5/dist-packages (from cycler>=0.10->matplotlib) (1.10.0)\n",
      "Requirement already satisfied: setuptools in /usr/local/lib/python3.5/dist-packages (from kiwisolver>=1.0.1->matplotlib) (36.2.7)\n",
      "Installing collected packages: kiwisolver, matplotlib\n",
      "  Attempting uninstall: matplotlib\n",
      "    Found existing installation: matplotlib 2.0.2\n",
      "    Uninstalling matplotlib-2.0.2:\n",
      "      Successfully uninstalled matplotlib-2.0.2\n",
      "Successfully installed kiwisolver-1.1.0 matplotlib-3.0.3\n"
     ]
    }
   ],
   "source": [
    "!pip install --upgrade pip\n",
    "!pip install --upgrade matplotlib"
   ]
  },
  {
   "cell_type": "code",
   "execution_count": 2,
   "metadata": {
    "collapsed": true
   },
   "outputs": [],
   "source": [
    "import os\n",
    "import sys\n",
    "import pickle\n",
    "\n",
    "import numpy as np\n",
    "import pandas as pd\n",
    "import matplotlib.pyplot as plt\n",
    "import matplotlib as mpl\n",
    "import tensorflow as tf\n",
    "import seaborn as sns\n",
    "\n",
    "import sklearn\n",
    "from sklearn.decomposition import PCA\n",
    "from sklearn.manifold import MDS, TSNE\n",
    "\n",
    "sys.path.append('../common')\n",
    "import data_io_utils\n",
    "import paths\n",
    "import constants\n",
    "import utils\n",
    "import plot_style_utils\n",
    "\n",
    "sys.path.append('../A006_simulated_annealing/')\n",
    "import A006_common\n",
    "\n",
    "import A009_common\n",
    "\n",
    "%reload_ext autoreload\n",
    "%autoreload 2"
   ]
  },
  {
   "cell_type": "code",
   "execution_count": 3,
   "metadata": {},
   "outputs": [
    {
     "data": {
      "text/html": [
       "<div>\n",
       "<style scoped>\n",
       "    .dataframe tbody tr th:only-of-type {\n",
       "        vertical-align: middle;\n",
       "    }\n",
       "\n",
       "    .dataframe tbody tr th {\n",
       "        vertical-align: top;\n",
       "    }\n",
       "\n",
       "    .dataframe thead th {\n",
       "        text-align: right;\n",
       "    }\n",
       "</style>\n",
       "<table border=\"1\" class=\"dataframe\">\n",
       "  <thead>\n",
       "    <tr style=\"text-align: right;\">\n",
       "      <th></th>\n",
       "      <th>id</th>\n",
       "      <th>seq</th>\n",
       "      <th>annotation</th>\n",
       "    </tr>\n",
       "  </thead>\n",
       "  <tbody>\n",
       "    <tr>\n",
       "      <th>0</th>\n",
       "      <td>Topaz</td>\n",
       "      <td>MSKGEELFTGVVPILVELDGDVNGHKFSVSGEGEGDATYGKLTLKF...</td>\n",
       "      <td>existing_FP</td>\n",
       "    </tr>\n",
       "    <tr>\n",
       "      <th>1</th>\n",
       "      <td>T-Sapphire</td>\n",
       "      <td>MSKGEELFTGVVPILVELDGDVNGHKFSVSGEGEGDATYGKLTLKF...</td>\n",
       "      <td>existing_FP</td>\n",
       "    </tr>\n",
       "    <tr>\n",
       "      <th>2</th>\n",
       "      <td>H9</td>\n",
       "      <td>MSKGEELFTGVVPILVELDGDVNGHKFSVSGEGEGDATYGKLTLKF...</td>\n",
       "      <td>existing_FP</td>\n",
       "    </tr>\n",
       "    <tr>\n",
       "      <th>3</th>\n",
       "      <td>D10</td>\n",
       "      <td>MSKGEELFTGVVPILVELDGDVNGHKFSVSGEGEGDATYGKLTLKF...</td>\n",
       "      <td>existing_FP</td>\n",
       "    </tr>\n",
       "    <tr>\n",
       "      <th>4</th>\n",
       "      <td>mCitrine</td>\n",
       "      <td>MSKGEELFTGVVPILVELDGDVNGHKFSVSGEGEGDATYGKLTLKF...</td>\n",
       "      <td>existing_FP</td>\n",
       "    </tr>\n",
       "  </tbody>\n",
       "</table>\n",
       "</div>"
      ],
      "text/plain": [
       "           id                                                seq   annotation\n",
       "0       Topaz  MSKGEELFTGVVPILVELDGDVNGHKFSVSGEGEGDATYGKLTLKF...  existing_FP\n",
       "1  T-Sapphire  MSKGEELFTGVVPILVELDGDVNGHKFSVSGEGEGDATYGKLTLKF...  existing_FP\n",
       "2          H9  MSKGEELFTGVVPILVELDGDVNGHKFSVSGEGEGDATYGKLTLKF...  existing_FP\n",
       "3         D10  MSKGEELFTGVVPILVELDGDVNGHKFSVSGEGEGDATYGKLTLKF...  existing_FP\n",
       "4    mCitrine  MSKGEELFTGVVPILVELDGDVNGHKFSVSGEGEGDATYGKLTLKF...  existing_FP"
      ]
     },
     "metadata": {},
     "output_type": "display_data"
    }
   ],
   "source": [
    "test_parents = ['GFPhal', 'muGFP', 'hfriFP', 'TagGFP2', 'GFPxm191uv',\n",
    "'Superfolder_GFP', 'Folding_Reporter_GFP', 'Ypet', 'TagYFP',\n",
    "'Clover', 'mClover3', 'Citrine', 'mEmerald', 'mVenus',\n",
    "'J8VIQ3_9SPHN', 'sfGFP_internal']\n",
    "\n",
    "parent_names, parent_seqs = A009_common.fasta_read(\n",
    "    './20181110_filtered_FPBase_Aequorea_FPs_candidates_for_synthesis_alignment.fasta')\n",
    "\n",
    "test_parent_names = []\n",
    "test_parent_seqs = []\n",
    "for i in range(len(parent_names)):\n",
    "    if parent_names[i] in test_parents:\n",
    "        test_parent_names.append(parent_names[i])\n",
    "        test_parent_seqs.append(parent_seqs[i])\n",
    "\n",
    "parent_df = pd.DataFrame()\n",
    "parent_df['id'] = parent_names\n",
    "parent_df['seq'] = parent_seqs\n",
    "parent_df['annotation'] = 'existing_FP'\n",
    "\n",
    "display(parent_df.head())"
   ]
  },
  {
   "cell_type": "code",
   "execution_count": 4,
   "metadata": {
    "collapsed": true
   },
   "outputs": [],
   "source": [
    "assert set(test_parent_names) == set(test_parents)"
   ]
  },
  {
   "cell_type": "code",
   "execution_count": 5,
   "metadata": {},
   "outputs": [
    {
     "name": "stdout",
     "output_type": "stream",
     "text": [
      "(77, 17)\n",
      "(80, 2)\n"
     ]
    },
    {
     "data": {
      "text/html": [
       "<div>\n",
       "<style scoped>\n",
       "    .dataframe tbody tr th:only-of-type {\n",
       "        vertical-align: middle;\n",
       "    }\n",
       "\n",
       "    .dataframe tbody tr th {\n",
       "        vertical-align: top;\n",
       "    }\n",
       "\n",
       "    .dataframe thead th {\n",
       "        text-align: right;\n",
       "    }\n",
       "</style>\n",
       "<table border=\"1\" class=\"dataframe\">\n",
       "  <thead>\n",
       "    <tr style=\"text-align: right;\">\n",
       "      <th></th>\n",
       "      <th>id</th>\n",
       "      <th>seq</th>\n",
       "    </tr>\n",
       "  </thead>\n",
       "  <tbody>\n",
       "    <tr>\n",
       "      <th>0</th>\n",
       "      <td>GFP_SimAnneal-ET_Random_Init_1-0024-02-1d0c486...</td>\n",
       "      <td>MSKGEELFTGVVPILVELDGDVNGHKFSVSGEGEGDATYGCLTLKF...</td>\n",
       "    </tr>\n",
       "    <tr>\n",
       "      <th>1</th>\n",
       "      <td>GFP_SimAnneal-ET_Global_Init_1-0024-01-3a0e3d4...</td>\n",
       "      <td>MSKGEELFTGVVPILVELDGDVNGHKFSVSGEGEGDATIGKLTLKF...</td>\n",
       "    </tr>\n",
       "    <tr>\n",
       "      <th>2</th>\n",
       "      <td>GFP_SimAnneal-ET_Global_Init_1-0024-01-3a0e3d4...</td>\n",
       "      <td>MSKGEELFTGVVPILVELDGDVNGHKFSVSGEGEGDATHGKLTIKF...</td>\n",
       "    </tr>\n",
       "    <tr>\n",
       "      <th>3</th>\n",
       "      <td>GFP_SimAnneal-ET_Global_Init_1-0024-03-3764e94...</td>\n",
       "      <td>MSKGEELFTGVVPILVELDGDVNGHKFSVSGEGEGDATYGKLTLKF...</td>\n",
       "    </tr>\n",
       "    <tr>\n",
       "      <th>4</th>\n",
       "      <td>GFP_SimAnneal-ET_Global_Init_1-0024-04-4502d3-...</td>\n",
       "      <td>MSKGEELFTGVVPILVELDGDVNGHKFSVSGEGEGDATYGKLSLKF...</td>\n",
       "    </tr>\n",
       "  </tbody>\n",
       "</table>\n",
       "</div>"
      ],
      "text/plain": [
       "                                                  id  \\\n",
       "0  GFP_SimAnneal-ET_Random_Init_1-0024-02-1d0c486...   \n",
       "1  GFP_SimAnneal-ET_Global_Init_1-0024-01-3a0e3d4...   \n",
       "2  GFP_SimAnneal-ET_Global_Init_1-0024-01-3a0e3d4...   \n",
       "3  GFP_SimAnneal-ET_Global_Init_1-0024-03-3764e94...   \n",
       "4  GFP_SimAnneal-ET_Global_Init_1-0024-04-4502d3-...   \n",
       "\n",
       "                                                 seq  \n",
       "0  MSKGEELFTGVVPILVELDGDVNGHKFSVSGEGEGDATYGCLTLKF...  \n",
       "1  MSKGEELFTGVVPILVELDGDVNGHKFSVSGEGEGDATIGKLTLKF...  \n",
       "2  MSKGEELFTGVVPILVELDGDVNGHKFSVSGEGEGDATHGKLTIKF...  \n",
       "3  MSKGEELFTGVVPILVELDGDVNGHKFSVSGEGEGDATYGKLTLKF...  \n",
       "4  MSKGEELFTGVVPILVELDGDVNGHKFSVSGEGEGDATYGKLSLKF...  "
      ]
     },
     "metadata": {},
     "output_type": "display_data"
    }
   ],
   "source": [
    "md_df = pd.read_csv('A009d_metadata_platemap_merged.csv', index_col=0)\n",
    "md_df.rename(columns={'Well Location': 'well'}, inplace=True)\n",
    "print(md_df.shape) # metadata\n",
    "\n",
    "flow_df = pd.read_csv('A009e_post_chip_1_gfp_colony_pick_flow.csv')\n",
    "\n",
    "\n",
    "FLOW_COLS_TO_KEEP = ['id', 'seq']\n",
    "\n",
    "flow_df = flow_df.merge(md_df, on='well', how='left')\n",
    "flow_df = flow_df[FLOW_COLS_TO_KEEP]\n",
    "\n",
    "print(flow_df.shape)\n",
    "display(flow_df.head())"
   ]
  },
  {
   "cell_type": "markdown",
   "metadata": {},
   "source": [
    "Add an annotation column to the df containing variants we flowed manually."
   ]
  },
  {
   "cell_type": "code",
   "execution_count": 6,
   "metadata": {},
   "outputs": [
    {
     "name": "stdout",
     "output_type": "stream",
     "text": [
      "(71, 3)\n"
     ]
    },
    {
     "data": {
      "text/html": [
       "<div>\n",
       "<style scoped>\n",
       "    .dataframe tbody tr th:only-of-type {\n",
       "        vertical-align: middle;\n",
       "    }\n",
       "\n",
       "    .dataframe tbody tr th {\n",
       "        vertical-align: top;\n",
       "    }\n",
       "\n",
       "    .dataframe thead th {\n",
       "        text-align: right;\n",
       "    }\n",
       "</style>\n",
       "<table border=\"1\" class=\"dataframe\">\n",
       "  <thead>\n",
       "    <tr style=\"text-align: right;\">\n",
       "      <th></th>\n",
       "      <th>id</th>\n",
       "      <th>seq</th>\n",
       "      <th>annotation</th>\n",
       "    </tr>\n",
       "  </thead>\n",
       "  <tbody>\n",
       "    <tr>\n",
       "      <th>0</th>\n",
       "      <td>GFP_SimAnneal-ET_Random_Init_1-0024-02-1d0c486...</td>\n",
       "      <td>MSKGEELFTGVVPILVELDGDVNGHKFSVSGEGEGDATYGCLTLKF...</td>\n",
       "      <td>ET Rand Init</td>\n",
       "    </tr>\n",
       "    <tr>\n",
       "      <th>1</th>\n",
       "      <td>GFP_SimAnneal-ET_Global_Init_1-0024-01-3a0e3d4...</td>\n",
       "      <td>MSKGEELFTGVVPILVELDGDVNGHKFSVSGEGEGDATIGKLTLKF...</td>\n",
       "      <td>ET Unirep</td>\n",
       "    </tr>\n",
       "    <tr>\n",
       "      <th>2</th>\n",
       "      <td>GFP_SimAnneal-ET_Global_Init_1-0024-01-3a0e3d4...</td>\n",
       "      <td>MSKGEELFTGVVPILVELDGDVNGHKFSVSGEGEGDATHGKLTIKF...</td>\n",
       "      <td>ET Unirep</td>\n",
       "    </tr>\n",
       "    <tr>\n",
       "      <th>3</th>\n",
       "      <td>GFP_SimAnneal-ET_Global_Init_1-0024-03-3764e94...</td>\n",
       "      <td>MSKGEELFTGVVPILVELDGDVNGHKFSVSGEGEGDATYGKLTLKF...</td>\n",
       "      <td>ET Unirep</td>\n",
       "    </tr>\n",
       "    <tr>\n",
       "      <th>4</th>\n",
       "      <td>GFP_SimAnneal-ET_Global_Init_1-0024-04-4502d3-...</td>\n",
       "      <td>MSKGEELFTGVVPILVELDGDVNGHKFSVSGEGEGDATYGKLSLKF...</td>\n",
       "      <td>ET Unirep</td>\n",
       "    </tr>\n",
       "  </tbody>\n",
       "</table>\n",
       "</div>"
      ],
      "text/plain": [
       "                                                  id  \\\n",
       "0  GFP_SimAnneal-ET_Random_Init_1-0024-02-1d0c486...   \n",
       "1  GFP_SimAnneal-ET_Global_Init_1-0024-01-3a0e3d4...   \n",
       "2  GFP_SimAnneal-ET_Global_Init_1-0024-01-3a0e3d4...   \n",
       "3  GFP_SimAnneal-ET_Global_Init_1-0024-03-3764e94...   \n",
       "4  GFP_SimAnneal-ET_Global_Init_1-0024-04-4502d3-...   \n",
       "\n",
       "                                                 seq    annotation  \n",
       "0  MSKGEELFTGVVPILVELDGDVNGHKFSVSGEGEGDATYGCLTLKF...  ET Rand Init  \n",
       "1  MSKGEELFTGVVPILVELDGDVNGHKFSVSGEGEGDATIGKLTLKF...     ET Unirep  \n",
       "2  MSKGEELFTGVVPILVELDGDVNGHKFSVSGEGEGDATHGKLTIKF...     ET Unirep  \n",
       "3  MSKGEELFTGVVPILVELDGDVNGHKFSVSGEGEGDATYGKLTLKF...     ET Unirep  \n",
       "4  MSKGEELFTGVVPILVELDGDVNGHKFSVSGEGEGDATYGKLSLKF...     ET Unirep  "
      ]
     },
     "metadata": {},
     "output_type": "display_data"
    },
    {
     "data": {
      "text/html": [
       "<div>\n",
       "<style scoped>\n",
       "    .dataframe tbody tr th:only-of-type {\n",
       "        vertical-align: middle;\n",
       "    }\n",
       "\n",
       "    .dataframe tbody tr th {\n",
       "        vertical-align: top;\n",
       "    }\n",
       "\n",
       "    .dataframe thead th {\n",
       "        text-align: right;\n",
       "    }\n",
       "</style>\n",
       "<table border=\"1\" class=\"dataframe\">\n",
       "  <thead>\n",
       "    <tr style=\"text-align: right;\">\n",
       "      <th></th>\n",
       "      <th>id</th>\n",
       "      <th>seq</th>\n",
       "      <th>annotation</th>\n",
       "    </tr>\n",
       "  </thead>\n",
       "  <tbody>\n",
       "    <tr>\n",
       "      <th>74</th>\n",
       "      <td>GFP_SimAnneal-ET_Global_Init_2-0096-01-3d7813d...</td>\n",
       "      <td>MSKGEELFTGVVPILVELDGDVNGHKFSVSGMGEGDATYGKMTLKF...</td>\n",
       "      <td>ET Unirep</td>\n",
       "    </tr>\n",
       "    <tr>\n",
       "      <th>75</th>\n",
       "      <td>GFP_SimAnneal-ET_Global_Init_2-0096-02-1f121a7...</td>\n",
       "      <td>MSKGEELFTGVVPILVELDGDVNGHKFSVSGEGEGDATYGKLNLKF...</td>\n",
       "      <td>ET Unirep</td>\n",
       "    </tr>\n",
       "    <tr>\n",
       "      <th>76</th>\n",
       "      <td>GFP_SimAnneal-ET_Global_Init_1-0096-02-341cf5c...</td>\n",
       "      <td>MSKGEELFTGVVPILVELDGDVNGHKFSVSGEGEGDATFGKLTLKF...</td>\n",
       "      <td>ET Unirep</td>\n",
       "    </tr>\n",
       "    <tr>\n",
       "      <th>77</th>\n",
       "      <td>N1_4_-6.833884__N11_1_-0.180372</td>\n",
       "      <td>MSKGEELFTGVVPILVELDGDVNGHKFSVSGEGEGDATYGKLTLKF...</td>\n",
       "      <td>ASR</td>\n",
       "    </tr>\n",
       "    <tr>\n",
       "      <th>78</th>\n",
       "      <td>top_consensus_seq</td>\n",
       "      <td>MSKGEELFTGVVPILVELDGDVNGHKFSVSGEGEGDATYGKLTLKF...</td>\n",
       "      <td>ConSeq</td>\n",
       "    </tr>\n",
       "  </tbody>\n",
       "</table>\n",
       "</div>"
      ],
      "text/plain": [
       "                                                   id  \\\n",
       "74  GFP_SimAnneal-ET_Global_Init_2-0096-01-3d7813d...   \n",
       "75  GFP_SimAnneal-ET_Global_Init_2-0096-02-1f121a7...   \n",
       "76  GFP_SimAnneal-ET_Global_Init_1-0096-02-341cf5c...   \n",
       "77                    N1_4_-6.833884__N11_1_-0.180372   \n",
       "78                                  top_consensus_seq   \n",
       "\n",
       "                                                  seq annotation  \n",
       "74  MSKGEELFTGVVPILVELDGDVNGHKFSVSGMGEGDATYGKMTLKF...  ET Unirep  \n",
       "75  MSKGEELFTGVVPILVELDGDVNGHKFSVSGEGEGDATYGKLNLKF...  ET Unirep  \n",
       "76  MSKGEELFTGVVPILVELDGDVNGHKFSVSGEGEGDATFGKLTLKF...  ET Unirep  \n",
       "77  MSKGEELFTGVVPILVELDGDVNGHKFSVSGEGEGDATYGKLTLKF...        ASR  \n",
       "78  MSKGEELFTGVVPILVELDGDVNGHKFSVSGEGEGDATYGKLTLKF...     ConSeq  "
      ]
     },
     "metadata": {},
     "output_type": "display_data"
    }
   ],
   "source": [
    "flow_df['annotation'] = None\n",
    "\n",
    "for i,r in flow_df.iterrows():\n",
    "    if isinstance(r['id'], str) and r['id'][:4] == 'GFP_':\n",
    "        if 'ET_Global_Init_1' in r['id'] or 'ET_Global_Init_2' in r['id']:\n",
    "            flow_df['annotation'].iloc[i] = 'ET Unirep'\n",
    "        else:\n",
    "            flow_df['annotation'].iloc[i] = 'ET Rand Init'\n",
    "            \n",
    "    elif isinstance(r['id'], str) and not r['id'][:4] == 'GFP_':\n",
    "        if 'N11' in r['id'] or 'N1' in r['id']:\n",
    "            flow_df['annotation'].iloc[i] = 'ASR'\n",
    "        elif 'consensus_seq' in r['id']:\n",
    "            flow_df['annotation'].iloc[i] = 'ConSeq'\n",
    "            \n",
    "    if not isinstance(r['id'], str):\n",
    "        flow_df['annotation'].iloc[i] = 'Control'\n",
    "        \n",
    "flow_df = flow_df[~flow_df['seq'].isnull()]\n",
    "        \n",
    "print(flow_df.shape)\n",
    "display(flow_df.head())\n",
    "display(flow_df.tail())"
   ]
  },
  {
   "cell_type": "code",
   "execution_count": 7,
   "metadata": {},
   "outputs": [
    {
     "name": "stdout",
     "output_type": "stream",
     "text": [
      "(141, 3)\n"
     ]
    },
    {
     "data": {
      "text/html": [
       "<div>\n",
       "<style scoped>\n",
       "    .dataframe tbody tr th:only-of-type {\n",
       "        vertical-align: middle;\n",
       "    }\n",
       "\n",
       "    .dataframe tbody tr th {\n",
       "        vertical-align: top;\n",
       "    }\n",
       "\n",
       "    .dataframe thead th {\n",
       "        text-align: right;\n",
       "    }\n",
       "</style>\n",
       "<table border=\"1\" class=\"dataframe\">\n",
       "  <thead>\n",
       "    <tr style=\"text-align: right;\">\n",
       "      <th></th>\n",
       "      <th>id</th>\n",
       "      <th>seq</th>\n",
       "      <th>annotation</th>\n",
       "    </tr>\n",
       "  </thead>\n",
       "  <tbody>\n",
       "    <tr>\n",
       "      <th>0</th>\n",
       "      <td>Topaz</td>\n",
       "      <td>MSKGEELFTGVVPILVELDGDVNGHKFSVSGEGEGDATYGKLTLKF...</td>\n",
       "      <td>existing_FP</td>\n",
       "    </tr>\n",
       "    <tr>\n",
       "      <th>1</th>\n",
       "      <td>T-Sapphire</td>\n",
       "      <td>MSKGEELFTGVVPILVELDGDVNGHKFSVSGEGEGDATYGKLTLKF...</td>\n",
       "      <td>existing_FP</td>\n",
       "    </tr>\n",
       "    <tr>\n",
       "      <th>2</th>\n",
       "      <td>H9</td>\n",
       "      <td>MSKGEELFTGVVPILVELDGDVNGHKFSVSGEGEGDATYGKLTLKF...</td>\n",
       "      <td>existing_FP</td>\n",
       "    </tr>\n",
       "    <tr>\n",
       "      <th>3</th>\n",
       "      <td>D10</td>\n",
       "      <td>MSKGEELFTGVVPILVELDGDVNGHKFSVSGEGEGDATYGKLTLKF...</td>\n",
       "      <td>existing_FP</td>\n",
       "    </tr>\n",
       "    <tr>\n",
       "      <th>4</th>\n",
       "      <td>mCitrine</td>\n",
       "      <td>MSKGEELFTGVVPILVELDGDVNGHKFSVSGEGEGDATYGKLTLKF...</td>\n",
       "      <td>existing_FP</td>\n",
       "    </tr>\n",
       "  </tbody>\n",
       "</table>\n",
       "</div>"
      ],
      "text/plain": [
       "           id                                                seq   annotation\n",
       "0       Topaz  MSKGEELFTGVVPILVELDGDVNGHKFSVSGEGEGDATYGKLTLKF...  existing_FP\n",
       "1  T-Sapphire  MSKGEELFTGVVPILVELDGDVNGHKFSVSGEGEGDATYGKLTLKF...  existing_FP\n",
       "2          H9  MSKGEELFTGVVPILVELDGDVNGHKFSVSGEGEGDATYGKLTLKF...  existing_FP\n",
       "3         D10  MSKGEELFTGVVPILVELDGDVNGHKFSVSGEGEGDATYGKLTLKF...  existing_FP\n",
       "4    mCitrine  MSKGEELFTGVVPILVELDGDVNGHKFSVSGEGEGDATYGKLTLKF...  existing_FP"
      ]
     },
     "metadata": {},
     "output_type": "display_data"
    }
   ],
   "source": [
    "df = pd.concat([parent_df, flow_df], axis=0)\n",
    "\n",
    "print(df.shape)\n",
    "display(df.head())"
   ]
  },
  {
   "cell_type": "markdown",
   "metadata": {},
   "source": [
    "## Extract library sequence"
   ]
  },
  {
   "cell_type": "code",
   "execution_count": 8,
   "metadata": {},
   "outputs": [
    {
     "data": {
      "text/html": [
       "<div>\n",
       "<style scoped>\n",
       "    .dataframe tbody tr th:only-of-type {\n",
       "        vertical-align: middle;\n",
       "    }\n",
       "\n",
       "    .dataframe tbody tr th {\n",
       "        vertical-align: top;\n",
       "    }\n",
       "\n",
       "    .dataframe thead th {\n",
       "        text-align: right;\n",
       "    }\n",
       "</style>\n",
       "<table border=\"1\" class=\"dataframe\">\n",
       "  <thead>\n",
       "    <tr style=\"text-align: right;\">\n",
       "      <th></th>\n",
       "      <th>id</th>\n",
       "      <th>seq</th>\n",
       "      <th>annotation</th>\n",
       "      <th>lib_seq</th>\n",
       "    </tr>\n",
       "  </thead>\n",
       "  <tbody>\n",
       "    <tr>\n",
       "      <th>0</th>\n",
       "      <td>Topaz</td>\n",
       "      <td>MSKGEELFTGVVPILVELDGDVNGHKFSVSGEGEGDATYGKLTLKF...</td>\n",
       "      <td>existing_FP</td>\n",
       "      <td>SGEGEGDATYGKLTLKFICTTGKLPVPWPTLVTTFGYGVQCFARYP...</td>\n",
       "    </tr>\n",
       "    <tr>\n",
       "      <th>1</th>\n",
       "      <td>T-Sapphire</td>\n",
       "      <td>MSKGEELFTGVVPILVELDGDVNGHKFSVSGEGEGDATYGKLTLKF...</td>\n",
       "      <td>existing_FP</td>\n",
       "      <td>SGEGEGDATYGKLTLKFICTTGKLPVPWPTLVTTFSYGVMVFSRYP...</td>\n",
       "    </tr>\n",
       "    <tr>\n",
       "      <th>2</th>\n",
       "      <td>H9</td>\n",
       "      <td>MSKGEELFTGVVPILVELDGDVNGHKFSVSGEGEGDATYGKLTLKF...</td>\n",
       "      <td>existing_FP</td>\n",
       "      <td>SGEGEGDATYGKLTLKFICTTGKLPVPWPTLVTTFSYGVQCFSRYP...</td>\n",
       "    </tr>\n",
       "    <tr>\n",
       "      <th>3</th>\n",
       "      <td>D10</td>\n",
       "      <td>MSKGEELFTGVVPILVELDGDVNGHKFSVSGEGEGDATYGKLTLKF...</td>\n",
       "      <td>existing_FP</td>\n",
       "      <td>SGEGEGDATYGKLTLKFICTTGKLPVPWPTLVTTLTWGVQCFARYP...</td>\n",
       "    </tr>\n",
       "    <tr>\n",
       "      <th>4</th>\n",
       "      <td>mCitrine</td>\n",
       "      <td>MSKGEELFTGVVPILVELDGDVNGHKFSVSGEGEGDATYGKLTLKF...</td>\n",
       "      <td>existing_FP</td>\n",
       "      <td>SGEGEGDATYGKLTLKFILTTGKLPVPWPTLVTTFGYGLMVFARYP...</td>\n",
       "    </tr>\n",
       "  </tbody>\n",
       "</table>\n",
       "</div>"
      ],
      "text/plain": [
       "           id                                                seq   annotation  \\\n",
       "0       Topaz  MSKGEELFTGVVPILVELDGDVNGHKFSVSGEGEGDATYGKLTLKF...  existing_FP   \n",
       "1  T-Sapphire  MSKGEELFTGVVPILVELDGDVNGHKFSVSGEGEGDATYGKLTLKF...  existing_FP   \n",
       "2          H9  MSKGEELFTGVVPILVELDGDVNGHKFSVSGEGEGDATYGKLTLKF...  existing_FP   \n",
       "3         D10  MSKGEELFTGVVPILVELDGDVNGHKFSVSGEGEGDATYGKLTLKF...  existing_FP   \n",
       "4    mCitrine  MSKGEELFTGVVPILVELDGDVNGHKFSVSGEGEGDATYGKLTLKF...  existing_FP   \n",
       "\n",
       "                                             lib_seq  \n",
       "0  SGEGEGDATYGKLTLKFICTTGKLPVPWPTLVTTFGYGVQCFARYP...  \n",
       "1  SGEGEGDATYGKLTLKFICTTGKLPVPWPTLVTTFSYGVMVFSRYP...  \n",
       "2  SGEGEGDATYGKLTLKFICTTGKLPVPWPTLVTTFSYGVQCFSRYP...  \n",
       "3  SGEGEGDATYGKLTLKFICTTGKLPVPWPTLVTTLTWGVQCFARYP...  \n",
       "4  SGEGEGDATYGKLTLKFILTTGKLPVPWPTLVTTFGYGLMVFARYP...  "
      ]
     },
     "execution_count": 8,
     "metadata": {},
     "output_type": "execute_result"
    }
   ],
   "source": [
    "df['lib_seq'] = df['seq'].apply(lambda x: x[A006_common.GFP_LIB_REGION[0]:A006_common.GFP_LIB_REGION[1]])\n",
    "\n",
    "df.head()"
   ]
  },
  {
   "cell_type": "markdown",
   "metadata": {},
   "source": [
    "## Encode and generate 2D embedding"
   ]
  },
  {
   "cell_type": "code",
   "execution_count": 9,
   "metadata": {},
   "outputs": [
    {
     "name": "stdout",
     "output_type": "stream",
     "text": [
      "(141, 1620)\n"
     ]
    }
   ],
   "source": [
    "enc_seqs = utils.encode_aa_seq_list_as_matrix_of_flattened_one_hots(list(df['lib_seq']))\n",
    "print(enc_seqs.shape)"
   ]
  },
  {
   "cell_type": "code",
   "execution_count": 10,
   "metadata": {
    "collapsed": true
   },
   "outputs": [],
   "source": [
    "DIMRED = MDS"
   ]
  },
  {
   "cell_type": "code",
   "execution_count": 11,
   "metadata": {
    "collapsed": true
   },
   "outputs": [],
   "source": [
    "s = DIMRED(n_components=2, random_state=42).fit_transform(enc_seqs)"
   ]
  },
  {
   "cell_type": "code",
   "execution_count": 12,
   "metadata": {},
   "outputs": [
    {
     "data": {
      "image/png": "[encoded data removed]",
      "text/plain": [
       "<Figure size 720x720 with 1 Axes>"
      ]
     },
     "metadata": {},
     "output_type": "display_data"
    }
   ],
   "source": [
    "plt.figure(figsize=(10,10))\n",
    "sns.scatterplot(x=s[:,0], y=s[:,1], hue=df['annotation'], palette='colorblind', s=90)\n",
    "plt.show()"
   ]
  },
  {
   "cell_type": "code",
   "execution_count": 13,
   "metadata": {
    "collapsed": true
   },
   "outputs": [],
   "source": [
    "mds_dist = sklearn.metrics.pairwise_distances(s)\n",
    "ld_dist = utils.levenshtein_distance_matrix(list(df['lib_seq']))"
   ]
  },
  {
   "cell_type": "code",
   "execution_count": 14,
   "metadata": {},
   "outputs": [
    {
     "data": {
      "image/png": "[encoded data removed]",
      "text/plain": [
       "<Figure size 432x288 with 1 Axes>"
      ]
     },
     "metadata": {},
     "output_type": "display_data"
    },
    {
     "name": "stdout",
     "output_type": "stream",
     "text": [
      "[[1.         0.76959401]\n",
      " [0.76959401 1.        ]]\n",
      "1 MDS unit is 2.25 mutations\n",
      "1 mutation is 0.44 MDS units\n"
     ]
    }
   ],
   "source": [
    "lm = sklearn.linear_model.LinearRegression(fit_intercept=False).fit(mds_dist.reshape((-1,1)), ld_dist.reshape(-1))\n",
    "xx = np.array([0, 9])\n",
    "\n",
    "plt.plot(mds_dist.reshape(-1), ld_dist.reshape(-1), '.k', markersize=1, alpha=0.1)\n",
    "plt.plot(xx, xx*lm.coef_, '-r')\n",
    "plt.show()\n",
    "\n",
    "\n",
    "print(np.corrcoef(mds_dist.reshape(-1), ld_dist.reshape(-1)))\n",
    "\n",
    "print('1 MDS unit is %0.2f mutations' % lm.coef_)\n",
    "print('1 mutation is %0.2f MDS units' % (1/lm.coef_[0]))\n",
    "\n",
    "MDS_UNITS_PER_MUTATION = (1/lm.coef_[0])"
   ]
  },
  {
   "cell_type": "code",
   "execution_count": 15,
   "metadata": {
    "collapsed": true
   },
   "outputs": [],
   "source": [
    "sns.set_palette(plot_style_utils.CAT_PALETTE)"
   ]
  },
  {
   "cell_type": "code",
   "execution_count": 16,
   "metadata": {
    "collapsed": true
   },
   "outputs": [],
   "source": [
    "#uannots = ['existing_FP', 'far but better than wt', 'highly functional', 'ancestral', 'consensus']\n",
    "uannots = ['existing_FP', 'ET Unirep', 'ASR', 'ConSeq']\n",
    "bandwidths = [0.3, 0.3, 0.5, 0.5]\n",
    "alphas = [0.4, 0.4, 0.9, 0.9]"
   ]
  },
  {
   "cell_type": "code",
   "execution_count": 17,
   "metadata": {},
   "outputs": [
    {
     "data": {
      "image/png": "[encoded data removed]",
      "text/plain": [
       "<Figure size 432x432 with 1 Axes>"
      ]
     },
     "metadata": {},
     "output_type": "display_data"
    }
   ],
   "source": [
    "SCALE_BAR_NMUT = 2\n",
    "\n",
    "fig = plt.figure(figsize=(6,6))\n",
    "for i,annot in enumerate(uannots):\n",
    "\n",
    "    mask = df['annotation'] == annot\n",
    "    sns.kdeplot(s[mask,1], s[mask,0], shade=True, shade_lowest=False, alpha=alphas[i], levels=5, bw=bandwidths[i],\n",
    "               color=plot_style_utils.CAT_PALETTE[i])\n",
    "    plt.plot(s[mask,1], s[mask,0], 'o', color=plot_style_utils.CAT_PALETTE[i], markersize=5)\n",
    "    \n",
    "av_idx = np.argwhere(df['id'] == 'avGFP_internal').reshape(-1)[0]\n",
    "plt.plot(s[av_idx,1], s[av_idx,0], 'o', color=plot_style_utils.CAT_PALETTE[0], markersize=10)\n",
    "\n",
    "sf_idx = np.argwhere(df['id'] == 'sfGFP_internal').reshape(-1)[0]\n",
    "plt.plot(s[sf_idx,1], s[sf_idx,0], 'o', color=plot_style_utils.CAT_PALETTE[0], markersize=10)\n",
    "\n",
    "plt.plot([3,3 + SCALE_BAR_NMUT*MDS_UNITS_PER_MUTATION], [-4,-4], '-k', linewidth=4)\n",
    "\n",
    "\n",
    "plt.axis('off')\n",
    "plt.show()\n",
    "\n",
    "plot_style_utils.save_for_pub(fig=fig, path='figures/MDS_plot_of_manually_flowed_designs_and_existing_FPs')"
   ]
  },
  {
   "cell_type": "markdown",
   "metadata": {},
   "source": [
    "## Median minimum number of mutations"
   ]
  },
  {
   "cell_type": "code",
   "execution_count": 18,
   "metadata": {},
   "outputs": [
    {
     "name": "stdout",
     "output_type": "stream",
     "text": [
      "existing_FP     70\n",
      "ET Unirep       53\n",
      "ASR              9\n",
      "ConSeq           5\n",
      "ET Rand Init     4\n",
      "Name: annotation, dtype: int64\n"
     ]
    }
   ],
   "source": [
    "print(df.annotation.value_counts())"
   ]
  },
  {
   "cell_type": "code",
   "execution_count": 19,
   "metadata": {},
   "outputs": [
    {
     "name": "stdout",
     "output_type": "stream",
     "text": [
      "53\n",
      "84\n"
     ]
    }
   ],
   "source": [
    "et_unirep_seqs = list(df[df['annotation'] == 'ET Unirep']['lib_seq'])\n",
    "print(len(et_unirep_seqs))\n",
    "\n",
    "m = np.logical_or(np.logical_or(df.annotation == 'existing_FP', df.annotation == 'ASR'), df.annotation == 'ConSeq')\n",
    "non_unirep_seqs = list(df[m]['lib_seq'])\n",
    "print(len(non_unirep_seqs))"
   ]
  },
  {
   "cell_type": "code",
   "execution_count": 20,
   "metadata": {},
   "outputs": [
    {
     "name": "stdout",
     "output_type": "stream",
     "text": [
      "(53, 84)\n"
     ]
    }
   ],
   "source": [
    "ld = utils.levenshtein_distance_matrix(et_unirep_seqs, non_unirep_seqs)\n",
    "print(ld.shape)"
   ]
  },
  {
   "cell_type": "code",
   "execution_count": 21,
   "metadata": {},
   "outputs": [
    {
     "name": "stdout",
     "output_type": "stream",
     "text": [
      "5.0\n"
     ]
    }
   ],
   "source": [
    "min_dists = np.min(ld, axis=1)\n",
    "print(np.median(min_dists))"
   ]
  },
  {
   "cell_type": "code",
   "execution_count": 22,
   "metadata": {},
   "outputs": [
    {
     "data": {
      "image/png": "[encoded data removed]",
      "text/plain": [
       "<Figure size 432x288 with 1 Axes>"
      ]
     },
     "metadata": {},
     "output_type": "display_data"
    }
   ],
   "source": [
    "uv, uc = np.unique(min_dists, return_counts=True)\n",
    "plt.bar(uv,uc)\n",
    "plt.show()"
   ]
  }
 ],
 "metadata": {
  "kernelspec": {
   "display_name": "Python 3",
   "language": "python",
   "name": "python3"
  },
  "language_info": {
   "codemirror_mode": {
    "name": "ipython",
    "version": 3
   },
   "file_extension": ".py",
   "mimetype": "text/x-python",
   "name": "python",
   "nbconvert_exporter": "python",
   "pygments_lexer": "ipython3",
   "version": "3.5.2"
  }
 },
 "nbformat": 4,
 "nbformat_minor": 2
}
