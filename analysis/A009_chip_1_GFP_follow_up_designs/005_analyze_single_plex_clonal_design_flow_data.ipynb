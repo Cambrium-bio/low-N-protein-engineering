{
 "cells": [
  {
   "cell_type": "code",
   "execution_count": 1,
   "metadata": {},
   "outputs": [
    {
     "name": "stdout",
     "output_type": "stream",
     "text": [
      "\u001b[33mDEPRECATION: Python 3.5 reached the end of its life on September 13th, 2020. Please upgrade your Python as Python 3.5 is no longer maintained. pip 21.0 will drop support for Python 3.5 in January 2021. pip 21.0 will remove support for this functionality.\u001b[0m\n",
      "Requirement already satisfied: fcsparser==0.2.0 in /usr/local/lib/python3.5/dist-packages (0.2.0)\n",
      "Requirement already satisfied: pandas in /usr/local/lib/python3.5/dist-packages (from fcsparser==0.2.0) (0.23.4)\n",
      "Requirement already satisfied: setuptools in /usr/local/lib/python3.5/dist-packages (from fcsparser==0.2.0) (36.2.7)\n",
      "Requirement already satisfied: six in /usr/local/lib/python3.5/dist-packages (from fcsparser==0.2.0) (1.10.0)\n",
      "Requirement already satisfied: numpy in /usr/local/lib/python3.5/dist-packages (from fcsparser==0.2.0) (1.15.4)\n",
      "Requirement already satisfied: python-dateutil>=2.5.0 in /usr/local/lib/python3.5/dist-packages (from pandas->fcsparser==0.2.0) (2.6.1)\n",
      "Requirement already satisfied: pytz>=2011k in /usr/local/lib/python3.5/dist-packages (from pandas->fcsparser==0.2.0) (2017.2)\n",
      "\u001b[33mDEPRECATION: Python 3.5 reached the end of its life on September 13th, 2020. Please upgrade your Python as Python 3.5 is no longer maintained. pip 21.0 will drop support for Python 3.5 in January 2021. pip 21.0 will remove support for this functionality.\u001b[0m\n",
      "Requirement already satisfied: FlowUtils==0.7.1 in /usr/local/lib/python3.5/dist-packages (0.7.1)\n",
      "Requirement already satisfied: numpy>=1.7 in /usr/local/lib/python3.5/dist-packages (from FlowUtils==0.7.1) (1.15.4)\n",
      "\u001b[33mDEPRECATION: Python 3.5 reached the end of its life on September 13th, 2020. Please upgrade your Python as Python 3.5 is no longer maintained. pip 21.0 will drop support for Python 3.5 in January 2021. pip 21.0 will remove support for this functionality.\u001b[0m\n",
      "Requirement already satisfied: scipy==1.4.1 in /usr/local/lib/python3.5/dist-packages (1.4.1)\n",
      "Requirement already satisfied: numpy>=1.13.3 in /usr/local/lib/python3.5/dist-packages (from scipy==1.4.1) (1.15.4)\n"
     ]
    }
   ],
   "source": [
    "!pip install fcsparser==0.2.0\n",
    "!pip install FlowUtils==0.7.1\n",
    "!pip install scipy==1.4.1"
   ]
  },
  {
   "cell_type": "code",
   "execution_count": 2,
   "metadata": {
    "collapsed": true
   },
   "outputs": [],
   "source": [
    "import os\n",
    "import sys\n",
    "import pickle\n",
    "import glob\n",
    "import copy\n",
    "\n",
    "import numpy as np\n",
    "import pandas as pd\n",
    "import matplotlib.pyplot as plt\n",
    "import matplotlib as mpl\n",
    "import seaborn as sns\n",
    "import scipy\n",
    "from scipy.signal import argrelextrema\n",
    "\n",
    "import fcsparser \n",
    "import flowutils\n",
    "from flowutils import transforms\n",
    "\n",
    "\n",
    "sys.path.append('../common')\n",
    "import data_io_utils\n",
    "import paths\n",
    "import constants\n",
    "import utils\n",
    "\n",
    "import A009_common\n",
    "\n",
    "%reload_ext autoreload\n",
    "%autoreload 2"
   ]
  },
  {
   "cell_type": "code",
   "execution_count": 3,
   "metadata": {
    "collapsed": true
   },
   "outputs": [],
   "source": [
    "data_dir = os.path.join(data_io_utils.S3_DATA_ROOT, 'chip_1', 'Post_Chip_1_GFP_FollowUp_ColonyPick_Flow')"
   ]
  },
  {
   "cell_type": "code",
   "execution_count": 4,
   "metadata": {
    "collapsed": true
   },
   "outputs": [],
   "source": [
    "data_io_utils.sync_s3_path_to_local(data_dir)"
   ]
  },
  {
   "cell_type": "code",
   "execution_count": 5,
   "metadata": {
    "collapsed": true
   },
   "outputs": [],
   "source": [
    "SSCA_LIM=[3.5, 4.0] \n",
    "FSCA_LIM=[3.7, 4.1]\n",
    "SIGNAL_FLOOR = 2.36 # Based on negative control\n",
    "WELLS_TO_EXCLUDE = (\n",
    "    ['G11', 'H11', 'A12', 'B12', 'C12', 'D12', 'E12', 'F12', 'G12', 'H12'] # end of plate wells\n",
    "    + ['D03', 'A08', 'B10', 'F08', 'E09', 'F07'] # These are wells whose manually taken image drastically differ from the Flow measurement.\n",
    ")\n",
    "            \n",
    "\n",
    "def transform_data(data):\n",
    "    tdata = np.log10(np.array(data))\n",
    "    tdata[tdata == -np.inf] = 0\n",
    "    tdata[np.isnan(tdata)] = 0\n",
    "    \n",
    "    tdata = pd.DataFrame(tdata, columns=data.columns)\n",
    "    return tdata\n",
    "\n",
    "def gate_on_SSC_and_FSC(data, SSCA_lim=SSCA_LIM, FSCA_lim=FSCA_LIM):\n",
    "    mask = np.logical_and(\n",
    "        np.logical_and(data['SSC-A'] > SSCA_lim[0], data['SSC-A'] < SSCA_lim[1]),\n",
    "        np.logical_and(data['FSC-A'] > FSCA_lim[0], data['SSC-A'] < FSCA_lim[1]),\n",
    "    )\n",
    "    \n",
    "    return data[mask]\n",
    "\n",
    "def detect_best_peak(x):\n",
    "    \"\"\"\n",
    "    Detects the mode of the peak representing\n",
    "    the major population of cells.\n",
    "    \"\"\"\n",
    "    grid = np.linspace(1,7,200)\n",
    "    h = np.histogram(x, bins=grid)\n",
    "    hData = h[0]\n",
    "    peaks = argrelextrema(hData, np.greater)[0]\n",
    "\n",
    "    peak_idx = np.argmax(hData[peaks])\n",
    "\n",
    "    data_mode = grid[peaks[peak_idx]]\n",
    "    return data_mode\n",
    "\n",
    "\n",
    "def analyze_well_fcs(fcs_file):\n",
    "    meta, data = fcsparser.parse(fcs_file, reformat_meta=True)\n",
    "    \n",
    "    tdata = transform_data(data)\n",
    "    tdata_gated = gate_on_SSC_and_FSC(tdata)\n",
    "    \n",
    "    res = {}\n",
    "    res['total_events'] = data.shape[0]\n",
    "    res['frac_retained_post_gate'] = tdata_gated.shape[0]/data.shape[0]\n",
    "    \n",
    "    res['B525'] = np.maximum(detect_best_peak(tdata['B525-FITC-A']) - SIGNAL_FLOOR, 0)\n",
    "    res['V525'] = np.maximum(detect_best_peak(tdata['V525-KrO-A']) - SIGNAL_FLOOR, 0)\n",
    "    \n",
    "    return res\n",
    "\n",
    "def analyze_plate(rep):\n",
    "    fcs_files = glob.glob(os.path.join(data_dir, '0%s*.fcs'%str(rep)))\n",
    "    sorted(fcs_files)\n",
    "    print(len(fcs_files))\n",
    "\n",
    "    res = {}\n",
    "    for fcs in fcs_files:\n",
    "        well = fcs.replace('.fcs', '').split('-')[-1]\n",
    "\n",
    "        if len(well) == 2:\n",
    "            well = well[0] + '0' + well[1]\n",
    "\n",
    "        res[well] = analyze_well_fcs(fcs)\n",
    "\n",
    "    res_df = pd.DataFrame(res).T\n",
    "    res_df.columns = [c + '_rep' + str(rep) for c in res_df.columns]\n",
    "    \n",
    "    res_df['well'] = res_df.index\n",
    "    res_df.reset_index(drop=True, inplace=True)\n",
    "        \n",
    "    return res_df"
   ]
  },
  {
   "cell_type": "code",
   "execution_count": 6,
   "metadata": {},
   "outputs": [
    {
     "name": "stdout",
     "output_type": "stream",
     "text": [
      "96\n"
     ]
    },
    {
     "name": "stderr",
     "output_type": "stream",
     "text": [
      "/usr/local/lib/python3.5/dist-packages/ipykernel_launcher.py:11: RuntimeWarning: divide by zero encountered in log10\n",
      "  # This is added back by InteractiveShellApp.init_path()\n",
      "/usr/local/lib/python3.5/dist-packages/ipykernel_launcher.py:11: RuntimeWarning: invalid value encountered in log10\n",
      "  # This is added back by InteractiveShellApp.init_path()\n"
     ]
    },
    {
     "name": "stdout",
     "output_type": "stream",
     "text": [
      "96\n"
     ]
    }
   ],
   "source": [
    "rep1_df = analyze_plate(1)\n",
    "rep2_df = analyze_plate(2)"
   ]
  },
  {
   "cell_type": "code",
   "execution_count": 7,
   "metadata": {},
   "outputs": [
    {
     "data": {
      "text/html": [
       "<div>\n",
       "<style scoped>\n",
       "    .dataframe tbody tr th:only-of-type {\n",
       "        vertical-align: middle;\n",
       "    }\n",
       "\n",
       "    .dataframe tbody tr th {\n",
       "        vertical-align: top;\n",
       "    }\n",
       "\n",
       "    .dataframe thead th {\n",
       "        text-align: right;\n",
       "    }\n",
       "</style>\n",
       "<table border=\"1\" class=\"dataframe\">\n",
       "  <thead>\n",
       "    <tr style=\"text-align: right;\">\n",
       "      <th></th>\n",
       "      <th>B525_rep1</th>\n",
       "      <th>V525_rep1</th>\n",
       "      <th>frac_retained_post_gate_rep1</th>\n",
       "      <th>total_events_rep1</th>\n",
       "      <th>well</th>\n",
       "      <th>B525_rep2</th>\n",
       "      <th>V525_rep2</th>\n",
       "      <th>frac_retained_post_gate_rep2</th>\n",
       "      <th>total_events_rep2</th>\n",
       "    </tr>\n",
       "  </thead>\n",
       "  <tbody>\n",
       "    <tr>\n",
       "      <th>0</th>\n",
       "      <td>0.991759</td>\n",
       "      <td>2.137487</td>\n",
       "      <td>0.681899</td>\n",
       "      <td>103882.0</td>\n",
       "      <td>A01</td>\n",
       "      <td>1.112362</td>\n",
       "      <td>2.137487</td>\n",
       "      <td>0.525539</td>\n",
       "      <td>122676.0</td>\n",
       "    </tr>\n",
       "    <tr>\n",
       "      <th>1</th>\n",
       "      <td>2.197789</td>\n",
       "      <td>1.655075</td>\n",
       "      <td>0.760318</td>\n",
       "      <td>104697.0</td>\n",
       "      <td>A02</td>\n",
       "      <td>2.227940</td>\n",
       "      <td>1.655075</td>\n",
       "      <td>0.727116</td>\n",
       "      <td>108405.0</td>\n",
       "    </tr>\n",
       "    <tr>\n",
       "      <th>2</th>\n",
       "      <td>1.896281</td>\n",
       "      <td>1.685226</td>\n",
       "      <td>0.737155</td>\n",
       "      <td>110392.0</td>\n",
       "      <td>A03</td>\n",
       "      <td>1.986734</td>\n",
       "      <td>1.745528</td>\n",
       "      <td>0.693249</td>\n",
       "      <td>112554.0</td>\n",
       "    </tr>\n",
       "    <tr>\n",
       "      <th>3</th>\n",
       "      <td>2.288241</td>\n",
       "      <td>1.805829</td>\n",
       "      <td>0.748580</td>\n",
       "      <td>105787.0</td>\n",
       "      <td>A04</td>\n",
       "      <td>2.227940</td>\n",
       "      <td>1.835980</td>\n",
       "      <td>0.685251</td>\n",
       "      <td>112944.0</td>\n",
       "    </tr>\n",
       "    <tr>\n",
       "      <th>4</th>\n",
       "      <td>2.288241</td>\n",
       "      <td>1.383719</td>\n",
       "      <td>0.771342</td>\n",
       "      <td>103915.0</td>\n",
       "      <td>A05</td>\n",
       "      <td>2.288241</td>\n",
       "      <td>1.353568</td>\n",
       "      <td>0.633971</td>\n",
       "      <td>120657.0</td>\n",
       "    </tr>\n",
       "  </tbody>\n",
       "</table>\n",
       "</div>"
      ],
      "text/plain": [
       "   B525_rep1  V525_rep1  frac_retained_post_gate_rep1  total_events_rep1 well  \\\n",
       "0   0.991759   2.137487                      0.681899           103882.0  A01   \n",
       "1   2.197789   1.655075                      0.760318           104697.0  A02   \n",
       "2   1.896281   1.685226                      0.737155           110392.0  A03   \n",
       "3   2.288241   1.805829                      0.748580           105787.0  A04   \n",
       "4   2.288241   1.383719                      0.771342           103915.0  A05   \n",
       "\n",
       "   B525_rep2  V525_rep2  frac_retained_post_gate_rep2  total_events_rep2  \n",
       "0   1.112362   2.137487                      0.525539           122676.0  \n",
       "1   2.227940   1.655075                      0.727116           108405.0  \n",
       "2   1.986734   1.745528                      0.693249           112554.0  \n",
       "3   2.227940   1.835980                      0.685251           112944.0  \n",
       "4   2.288241   1.353568                      0.633971           120657.0  "
      ]
     },
     "execution_count": 7,
     "metadata": {},
     "output_type": "execute_result"
    }
   ],
   "source": [
    "df = pd.merge(rep1_df, rep2_df, on='well')\n",
    "df.head()"
   ]
  },
  {
   "cell_type": "code",
   "execution_count": 8,
   "metadata": {},
   "outputs": [
    {
     "data": {
      "image/png": "[encoded data removed]",
      "text/plain": [
       "<matplotlib.figure.Figure at 0x7fb0e5db8278>"
      ]
     },
     "metadata": {},
     "output_type": "display_data"
    },
    {
     "data": {
      "image/png": "[encoded data removed]",
      "text/plain": [
       "<matplotlib.figure.Figure at 0x7fb125833da0>"
      ]
     },
     "metadata": {},
     "output_type": "display_data"
    }
   ],
   "source": [
    "plt.plot(df['B525_rep1'], df['B525_rep2'], '.k')\n",
    "plt.show()\n",
    "\n",
    "plt.plot(df['V525_rep1'], df['V525_rep2'], '.k')\n",
    "plt.show()"
   ]
  },
  {
   "cell_type": "markdown",
   "metadata": {},
   "source": [
    "## Clearly quite reproducible, except for a few  exceptions\n",
    "\n",
    "This is because during the flow, there were some drop out wells that didnt have a normal SSC and FSC pattern. For these wells the cytometer sorted what it could but it wasn't as many cells in the end.\n"
   ]
  },
  {
   "cell_type": "code",
   "execution_count": 9,
   "metadata": {},
   "outputs": [
    {
     "data": {
      "image/png": "[encoded data removed]",
      "text/plain": [
       "<matplotlib.figure.Figure at 0x7fb12479d358>"
      ]
     },
     "metadata": {},
     "output_type": "display_data"
    },
    {
     "data": {
      "image/png": "[encoded data removed]",
      "text/plain": [
       "<matplotlib.figure.Figure at 0x7fb125838ba8>"
      ]
     },
     "metadata": {},
     "output_type": "display_data"
    }
   ],
   "source": [
    "plt.hist(df['total_events_rep1'],bins=30, color='b', alpha=0.5)\n",
    "plt.hist(df['total_events_rep2'],bins=30, color='r', alpha=0.5)\n",
    "plt.show()\n",
    "\n",
    "plt.hist(df['frac_retained_post_gate_rep1'],bins=30, color='b', alpha=0.5)\n",
    "plt.hist(df['frac_retained_post_gate_rep1'],bins=30, color='r', alpha=0.5)\n",
    "plt.show()\n",
    "\n",
    "mask = np.logical_or(df['frac_retained_post_gate_rep1'] < 0.6, \n",
    "                     df['frac_retained_post_gate_rep2'] < 0.6)"
   ]
  },
  {
   "cell_type": "code",
   "execution_count": 10,
   "metadata": {
    "scrolled": false
   },
   "outputs": [
    {
     "data": {
      "image/png": "[encoded data removed]",
      "text/plain": [
       "<matplotlib.figure.Figure at 0x7fb12479dc50>"
      ]
     },
     "metadata": {},
     "output_type": "display_data"
    },
    {
     "data": {
      "image/png": "[encoded data removed]",
      "text/plain": [
       "<matplotlib.figure.Figure at 0x7fb12449ae48>"
      ]
     },
     "metadata": {},
     "output_type": "display_data"
    }
   ],
   "source": [
    "plt.plot(df['B525_rep1'], df['B525_rep2'], '.k')\n",
    "plt.plot(df['B525_rep1'][mask], df['B525_rep2'][mask], '.r')\n",
    "plt.show()\n",
    "\n",
    "plt.plot(df['V525_rep1'], df['V525_rep2'], '.k')\n",
    "plt.plot(df['V525_rep1'][mask], df['V525_rep2'][mask], '.r')\n",
    "plt.show()"
   ]
  },
  {
   "cell_type": "markdown",
   "metadata": {},
   "source": [
    "## Combine into a single measurement and calculate uncertainty."
   ]
  },
  {
   "cell_type": "markdown",
   "metadata": {},
   "source": [
    "For wells with two good measurements we'll calculate uncertainty using the usual standard devation. For wells with one good and one bad measurement, we'll make the estimated mean the greater of the two and and the standard deviation be a robust esimate of the global standard deviation."
   ]
  },
  {
   "cell_type": "code",
   "execution_count": 11,
   "metadata": {},
   "outputs": [
    {
     "data": {
      "image/png": "[encoded data removed]",
      "text/plain": [
       "<matplotlib.figure.Figure at 0x7fb124528c50>"
      ]
     },
     "metadata": {},
     "output_type": "display_data"
    },
    {
     "data": {
      "image/png": "[encoded data removed]",
      "text/plain": [
       "<matplotlib.figure.Figure at 0x7fb124496b38>"
      ]
     },
     "metadata": {},
     "output_type": "display_data"
    },
    {
     "data": {
      "image/png": "[encoded data removed]",
      "text/plain": [
       "<matplotlib.figure.Figure at 0x7fb124483a58>"
      ]
     },
     "metadata": {},
     "output_type": "display_data"
    },
    {
     "data": {
      "image/png": "[encoded data removed]",
      "text/plain": [
       "<matplotlib.figure.Figure at 0x7fb1244c59e8>"
      ]
     },
     "metadata": {},
     "output_type": "display_data"
    },
    {
     "data": {
      "image/png": "[encoded data removed]",
      "text/plain": [
       "<matplotlib.figure.Figure at 0x7fb1245ce1d0>"
      ]
     },
     "metadata": {},
     "output_type": "display_data"
    },
    {
     "data": {
      "image/png": "[encoded data removed]",
      "text/plain": [
       "<matplotlib.figure.Figure at 0x7fb1245dec88>"
      ]
     },
     "metadata": {},
     "output_type": "display_data"
    }
   ],
   "source": [
    "OUTLIER_N_MAD = 5 # number of MADs away before being called an outlier\n",
    "\n",
    "global_std = {}\n",
    "for channel in ['B525', 'V525']:\n",
    "    ch_rep1 = np.array(df[channel + '_rep1'])\n",
    "    ch_rep2 = np.array(df[channel + '_rep2'])\n",
    "    \n",
    "    global_std[channel] = scipy.stats.median_absolute_deviation(ch_rep1 - ch_rep2)\n",
    "    \n",
    "    large_dev = np.abs(ch_rep1-ch_rep2) > OUTLIER_N_MAD*global_std[channel]\n",
    "    \n",
    "    ch_rep1_adj = copy.deepcopy(ch_rep1)\n",
    "    ch_rep2_adj = copy.deepcopy(ch_rep2)\n",
    "    \n",
    "    tmp = np.maximum(ch_rep1_adj, ch_rep2_adj)\n",
    "    ch_rep1_adj[large_dev] = tmp[large_dev]\n",
    "    ch_rep2_adj[large_dev] = tmp[large_dev]\n",
    "    \n",
    "    \n",
    "    plt.plot(ch_rep1 - ch_rep2, '.k')\n",
    "    plt.plot(np.arange(len(ch_rep1))[large_dev], (ch_rep1 - ch_rep2)[large_dev], '.r')\n",
    "    plt.axhline(OUTLIER_N_MAD*global_std[channel], color='r')\n",
    "    plt.axhline(-OUTLIER_N_MAD*global_std[channel], color='r')\n",
    "    plt.title(channel)\n",
    "    plt.show()\n",
    "    \n",
    "    plt.plot(ch_rep1_adj - ch_rep2_adj, '.k')\n",
    "    plt.plot(np.arange(len(ch_rep1))[large_dev], (ch_rep1_adj - ch_rep2_adj)[large_dev], '.r')\n",
    "    plt.axhline(OUTLIER_N_MAD*global_std[channel], color='r')\n",
    "    plt.axhline(-OUTLIER_N_MAD*global_std[channel], color='r')\n",
    "    plt.title(channel + ' adjusted')\n",
    "    plt.show()\n",
    "    \n",
    "    # Averaged\n",
    "    m_adj = np.vstack([ch_rep1_adj, ch_rep2_adj])\n",
    "    mu = np.mean(m_adj, axis=0)\n",
    "    std = np.std(m_adj, axis=0)\n",
    "    std[large_dev] = global_std[channel]\n",
    "    \n",
    "    df[channel + '_mean'] = mu\n",
    "    df[channel + '_std'] = std\n",
    "    \n",
    "    plt.plot(np.arange(len(df[channel + '_std'])), df[channel + '_std'], '.k')\n",
    "    plt.plot(np.arange(len(df[channel + '_std']))[large_dev], df[channel + '_std'][large_dev], '.r')\n",
    "    plt.show()"
   ]
  },
  {
   "cell_type": "markdown",
   "metadata": {},
   "source": [
    "Finally combine 525 signal by summing B525 and V525"
   ]
  },
  {
   "cell_type": "code",
   "execution_count": 12,
   "metadata": {},
   "outputs": [
    {
     "data": {
      "text/html": [
       "<div>\n",
       "<style scoped>\n",
       "    .dataframe tbody tr th:only-of-type {\n",
       "        vertical-align: middle;\n",
       "    }\n",
       "\n",
       "    .dataframe tbody tr th {\n",
       "        vertical-align: top;\n",
       "    }\n",
       "\n",
       "    .dataframe thead th {\n",
       "        text-align: right;\n",
       "    }\n",
       "</style>\n",
       "<table border=\"1\" class=\"dataframe\">\n",
       "  <thead>\n",
       "    <tr style=\"text-align: right;\">\n",
       "      <th></th>\n",
       "      <th>B525_rep1</th>\n",
       "      <th>V525_rep1</th>\n",
       "      <th>frac_retained_post_gate_rep1</th>\n",
       "      <th>total_events_rep1</th>\n",
       "      <th>well</th>\n",
       "      <th>B525_rep2</th>\n",
       "      <th>V525_rep2</th>\n",
       "      <th>frac_retained_post_gate_rep2</th>\n",
       "      <th>total_events_rep2</th>\n",
       "      <th>B525_mean</th>\n",
       "      <th>B525_std</th>\n",
       "      <th>V525_mean</th>\n",
       "      <th>V525_std</th>\n",
       "      <th>525_mean</th>\n",
       "      <th>525_std</th>\n",
       "    </tr>\n",
       "  </thead>\n",
       "  <tbody>\n",
       "    <tr>\n",
       "      <th>0</th>\n",
       "      <td>0.991759</td>\n",
       "      <td>2.137487</td>\n",
       "      <td>0.681899</td>\n",
       "      <td>103882.0</td>\n",
       "      <td>A01</td>\n",
       "      <td>1.112362</td>\n",
       "      <td>2.137487</td>\n",
       "      <td>0.525539</td>\n",
       "      <td>122676.0</td>\n",
       "      <td>1.052060</td>\n",
       "      <td>0.060302</td>\n",
       "      <td>2.137487</td>\n",
       "      <td>0.000000</td>\n",
       "      <td>1.594774</td>\n",
       "      <td>0.060302</td>\n",
       "    </tr>\n",
       "    <tr>\n",
       "      <th>1</th>\n",
       "      <td>2.197789</td>\n",
       "      <td>1.655075</td>\n",
       "      <td>0.760318</td>\n",
       "      <td>104697.0</td>\n",
       "      <td>A02</td>\n",
       "      <td>2.227940</td>\n",
       "      <td>1.655075</td>\n",
       "      <td>0.727116</td>\n",
       "      <td>108405.0</td>\n",
       "      <td>2.212864</td>\n",
       "      <td>0.015075</td>\n",
       "      <td>1.655075</td>\n",
       "      <td>0.000000</td>\n",
       "      <td>1.933970</td>\n",
       "      <td>0.015075</td>\n",
       "    </tr>\n",
       "    <tr>\n",
       "      <th>2</th>\n",
       "      <td>1.896281</td>\n",
       "      <td>1.685226</td>\n",
       "      <td>0.737155</td>\n",
       "      <td>110392.0</td>\n",
       "      <td>A03</td>\n",
       "      <td>1.986734</td>\n",
       "      <td>1.745528</td>\n",
       "      <td>0.693249</td>\n",
       "      <td>112554.0</td>\n",
       "      <td>1.941508</td>\n",
       "      <td>0.045226</td>\n",
       "      <td>1.715377</td>\n",
       "      <td>0.030151</td>\n",
       "      <td>1.828442</td>\n",
       "      <td>0.054355</td>\n",
       "    </tr>\n",
       "    <tr>\n",
       "      <th>3</th>\n",
       "      <td>2.288241</td>\n",
       "      <td>1.805829</td>\n",
       "      <td>0.748580</td>\n",
       "      <td>105787.0</td>\n",
       "      <td>A04</td>\n",
       "      <td>2.227940</td>\n",
       "      <td>1.835980</td>\n",
       "      <td>0.685251</td>\n",
       "      <td>112944.0</td>\n",
       "      <td>2.258090</td>\n",
       "      <td>0.030151</td>\n",
       "      <td>1.820905</td>\n",
       "      <td>0.015075</td>\n",
       "      <td>2.039497</td>\n",
       "      <td>0.033710</td>\n",
       "    </tr>\n",
       "    <tr>\n",
       "      <th>4</th>\n",
       "      <td>2.288241</td>\n",
       "      <td>1.383719</td>\n",
       "      <td>0.771342</td>\n",
       "      <td>103915.0</td>\n",
       "      <td>A05</td>\n",
       "      <td>2.288241</td>\n",
       "      <td>1.353568</td>\n",
       "      <td>0.633971</td>\n",
       "      <td>120657.0</td>\n",
       "      <td>2.288241</td>\n",
       "      <td>0.000000</td>\n",
       "      <td>1.368643</td>\n",
       "      <td>0.015075</td>\n",
       "      <td>1.828442</td>\n",
       "      <td>0.015075</td>\n",
       "    </tr>\n",
       "  </tbody>\n",
       "</table>\n",
       "</div>"
      ],
      "text/plain": [
       "   B525_rep1  V525_rep1  frac_retained_post_gate_rep1  total_events_rep1 well  \\\n",
       "0   0.991759   2.137487                      0.681899           103882.0  A01   \n",
       "1   2.197789   1.655075                      0.760318           104697.0  A02   \n",
       "2   1.896281   1.685226                      0.737155           110392.0  A03   \n",
       "3   2.288241   1.805829                      0.748580           105787.0  A04   \n",
       "4   2.288241   1.383719                      0.771342           103915.0  A05   \n",
       "\n",
       "   B525_rep2  V525_rep2  frac_retained_post_gate_rep2  total_events_rep2  \\\n",
       "0   1.112362   2.137487                      0.525539           122676.0   \n",
       "1   2.227940   1.655075                      0.727116           108405.0   \n",
       "2   1.986734   1.745528                      0.693249           112554.0   \n",
       "3   2.227940   1.835980                      0.685251           112944.0   \n",
       "4   2.288241   1.353568                      0.633971           120657.0   \n",
       "\n",
       "   B525_mean  B525_std  V525_mean  V525_std  525_mean   525_std  \n",
       "0   1.052060  0.060302   2.137487  0.000000  1.594774  0.060302  \n",
       "1   2.212864  0.015075   1.655075  0.000000  1.933970  0.015075  \n",
       "2   1.941508  0.045226   1.715377  0.030151  1.828442  0.054355  \n",
       "3   2.258090  0.030151   1.820905  0.015075  2.039497  0.033710  \n",
       "4   2.288241  0.000000   1.368643  0.015075  1.828442  0.015075  "
      ]
     },
     "metadata": {},
     "output_type": "display_data"
    }
   ],
   "source": [
    "df['525_mean'] = (df['B525_mean'] + df['V525_mean'])/2\n",
    "df['525_std'] = np.sqrt(df['B525_std']**2 + df['V525_std']**2) # variances add, and then sqrt.\n",
    "\n",
    "display(df.head())"
   ]
  },
  {
   "cell_type": "markdown",
   "metadata": {},
   "source": [
    "## Visualize in plate format"
   ]
  },
  {
   "cell_type": "code",
   "execution_count": 13,
   "metadata": {},
   "outputs": [
    {
     "data": {
      "text/plain": [
       "array([['A01', 'A02', 'A03', 'A04', 'A05', 'A06', 'A07', 'A08', 'A09',\n",
       "        'A10', 'A11', 'A12'],\n",
       "       ['B01', 'B02', 'B03', 'B04', 'B05', 'B06', 'B07', 'B08', 'B09',\n",
       "        'B10', 'B11', 'B12'],\n",
       "       ['C01', 'C02', 'C03', 'C04', 'C05', 'C06', 'C07', 'C08', 'C09',\n",
       "        'C10', 'C11', 'C12'],\n",
       "       ['D01', 'D02', 'D03', 'D04', 'D05', 'D06', 'D07', 'D08', 'D09',\n",
       "        'D10', 'D11', 'D12'],\n",
       "       ['E01', 'E02', 'E03', 'E04', 'E05', 'E06', 'E07', 'E08', 'E09',\n",
       "        'E10', 'E11', 'E12'],\n",
       "       ['F01', 'F02', 'F03', 'F04', 'F05', 'F06', 'F07', 'F08', 'F09',\n",
       "        'F10', 'F11', 'F12'],\n",
       "       ['G01', 'G02', 'G03', 'G04', 'G05', 'G06', 'G07', 'G08', 'G09',\n",
       "        'G10', 'G11', 'G12'],\n",
       "       ['H01', 'H02', 'H03', 'H04', 'H05', 'H06', 'H07', 'H08', 'H09',\n",
       "        'H10', 'H11', 'H12']], dtype=object)"
      ]
     },
     "execution_count": 13,
     "metadata": {},
     "output_type": "execute_result"
    }
   ],
   "source": [
    "np.array(df['well']).reshape(8, 12) # correct ordering"
   ]
  },
  {
   "cell_type": "code",
   "execution_count": 14,
   "metadata": {
    "collapsed": true
   },
   "outputs": [],
   "source": [
    "B525 = np.array(df['B525_mean']).reshape(8,12)\n",
    "V525 = np.array(df['V525_mean']).reshape(8,12)"
   ]
  },
  {
   "cell_type": "code",
   "execution_count": 15,
   "metadata": {},
   "outputs": [
    {
     "data": {
      "image/png": "[encoded data removed]",
      "text/plain": [
       "<matplotlib.figure.Figure at 0x7fb12452b710>"
      ]
     },
     "metadata": {},
     "output_type": "display_data"
    },
    {
     "data": {
      "image/png": "[encoded data removed]",
      "text/plain": [
       "<matplotlib.figure.Figure at 0x7fb12452b908>"
      ]
     },
     "metadata": {},
     "output_type": "display_data"
    }
   ],
   "source": [
    "def imshow_plate_fluor(m):\n",
    "    plt.imshow(m, aspect='auto')\n",
    "    plt.yticks(np.arange(0,8))\n",
    "    plt.gca().set_yticklabels(list('ABCDEFGH'))\n",
    "    plt.xticks(np.arange(0,12))\n",
    "    plt.gca().set_xticklabels(np.arange(1,13))\n",
    "    plt.clim([0, np.max(m)])\n",
    "    plt.colorbar()\n",
    "    plt.show()\n",
    "    \n",
    "imshow_plate_fluor(B525)\n",
    "imshow_plate_fluor(V525)"
   ]
  },
  {
   "cell_type": "markdown",
   "metadata": {},
   "source": [
    "## Export"
   ]
  },
  {
   "cell_type": "code",
   "execution_count": 16,
   "metadata": {},
   "outputs": [
    {
     "name": "stdout",
     "output_type": "stream",
     "text": [
      "(80, 15)\n"
     ]
    }
   ],
   "source": [
    "mask = df['well'].apply(lambda x: str(x) not in WELLS_TO_EXCLUDE)\n",
    "df_sub = df[mask]\n",
    "print(df_sub.shape)"
   ]
  },
  {
   "cell_type": "code",
   "execution_count": 17,
   "metadata": {},
   "outputs": [
    {
     "name": "stdout",
     "output_type": "stream",
     "text": [
      "(80, 15)\n"
     ]
    }
   ],
   "source": [
    "df_sub.to_csv('A009e_post_chip_1_gfp_colony_pick_flow.csv', index=False)\n",
    "print(df_sub.shape)"
   ]
  }
 ],
 "metadata": {
  "kernelspec": {
   "display_name": "Python 3",
   "language": "python",
   "name": "python3"
  },
  "language_info": {
   "codemirror_mode": {
    "name": "ipython",
    "version": 3
   },
   "file_extension": ".py",
   "mimetype": "text/x-python",
   "name": "python",
   "nbconvert_exporter": "python",
   "pygments_lexer": "ipython3",
   "version": "3.5.2"
  }
 },
 "nbformat": 4,
 "nbformat_minor": 2
}
