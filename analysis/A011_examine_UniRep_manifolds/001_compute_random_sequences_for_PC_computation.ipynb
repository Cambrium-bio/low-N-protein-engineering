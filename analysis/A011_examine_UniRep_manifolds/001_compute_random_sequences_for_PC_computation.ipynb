{
 "cells": [
  {
   "cell_type": "markdown",
   "metadata": {},
   "source": [
    "## Computes random GFP and beta-lactamase sequences, which are used to calculate the PCs used in Fig 4"
   ]
  },
  {
   "cell_type": "code",
   "execution_count": 1,
   "metadata": {
    "collapsed": true
   },
   "outputs": [],
   "source": [
    "import os\n",
    "import sys\n",
    "import warnings\n",
    "import multiprocessing as mp\n",
    "import random\n",
    "import pickle\n",
    "import glob\n",
    "import time\n",
    "\n",
    "import numpy as np\n",
    "import pandas as pd\n",
    "import matplotlib.pyplot as plt\n",
    "from matplotlib.colors import ListedColormap\n",
    "import seaborn as sns\n",
    "import scipy\n",
    "import sklearn\n",
    "from sklearn.decomposition import PCA, MiniBatchSparsePCA, SparsePCA\n",
    "from sklearn.decomposition import TruncatedSVD\n",
    "from sklearn.preprocessing import StandardScaler\n",
    "from sklearn.linear_model import LinearRegression\n",
    "from sklearn.pipeline import Pipeline\n",
    "\n",
    "sys.path.append('../common')\n",
    "import data_io_utils\n",
    "import paths\n",
    "import utils\n",
    "import constants\n",
    "import plot_style_utils\n",
    "\n",
    "sys.path.append('../A006_simulated_annealing/')\n",
    "import A006_common\n",
    "\n",
    "\n",
    "import A011_common\n",
    "\n",
    "%reload_ext autoreload\n",
    "%autoreload 2"
   ]
  },
  {
   "cell_type": "code",
   "execution_count": 2,
   "metadata": {},
   "outputs": [
    {
     "data": {
      "image/png": "[encoded data removed]",
      "text/plain": [
       "<Figure size 432x288 with 1 Axes>"
      ]
     },
     "metadata": {},
     "output_type": "display_data"
    },
    {
     "name": "stdout",
     "output_type": "stream",
     "text": [
      "5.0201\n"
     ]
    }
   ],
   "source": [
    "MU = 4\n",
    "nmut = np.random.poisson(lam=MU, size=10000) + 1\n",
    "\n",
    "uv, uc = np.unique(nmut, return_counts=True)\n",
    "plt.bar(uv, uc)\n",
    "plt.show()\n",
    "\n",
    "print(np.mean(nmut))"
   ]
  },
  {
   "cell_type": "markdown",
   "metadata": {},
   "source": [
    "## GFP"
   ]
  },
  {
   "cell_type": "code",
   "execution_count": 3,
   "metadata": {},
   "outputs": [
    {
     "name": "stdout",
     "output_type": "stream",
     "text": [
      "Average number of mutations per site: 0.02100840336134454\n",
      "Expected number of mutants that contain a given mutation: 52.52100840336135\n",
      "50000\n"
     ]
    }
   ],
   "source": [
    "N_RANDOM_SEQS = 50000\n",
    "\n",
    "print('Average number of mutations per site:', (MU + 1)/len(constants.AVGFP_AA_SEQ))\n",
    "print('Expected number of mutants that contain a given mutation:', N_RANDOM_SEQS*(MU + 1)/len(constants.AVGFP_AA_SEQ)/20)\n",
    "\n",
    "\n",
    "np.random.seed(1)\n",
    "random.seed(1)\n",
    "\n",
    "rseqs = [A006_common.make_n_random_edits(constants.AVGFP_AA_SEQ, np.random.poisson(lam=MU)+1) \n",
    "         for i in range(N_RANDOM_SEQS)]\n",
    "\n",
    "print(len(rseqs))\n",
    "\n",
    "with open('A011f_GFP_random_seqs.txt', 'w') as f:\n",
    "    for item in rseqs:\n",
    "        f.write(\"%s\\n\" % item)"
   ]
  },
  {
   "cell_type": "markdown",
   "metadata": {},
   "source": [
    "## BLAC"
   ]
  },
  {
   "cell_type": "code",
   "execution_count": 4,
   "metadata": {},
   "outputs": [
    {
     "name": "stdout",
     "output_type": "stream",
     "text": [
      "Average number of mutations per site: 0.017482517482517484\n",
      "Expected number of mutants that contain a given mutation: 43.70629370629371\n",
      "50000\n"
     ]
    }
   ],
   "source": [
    "N_RANDOM_SEQS = 50000\n",
    "\n",
    "print('Average number of mutations per site:', (MU + 1)/len(constants.BETA_LAC_AA_SEQ))\n",
    "print('Expected number of mutants that contain a given mutation:', N_RANDOM_SEQS*(MU + 1)/len(constants.BETA_LAC_AA_SEQ)/20)\n",
    "\n",
    "\n",
    "np.random.seed(1)\n",
    "random.seed(1)\n",
    "\n",
    "rseqs = [A006_common.make_n_random_edits(constants.BETA_LAC_AA_SEQ, np.random.poisson(lam=MU)+1) \n",
    "         for i in range(N_RANDOM_SEQS)]\n",
    "\n",
    "print(len(rseqs))\n",
    "\n",
    "with open('A011f_BLAC_random_seqs.txt', 'w') as f:\n",
    "    for item in rseqs:\n",
    "        f.write(\"%s\\n\" % item)"
   ]
  }
 ],
 "metadata": {
  "kernelspec": {
   "display_name": "Python 3",
   "language": "python",
   "name": "python3"
  },
  "language_info": {
   "codemirror_mode": {
    "name": "ipython",
    "version": 3
   },
   "file_extension": ".py",
   "mimetype": "text/x-python",
   "name": "python",
   "nbconvert_exporter": "python",
   "pygments_lexer": "ipython3",
   "version": "3.5.2"
  }
 },
 "nbformat": 4,
 "nbformat_minor": 2
}
