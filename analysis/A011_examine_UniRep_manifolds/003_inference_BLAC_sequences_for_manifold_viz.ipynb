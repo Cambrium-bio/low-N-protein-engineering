{
 "cells": [
  {
   "cell_type": "markdown",
   "metadata": {},
   "source": [
    "## Inference (generate reps for) all beta-lactamase sequences we'll need in order to make the PCA plots for Fig 4.\n",
    "\n",
    "This notebook generates the representations and stores them in pickles. It is compute heavy. Downstream notebooks call on these precomputed reps, thus it's not necessary to run this notebook in order to run downstream ones."
   ]
  },
  {
   "cell_type": "code",
   "execution_count": 1,
   "metadata": {
    "collapsed": true
   },
   "outputs": [],
   "source": [
    "import os\n",
    "import sys\n",
    "import warnings\n",
    "import multiprocessing as mp\n",
    "import random\n",
    "import pickle\n",
    "import glob\n",
    "import time\n",
    "from collections import OrderedDict\n",
    "\n",
    "import numpy as np\n",
    "import pandas as pd\n",
    "import matplotlib.pyplot as plt\n",
    "import scipy\n",
    "from sklearn.decomposition import PCA\n",
    "from scipy.interpolate import UnivariateSpline\n",
    "import tensorflow as tf\n",
    "\n",
    "sys.path.append('../common')\n",
    "import data_io_utils\n",
    "import paths\n",
    "import utils\n",
    "import constants\n",
    "\n",
    "sys.path.append('../A003_policy_optimization/')\n",
    "import A003_common\n",
    "import models\n",
    "\n",
    "sys.path.append('../A006_simulated_annealing/')\n",
    "from unirep import babbler1900 as babbler\n",
    "\n",
    "sys.path.append('../A008_analyze_chip_1/')\n",
    "import A008_common\n",
    "\n",
    "import A011_common\n",
    "\n",
    "%reload_ext autoreload\n",
    "%autoreload 2"
   ]
  },
  {
   "cell_type": "markdown",
   "metadata": {},
   "source": [
    "## Inference a collection of BLAC sequences"
   ]
  },
  {
   "cell_type": "markdown",
   "metadata": {},
   "source": [
    "### Evotuning sequences"
   ]
  },
  {
   "cell_type": "code",
   "execution_count": 2,
   "metadata": {},
   "outputs": [
    {
     "name": "stdout",
     "output_type": "stream",
     "text": [
      "62155\n"
     ]
    }
   ],
   "source": [
    "seq_file = 'BLAC_evotuning_seqs_train_betalac2.txt'\n",
    "with open(seq_file) as f:\n",
    "    seqs = f.read().splitlines()\n",
    "    \n",
    "print(len(seqs))"
   ]
  },
  {
   "cell_type": "markdown",
   "metadata": {},
   "source": [
    "### Firnberg et al 2014 sequences"
   ]
  },
  {
   "cell_type": "code",
   "execution_count": 3,
   "metadata": {},
   "outputs": [
    {
     "name": "stdout",
     "output_type": "stream",
     "text": [
      "67354\n"
     ]
    }
   ],
   "source": [
    "seq_files = [paths.FIRNBERG_SPLIT_0_FILE, paths.FIRNBERG_SPLIT_1_FILE, paths.FIRNBERG_SPLIT_2_FILE]\n",
    "for sf in seq_files:\n",
    "    data_io_utils.sync_s3_path_to_local(sf, is_single_file=True)\n",
    "\n",
    "df = pd.concat([pd.read_csv(sf) for sf in seq_files], axis=0)\n",
    "\n",
    "seqs += list(df['seq'])\n",
    "\n",
    "print(len(seqs))"
   ]
  },
  {
   "cell_type": "markdown",
   "metadata": {},
   "source": [
    "### A011f random sequences"
   ]
  },
  {
   "cell_type": "code",
   "execution_count": 4,
   "metadata": {},
   "outputs": [
    {
     "name": "stdout",
     "output_type": "stream",
     "text": [
      "117354\n"
     ]
    }
   ],
   "source": [
    "seq_file = 'A011f_BLAC_random_seqs.txt'\n",
    "with open(seq_file) as f:\n",
    "    rseqs = f.read().splitlines()\n",
    "    \n",
    "seqs += rseqs\n",
    "print(len(seqs))"
   ]
  },
  {
   "cell_type": "markdown",
   "metadata": {},
   "source": [
    "## Some evolutionary trajectories\n",
    "\n",
    "We want trajectories that have a lot of dynamic range. Start from the bottom and now they here."
   ]
  },
  {
   "cell_type": "code",
   "execution_count": 5,
   "metadata": {
    "collapsed": true
   },
   "outputs": [],
   "source": [
    "traj_dir = os.path.join(data_io_utils.S3_DATA_ROOT, 'chip_1/simulated_annealing/beta_lactamase')\n",
    "\n",
    "traj_file = os.path.join(traj_dir, 'BLAC_SimAnneal-ET_Global_Init_1-0096-00-3ea5f6e.p')\n",
    "data_io_utils.sync_s3_path_to_local(traj_file, is_single_file=True)\n",
    "\n",
    "with open(traj_file, 'rb') as f:\n",
    "    traj_data = pickle.load(f)\n",
    "    \n",
    "# traj_data['sa_results']['seq_history'] is a list of lists. rows = iterations, columns = trajectories."
   ]
  },
  {
   "cell_type": "code",
   "execution_count": 6,
   "metadata": {},
   "outputs": [
    {
     "name": "stdout",
     "output_type": "stream",
     "text": [
      "20\n"
     ]
    },
    {
     "data": {
      "image/png": "[encoded data removed]",
      "text/plain": [
       "<matplotlib.figure.Figure at 0x7f64c8031278>"
      ]
     },
     "metadata": {},
     "output_type": "display_data"
    }
   ],
   "source": [
    "fit = np.array(traj_data['sa_results']['fitness_history'])\n",
    "mask = np.logical_and(np.min(fit, axis=0) < 0.4, np.max(fit, axis=0) > 0.95)\n",
    "\n",
    "print(np.sum(mask))\n",
    "\n",
    "sidx = np.argwhere(mask).reshape(-1)\n",
    "\n",
    "plt.plot(fit[:,mask], '-k')\n",
    "plt.show()"
   ]
  },
  {
   "cell_type": "code",
   "execution_count": 7,
   "metadata": {},
   "outputs": [
    {
     "name": "stdout",
     "output_type": "stream",
     "text": [
      "(3001, 3500)\n",
      "BLAC_SimAnneal-ET_Global_Init_1-0096-00-3ea5f6e_traj-103 17\n",
      "BLAC_SimAnneal-ET_Global_Init_1-0096-00-3ea5f6e_traj-126 12\n",
      "BLAC_SimAnneal-ET_Global_Init_1-0096-00-3ea5f6e_traj-193 12\n",
      "BLAC_SimAnneal-ET_Global_Init_1-0096-00-3ea5f6e_traj-725 10\n",
      "BLAC_SimAnneal-ET_Global_Init_1-0096-00-3ea5f6e_traj-880 14\n",
      "BLAC_SimAnneal-ET_Global_Init_1-0096-00-3ea5f6e_traj-1231 12\n",
      "BLAC_SimAnneal-ET_Global_Init_1-0096-00-3ea5f6e_traj-1827 30\n",
      "BLAC_SimAnneal-ET_Global_Init_1-0096-00-3ea5f6e_traj-2078 19\n",
      "BLAC_SimAnneal-ET_Global_Init_1-0096-00-3ea5f6e_traj-2183 15\n",
      "BLAC_SimAnneal-ET_Global_Init_1-0096-00-3ea5f6e_traj-2482 15\n",
      "BLAC_SimAnneal-ET_Global_Init_1-0096-00-3ea5f6e_traj-2924 18\n",
      "BLAC_SimAnneal-ET_Global_Init_1-0096-00-3ea5f6e_traj-3010 17\n",
      "BLAC_SimAnneal-ET_Global_Init_1-0096-00-3ea5f6e_traj-3046 27\n",
      "BLAC_SimAnneal-ET_Global_Init_1-0096-00-3ea5f6e_traj-3081 11\n",
      "BLAC_SimAnneal-ET_Global_Init_1-0096-00-3ea5f6e_traj-3139 19\n",
      "BLAC_SimAnneal-ET_Global_Init_1-0096-00-3ea5f6e_traj-3202 19\n",
      "BLAC_SimAnneal-ET_Global_Init_1-0096-00-3ea5f6e_traj-3273 9\n",
      "BLAC_SimAnneal-ET_Global_Init_1-0096-00-3ea5f6e_traj-3290 23\n",
      "BLAC_SimAnneal-ET_Global_Init_1-0096-00-3ea5f6e_traj-3387 26\n",
      "BLAC_SimAnneal-ET_Global_Init_1-0096-00-3ea5f6e_traj-3499 15\n"
     ]
    }
   ],
   "source": [
    "trajectory_idx = sidx\n",
    "\n",
    "seq_history = np.array(traj_data['sa_results']['seq_history'])\n",
    "print(seq_history.shape)\n",
    "\n",
    "\n",
    "traj_seqs = []\n",
    "traj_dict = {}\n",
    "for i in range(len(trajectory_idx)):\n",
    "    traj_name = os.path.basename(traj_file).replace('.p', '_') + 'traj-' + str(trajectory_idx[i])\n",
    "    \n",
    "    seq2qfunc = OrderedDict()\n",
    "    s = list(seq_history[:, trajectory_idx[i]])\n",
    "    qfuncs = fit[:, trajectory_idx[i]]\n",
    "    \n",
    "    for j in range(len(s)):\n",
    "        seq2qfunc[s[j]] = qfuncs[j]\n",
    "    \n",
    "    print(traj_name, len(seq2qfunc))\n",
    "    \n",
    "    traj_dict[traj_name] = seq2qfunc\n",
    "    traj_seqs += s"
   ]
  },
  {
   "cell_type": "code",
   "execution_count": 8,
   "metadata": {
    "collapsed": true
   },
   "outputs": [],
   "source": [
    "with open('A011b_BLAC_example_trajectories.p', 'wb') as f:\n",
    "    pickle.dump(file=f, obj=traj_dict)"
   ]
  },
  {
   "cell_type": "code",
   "execution_count": 9,
   "metadata": {},
   "outputs": [
    {
     "name": "stdout",
     "output_type": "stream",
     "text": [
      "177374\n"
     ]
    }
   ],
   "source": [
    "seqs += traj_seqs\n",
    "print(len(seqs))"
   ]
  },
  {
   "cell_type": "markdown",
   "metadata": {},
   "source": [
    "## Designed sequences"
   ]
  },
  {
   "cell_type": "code",
   "execution_count": 10,
   "metadata": {
    "collapsed": true
   },
   "outputs": [],
   "source": [
    "lfe_data_file = os.path.join(data_io_utils.S3_DATA_ROOT, 'chip_1', \n",
    "                'A052e_BLAC_log_fold_enrichment.csv')\n",
    "data_io_utils.sync_s3_path_to_local(lfe_data_file, is_single_file=True)\n",
    "\n",
    "df = pd.read_csv(lfe_data_file)\n",
    "q = df['id'].apply(lambda s: pd.Series(A008_common.split_seq_id_into_features(s)))\n",
    "design_df = df.merge(q, left_index=True, right_index=True)"
   ]
  },
  {
   "cell_type": "code",
   "execution_count": 11,
   "metadata": {},
   "outputs": [
    {
     "data": {
      "text/html": [
       "<div>\n",
       "<style scoped>\n",
       "    .dataframe tbody tr th:only-of-type {\n",
       "        vertical-align: middle;\n",
       "    }\n",
       "\n",
       "    .dataframe tbody tr th {\n",
       "        vertical-align: top;\n",
       "    }\n",
       "\n",
       "    .dataframe thead th {\n",
       "        text-align: right;\n",
       "    }\n",
       "</style>\n",
       "<table border=\"1\" class=\"dataframe\">\n",
       "  <thead>\n",
       "    <tr style=\"text-align: right;\">\n",
       "      <th></th>\n",
       "      <th>lfe_250</th>\n",
       "      <th>lfe_1000</th>\n",
       "      <th>lfe_2500</th>\n",
       "      <th>lfe_5000</th>\n",
       "      <th>rep1_250</th>\n",
       "      <th>rep1_1000</th>\n",
       "      <th>rep1_2500</th>\n",
       "      <th>rep1_5000</th>\n",
       "      <th>rep2_250</th>\n",
       "      <th>rep2_1000</th>\n",
       "      <th>...</th>\n",
       "      <th>ligated_gene</th>\n",
       "      <th>ligated_gene_translated</th>\n",
       "      <th>n_mut_rel_wt</th>\n",
       "      <th>oligo_len</th>\n",
       "      <th>model</th>\n",
       "      <th>ntrain</th>\n",
       "      <th>rep</th>\n",
       "      <th>rep_hash</th>\n",
       "      <th>seq_traj_idx</th>\n",
       "      <th>special_case</th>\n",
       "    </tr>\n",
       "  </thead>\n",
       "  <tbody>\n",
       "    <tr>\n",
       "      <th>0</th>\n",
       "      <td>-1.003346</td>\n",
       "      <td>-2.423684</td>\n",
       "      <td>-2.469612</td>\n",
       "      <td>-2.194874</td>\n",
       "      <td>-1.003346</td>\n",
       "      <td>-2.125728</td>\n",
       "      <td>-2.255074</td>\n",
       "      <td>-2.194874</td>\n",
       "      <td>-0.734210</td>\n",
       "      <td>-2.423684</td>\n",
       "      <td>...</td>\n",
       "      <td>ATGAGTATTCAACATTTCCGTGTCGCCCTTATTCCCTTTTTTGCGG...</td>\n",
       "      <td>MSIQHFRVALIPFFAAFCLPVFAHPETLVKVKDAEDQLGARVGYIE...</td>\n",
       "      <td>7.0</td>\n",
       "      <td>293.0</td>\n",
       "      <td>ET_Random_Init_1</td>\n",
       "      <td>96</td>\n",
       "      <td>3</td>\n",
       "      <td>33bfb65e</td>\n",
       "      <td>seq_idx_2563_2629</td>\n",
       "      <td></td>\n",
       "    </tr>\n",
       "    <tr>\n",
       "      <th>1</th>\n",
       "      <td>-1.207588</td>\n",
       "      <td>-2.195691</td>\n",
       "      <td>-2.400481</td>\n",
       "      <td>-2.088745</td>\n",
       "      <td>-1.207588</td>\n",
       "      <td>-2.195691</td>\n",
       "      <td>-1.847915</td>\n",
       "      <td>-2.088745</td>\n",
       "      <td>-1.113712</td>\n",
       "      <td>-1.509455</td>\n",
       "      <td>...</td>\n",
       "      <td>ATGAGTATTCAACATTTCCGTGTCGCCCTTATTCCCTTTTTTGCGG...</td>\n",
       "      <td>MSIQHFRVALIPFFAAFCLPVFAHPETLVKVKDAEDQLGARVGYIE...</td>\n",
       "      <td>7.0</td>\n",
       "      <td>293.0</td>\n",
       "      <td>OneHot</td>\n",
       "      <td>24</td>\n",
       "      <td>2</td>\n",
       "      <td>1d0c4863</td>\n",
       "      <td>seq_idx_2053_3311</td>\n",
       "      <td></td>\n",
       "    </tr>\n",
       "    <tr>\n",
       "      <th>2</th>\n",
       "      <td>-1.449553</td>\n",
       "      <td>-1.769109</td>\n",
       "      <td>-2.618223</td>\n",
       "      <td>-2.315377</td>\n",
       "      <td>-1.079944</td>\n",
       "      <td>-1.769109</td>\n",
       "      <td>-1.773516</td>\n",
       "      <td>-2.315377</td>\n",
       "      <td>-1.449553</td>\n",
       "      <td>-1.530902</td>\n",
       "      <td>...</td>\n",
       "      <td>ATGAGTATTCAACATTTCCGTGTCGCCCTTATTCCCTTTTTTGCGG...</td>\n",
       "      <td>MSIQHFRVALIPFFAAFCLPVFAHPETLVKVKDAEDQLGARVGYIE...</td>\n",
       "      <td>7.0</td>\n",
       "      <td>293.0</td>\n",
       "      <td>OneHot</td>\n",
       "      <td>96</td>\n",
       "      <td>0</td>\n",
       "      <td>2277bff5</td>\n",
       "      <td>seq_idx_2514_3406</td>\n",
       "      <td></td>\n",
       "    </tr>\n",
       "    <tr>\n",
       "      <th>3</th>\n",
       "      <td>-1.268493</td>\n",
       "      <td>-2.465868</td>\n",
       "      <td>-2.812826</td>\n",
       "      <td>-2.476037</td>\n",
       "      <td>-1.027188</td>\n",
       "      <td>-2.406891</td>\n",
       "      <td>-2.536237</td>\n",
       "      <td>-2.476037</td>\n",
       "      <td>-1.268493</td>\n",
       "      <td>-2.465868</td>\n",
       "      <td>...</td>\n",
       "      <td>ATGAGTATTCAACATTTCCGTGTCGCCCTTATTCCCTTTTTTGCGG...</td>\n",
       "      <td>MSIQHFRVALIPFFAAFCLPVFAHPETLVKVKDAEDQLGARVGYIE...</td>\n",
       "      <td>7.0</td>\n",
       "      <td>293.0</td>\n",
       "      <td>OneHot</td>\n",
       "      <td>96</td>\n",
       "      <td>3</td>\n",
       "      <td>108b3ec7</td>\n",
       "      <td>seq_idx_1878_128</td>\n",
       "      <td></td>\n",
       "    </tr>\n",
       "    <tr>\n",
       "      <th>4</th>\n",
       "      <td>-1.417045</td>\n",
       "      <td>-1.590053</td>\n",
       "      <td>-2.227124</td>\n",
       "      <td>-2.166924</td>\n",
       "      <td>-1.417045</td>\n",
       "      <td>-1.428771</td>\n",
       "      <td>-2.227124</td>\n",
       "      <td>-2.166924</td>\n",
       "      <td>-1.011380</td>\n",
       "      <td>-1.590053</td>\n",
       "      <td>...</td>\n",
       "      <td>ATGAGTATTCAACATTTCCGTGTCGCCCTTATTCCCTTTTTTGCGG...</td>\n",
       "      <td>MSIQHFRVALIPFFAAFCLPVFAHPETLVKVKDAEDQLGARVGYIE...</td>\n",
       "      <td>7.0</td>\n",
       "      <td>293.0</td>\n",
       "      <td>ET_Random_Init_1</td>\n",
       "      <td>96</td>\n",
       "      <td>3</td>\n",
       "      <td>33bfb65e</td>\n",
       "      <td>seq_idx_2894_1066</td>\n",
       "      <td></td>\n",
       "    </tr>\n",
       "  </tbody>\n",
       "</table>\n",
       "<p>5 rows × 46 columns</p>\n",
       "</div>"
      ],
      "text/plain": [
       "    lfe_250  lfe_1000  lfe_2500  lfe_5000  rep1_250  rep1_1000  rep1_2500  \\\n",
       "0 -1.003346 -2.423684 -2.469612 -2.194874 -1.003346  -2.125728  -2.255074   \n",
       "1 -1.207588 -2.195691 -2.400481 -2.088745 -1.207588  -2.195691  -1.847915   \n",
       "2 -1.449553 -1.769109 -2.618223 -2.315377 -1.079944  -1.769109  -1.773516   \n",
       "3 -1.268493 -2.465868 -2.812826 -2.476037 -1.027188  -2.406891  -2.536237   \n",
       "4 -1.417045 -1.590053 -2.227124 -2.166924 -1.417045  -1.428771  -2.227124   \n",
       "\n",
       "   rep1_5000  rep2_250  rep2_1000      ...       \\\n",
       "0  -2.194874 -0.734210  -2.423684      ...        \n",
       "1  -2.088745 -1.113712  -1.509455      ...        \n",
       "2  -2.315377 -1.449553  -1.530902      ...        \n",
       "3  -2.476037 -1.268493  -2.465868      ...        \n",
       "4  -2.166924 -1.011380  -1.590053      ...        \n",
       "\n",
       "                                        ligated_gene  \\\n",
       "0  ATGAGTATTCAACATTTCCGTGTCGCCCTTATTCCCTTTTTTGCGG...   \n",
       "1  ATGAGTATTCAACATTTCCGTGTCGCCCTTATTCCCTTTTTTGCGG...   \n",
       "2  ATGAGTATTCAACATTTCCGTGTCGCCCTTATTCCCTTTTTTGCGG...   \n",
       "3  ATGAGTATTCAACATTTCCGTGTCGCCCTTATTCCCTTTTTTGCGG...   \n",
       "4  ATGAGTATTCAACATTTCCGTGTCGCCCTTATTCCCTTTTTTGCGG...   \n",
       "\n",
       "                             ligated_gene_translated n_mut_rel_wt oligo_len  \\\n",
       "0  MSIQHFRVALIPFFAAFCLPVFAHPETLVKVKDAEDQLGARVGYIE...          7.0     293.0   \n",
       "1  MSIQHFRVALIPFFAAFCLPVFAHPETLVKVKDAEDQLGARVGYIE...          7.0     293.0   \n",
       "2  MSIQHFRVALIPFFAAFCLPVFAHPETLVKVKDAEDQLGARVGYIE...          7.0     293.0   \n",
       "3  MSIQHFRVALIPFFAAFCLPVFAHPETLVKVKDAEDQLGARVGYIE...          7.0     293.0   \n",
       "4  MSIQHFRVALIPFFAAFCLPVFAHPETLVKVKDAEDQLGARVGYIE...          7.0     293.0   \n",
       "\n",
       "              model  ntrain  rep  rep_hash       seq_traj_idx  special_case  \n",
       "0  ET_Random_Init_1      96    3  33bfb65e  seq_idx_2563_2629                \n",
       "1            OneHot      24    2  1d0c4863  seq_idx_2053_3311                \n",
       "2            OneHot      96    0  2277bff5  seq_idx_2514_3406                \n",
       "3            OneHot      96    3  108b3ec7   seq_idx_1878_128                \n",
       "4  ET_Random_Init_1      96    3  33bfb65e  seq_idx_2894_1066                \n",
       "\n",
       "[5 rows x 46 columns]"
      ]
     },
     "execution_count": 11,
     "metadata": {},
     "output_type": "execute_result"
    }
   ],
   "source": [
    "design_df.head()"
   ]
  },
  {
   "cell_type": "code",
   "execution_count": 12,
   "metadata": {},
   "outputs": [
    {
     "name": "stdout",
     "output_type": "stream",
     "text": [
      "9679\n",
      "187053\n"
     ]
    }
   ],
   "source": [
    "dseqs = list(design_df['seq'])\n",
    "print(len(dseqs))\n",
    "\n",
    "seqs += dseqs\n",
    "print(len(seqs))"
   ]
  },
  {
   "cell_type": "markdown",
   "metadata": {},
   "source": [
    "## Now we inference!"
   ]
  },
  {
   "cell_type": "code",
   "execution_count": 13,
   "metadata": {
    "collapsed": true
   },
   "outputs": [],
   "source": [
    "data_io_utils.sync_s3_path_to_local(paths.EVOTUNING_CKPT_DIR)"
   ]
  },
  {
   "cell_type": "code",
   "execution_count": 14,
   "metadata": {
    "collapsed": true
   },
   "outputs": [],
   "source": [
    "def seq2rep_dict(seqs, reps, log_likes):\n",
    "    assert len(seqs) == reps.shape[0]\n",
    "    \n",
    "    d = {}\n",
    "    for i,s in enumerate(seqs):\n",
    "        d[s] = (reps[i], log_likes[i])\n",
    "        \n",
    "    return d"
   ]
  },
  {
   "cell_type": "code",
   "execution_count": 15,
   "metadata": {
    "collapsed": true
   },
   "outputs": [],
   "source": [
    "weight_paths = [\n",
    "    paths.BLAC_ET_RANDOM_INIT_1_WEIGHT_PATH,\n",
    "    paths.BLAC_ET_GLOBAL_INIT_1_WEIGHT_PATH,\n",
    "]\n",
    "\n",
    "output_paths = [\n",
    "    os.path.join(data_io_utils.S3_DATA_ROOT, 'datasets/A011', 'BLAC_seq2rep_random_init_v2.p'),\n",
    "    os.path.join(data_io_utils.S3_DATA_ROOT, 'datasets/A011', 'BLAC_seq2rep_et_global_init_1_v2.p'),\n",
    "]"
   ]
  },
  {
   "cell_type": "code",
   "execution_count": 16,
   "metadata": {
    "collapsed": true
   },
   "outputs": [],
   "source": [
    "for op in output_paths:\n",
    "    data_io_utils.sync_s3_path_to_local(op, is_single_file=True)"
   ]
  },
  {
   "cell_type": "code",
   "execution_count": 17,
   "metadata": {},
   "outputs": [
    {
     "name": "stdout",
     "output_type": "stream",
     "text": [
      "/notebooks/analysis/common/../../data/s3/evotuning_checkpoints/beta_lactamase/unirep_random_init_1 /notebooks/analysis/common/../../data/s3/datasets/A011/BLAC_seq2rep_random_init_v2.p\n",
      "seq2rep dictionary already exists\n",
      "9160 to inference\n"
     ]
    },
    {
     "name": "stderr",
     "output_type": "stream",
     "text": [
      "/usr/local/lib/python3.5/dist-packages/h5py/__init__.py:34: FutureWarning: Conversion of the second argument of issubdtype from `float` to `np.floating` is deprecated. In future, it will be treated as `np.float64 == np.dtype(float).type`.\n",
      "  from ._conv import register_converters as _register_converters\n"
     ]
    },
    {
     "name": "stdout",
     "output_type": "stream",
     "text": [
      "Initializing variables\n",
      "\n",
      "0 500\n",
      "Time taken to do batch: 2.9122166633605957\n",
      "\n",
      "500 1000\n",
      "Time taken to do batch: 1.7462985515594482\n",
      "\n",
      "1000 1500\n",
      "Time taken to do batch: 1.746063470840454\n",
      "\n",
      "1500 2000\n",
      "Time taken to do batch: 1.7668373584747314\n",
      "\n",
      "2000 2500\n",
      "Time taken to do batch: 1.7756597995758057\n",
      "\n",
      "2500 3000\n",
      "Time taken to do batch: 1.7623331546783447\n",
      "\n",
      "3000 3500\n",
      "Time taken to do batch: 1.7547171115875244\n",
      "\n",
      "3500 4000\n",
      "Time taken to do batch: 1.7505903244018555\n",
      "\n",
      "4000 4500\n",
      "Time taken to do batch: 1.7493360042572021\n",
      "\n",
      "4500 5000\n",
      "Time taken to do batch: 1.747279405593872\n",
      "\n",
      "5000 5500\n",
      "Time taken to do batch: 1.756197214126587\n",
      "\n",
      "5500 6000\n",
      "Time taken to do batch: 1.7557110786437988\n",
      "\n",
      "6000 6500\n",
      "Time taken to do batch: 1.74696946144104\n",
      "\n",
      "6500 7000\n",
      "Time taken to do batch: 1.7482857704162598\n",
      "\n",
      "7000 7500\n",
      "Time taken to do batch: 1.750725507736206\n",
      "\n",
      "7500 8000\n",
      "Time taken to do batch: 1.7503793239593506\n",
      "\n",
      "8000 8500\n",
      "Time taken to do batch: 1.7539870738983154\n",
      "\n",
      "8500 9000\n",
      "Time taken to do batch: 1.751142978668213\n",
      "\n",
      "9000 9160\n",
      "Time taken to do batch: 1.1688125133514404\n",
      "/notebooks/analysis/common/../../data/s3/evotuning_checkpoints/beta_lactamase/unirep_global_init_1 /notebooks/analysis/common/../../data/s3/datasets/A011/BLAC_seq2rep_et_global_init_1_v2.p\n",
      "seq2rep dictionary already exists\n",
      "9160 to inference\n",
      "Initializing variables\n",
      "\n",
      "0 500\n",
      "Time taken to do batch: 1.7752776145935059\n",
      "\n",
      "500 1000\n",
      "Time taken to do batch: 1.744248628616333\n",
      "\n",
      "1000 1500\n",
      "Time taken to do batch: 1.7454750537872314\n",
      "\n",
      "1500 2000\n",
      "Time taken to do batch: 1.774463176727295\n",
      "\n",
      "2000 2500\n",
      "Time taken to do batch: 1.758413553237915\n",
      "\n",
      "2500 3000\n",
      "Time taken to do batch: 1.7574846744537354\n",
      "\n",
      "3000 3500\n",
      "Time taken to do batch: 1.746797800064087\n",
      "\n",
      "3500 4000\n",
      "Time taken to do batch: 1.7589688301086426\n",
      "\n",
      "4000 4500\n",
      "Time taken to do batch: 1.7492401599884033\n",
      "\n",
      "4500 5000\n",
      "Time taken to do batch: 1.7469501495361328\n",
      "\n",
      "5000 5500\n",
      "Time taken to do batch: 1.7452607154846191\n",
      "\n",
      "5500 6000\n",
      "Time taken to do batch: 1.7583041191101074\n",
      "\n",
      "6000 6500\n",
      "Time taken to do batch: 1.7595417499542236\n",
      "\n",
      "6500 7000\n",
      "Time taken to do batch: 1.7607014179229736\n",
      "\n",
      "7000 7500\n",
      "Time taken to do batch: 1.7640380859375\n",
      "\n",
      "7500 8000\n",
      "Time taken to do batch: 1.753145694732666\n",
      "\n",
      "8000 8500\n",
      "Time taken to do batch: 1.7555897235870361\n",
      "\n",
      "8500 9000\n",
      "Time taken to do batch: 1.7506394386291504\n",
      "\n",
      "9000 9160\n",
      "Time taken to do batch: 1.166778326034546\n"
     ]
    }
   ],
   "source": [
    "for i in range(len(weight_paths)):\n",
    "    print(weight_paths[i], output_paths[i])\n",
    "    \n",
    "    if os.path.exists(output_paths[i]) and True:\n",
    "        print('seq2rep dictionary already exists')\n",
    "        with open(output_paths[i], 'rb') as f:\n",
    "            s2r = pickle.load(file=f)\n",
    "    else:\n",
    "        print('Starting fresh')\n",
    "        s2r = {}\n",
    "        \n",
    "    remaining_seqs = list(set(seqs) - set(s2r.keys()))\n",
    "    \n",
    "    print(len(remaining_seqs), 'to inference')\n",
    "    \n",
    "    if len(remaining_seqs) > 0:\n",
    "        reps, logits, log_likes = A011_common.inference_seqs(\n",
    "                remaining_seqs, model_weight_path=weight_paths[i], return_loglikes=True)\n",
    "\n",
    "        d = seq2rep_dict(remaining_seqs, reps, log_likes)\n",
    "        s2r.update(d)\n",
    "\n",
    "        os.makedirs(os.path.dirname(output_paths[i]), exist_ok=True)\n",
    "        with open(output_paths[i], 'wb') as f:\n",
    "            pickle.dump(file=f, obj=s2r)\n",
    "\n",
    "        data_io_utils.sync_local_path_to_s3(output_paths[i], is_single_file=True)"
   ]
  }
 ],
 "metadata": {
  "kernelspec": {
   "display_name": "Python 3",
   "language": "python",
   "name": "python3"
  },
  "language_info": {
   "codemirror_mode": {
    "name": "ipython",
    "version": 3
   },
   "file_extension": ".py",
   "mimetype": "text/x-python",
   "name": "python",
   "nbconvert_exporter": "python",
   "pygments_lexer": "ipython3",
   "version": "3.5.2"
  }
 },
 "nbformat": 4,
 "nbformat_minor": 2
}
