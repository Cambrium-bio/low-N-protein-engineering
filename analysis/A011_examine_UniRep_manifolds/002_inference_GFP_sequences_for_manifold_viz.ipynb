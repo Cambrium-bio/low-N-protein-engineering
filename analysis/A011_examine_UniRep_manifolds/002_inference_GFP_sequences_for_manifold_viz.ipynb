{
 "cells": [
  {
   "cell_type": "markdown",
   "metadata": {},
   "source": [
    "## Inference (generate reps for) all GFP sequences we'll need in order to make the PCA plots for Fig 4.\n",
    "\n",
    "This notebook generates the representations and stores them in pickles. It is compute heavy. Downstream notebooks call on these precomputed reps, thus it's not necessary to run this notebook in order to run downstream ones."
   ]
  },
  {
   "cell_type": "code",
   "execution_count": 1,
   "metadata": {
    "collapsed": true
   },
   "outputs": [],
   "source": [
    "import os\n",
    "import sys\n",
    "import warnings\n",
    "import multiprocessing as mp\n",
    "import random\n",
    "import pickle\n",
    "import glob\n",
    "import time\n",
    "from collections import OrderedDict\n",
    "\n",
    "from Bio import SeqIO\n",
    "import numpy as np\n",
    "import pandas as pd\n",
    "import matplotlib.pyplot as plt\n",
    "import scipy\n",
    "from sklearn.decomposition import PCA\n",
    "from scipy.interpolate import UnivariateSpline\n",
    "\n",
    "sys.path.append('../common')\n",
    "import data_io_utils\n",
    "import paths\n",
    "import utils\n",
    "import constants\n",
    "\n",
    "sys.path.append('../A003_policy_optimization/')\n",
    "import A003_common\n",
    "import models\n",
    "\n",
    "sys.path.append('../A008_analyze_chip_1/')\n",
    "import A008_common\n",
    "\n",
    "import A011_common\n",
    "\n",
    "%reload_ext autoreload\n",
    "%autoreload 2"
   ]
  },
  {
   "cell_type": "markdown",
   "metadata": {},
   "source": [
    "## Inference a collection of GFP sequences\n",
    "\n",
    "We'll inference all possible interesting GFP sequences and come up with a dictionary that maps sequence to representation."
   ]
  },
  {
   "cell_type": "markdown",
   "metadata": {},
   "source": [
    "### Evotuning seqs"
   ]
  },
  {
   "cell_type": "code",
   "execution_count": 2,
   "metadata": {},
   "outputs": [
    {
     "name": "stdout",
     "output_type": "stream",
     "text": [
      "25781\n"
     ]
    }
   ],
   "source": [
    "seq_file = 'GFP_evotuning_seqs_wide_jackhmmer_3_train.txt'\n",
    "with open(seq_file) as f:\n",
    "    seqs = f.read().splitlines()\n",
    "    \n",
    "print(len(seqs))"
   ]
  },
  {
   "cell_type": "markdown",
   "metadata": {
    "scrolled": true
   },
   "source": [
    "### Sarkisyan data"
   ]
  },
  {
   "cell_type": "code",
   "execution_count": 3,
   "metadata": {},
   "outputs": [
    {
     "name": "stdout",
     "output_type": "stream",
     "text": [
      "77496\n"
     ]
    }
   ],
   "source": [
    "seq_files = [paths.SARKISYAN_SPLIT_0_FILE, paths.SARKISYAN_SPLIT_1_FILE, paths.SARKISYAN_SPLIT_2_FILE]\n",
    "for sf in seq_files:\n",
    "    data_io_utils.sync_s3_path_to_local(sf, is_single_file=True)\n",
    "    \n",
    "df = pd.concat([pd.read_csv(sf) for sf in seq_files], axis=0)\n",
    "\n",
    "seqs += list(df['seq'])\n",
    "\n",
    "print(len(seqs))"
   ]
  },
  {
   "cell_type": "markdown",
   "metadata": {},
   "source": [
    "### A011f random sequences"
   ]
  },
  {
   "cell_type": "code",
   "execution_count": 6,
   "metadata": {},
   "outputs": [
    {
     "name": "stdout",
     "output_type": "stream",
     "text": [
      "128005\n"
     ]
    }
   ],
   "source": [
    "seq_file = 'A011f_GFP_random_seqs.txt'\n",
    "with open(seq_file) as f:\n",
    "    rseqs = f.read().splitlines()\n",
    "    \n",
    "seqs += rseqs\n",
    "print(len(seqs))"
   ]
  },
  {
   "cell_type": "markdown",
   "metadata": {},
   "source": [
    "## Some evolutionary trajectories\n",
    "\n",
    "We want trajectories that have a lot of dynamic range. Start from the bottom and now they here."
   ]
  },
  {
   "cell_type": "code",
   "execution_count": 7,
   "metadata": {
    "collapsed": true
   },
   "outputs": [],
   "source": [
    "traj_dir = os.path.join(data_io_utils.S3_DATA_ROOT, 'chip_1/simulated_annealing/GFP')\n",
    "\n",
    "traj_file = os.path.join(traj_dir, 'GFP_SimAnneal-ET_Global_Init_1-0096-00-3ea5f6e.p')\n",
    "data_io_utils.sync_s3_path_to_local(traj_file, is_single_file=True)\n",
    "\n",
    "with open(traj_file, 'rb') as f:\n",
    "    traj_data = pickle.load(f)\n",
    "    \n",
    "# traj_data['sa_results']['seq_history'] is a list of lists. rows = iterations, columns = trajectories."
   ]
  },
  {
   "cell_type": "code",
   "execution_count": 8,
   "metadata": {},
   "outputs": [
    {
     "name": "stdout",
     "output_type": "stream",
     "text": [
      "16\n"
     ]
    },
    {
     "data": {
      "image/png": "[encoded data removed]",
      "text/plain": [
       "<matplotlib.figure.Figure at 0x7fd554b5bc50>"
      ]
     },
     "metadata": {},
     "output_type": "display_data"
    }
   ],
   "source": [
    "fit = np.array(traj_data['sa_results']['fitness_history'])\n",
    "mask = np.logical_and(np.min(fit, axis=0) < 0.75, np.max(fit, axis=0) > 0.95)\n",
    "\n",
    "print(np.sum(mask))\n",
    "\n",
    "sidx = np.argwhere(mask).reshape(-1)\n",
    "\n",
    "plt.plot(fit[:,mask], '-k')\n",
    "plt.show()"
   ]
  },
  {
   "cell_type": "code",
   "execution_count": 9,
   "metadata": {},
   "outputs": [
    {
     "name": "stdout",
     "output_type": "stream",
     "text": [
      "(3001, 3500)\n",
      "GFP_SimAnneal-ET_Global_Init_1-0096-00-3ea5f6e_traj-1 15\n",
      "GFP_SimAnneal-ET_Global_Init_1-0096-00-3ea5f6e_traj-200 20\n",
      "GFP_SimAnneal-ET_Global_Init_1-0096-00-3ea5f6e_traj-313 23\n",
      "GFP_SimAnneal-ET_Global_Init_1-0096-00-3ea5f6e_traj-596 22\n",
      "GFP_SimAnneal-ET_Global_Init_1-0096-00-3ea5f6e_traj-716 26\n",
      "GFP_SimAnneal-ET_Global_Init_1-0096-00-3ea5f6e_traj-826 11\n",
      "GFP_SimAnneal-ET_Global_Init_1-0096-00-3ea5f6e_traj-938 6\n",
      "GFP_SimAnneal-ET_Global_Init_1-0096-00-3ea5f6e_traj-1508 19\n",
      "GFP_SimAnneal-ET_Global_Init_1-0096-00-3ea5f6e_traj-1562 13\n",
      "GFP_SimAnneal-ET_Global_Init_1-0096-00-3ea5f6e_traj-1974 20\n",
      "GFP_SimAnneal-ET_Global_Init_1-0096-00-3ea5f6e_traj-2323 14\n",
      "GFP_SimAnneal-ET_Global_Init_1-0096-00-3ea5f6e_traj-2388 24\n",
      "GFP_SimAnneal-ET_Global_Init_1-0096-00-3ea5f6e_traj-2646 23\n",
      "GFP_SimAnneal-ET_Global_Init_1-0096-00-3ea5f6e_traj-2855 33\n",
      "GFP_SimAnneal-ET_Global_Init_1-0096-00-3ea5f6e_traj-3143 35\n",
      "GFP_SimAnneal-ET_Global_Init_1-0096-00-3ea5f6e_traj-3171 30\n"
     ]
    }
   ],
   "source": [
    "trajectory_idx = sidx\n",
    "\n",
    "seq_history = np.array(traj_data['sa_results']['seq_history'])\n",
    "print(seq_history.shape)\n",
    "\n",
    "\n",
    "traj_seqs = []\n",
    "traj_dict = {}\n",
    "for i in range(len(trajectory_idx)):\n",
    "    traj_name = os.path.basename(traj_file).replace('.p', '_') + 'traj-' + str(trajectory_idx[i])\n",
    "    \n",
    "    seq2qfunc = OrderedDict()\n",
    "    s = list(seq_history[:, trajectory_idx[i]])\n",
    "    qfuncs = fit[:, trajectory_idx[i]]\n",
    "    \n",
    "    for j in range(len(s)):\n",
    "        seq2qfunc[s[j]] = qfuncs[j]\n",
    "    \n",
    "    print(traj_name, len(seq2qfunc))\n",
    "    \n",
    "    traj_dict[traj_name] = seq2qfunc\n",
    "    traj_seqs += s"
   ]
  },
  {
   "cell_type": "code",
   "execution_count": 10,
   "metadata": {
    "collapsed": true
   },
   "outputs": [],
   "source": [
    "with open('A011a_GFP_example_trajectories.p', 'wb') as f:\n",
    "    pickle.dump(file=f, obj=traj_dict)"
   ]
  },
  {
   "cell_type": "code",
   "execution_count": 11,
   "metadata": {},
   "outputs": [
    {
     "name": "stdout",
     "output_type": "stream",
     "text": [
      "176021\n"
     ]
    }
   ],
   "source": [
    "seqs += traj_seqs\n",
    "print(len(seqs))"
   ]
  },
  {
   "cell_type": "markdown",
   "metadata": {},
   "source": [
    "## Designed sequences"
   ]
  },
  {
   "cell_type": "code",
   "execution_count": 12,
   "metadata": {
    "collapsed": true
   },
   "outputs": [],
   "source": [
    "inf_brightness_data_file = os.path.join(data_io_utils.S3_DATA_ROOT, 'chip_1', \n",
    "                'A052b_Chip_1_inferred_brightness_v2.csv')\n",
    "data_io_utils.sync_s3_path_to_local(inf_brightness_data_file, is_single_file=True)\n",
    "\n",
    "df = pd.read_csv(inf_brightness_data_file)\n",
    "q = df['id'].apply(lambda s: pd.Series(A008_common.split_seq_id_into_features(s)))\n",
    "design_df = df.merge(q, left_index=True, right_index=True)"
   ]
  },
  {
   "cell_type": "code",
   "execution_count": 13,
   "metadata": {},
   "outputs": [
    {
     "name": "stdout",
     "output_type": "stream",
     "text": [
      "14306\n",
      "190325\n"
     ]
    }
   ],
   "source": [
    "dseqs = list(design_df['seq'])\n",
    "print(len(dseqs))\n",
    "\n",
    "dseqs = [s for s in dseqs if isinstance(s, str)]\n",
    "\n",
    "seqs += dseqs\n",
    "print(len(seqs))"
   ]
  },
  {
   "cell_type": "markdown",
   "metadata": {},
   "source": [
    "## Now we inference!"
   ]
  },
  {
   "cell_type": "code",
   "execution_count": 14,
   "metadata": {
    "collapsed": true
   },
   "outputs": [],
   "source": [
    "data_io_utils.sync_s3_path_to_local(paths.EVOTUNING_CKPT_DIR)"
   ]
  },
  {
   "cell_type": "code",
   "execution_count": 15,
   "metadata": {
    "collapsed": true
   },
   "outputs": [],
   "source": [
    "def seq2rep_dict(seqs, reps, log_likes):\n",
    "    assert len(seqs) == reps.shape[0]\n",
    "    \n",
    "    d = {}\n",
    "    for i,s in enumerate(seqs): \n",
    "        d[s] = (reps[i], log_likes[i]) \n",
    "        \n",
    "    return d"
   ]
  },
  {
   "cell_type": "code",
   "execution_count": 16,
   "metadata": {
    "collapsed": true
   },
   "outputs": [],
   "source": [
    "weight_paths = [\n",
    "    paths.GFP_ET_RANDOM_INIT_1_WEIGHT_PATH, \n",
    "    paths.GFP_ET_GLOBAL_INIT_1_WEIGHT_PATH, \n",
    "    paths.GFP_ET_GLOBAL_INIT_2_WEIGHT_PATH\n",
    "]\n",
    "\n",
    "output_paths = [\n",
    "    os.path.join(data_io_utils.S3_DATA_ROOT, 'datasets/A011', 'GFP_seq2rep_random_init_v2.p'),\n",
    "    os.path.join(data_io_utils.S3_DATA_ROOT, 'datasets/A011', 'GFP_seq2rep_et_global_init_1_v2.p'),\n",
    "    os.path.join(data_io_utils.S3_DATA_ROOT, 'datasets/A011', 'GFP_seq2rep_et_global_init_2_v2.p')\n",
    "]"
   ]
  },
  {
   "cell_type": "code",
   "execution_count": 17,
   "metadata": {
    "collapsed": true
   },
   "outputs": [],
   "source": [
    "for op in output_paths:\n",
    "    data_io_utils.sync_s3_path_to_local(op, is_single_file=True)"
   ]
  },
  {
   "cell_type": "code",
   "execution_count": 18,
   "metadata": {
    "scrolled": true
   },
   "outputs": [
    {
     "name": "stdout",
     "output_type": "stream",
     "text": [
      "/notebooks/analysis/common/../../data/s3/evotuning_checkpoints/gfp/unirep_random_init_1 /notebooks/analysis/common/../../data/s3/datasets/A011/GFP_seq2rep_random_init_v2.p\n",
      "seq2rep dictionary already exists\n",
      "13624 to inference\n"
     ]
    },
    {
     "name": "stderr",
     "output_type": "stream",
     "text": [
      "/usr/local/lib/python3.5/dist-packages/h5py/__init__.py:34: FutureWarning: Conversion of the second argument of issubdtype from `float` to `np.floating` is deprecated. In future, it will be treated as `np.float64 == np.dtype(float).type`.\n",
      "  from ._conv import register_converters as _register_converters\n"
     ]
    },
    {
     "name": "stdout",
     "output_type": "stream",
     "text": [
      "Initializing variables\n",
      "\n",
      "0 500\n",
      "Time taken to do batch: 68.72888255119324\n",
      "\n",
      "500 1000\n",
      "Time taken to do batch: 1.4670169353485107\n",
      "\n",
      "1000 1500\n",
      "Time taken to do batch: 1.4619419574737549\n",
      "\n",
      "1500 2000\n",
      "Time taken to do batch: 1.4611129760742188\n",
      "\n",
      "2000 2500\n",
      "Time taken to do batch: 1.4650640487670898\n",
      "\n",
      "2500 3000\n",
      "Time taken to do batch: 1.459200382232666\n",
      "\n",
      "3000 3500\n",
      "Time taken to do batch: 1.4576711654663086\n",
      "\n",
      "3500 4000\n",
      "Time taken to do batch: 1.4759325981140137\n",
      "\n",
      "4000 4500\n",
      "Time taken to do batch: 1.457320213317871\n",
      "\n",
      "4500 5000\n",
      "Time taken to do batch: 1.4640276432037354\n",
      "\n",
      "5000 5500\n",
      "Time taken to do batch: 1.4629931449890137\n",
      "\n",
      "5500 6000\n",
      "Time taken to do batch: 1.4613254070281982\n",
      "\n",
      "6000 6500\n",
      "Time taken to do batch: 1.4773294925689697\n",
      "\n",
      "6500 7000\n",
      "Time taken to do batch: 1.4744222164154053\n",
      "\n",
      "7000 7500\n",
      "Time taken to do batch: 1.4585864543914795\n",
      "\n",
      "7500 8000\n",
      "Time taken to do batch: 1.4752635955810547\n",
      "\n",
      "8000 8500\n",
      "Time taken to do batch: 1.4599318504333496\n",
      "\n",
      "8500 9000\n",
      "Time taken to do batch: 1.4632956981658936\n",
      "\n",
      "9000 9500\n",
      "Time taken to do batch: 1.4598422050476074\n",
      "\n",
      "9500 10000\n",
      "Time taken to do batch: 1.465885877609253\n",
      "\n",
      "10000 10500\n",
      "Time taken to do batch: 1.4710183143615723\n",
      "\n",
      "10500 11000\n",
      "Time taken to do batch: 1.4726378917694092\n",
      "\n",
      "11000 11500\n",
      "Time taken to do batch: 1.4696063995361328\n",
      "\n",
      "11500 12000\n",
      "Time taken to do batch: 1.4655749797821045\n",
      "\n",
      "12000 12500\n",
      "Time taken to do batch: 1.4908504486083984\n",
      "\n",
      "12500 13000\n",
      "Time taken to do batch: 1.4584481716156006\n",
      "\n",
      "13000 13500\n",
      "Time taken to do batch: 1.4645085334777832\n",
      "\n",
      "13500 13624\n",
      "Time taken to do batch: 0.9245929718017578\n",
      "/notebooks/analysis/common/../../data/s3/evotuning_checkpoints/gfp/unirep_global_init_1 /notebooks/analysis/common/../../data/s3/datasets/A011/GFP_seq2rep_et_global_init_1_v2.p\n",
      "seq2rep dictionary already exists\n",
      "13624 to inference\n",
      "Initializing variables\n",
      "\n",
      "0 500\n",
      "Time taken to do batch: 1.4885551929473877\n",
      "\n",
      "500 1000\n",
      "Time taken to do batch: 1.4677000045776367\n",
      "\n",
      "1000 1500\n",
      "Time taken to do batch: 1.4645123481750488\n",
      "\n",
      "1500 2000\n",
      "Time taken to do batch: 1.4584107398986816\n",
      "\n",
      "2000 2500\n",
      "Time taken to do batch: 1.4601333141326904\n",
      "\n",
      "2500 3000\n",
      "Time taken to do batch: 1.4617078304290771\n",
      "\n",
      "3000 3500\n",
      "Time taken to do batch: 1.476898193359375\n",
      "\n",
      "3500 4000\n",
      "Time taken to do batch: 1.4787187576293945\n",
      "\n",
      "4000 4500\n",
      "Time taken to do batch: 1.462646245956421\n",
      "\n",
      "4500 5000\n",
      "Time taken to do batch: 1.4684555530548096\n",
      "\n",
      "5000 5500\n",
      "Time taken to do batch: 1.4691789150238037\n",
      "\n",
      "5500 6000\n",
      "Time taken to do batch: 1.4621107578277588\n",
      "\n",
      "6000 6500\n",
      "Time taken to do batch: 1.4779622554779053\n",
      "\n",
      "6500 7000\n",
      "Time taken to do batch: 1.477445125579834\n",
      "\n",
      "7000 7500\n",
      "Time taken to do batch: 1.4661650657653809\n",
      "\n",
      "7500 8000\n",
      "Time taken to do batch: 1.4650537967681885\n",
      "\n",
      "8000 8500\n",
      "Time taken to do batch: 1.458169937133789\n",
      "\n",
      "8500 9000\n",
      "Time taken to do batch: 1.4666404724121094\n",
      "\n",
      "9000 9500\n",
      "Time taken to do batch: 1.4565374851226807\n",
      "\n",
      "9500 10000\n",
      "Time taken to do batch: 1.4617018699645996\n",
      "\n",
      "10000 10500\n",
      "Time taken to do batch: 1.4639232158660889\n",
      "\n",
      "10500 11000\n",
      "Time taken to do batch: 1.4616262912750244\n",
      "\n",
      "11000 11500\n",
      "Time taken to do batch: 1.461165189743042\n",
      "\n",
      "11500 12000\n",
      "Time taken to do batch: 1.4744510650634766\n",
      "\n",
      "12000 12500\n",
      "Time taken to do batch: 1.4985778331756592\n",
      "\n",
      "12500 13000\n",
      "Time taken to do batch: 1.4762029647827148\n",
      "\n",
      "13000 13500\n",
      "Time taken to do batch: 1.4637014865875244\n",
      "\n",
      "13500 13624\n",
      "Time taken to do batch: 0.9259159564971924\n",
      "/notebooks/analysis/common/../../data/s3/evotuning_checkpoints/gfp/unirep_global_init_2 /notebooks/analysis/common/../../data/s3/datasets/A011/GFP_seq2rep_et_global_init_2_v2.p\n",
      "seq2rep dictionary already exists\n",
      "13624 to inference\n",
      "Initializing variables\n",
      "\n",
      "0 500\n",
      "Time taken to do batch: 1.4897899627685547\n",
      "\n",
      "500 1000\n",
      "Time taken to do batch: 1.4674720764160156\n",
      "\n",
      "1000 1500\n",
      "Time taken to do batch: 1.479194164276123\n",
      "\n",
      "1500 2000\n",
      "Time taken to do batch: 1.4729335308074951\n",
      "\n",
      "2000 2500\n",
      "Time taken to do batch: 1.4624879360198975\n",
      "\n",
      "2500 3000\n",
      "Time taken to do batch: 1.4798476696014404\n",
      "\n",
      "3000 3500\n",
      "Time taken to do batch: 1.473705768585205\n",
      "\n",
      "3500 4000\n",
      "Time taken to do batch: 1.4925038814544678\n",
      "\n",
      "4000 4500\n",
      "Time taken to do batch: 1.4886102676391602\n",
      "\n",
      "4500 5000\n",
      "Time taken to do batch: 1.476818323135376\n",
      "\n",
      "5000 5500\n",
      "Time taken to do batch: 1.4785420894622803\n",
      "\n",
      "5500 6000\n",
      "Time taken to do batch: 1.4753549098968506\n",
      "\n",
      "6000 6500\n",
      "Time taken to do batch: 1.497361421585083\n",
      "\n",
      "6500 7000\n",
      "Time taken to do batch: 1.4927434921264648\n",
      "\n",
      "7000 7500\n",
      "Time taken to do batch: 1.4749467372894287\n",
      "\n",
      "7500 8000\n",
      "Time taken to do batch: 1.4638264179229736\n",
      "\n",
      "8000 8500\n",
      "Time taken to do batch: 1.4560832977294922\n",
      "\n",
      "8500 9000\n",
      "Time taken to do batch: 1.4677705764770508\n",
      "\n",
      "9000 9500\n",
      "Time taken to do batch: 1.466566562652588\n",
      "\n",
      "9500 10000\n",
      "Time taken to do batch: 1.4876930713653564\n",
      "\n",
      "10000 10500\n",
      "Time taken to do batch: 1.4679286479949951\n",
      "\n",
      "10500 11000\n",
      "Time taken to do batch: 1.4618141651153564\n",
      "\n",
      "11000 11500\n",
      "Time taken to do batch: 1.4598808288574219\n",
      "\n",
      "11500 12000\n",
      "Time taken to do batch: 1.4568395614624023\n",
      "\n",
      "12000 12500\n",
      "Time taken to do batch: 1.4850585460662842\n",
      "\n",
      "12500 13000\n",
      "Time taken to do batch: 1.459970235824585\n",
      "\n",
      "13000 13500\n",
      "Time taken to do batch: 1.4769537448883057\n",
      "\n",
      "13500 13624\n",
      "Time taken to do batch: 0.8641831874847412\n"
     ]
    }
   ],
   "source": [
    "for i in range(len(weight_paths)):\n",
    "    print(weight_paths[i], output_paths[i])\n",
    "    \n",
    "    if os.path.exists(output_paths[i]) and True:\n",
    "        print('seq2rep dictionary already exists')\n",
    "        with open(output_paths[i], 'rb') as f:\n",
    "            s2r = pickle.load(file=f)\n",
    "    else:\n",
    "        print('Starting fresh')\n",
    "        s2r = {}\n",
    "        \n",
    "    remaining_seqs = list(set(seqs) - set(s2r.keys()))\n",
    "        \n",
    "    print(len(remaining_seqs), 'to inference')\n",
    "    \n",
    "    if len(remaining_seqs) > 0:\n",
    "        reps, logits, log_likes = A011_common.inference_seqs(\n",
    "                remaining_seqs, model_weight_path=weight_paths[i], return_loglikes=True)\n",
    "        \n",
    "        d = seq2rep_dict(remaining_seqs, reps, log_likes)\n",
    "        s2r.update(d)\n",
    "\n",
    "        os.makedirs(os.path.dirname(output_paths[i]), exist_ok=True)\n",
    "        with open(output_paths[i], 'wb') as f:\n",
    "            pickle.dump(file=f, obj=s2r)\n",
    "    \n",
    "        # Post publication note: Disabling sync to our private bucket, which will reject the request anyway.\n",
    "        #data_io_utils.sync_local_path_to_s3(output_paths[i], is_single_file=True)"
   ]
  }
 ],
 "metadata": {
  "kernelspec": {
   "display_name": "Python 3",
   "language": "python",
   "name": "python3"
  },
  "language_info": {
   "codemirror_mode": {
    "name": "ipython",
    "version": 3
   },
   "file_extension": ".py",
   "mimetype": "text/x-python",
   "name": "python",
   "nbconvert_exporter": "python",
   "pygments_lexer": "ipython3",
   "version": "3.5.2"
  }
 },
 "nbformat": 4,
 "nbformat_minor": 2
}
