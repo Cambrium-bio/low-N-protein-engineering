{
 "cells": [
  {
   "cell_type": "markdown",
   "metadata": {},
   "source": [
    "## Deeper analysis of beta-lactamase (BLAC) scrape & seq data by looking at variant clusters, observed vs predicted activity under additivity, and distance of designs to evotuning set sequences.\n",
    "\n",
    "Figs 2c, 2d, and 2e."
   ]
  },
  {
   "cell_type": "code",
   "execution_count": 1,
   "metadata": {},
   "outputs": [
    {
     "name": "stdout",
     "output_type": "stream",
     "text": [
      "\u001b[33mDEPRECATION: Python 3.5 reached the end of its life on September 13th, 2020. Please upgrade your Python as Python 3.5 is no longer maintained. pip 21.0 will drop support for Python 3.5 in January 2021. pip 21.0 will remove support for this functionality.\u001b[0m\n",
      "Requirement already satisfied: scipy==1.4.1 in /usr/local/lib/python3.5/dist-packages (1.4.1)\n",
      "Requirement already satisfied: numpy>=1.13.3 in /usr/local/lib/python3.5/dist-packages (from scipy==1.4.1) (1.15.4)\n"
     ]
    }
   ],
   "source": [
    "!pip install scipy==1.4.1"
   ]
  },
  {
   "cell_type": "code",
   "execution_count": 2,
   "metadata": {
    "collapsed": true
   },
   "outputs": [],
   "source": [
    "import os\n",
    "import sys\n",
    "import pickle\n",
    "from functools import reduce\n",
    "from math import log10, floor\n",
    "\n",
    "import numpy as np\n",
    "import pandas as pd\n",
    "import matplotlib.pyplot as plt\n",
    "import matplotlib as mpl\n",
    "import seaborn as sns\n",
    "import scipy\n",
    "\n",
    "from sklearn.cluster import AgglomerativeClustering\n",
    "\n",
    "sys.path.append('../common')\n",
    "import data_io_utils\n",
    "import paths\n",
    "import constants\n",
    "import utils\n",
    "import plot_style_utils\n",
    "\n",
    "sys.path.append('../A006_simulated_annealing/')\n",
    "import A006_common\n",
    "from unirep import babbler1900 as babbler\n",
    "\n",
    "sys.path.append('../A003_policy_optimization/')\n",
    "import A003_common\n",
    "\n",
    "sys.path.append('../A008_analyze_chip_1/')\n",
    "import A008_common\n",
    "\n",
    "import A010_common\n",
    "\n",
    "%reload_ext autoreload\n",
    "%autoreload 2"
   ]
  },
  {
   "cell_type": "code",
   "execution_count": 3,
   "metadata": {
    "collapsed": true
   },
   "outputs": [],
   "source": [
    "MAKE_HEATMAP_WITH_ET_UNIREP_GOF_VARIANTS_ONLY = True "
   ]
  },
  {
   "cell_type": "code",
   "execution_count": 4,
   "metadata": {},
   "outputs": [
    {
     "data": {
      "text/html": [
       "<div>\n",
       "<style scoped>\n",
       "    .dataframe tbody tr th:only-of-type {\n",
       "        vertical-align: middle;\n",
       "    }\n",
       "\n",
       "    .dataframe tbody tr th {\n",
       "        vertical-align: top;\n",
       "    }\n",
       "\n",
       "    .dataframe thead th {\n",
       "        text-align: right;\n",
       "    }\n",
       "</style>\n",
       "<table border=\"1\" class=\"dataframe\">\n",
       "  <thead>\n",
       "    <tr style=\"text-align: right;\">\n",
       "      <th></th>\n",
       "      <th>lfe_250</th>\n",
       "      <th>lfe_1000</th>\n",
       "      <th>lfe_2500</th>\n",
       "      <th>lfe_5000</th>\n",
       "      <th>rep1_250</th>\n",
       "      <th>rep1_1000</th>\n",
       "      <th>rep1_2500</th>\n",
       "      <th>rep1_5000</th>\n",
       "      <th>rep2_250</th>\n",
       "      <th>rep2_1000</th>\n",
       "      <th>...</th>\n",
       "      <th>ligated_gene</th>\n",
       "      <th>ligated_gene_translated</th>\n",
       "      <th>n_mut_rel_wt</th>\n",
       "      <th>oligo_len</th>\n",
       "      <th>model</th>\n",
       "      <th>ntrain</th>\n",
       "      <th>rep</th>\n",
       "      <th>rep_hash</th>\n",
       "      <th>seq_traj_idx</th>\n",
       "      <th>special_case</th>\n",
       "    </tr>\n",
       "  </thead>\n",
       "  <tbody>\n",
       "    <tr>\n",
       "      <th>0</th>\n",
       "      <td>-1.003346</td>\n",
       "      <td>-2.423684</td>\n",
       "      <td>-2.469612</td>\n",
       "      <td>-2.194874</td>\n",
       "      <td>-1.003346</td>\n",
       "      <td>-2.125728</td>\n",
       "      <td>-2.255074</td>\n",
       "      <td>-2.194874</td>\n",
       "      <td>-0.734210</td>\n",
       "      <td>-2.423684</td>\n",
       "      <td>...</td>\n",
       "      <td>ATGAGTATTCAACATTTCCGTGTCGCCCTTATTCCCTTTTTTGCGG...</td>\n",
       "      <td>MSIQHFRVALIPFFAAFCLPVFAHPETLVKVKDAEDQLGARVGYIE...</td>\n",
       "      <td>7.0</td>\n",
       "      <td>293.0</td>\n",
       "      <td>ET_Random_Init_1</td>\n",
       "      <td>96</td>\n",
       "      <td>3</td>\n",
       "      <td>33bfb65e</td>\n",
       "      <td>seq_idx_2563_2629</td>\n",
       "      <td></td>\n",
       "    </tr>\n",
       "    <tr>\n",
       "      <th>1</th>\n",
       "      <td>-1.207588</td>\n",
       "      <td>-2.195691</td>\n",
       "      <td>-2.400481</td>\n",
       "      <td>-2.088745</td>\n",
       "      <td>-1.207588</td>\n",
       "      <td>-2.195691</td>\n",
       "      <td>-1.847915</td>\n",
       "      <td>-2.088745</td>\n",
       "      <td>-1.113712</td>\n",
       "      <td>-1.509455</td>\n",
       "      <td>...</td>\n",
       "      <td>ATGAGTATTCAACATTTCCGTGTCGCCCTTATTCCCTTTTTTGCGG...</td>\n",
       "      <td>MSIQHFRVALIPFFAAFCLPVFAHPETLVKVKDAEDQLGARVGYIE...</td>\n",
       "      <td>7.0</td>\n",
       "      <td>293.0</td>\n",
       "      <td>OneHot</td>\n",
       "      <td>24</td>\n",
       "      <td>2</td>\n",
       "      <td>1d0c4863</td>\n",
       "      <td>seq_idx_2053_3311</td>\n",
       "      <td></td>\n",
       "    </tr>\n",
       "    <tr>\n",
       "      <th>2</th>\n",
       "      <td>-1.449553</td>\n",
       "      <td>-1.769109</td>\n",
       "      <td>-2.618223</td>\n",
       "      <td>-2.315377</td>\n",
       "      <td>-1.079944</td>\n",
       "      <td>-1.769109</td>\n",
       "      <td>-1.773516</td>\n",
       "      <td>-2.315377</td>\n",
       "      <td>-1.449553</td>\n",
       "      <td>-1.530902</td>\n",
       "      <td>...</td>\n",
       "      <td>ATGAGTATTCAACATTTCCGTGTCGCCCTTATTCCCTTTTTTGCGG...</td>\n",
       "      <td>MSIQHFRVALIPFFAAFCLPVFAHPETLVKVKDAEDQLGARVGYIE...</td>\n",
       "      <td>7.0</td>\n",
       "      <td>293.0</td>\n",
       "      <td>OneHot</td>\n",
       "      <td>96</td>\n",
       "      <td>0</td>\n",
       "      <td>2277bff5</td>\n",
       "      <td>seq_idx_2514_3406</td>\n",
       "      <td></td>\n",
       "    </tr>\n",
       "    <tr>\n",
       "      <th>3</th>\n",
       "      <td>-1.268493</td>\n",
       "      <td>-2.465868</td>\n",
       "      <td>-2.812826</td>\n",
       "      <td>-2.476037</td>\n",
       "      <td>-1.027188</td>\n",
       "      <td>-2.406891</td>\n",
       "      <td>-2.536237</td>\n",
       "      <td>-2.476037</td>\n",
       "      <td>-1.268493</td>\n",
       "      <td>-2.465868</td>\n",
       "      <td>...</td>\n",
       "      <td>ATGAGTATTCAACATTTCCGTGTCGCCCTTATTCCCTTTTTTGCGG...</td>\n",
       "      <td>MSIQHFRVALIPFFAAFCLPVFAHPETLVKVKDAEDQLGARVGYIE...</td>\n",
       "      <td>7.0</td>\n",
       "      <td>293.0</td>\n",
       "      <td>OneHot</td>\n",
       "      <td>96</td>\n",
       "      <td>3</td>\n",
       "      <td>108b3ec7</td>\n",
       "      <td>seq_idx_1878_128</td>\n",
       "      <td></td>\n",
       "    </tr>\n",
       "    <tr>\n",
       "      <th>4</th>\n",
       "      <td>-1.417045</td>\n",
       "      <td>-1.590053</td>\n",
       "      <td>-2.227124</td>\n",
       "      <td>-2.166924</td>\n",
       "      <td>-1.417045</td>\n",
       "      <td>-1.428771</td>\n",
       "      <td>-2.227124</td>\n",
       "      <td>-2.166924</td>\n",
       "      <td>-1.011380</td>\n",
       "      <td>-1.590053</td>\n",
       "      <td>...</td>\n",
       "      <td>ATGAGTATTCAACATTTCCGTGTCGCCCTTATTCCCTTTTTTGCGG...</td>\n",
       "      <td>MSIQHFRVALIPFFAAFCLPVFAHPETLVKVKDAEDQLGARVGYIE...</td>\n",
       "      <td>7.0</td>\n",
       "      <td>293.0</td>\n",
       "      <td>ET_Random_Init_1</td>\n",
       "      <td>96</td>\n",
       "      <td>3</td>\n",
       "      <td>33bfb65e</td>\n",
       "      <td>seq_idx_2894_1066</td>\n",
       "      <td></td>\n",
       "    </tr>\n",
       "  </tbody>\n",
       "</table>\n",
       "<p>5 rows × 46 columns</p>\n",
       "</div>"
      ],
      "text/plain": [
       "    lfe_250  lfe_1000  lfe_2500  lfe_5000  rep1_250  rep1_1000  rep1_2500  \\\n",
       "0 -1.003346 -2.423684 -2.469612 -2.194874 -1.003346  -2.125728  -2.255074   \n",
       "1 -1.207588 -2.195691 -2.400481 -2.088745 -1.207588  -2.195691  -1.847915   \n",
       "2 -1.449553 -1.769109 -2.618223 -2.315377 -1.079944  -1.769109  -1.773516   \n",
       "3 -1.268493 -2.465868 -2.812826 -2.476037 -1.027188  -2.406891  -2.536237   \n",
       "4 -1.417045 -1.590053 -2.227124 -2.166924 -1.417045  -1.428771  -2.227124   \n",
       "\n",
       "   rep1_5000  rep2_250  rep2_1000      ...       \\\n",
       "0  -2.194874 -0.734210  -2.423684      ...        \n",
       "1  -2.088745 -1.113712  -1.509455      ...        \n",
       "2  -2.315377 -1.449553  -1.530902      ...        \n",
       "3  -2.476037 -1.268493  -2.465868      ...        \n",
       "4  -2.166924 -1.011380  -1.590053      ...        \n",
       "\n",
       "                                        ligated_gene  \\\n",
       "0  ATGAGTATTCAACATTTCCGTGTCGCCCTTATTCCCTTTTTTGCGG...   \n",
       "1  ATGAGTATTCAACATTTCCGTGTCGCCCTTATTCCCTTTTTTGCGG...   \n",
       "2  ATGAGTATTCAACATTTCCGTGTCGCCCTTATTCCCTTTTTTGCGG...   \n",
       "3  ATGAGTATTCAACATTTCCGTGTCGCCCTTATTCCCTTTTTTGCGG...   \n",
       "4  ATGAGTATTCAACATTTCCGTGTCGCCCTTATTCCCTTTTTTGCGG...   \n",
       "\n",
       "                             ligated_gene_translated n_mut_rel_wt oligo_len  \\\n",
       "0  MSIQHFRVALIPFFAAFCLPVFAHPETLVKVKDAEDQLGARVGYIE...          7.0     293.0   \n",
       "1  MSIQHFRVALIPFFAAFCLPVFAHPETLVKVKDAEDQLGARVGYIE...          7.0     293.0   \n",
       "2  MSIQHFRVALIPFFAAFCLPVFAHPETLVKVKDAEDQLGARVGYIE...          7.0     293.0   \n",
       "3  MSIQHFRVALIPFFAAFCLPVFAHPETLVKVKDAEDQLGARVGYIE...          7.0     293.0   \n",
       "4  MSIQHFRVALIPFFAAFCLPVFAHPETLVKVKDAEDQLGARVGYIE...          7.0     293.0   \n",
       "\n",
       "              model  ntrain  rep  rep_hash       seq_traj_idx  special_case  \n",
       "0  ET_Random_Init_1      96    3  33bfb65e  seq_idx_2563_2629                \n",
       "1            OneHot      24    2  1d0c4863  seq_idx_2053_3311                \n",
       "2            OneHot      96    0  2277bff5  seq_idx_2514_3406                \n",
       "3            OneHot      96    3  108b3ec7   seq_idx_1878_128                \n",
       "4  ET_Random_Init_1      96    3  33bfb65e  seq_idx_2894_1066                \n",
       "\n",
       "[5 rows x 46 columns]"
      ]
     },
     "metadata": {},
     "output_type": "display_data"
    },
    {
     "name": "stdout",
     "output_type": "stream",
     "text": [
      "Index(['lfe_250', 'lfe_1000', 'lfe_2500', 'lfe_5000', 'rep1_250', 'rep1_1000',\n",
      "       'rep1_2500', 'rep1_5000', 'rep2_250', 'rep2_1000', 'rep2_2500',\n",
      "       'rep2_5000', 'lib_region', 'id', 'DE_Chip_1_BLAC_NGS_01',\n",
      "       'DE_Chip_1_BLAC_NGS_02', 'DE_Chip_1_BLAC_NGS_03',\n",
      "       'DE_Chip_1_BLAC_NGS_04', 'DE_Chip_1_BLAC_NGS_05',\n",
      "       'DE_Chip_1_BLAC_NGS_06', 'DE_Chip_1_BLAC_NGS_07',\n",
      "       'DE_Chip_1_BLAC_NGS_08', 'DE_Chip_1_BLAC_NGS_09',\n",
      "       'DE_Chip_1_BLAC_NGS_10', 'seq_idx', 'trajectory_idx',\n",
      "       'predicted_fitness', 'ensemble_predicted_fitness', 'seq', 'protein',\n",
      "       'pred_score', 'lib_aa_seq', 'constant_where_expected',\n",
      "       'successfully_clones', 'error_message', 'dna_to_order', 'ligated_gene',\n",
      "       'ligated_gene_translated', 'n_mut_rel_wt', 'oligo_len', 'model',\n",
      "       'ntrain', 'rep', 'rep_hash', 'seq_traj_idx', 'special_case'],\n",
      "      dtype='object')\n"
     ]
    }
   ],
   "source": [
    "# Generated in mlpe-gfp-pilot repository\n",
    "lfe_data_file = os.path.join(data_io_utils.S3_DATA_ROOT, 'chip_1', \n",
    "        'A052e_BLAC_log_fold_enrichment.csv')\n",
    "\n",
    "data_io_utils.sync_s3_path_to_local(lfe_data_file, is_single_file=True)\n",
    "\n",
    "df = pd.read_csv(lfe_data_file)\n",
    "\n",
    "q = df['id'].apply(lambda s: pd.Series(A008_common.split_seq_id_into_features(s)))\n",
    "df = df.merge(q, left_index=True, right_index=True)\n",
    "\n",
    "display(df.head())\n",
    "print(df.columns)"
   ]
  },
  {
   "cell_type": "code",
   "execution_count": 5,
   "metadata": {},
   "outputs": [
    {
     "name": "stdout",
     "output_type": "stream",
     "text": [
      "ET_Random_Init_1    3254\n",
      "ET_Global_Init_1    3224\n",
      "OneHot              3201\n",
      "Name: model, dtype: int64\n",
      "\n",
      "96    5249\n",
      "24    4430\n",
      "Name: ntrain, dtype: int64\n",
      "\n",
      "0    2560\n",
      "4    1791\n",
      "3    1782\n",
      "2    1774\n",
      "1    1772\n",
      "Name: rep, dtype: int64\n",
      "\n",
      "1f121a71    300\n",
      "3d7813de    300\n",
      "30cb4ce7    300\n",
      "2a95c17b    300\n",
      "46b57ab     300\n",
      "12da09f     300\n",
      "35083dba    300\n",
      "4502d3      300\n",
      "36079a2c    299\n",
      "3764e943    299\n",
      "311cbde3    298\n",
      "31e54146    297\n",
      "33bfb65e    297\n",
      "1a4d5748    297\n",
      "17cbc6c3    296\n",
      "2db7371     296\n",
      "3a0e3d4     295\n",
      "1989c098    295\n",
      "25f01ed8    295\n",
      "1931926     294\n",
      "f795278     294\n",
      "1d0c4863    294\n",
      "3e721641    293\n",
      "bb13a0      293\n",
      "15947f78    293\n",
      "108b3ec7    292\n",
      "2277bff5    292\n",
      "341cf5c     291\n",
      "15ce00a7    286\n",
      "3ea5f6e     284\n",
      "21e3a907    273\n",
      "2bc1d82f    269\n",
      "75e84ab     267\n",
      "Name: rep_hash, dtype: int64\n",
      "\n",
      "            8870\n",
      "LargeMut     809\n",
      "Name: special_case, dtype: int64\n",
      "\n"
     ]
    }
   ],
   "source": [
    "print(df['model'].value_counts())\n",
    "print()\n",
    "\n",
    "print(df['ntrain'].value_counts())\n",
    "print()\n",
    "\n",
    "print(df['rep'].value_counts())\n",
    "print()\n",
    "\n",
    "print(df['rep_hash'].value_counts())\n",
    "print()\n",
    "\n",
    "print(df['special_case'].value_counts())\n",
    "print()"
   ]
  },
  {
   "cell_type": "code",
   "execution_count": 6,
   "metadata": {
    "collapsed": true
   },
   "outputs": [],
   "source": [
    "WT_IDX = np.argwhere(df['seq'] == constants.BETA_LAC_AA_SEQ).reshape(-1)[0]\n",
    "BETA_LAC_WT_ROW = df.iloc[WT_IDX]\n",
    "AB_CONCS = [250, 1000, 2500]\n",
    "AB_CONC_COLS = ['lfe_' + str(s) for s in AB_CONCS]"
   ]
  },
  {
   "cell_type": "code",
   "execution_count": 7,
   "metadata": {
    "collapsed": true
   },
   "outputs": [],
   "source": [
    "plot_style_utils.set_pub_plot_context()"
   ]
  },
  {
   "cell_type": "code",
   "execution_count": 8,
   "metadata": {
    "collapsed": true
   },
   "outputs": [],
   "source": [
    "def find_non_functional_population_mean_and_std(x):\n",
    "    mu = np.median(x)\n",
    "    std = scipy.stats.median_absolute_deviation(x)\n",
    "    \n",
    "    return mu, std\n",
    "\n",
    "def remove_completely_non_functional_variants(df):\n",
    "    masks = []\n",
    "    for idx in AB_CONC_COLS:\n",
    "        m, s = find_non_functional_population_mean_and_std(df[idx])\n",
    "        \n",
    "        masks.append(df[idx] < m+2*s)\n",
    "        \n",
    "    mask = reduce(np.logical_and, masks)\n",
    "    return df[~mask]\n",
    "\n",
    "def relabel_clusters(clusters, sidx):\n",
    "    sc = clusters[sidx]\n",
    "    \n",
    "    idx = 0\n",
    "    d = {}\n",
    "    for c in sc:\n",
    "        if c not in d:\n",
    "            d[c] = idx\n",
    "            idx += 1\n",
    "\n",
    "    rclust = np.zeros(len(sc))\n",
    "    for k in d.keys():\n",
    "        rclust[sc == k] = d[k]\n",
    "        \n",
    "    return rclust\n",
    "\n",
    "def cluster_rows(M, no_plot=True, optimal_ordering=True, \n",
    "        n_clusters=5, metric='euclidean', method='ward', orientation='right', ax=None):\n",
    "    \n",
    "    D = scipy.spatial.distance.pdist(M, metric=metric)\n",
    "    Z = scipy.cluster.hierarchy.linkage(D, method=method, metric=metric, optimal_ordering=True)\n",
    "    dn = scipy.cluster.hierarchy.dendrogram(Z, no_plot=no_plot, ax=ax, \n",
    "            above_threshold_color='k', color_threshold=0, orientation=orientation)\n",
    "    leaf_order = np.array(dn['leaves'])\n",
    "    \n",
    "    cluster = AgglomerativeClustering(n_clusters=n_clusters, affinity=metric, linkage=method)\n",
    "    cluster.fit_predict(M)\n",
    "    \n",
    "    rcluster_labels = relabel_clusters(cluster.labels_, leaf_order)\n",
    "\n",
    "    return leaf_order, M[leaf_order], rcluster_labels"
   ]
  },
  {
   "cell_type": "code",
   "execution_count": 9,
   "metadata": {},
   "outputs": [
    {
     "name": "stdout",
     "output_type": "stream",
     "text": [
      "(9679, 47)\n"
     ]
    },
    {
     "data": {
      "text/html": [
       "<div>\n",
       "<style scoped>\n",
       "    .dataframe tbody tr th:only-of-type {\n",
       "        vertical-align: middle;\n",
       "    }\n",
       "\n",
       "    .dataframe tbody tr th {\n",
       "        vertical-align: top;\n",
       "    }\n",
       "\n",
       "    .dataframe thead th {\n",
       "        text-align: right;\n",
       "    }\n",
       "</style>\n",
       "<table border=\"1\" class=\"dataframe\">\n",
       "  <thead>\n",
       "    <tr style=\"text-align: right;\">\n",
       "      <th></th>\n",
       "      <th>lfe_250</th>\n",
       "      <th>lfe_1000</th>\n",
       "      <th>lfe_2500</th>\n",
       "      <th>lfe_5000</th>\n",
       "      <th>rep1_250</th>\n",
       "      <th>rep1_1000</th>\n",
       "      <th>rep1_2500</th>\n",
       "      <th>rep1_5000</th>\n",
       "      <th>rep2_250</th>\n",
       "      <th>rep2_1000</th>\n",
       "      <th>...</th>\n",
       "      <th>ligated_gene_translated</th>\n",
       "      <th>n_mut_rel_wt</th>\n",
       "      <th>oligo_len</th>\n",
       "      <th>model</th>\n",
       "      <th>ntrain</th>\n",
       "      <th>rep</th>\n",
       "      <th>rep_hash</th>\n",
       "      <th>seq_traj_idx</th>\n",
       "      <th>special_case</th>\n",
       "      <th>add_singles</th>\n",
       "    </tr>\n",
       "  </thead>\n",
       "  <tbody>\n",
       "    <tr>\n",
       "      <th>0</th>\n",
       "      <td>-1.003346</td>\n",
       "      <td>-2.423684</td>\n",
       "      <td>-2.469612</td>\n",
       "      <td>-2.194874</td>\n",
       "      <td>-1.003346</td>\n",
       "      <td>-2.125728</td>\n",
       "      <td>-2.255074</td>\n",
       "      <td>-2.194874</td>\n",
       "      <td>-0.734210</td>\n",
       "      <td>-2.423684</td>\n",
       "      <td>...</td>\n",
       "      <td>MSIQHFRVALIPFFAAFCLPVFAHPETLVKVKDAEDQLGARVGYIE...</td>\n",
       "      <td>7.0</td>\n",
       "      <td>293.0</td>\n",
       "      <td>ET_Random_Init_1</td>\n",
       "      <td>96</td>\n",
       "      <td>3</td>\n",
       "      <td>33bfb65e</td>\n",
       "      <td>seq_idx_2563_2629</td>\n",
       "      <td></td>\n",
       "      <td>NaN</td>\n",
       "    </tr>\n",
       "    <tr>\n",
       "      <th>1</th>\n",
       "      <td>-1.207588</td>\n",
       "      <td>-2.195691</td>\n",
       "      <td>-2.400481</td>\n",
       "      <td>-2.088745</td>\n",
       "      <td>-1.207588</td>\n",
       "      <td>-2.195691</td>\n",
       "      <td>-1.847915</td>\n",
       "      <td>-2.088745</td>\n",
       "      <td>-1.113712</td>\n",
       "      <td>-1.509455</td>\n",
       "      <td>...</td>\n",
       "      <td>MSIQHFRVALIPFFAAFCLPVFAHPETLVKVKDAEDQLGARVGYIE...</td>\n",
       "      <td>7.0</td>\n",
       "      <td>293.0</td>\n",
       "      <td>OneHot</td>\n",
       "      <td>24</td>\n",
       "      <td>2</td>\n",
       "      <td>1d0c4863</td>\n",
       "      <td>seq_idx_2053_3311</td>\n",
       "      <td></td>\n",
       "      <td>NaN</td>\n",
       "    </tr>\n",
       "    <tr>\n",
       "      <th>2</th>\n",
       "      <td>-1.449553</td>\n",
       "      <td>-1.769109</td>\n",
       "      <td>-2.618223</td>\n",
       "      <td>-2.315377</td>\n",
       "      <td>-1.079944</td>\n",
       "      <td>-1.769109</td>\n",
       "      <td>-1.773516</td>\n",
       "      <td>-2.315377</td>\n",
       "      <td>-1.449553</td>\n",
       "      <td>-1.530902</td>\n",
       "      <td>...</td>\n",
       "      <td>MSIQHFRVALIPFFAAFCLPVFAHPETLVKVKDAEDQLGARVGYIE...</td>\n",
       "      <td>7.0</td>\n",
       "      <td>293.0</td>\n",
       "      <td>OneHot</td>\n",
       "      <td>96</td>\n",
       "      <td>0</td>\n",
       "      <td>2277bff5</td>\n",
       "      <td>seq_idx_2514_3406</td>\n",
       "      <td></td>\n",
       "      <td>NaN</td>\n",
       "    </tr>\n",
       "    <tr>\n",
       "      <th>3</th>\n",
       "      <td>-1.268493</td>\n",
       "      <td>-2.465868</td>\n",
       "      <td>-2.812826</td>\n",
       "      <td>-2.476037</td>\n",
       "      <td>-1.027188</td>\n",
       "      <td>-2.406891</td>\n",
       "      <td>-2.536237</td>\n",
       "      <td>-2.476037</td>\n",
       "      <td>-1.268493</td>\n",
       "      <td>-2.465868</td>\n",
       "      <td>...</td>\n",
       "      <td>MSIQHFRVALIPFFAAFCLPVFAHPETLVKVKDAEDQLGARVGYIE...</td>\n",
       "      <td>7.0</td>\n",
       "      <td>293.0</td>\n",
       "      <td>OneHot</td>\n",
       "      <td>96</td>\n",
       "      <td>3</td>\n",
       "      <td>108b3ec7</td>\n",
       "      <td>seq_idx_1878_128</td>\n",
       "      <td></td>\n",
       "      <td>NaN</td>\n",
       "    </tr>\n",
       "    <tr>\n",
       "      <th>4</th>\n",
       "      <td>-1.417045</td>\n",
       "      <td>-1.590053</td>\n",
       "      <td>-2.227124</td>\n",
       "      <td>-2.166924</td>\n",
       "      <td>-1.417045</td>\n",
       "      <td>-1.428771</td>\n",
       "      <td>-2.227124</td>\n",
       "      <td>-2.166924</td>\n",
       "      <td>-1.011380</td>\n",
       "      <td>-1.590053</td>\n",
       "      <td>...</td>\n",
       "      <td>MSIQHFRVALIPFFAAFCLPVFAHPETLVKVKDAEDQLGARVGYIE...</td>\n",
       "      <td>7.0</td>\n",
       "      <td>293.0</td>\n",
       "      <td>ET_Random_Init_1</td>\n",
       "      <td>96</td>\n",
       "      <td>3</td>\n",
       "      <td>33bfb65e</td>\n",
       "      <td>seq_idx_2894_1066</td>\n",
       "      <td></td>\n",
       "      <td>NaN</td>\n",
       "    </tr>\n",
       "  </tbody>\n",
       "</table>\n",
       "<p>5 rows × 47 columns</p>\n",
       "</div>"
      ],
      "text/plain": [
       "    lfe_250  lfe_1000  lfe_2500  lfe_5000  rep1_250  rep1_1000  rep1_2500  \\\n",
       "0 -1.003346 -2.423684 -2.469612 -2.194874 -1.003346  -2.125728  -2.255074   \n",
       "1 -1.207588 -2.195691 -2.400481 -2.088745 -1.207588  -2.195691  -1.847915   \n",
       "2 -1.449553 -1.769109 -2.618223 -2.315377 -1.079944  -1.769109  -1.773516   \n",
       "3 -1.268493 -2.465868 -2.812826 -2.476037 -1.027188  -2.406891  -2.536237   \n",
       "4 -1.417045 -1.590053 -2.227124 -2.166924 -1.417045  -1.428771  -2.227124   \n",
       "\n",
       "   rep1_5000  rep2_250  rep2_1000     ...       \\\n",
       "0  -2.194874 -0.734210  -2.423684     ...        \n",
       "1  -2.088745 -1.113712  -1.509455     ...        \n",
       "2  -2.315377 -1.449553  -1.530902     ...        \n",
       "3  -2.476037 -1.268493  -2.465868     ...        \n",
       "4  -2.166924 -1.011380  -1.590053     ...        \n",
       "\n",
       "                             ligated_gene_translated  n_mut_rel_wt oligo_len  \\\n",
       "0  MSIQHFRVALIPFFAAFCLPVFAHPETLVKVKDAEDQLGARVGYIE...           7.0     293.0   \n",
       "1  MSIQHFRVALIPFFAAFCLPVFAHPETLVKVKDAEDQLGARVGYIE...           7.0     293.0   \n",
       "2  MSIQHFRVALIPFFAAFCLPVFAHPETLVKVKDAEDQLGARVGYIE...           7.0     293.0   \n",
       "3  MSIQHFRVALIPFFAAFCLPVFAHPETLVKVKDAEDQLGARVGYIE...           7.0     293.0   \n",
       "4  MSIQHFRVALIPFFAAFCLPVFAHPETLVKVKDAEDQLGARVGYIE...           7.0     293.0   \n",
       "\n",
       "              model  ntrain  rep  rep_hash       seq_traj_idx  special_case  \\\n",
       "0  ET_Random_Init_1      96    3  33bfb65e  seq_idx_2563_2629                 \n",
       "1            OneHot      24    2  1d0c4863  seq_idx_2053_3311                 \n",
       "2            OneHot      96    0  2277bff5  seq_idx_2514_3406                 \n",
       "3            OneHot      96    3  108b3ec7   seq_idx_1878_128                 \n",
       "4  ET_Random_Init_1      96    3  33bfb65e  seq_idx_2894_1066                 \n",
       "\n",
       "   add_singles  \n",
       "0          NaN  \n",
       "1          NaN  \n",
       "2          NaN  \n",
       "3          NaN  \n",
       "4          NaN  \n",
       "\n",
       "[5 rows x 47 columns]"
      ]
     },
     "execution_count": 9,
     "metadata": {},
     "output_type": "execute_result"
    }
   ],
   "source": [
    "v = df['seq'].apply(A010_common.calculate_predicted_fitness_based_on_singles)\n",
    "q = pd.DataFrame(v.tolist(), index=df.index, columns=['add_singles'])\n",
    "\n",
    "df = pd.concat([df, q], axis=1)\n",
    "print(df.shape)\n",
    "df.head()"
   ]
  },
  {
   "cell_type": "markdown",
   "metadata": {},
   "source": [
    "## Compare how phenotypes compared to those predicted under additivity of singles -- this is scratch.\n",
    "\n",
    "Main figure ready plot down below."
   ]
  },
  {
   "cell_type": "code",
   "execution_count": 10,
   "metadata": {
    "collapsed": true
   },
   "outputs": [],
   "source": [
    "round_to_n = lambda x, n: round(x, -int(floor(log10(x))) + (n - 1))\n",
    "\n",
    "def change_axis_to_fold_activity(ax):\n",
    "    xt = ax.get_xticks()\n",
    "    xtl = ['%0.2f'% x for x in 10**xt]\n",
    "    ax.set_xticklabels(xtl)\n",
    "    \n",
    "    yt = ax.get_yticks()\n",
    "    ytl = ['%0.2f'% y for y in 10**yt]\n",
    "    ax.set_yticklabels(ytl)"
   ]
  },
  {
   "cell_type": "markdown",
   "metadata": {},
   "source": [
    "## Examine clusters of blac activity.\n",
    "\n",
    "- Previously we looked at functional variants, but let's look at those that are better than WT in at least one condition"
   ]
  },
  {
   "cell_type": "code",
   "execution_count": 11,
   "metadata": {},
   "outputs": [
    {
     "name": "stderr",
     "output_type": "stream",
     "text": [
      "/usr/local/lib/python3.5/dist-packages/matplotlib/font_manager.py:1241: UserWarning: findfont: Font family ['Helvetica'] not found. Falling back to DejaVu Sans.\n",
      "  (prop.get_family(), self.defaultFamily[fontext]))\n"
     ]
    },
    {
     "data": {
      "image/png": "[encoded data removed]",
      "text/plain": [
       "<Figure size 432x288 with 1 Axes>"
      ]
     },
     "metadata": {},
     "output_type": "display_data"
    },
    {
     "data": {
      "image/png": "[encoded data removed]",
      "text/plain": [
       "<Figure size 432x288 with 1 Axes>"
      ]
     },
     "metadata": {},
     "output_type": "display_data"
    },
    {
     "data": {
      "image/png": "[encoded data removed]",
      "text/plain": [
       "<Figure size 432x288 with 1 Axes>"
      ]
     },
     "metadata": {},
     "output_type": "display_data"
    }
   ],
   "source": [
    "for idx in AB_CONC_COLS:\n",
    "    plt.hist(df[idx], bins=30)\n",
    "    m, s = find_non_functional_population_mean_and_std(df[idx])\n",
    "    plt.axvline(m, color='r')\n",
    "    plt.axvline(m-2*s, color='r', linestyle='--' )\n",
    "    plt.axvline(m+2*s, color='r', linestyle='--' )\n",
    "    plt.show()"
   ]
  },
  {
   "cell_type": "code",
   "execution_count": 12,
   "metadata": {},
   "outputs": [
    {
     "name": "stdout",
     "output_type": "stream",
     "text": [
      "248\n",
      "(9679, 47)\n",
      "(612, 47)\n"
     ]
    },
    {
     "data": {
      "text/html": [
       "<div>\n",
       "<style scoped>\n",
       "    .dataframe tbody tr th:only-of-type {\n",
       "        vertical-align: middle;\n",
       "    }\n",
       "\n",
       "    .dataframe tbody tr th {\n",
       "        vertical-align: top;\n",
       "    }\n",
       "\n",
       "    .dataframe thead th {\n",
       "        text-align: right;\n",
       "    }\n",
       "</style>\n",
       "<table border=\"1\" class=\"dataframe\">\n",
       "  <thead>\n",
       "    <tr style=\"text-align: right;\">\n",
       "      <th></th>\n",
       "      <th>lfe_250</th>\n",
       "      <th>lfe_1000</th>\n",
       "      <th>lfe_2500</th>\n",
       "      <th>lfe_5000</th>\n",
       "      <th>rep1_250</th>\n",
       "      <th>rep1_1000</th>\n",
       "      <th>rep1_2500</th>\n",
       "      <th>rep1_5000</th>\n",
       "      <th>rep2_250</th>\n",
       "      <th>rep2_1000</th>\n",
       "      <th>...</th>\n",
       "      <th>ligated_gene_translated</th>\n",
       "      <th>n_mut_rel_wt</th>\n",
       "      <th>oligo_len</th>\n",
       "      <th>model</th>\n",
       "      <th>ntrain</th>\n",
       "      <th>rep</th>\n",
       "      <th>rep_hash</th>\n",
       "      <th>seq_traj_idx</th>\n",
       "      <th>special_case</th>\n",
       "      <th>add_singles</th>\n",
       "    </tr>\n",
       "  </thead>\n",
       "  <tbody>\n",
       "    <tr>\n",
       "      <th>61</th>\n",
       "      <td>0.972426</td>\n",
       "      <td>0.866153</td>\n",
       "      <td>-0.996826</td>\n",
       "      <td>-1.345216</td>\n",
       "      <td>0.977129</td>\n",
       "      <td>1.034573</td>\n",
       "      <td>-0.822826</td>\n",
       "      <td>-1.017899</td>\n",
       "      <td>0.972426</td>\n",
       "      <td>0.866153</td>\n",
       "      <td>...</td>\n",
       "      <td>MSIQHFRVALIPFFAAFCLPVFAHPETLVKVKDAEDQLGARVGYIE...</td>\n",
       "      <td>3.0</td>\n",
       "      <td>293.0</td>\n",
       "      <td>ET_Global_Init_1</td>\n",
       "      <td>96</td>\n",
       "      <td>3</td>\n",
       "      <td>12da09f</td>\n",
       "      <td>seq_idx_1977_2848</td>\n",
       "      <td></td>\n",
       "      <td>0.871722</td>\n",
       "    </tr>\n",
       "    <tr>\n",
       "      <th>74</th>\n",
       "      <td>0.865278</td>\n",
       "      <td>1.374012</td>\n",
       "      <td>-1.066368</td>\n",
       "      <td>-1.192909</td>\n",
       "      <td>0.865278</td>\n",
       "      <td>1.389862</td>\n",
       "      <td>-0.784958</td>\n",
       "      <td>-0.993603</td>\n",
       "      <td>0.923488</td>\n",
       "      <td>1.374012</td>\n",
       "      <td>...</td>\n",
       "      <td>MSIQHFRVALIPFFAAFCLPVFAHPETLVKVKDAEDQLGARVGYIE...</td>\n",
       "      <td>4.0</td>\n",
       "      <td>293.0</td>\n",
       "      <td>ET_Global_Init_1</td>\n",
       "      <td>96</td>\n",
       "      <td>3</td>\n",
       "      <td>12da09f</td>\n",
       "      <td>seq_idx_250_1667</td>\n",
       "      <td></td>\n",
       "      <td>0.997072</td>\n",
       "    </tr>\n",
       "    <tr>\n",
       "      <th>76</th>\n",
       "      <td>0.724719</td>\n",
       "      <td>-2.575378</td>\n",
       "      <td>-2.319491</td>\n",
       "      <td>-2.161582</td>\n",
       "      <td>0.809142</td>\n",
       "      <td>-1.764176</td>\n",
       "      <td>-2.319491</td>\n",
       "      <td>-1.958261</td>\n",
       "      <td>0.724719</td>\n",
       "      <td>-2.575378</td>\n",
       "      <td>...</td>\n",
       "      <td>MSIQHFRVALIPFFAAFCLPVFAHPETLVKVKDAEDQLGARVGYIE...</td>\n",
       "      <td>7.0</td>\n",
       "      <td>293.0</td>\n",
       "      <td>ET_Global_Init_1</td>\n",
       "      <td>96</td>\n",
       "      <td>3</td>\n",
       "      <td>12da09f</td>\n",
       "      <td>seq_idx_2956_412</td>\n",
       "      <td></td>\n",
       "      <td>NaN</td>\n",
       "    </tr>\n",
       "    <tr>\n",
       "      <th>80</th>\n",
       "      <td>0.941885</td>\n",
       "      <td>-1.425134</td>\n",
       "      <td>-1.240613</td>\n",
       "      <td>-1.710308</td>\n",
       "      <td>0.995938</td>\n",
       "      <td>-1.238512</td>\n",
       "      <td>-0.722332</td>\n",
       "      <td>-1.264192</td>\n",
       "      <td>0.941885</td>\n",
       "      <td>-1.425134</td>\n",
       "      <td>...</td>\n",
       "      <td>MSIQHFRVALIPFFAAFCLPVFAHPETLVKVKDAEDQLGARVGYIE...</td>\n",
       "      <td>7.0</td>\n",
       "      <td>293.0</td>\n",
       "      <td>ET_Global_Init_1</td>\n",
       "      <td>96</td>\n",
       "      <td>3</td>\n",
       "      <td>12da09f</td>\n",
       "      <td>seq_idx_2329_2656</td>\n",
       "      <td></td>\n",
       "      <td>0.797607</td>\n",
       "    </tr>\n",
       "    <tr>\n",
       "      <th>83</th>\n",
       "      <td>0.923991</td>\n",
       "      <td>1.075832</td>\n",
       "      <td>-1.213811</td>\n",
       "      <td>-1.619388</td>\n",
       "      <td>0.947960</td>\n",
       "      <td>1.213182</td>\n",
       "      <td>-0.885954</td>\n",
       "      <td>-1.146988</td>\n",
       "      <td>0.923991</td>\n",
       "      <td>1.075832</td>\n",
       "      <td>...</td>\n",
       "      <td>MSIQHFRVALIPFFAAFCLPVFAHPETLVKVKDAEDQLGARVGYIE...</td>\n",
       "      <td>7.0</td>\n",
       "      <td>293.0</td>\n",
       "      <td>ET_Global_Init_1</td>\n",
       "      <td>96</td>\n",
       "      <td>3</td>\n",
       "      <td>12da09f</td>\n",
       "      <td>seq_idx_2901_2664</td>\n",
       "      <td></td>\n",
       "      <td>NaN</td>\n",
       "    </tr>\n",
       "  </tbody>\n",
       "</table>\n",
       "<p>5 rows × 47 columns</p>\n",
       "</div>"
      ],
      "text/plain": [
       "     lfe_250  lfe_1000  lfe_2500  lfe_5000  rep1_250  rep1_1000  rep1_2500  \\\n",
       "61  0.972426  0.866153 -0.996826 -1.345216  0.977129   1.034573  -0.822826   \n",
       "74  0.865278  1.374012 -1.066368 -1.192909  0.865278   1.389862  -0.784958   \n",
       "76  0.724719 -2.575378 -2.319491 -2.161582  0.809142  -1.764176  -2.319491   \n",
       "80  0.941885 -1.425134 -1.240613 -1.710308  0.995938  -1.238512  -0.722332   \n",
       "83  0.923991  1.075832 -1.213811 -1.619388  0.947960   1.213182  -0.885954   \n",
       "\n",
       "    rep1_5000  rep2_250  rep2_1000     ...       \\\n",
       "61  -1.017899  0.972426   0.866153     ...        \n",
       "74  -0.993603  0.923488   1.374012     ...        \n",
       "76  -1.958261  0.724719  -2.575378     ...        \n",
       "80  -1.264192  0.941885  -1.425134     ...        \n",
       "83  -1.146988  0.923991   1.075832     ...        \n",
       "\n",
       "                              ligated_gene_translated  n_mut_rel_wt oligo_len  \\\n",
       "61  MSIQHFRVALIPFFAAFCLPVFAHPETLVKVKDAEDQLGARVGYIE...           3.0     293.0   \n",
       "74  MSIQHFRVALIPFFAAFCLPVFAHPETLVKVKDAEDQLGARVGYIE...           4.0     293.0   \n",
       "76  MSIQHFRVALIPFFAAFCLPVFAHPETLVKVKDAEDQLGARVGYIE...           7.0     293.0   \n",
       "80  MSIQHFRVALIPFFAAFCLPVFAHPETLVKVKDAEDQLGARVGYIE...           7.0     293.0   \n",
       "83  MSIQHFRVALIPFFAAFCLPVFAHPETLVKVKDAEDQLGARVGYIE...           7.0     293.0   \n",
       "\n",
       "               model  ntrain  rep  rep_hash       seq_traj_idx  special_case  \\\n",
       "61  ET_Global_Init_1      96    3   12da09f  seq_idx_1977_2848                 \n",
       "74  ET_Global_Init_1      96    3   12da09f   seq_idx_250_1667                 \n",
       "76  ET_Global_Init_1      96    3   12da09f   seq_idx_2956_412                 \n",
       "80  ET_Global_Init_1      96    3   12da09f  seq_idx_2329_2656                 \n",
       "83  ET_Global_Init_1      96    3   12da09f  seq_idx_2901_2664                 \n",
       "\n",
       "    add_singles  \n",
       "61     0.871722  \n",
       "74     0.997072  \n",
       "76          NaN  \n",
       "80     0.797607  \n",
       "83          NaN  \n",
       "\n",
       "[5 rows x 47 columns]"
      ]
     },
     "execution_count": 12,
     "metadata": {},
     "output_type": "execute_result"
    }
   ],
   "source": [
    "if False:\n",
    "    # Remove just non-functional variants.\n",
    "    df_func = remove_completely_non_functional_variants(df)\n",
    "else: \n",
    "    # Remove all variants with uniformly inferior activity relative to WT.\n",
    "    masks = []\n",
    "    for abc in AB_CONC_COLS:\n",
    "        masks.append(df[abc] >= df[abc].iloc[WT_IDX])\n",
    "    \n",
    "    mask = reduce(np.logical_or, masks)\n",
    "    \n",
    "    df_func = df[mask]\n",
    "    \n",
    "if MAKE_HEATMAP_WITH_ET_UNIREP_GOF_VARIANTS_ONLY:\n",
    "    df_func = df_func[df_func['model'] == 'ET_Global_Init_1']\n",
    "        \n",
    "WT_FUNC_IDX = np.argwhere(df_func['seq'] == constants.BETA_LAC_AA_SEQ).reshape(-1)[0]\n",
    "\n",
    "print(WT_FUNC_IDX)\n",
    "\n",
    "print(df.shape)\n",
    "print(df_func.shape)\n",
    "df_func.head()"
   ]
  },
  {
   "cell_type": "markdown",
   "metadata": {},
   "source": [
    "Cluster"
   ]
  },
  {
   "cell_type": "code",
   "execution_count": 13,
   "metadata": {
    "collapsed": true
   },
   "outputs": [],
   "source": [
    "REVERSE_ORDERING = True\n",
    "\n",
    "if REVERSE_ORDERING:\n",
    "    dendro_orient = 'left'\n",
    "else:\n",
    "    dendro_orient = 'right'"
   ]
  },
  {
   "cell_type": "code",
   "execution_count": 14,
   "metadata": {
    "collapsed": true
   },
   "outputs": [],
   "source": [
    "M = np.array(df_func[AB_CONC_COLS])\n",
    "N_CLUSTERS = 4"
   ]
  },
  {
   "cell_type": "code",
   "execution_count": 15,
   "metadata": {},
   "outputs": [
    {
     "name": "stderr",
     "output_type": "stream",
     "text": [
      "/usr/local/lib/python3.5/dist-packages/matplotlib/font_manager.py:1241: UserWarning: findfont: Font family ['Helvetica'] not found. Falling back to DejaVu Sans.\n",
      "  (prop.get_family(), self.defaultFamily[fontext]))\n"
     ]
    },
    {
     "data": {
      "image/png": "[encoded data removed]",
      "text/plain": [
       "<Figure size 72x432 with 1 Axes>"
      ]
     },
     "metadata": {},
     "output_type": "display_data"
    }
   ],
   "source": [
    "fig = plt.figure(figsize=(1,6))\n",
    "ax = plt.gca()\n",
    "sidx, Ms, clusters = cluster_rows(M, no_plot=False, ax=ax, n_clusters=N_CLUSTERS, orientation=dendro_orient)\n",
    "ax.axis('off')\n",
    "plt.show()\n",
    "\n",
    "if MAKE_HEATMAP_WITH_ET_UNIREP_GOF_VARIANTS_ONLY:\n",
    "    plot_style_utils.save_for_pub(fig=fig, path='figures/better_than_wt_cluster_dendrogram_ETUniRep_only')\n",
    "else:\n",
    "    plot_style_utils.save_for_pub(fig=fig, path='figures/better_than_wt_cluster_dendrogram')"
   ]
  },
  {
   "cell_type": "code",
   "execution_count": 16,
   "metadata": {
    "collapsed": true
   },
   "outputs": [],
   "source": [
    "if REVERSE_ORDERING:\n",
    "    sidx = np.flip(sidx)\n",
    "    Ms = np.flipud(Ms)\n",
    "    clusters = (N_CLUSTERS - np.flip(clusters)) - 1"
   ]
  },
  {
   "cell_type": "code",
   "execution_count": 17,
   "metadata": {},
   "outputs": [
    {
     "name": "stdout",
     "output_type": "stream",
     "text": [
      "336\n"
     ]
    }
   ],
   "source": [
    "df_func_clust = df_func.iloc[sidx]\n",
    "\n",
    "WT_FUNC_CLUST_IDX = np.argwhere(df_func_clust['seq'] == constants.BETA_LAC_AA_SEQ).reshape(-1)[0]\n",
    "print(WT_FUNC_CLUST_IDX)"
   ]
  },
  {
   "cell_type": "code",
   "execution_count": 18,
   "metadata": {},
   "outputs": [
    {
     "data": {
      "image/png": "[encoded data removed]",
      "text/plain": [
       "<Figure size 144x432 with 2 Axes>"
      ]
     },
     "metadata": {},
     "output_type": "display_data"
    }
   ],
   "source": [
    "fig = plt.figure(figsize=(2,6))\n",
    "sns.heatmap(Ms, cmap=plot_style_utils.DIV_PALETTE, \n",
    "            cbar_kws={'fraction':0.1, 'pad':0.04, 'aspect': 10, 'orientation':'horizontal'},\n",
    "            vmin=-2.5, vmax=2.5)\n",
    "\n",
    "plot_style_utils.prettify_ax(plt.gca())\n",
    "plt.axhline(WT_FUNC_CLUST_IDX, color=plot_style_utils.CAT_PALETTE[0], linewidth=4)\n",
    "plt.yticks([])\n",
    "plt.xticks([])\n",
    "\n",
    "plt.show()\n",
    "\n",
    "if MAKE_HEATMAP_WITH_ET_UNIREP_GOF_VARIANTS_ONLY:\n",
    "    plot_style_utils.save_for_pub(fig=fig, path='figures/better_than_wt_clustered_heatmap_ETUniRep_only')\n",
    "else:\n",
    "    plot_style_utils.save_for_pub(fig=fig, path='figures/better_than_wt_clustered_heatmap')"
   ]
  },
  {
   "cell_type": "code",
   "execution_count": 19,
   "metadata": {
    "scrolled": false
   },
   "outputs": [
    {
     "name": "stdout",
     "output_type": "stream",
     "text": [
      "ET_Global_Init_1    1.0\n",
      "Name: model, dtype: float64\n",
      "0 (47, 3)\n"
     ]
    },
    {
     "name": "stderr",
     "output_type": "stream",
     "text": [
      "/usr/local/lib/python3.5/dist-packages/matplotlib/font_manager.py:1241: UserWarning: findfont: Font family ['Helvetica'] not found. Falling back to DejaVu Sans.\n",
      "  (prop.get_family(), self.defaultFamily[fontext]))\n"
     ]
    },
    {
     "data": {
      "image/png": "[encoded data removed]",
      "text/plain": [
       "<Figure size 144x144 with 1 Axes>"
      ]
     },
     "metadata": {},
     "output_type": "display_data"
    },
    {
     "data": {
      "image/png": "[encoded data removed]",
      "text/plain": [
       "<Figure size 216x216 with 1 Axes>"
      ]
     },
     "metadata": {},
     "output_type": "display_data"
    },
    {
     "name": "stdout",
     "output_type": "stream",
     "text": [
      "ET_Global_Init_1    1.0\n",
      "Name: model, dtype: float64\n",
      "1 (226, 3)\n"
     ]
    },
    {
     "data": {
      "image/png": "[encoded data removed]",
      "text/plain": [
       "<Figure size 144x144 with 1 Axes>"
      ]
     },
     "metadata": {},
     "output_type": "display_data"
    },
    {
     "data": {
      "image/png": "[encoded data removed]",
      "text/plain": [
       "<Figure size 216x216 with 1 Axes>"
      ]
     },
     "metadata": {},
     "output_type": "display_data"
    },
    {
     "name": "stdout",
     "output_type": "stream",
     "text": [
      "ET_Global_Init_1    1.0\n",
      "Name: model, dtype: float64\n",
      "2 (64, 3)\n"
     ]
    },
    {
     "data": {
      "image/png": "[encoded data removed]",
      "text/plain": [
       "<Figure size 144x144 with 1 Axes>"
      ]
     },
     "metadata": {},
     "output_type": "display_data"
    },
    {
     "data": {
      "image/png": "[encoded data removed]",
      "text/plain": [
       "<Figure size 216x216 with 1 Axes>"
      ]
     },
     "metadata": {},
     "output_type": "display_data"
    },
    {
     "name": "stdout",
     "output_type": "stream",
     "text": [
      "ET_Global_Init_1    1.0\n",
      "Name: model, dtype: float64\n",
      "3 (275, 3)\n"
     ]
    },
    {
     "data": {
      "image/png": "[encoded data removed]",
      "text/plain": [
       "<Figure size 144x144 with 1 Axes>"
      ]
     },
     "metadata": {},
     "output_type": "display_data"
    },
    {
     "data": {
      "image/png": "[encoded data removed]",
      "text/plain": [
       "<Figure size 216x216 with 1 Axes>"
      ]
     },
     "metadata": {},
     "output_type": "display_data"
    }
   ],
   "source": [
    "for cidx in range(N_CLUSTERS):\n",
    "    cvars = Ms[clusters == cidx]\n",
    "    sub_df = df_func_clust[clusters == cidx]\n",
    "    \n",
    "    props = sub_df['model'].value_counts()/np.sum(sub_df['model'].value_counts())\n",
    "    print(props)\n",
    "    \n",
    "    # Pie chart\n",
    "    fig = plt.figure(figsize=(2,2))\n",
    "    patches, texts, _ = plt.pie(np.array(props), autopct='%0.0f%%', colors=plot_style_utils.CAT_PALETTE[1:])\n",
    "#     for t in texts:\n",
    "#         t.set_horizontalalignment('right')\n",
    "#         t.set_verticalalignment('center')\n",
    "    \n",
    "    plot_style_utils.save_for_pub(fig=fig, path='figures/pie_chart_cluster_' + str(cidx+1))\n",
    "    \n",
    "    cmedian = np.median(cvars, axis=0)\n",
    "    print(cidx, cvars.shape)\n",
    "    \n",
    "    fig = plt.figure(figsize=(3,3))\n",
    "    plot_style_utils.prettify_ax(plt.gca())\n",
    "    plt.plot(cvars.T, color=plot_style_utils.GRAY, alpha=0.3)\n",
    "    plt.plot(cmedian, '-', color='k', linewidth=4)\n",
    "    plt.plot(Ms[WT_FUNC_CLUST_IDX], '-', color=plot_style_utils.CAT_PALETTE[0], linewidth=4)\n",
    "    plt.xlim([0, 2])\n",
    "    plt.xticks([0,1,2])\n",
    "    plt.gca().set_xticklabels([])\n",
    "    plt.ylim([-3, 2.5])\n",
    "    plt.yticks([-2,-1,0,1,2])\n",
    "    plt.grid(True)\n",
    "    \n",
    "    if cidx == 1 or cidx == 3:\n",
    "        plt.gca().set_yticklabels([])\n",
    "    \n",
    "    plt.show()\n",
    "    \n",
    "    if MAKE_HEATMAP_WITH_ET_UNIREP_GOF_VARIANTS_ONLY:\n",
    "        plot_style_utils.save_for_pub(fig=fig, path='figures/cluster_' + str(cidx+1) + '_ETUniRep1_only')\n",
    "    else:\n",
    "        plot_style_utils.save_for_pub(fig=fig, path='figures/cluster_' + str(cidx+1))\n",
    "    \n",
    "    "
   ]
  },
  {
   "cell_type": "code",
   "execution_count": 20,
   "metadata": {},
   "outputs": [
    {
     "data": {
      "image/png": "[encoded data removed]",
      "text/plain": [
       "<Figure size 432x288 with 1 Axes>"
      ]
     },
     "metadata": {},
     "output_type": "display_data"
    }
   ],
   "source": [
    "plt.plot(clusters, '.k')\n",
    "plt.show()"
   ]
  },
  {
   "cell_type": "markdown",
   "metadata": {},
   "source": [
    "## Let's look at cluster 1 sequences under additivity vs their actual phenotype."
   ]
  },
  {
   "cell_type": "code",
   "execution_count": 21,
   "metadata": {},
   "outputs": [
    {
     "name": "stdout",
     "output_type": "stream",
     "text": [
      "(612, 47)\n",
      "(612,)\n"
     ]
    }
   ],
   "source": [
    "print(df_func_clust.shape)\n",
    "print(clusters.shape)"
   ]
  },
  {
   "cell_type": "code",
   "execution_count": 22,
   "metadata": {},
   "outputs": [
    {
     "name": "stdout",
     "output_type": "stream",
     "text": [
      "(226, 49)\n"
     ]
    },
    {
     "name": "stderr",
     "output_type": "stream",
     "text": [
      "/usr/local/lib/python3.5/dist-packages/ipykernel_launcher.py:4: SettingWithCopyWarning: \n",
      "A value is trying to be set on a copy of a slice from a DataFrame.\n",
      "Try using .loc[row_indexer,col_indexer] = value instead\n",
      "\n",
      "See the caveats in the documentation: http://pandas.pydata.org/pandas-docs/stable/indexing.html#indexing-view-versus-copy\n",
      "  after removing the cwd from sys.path.\n",
      "/usr/local/lib/python3.5/dist-packages/ipykernel_launcher.py:6: SettingWithCopyWarning: \n",
      "A value is trying to be set on a copy of a slice from a DataFrame.\n",
      "Try using .loc[row_indexer,col_indexer] = value instead\n",
      "\n",
      "See the caveats in the documentation: http://pandas.pydata.org/pandas-docs/stable/indexing.html#indexing-view-versus-copy\n",
      "  \n",
      "/usr/local/lib/python3.5/dist-packages/ipykernel_launcher.py:7: SettingWithCopyWarning: \n",
      "A value is trying to be set on a copy of a slice from a DataFrame.\n",
      "Try using .loc[row_indexer,col_indexer] = value instead\n",
      "\n",
      "See the caveats in the documentation: http://pandas.pydata.org/pandas-docs/stable/indexing.html#indexing-view-versus-copy\n",
      "  import sys\n"
     ]
    }
   ],
   "source": [
    "mask = np.logical_and(clusters == 1, df_func_clust['model'] == 'ET_Global_Init_1')\n",
    "\n",
    "top_clust_df = df_func_clust[mask]\n",
    "top_clust_df['n_mut_rel_wt'] = top_clust_df['n_mut_rel_wt'].astype(int)\n",
    "\n",
    "top_clust_df['add_singles_rel_wt'] = top_clust_df['add_singles'] - A010_common.blac_edit2qfunc[None]\n",
    "top_clust_df['lfe_1000_rel_wt'] = top_clust_df['lfe_1000'] - df['lfe_1000'].iloc[WT_IDX]\n",
    "\n",
    "\n",
    "print(top_clust_df.shape)"
   ]
  },
  {
   "cell_type": "code",
   "execution_count": 23,
   "metadata": {
    "collapsed": true
   },
   "outputs": [],
   "source": [
    "pal = plot_style_utils.SEQ_PALETTE\n",
    "pal_idx = np.round(np.linspace(0, (len(pal)-1)/1.3, np.max(top_clust_df['n_mut_rel_wt']))).astype(int)\n",
    "\n",
    "pal_to_use = [tuple(e) for e in list(np.array(pal)[pal_idx])]"
   ]
  },
  {
   "cell_type": "code",
   "execution_count": 24,
   "metadata": {},
   "outputs": [
    {
     "name": "stderr",
     "output_type": "stream",
     "text": [
      "/usr/local/lib/python3.5/dist-packages/matplotlib/font_manager.py:1241: UserWarning: findfont: Font family ['Helvetica'] not found. Falling back to DejaVu Sans.\n",
      "  (prop.get_family(), self.defaultFamily[fontext]))\n"
     ]
    },
    {
     "data": {
      "image/png": "[encoded data removed]",
      "text/plain": [
       "<Figure size 360x360 with 1 Axes>"
      ]
     },
     "metadata": {},
     "output_type": "display_data"
    }
   ],
   "source": [
    "fig = plt.figure(figsize=(5,5))\n",
    "ax = sns.scatterplot(x='add_singles_rel_wt', y='lfe_1000_rel_wt', data=top_clust_df, hue='n_mut_rel_wt',\n",
    "                    legend=False, s=150, alpha=0.8, palette=pal_to_use, edgecolor='k', linewidth=1)\n",
    "plot_style_utils.prettify_ax(ax)\n",
    "plt.axvline(0, color='r', linewidth=4)\n",
    "plt.axhline(0, color='r', linewidth=4)\n",
    "\n",
    "# In A007b when formatting the Firnberg dataset we take \n",
    "# log10 of 'mutational' tolerance, which is an unlogged \n",
    "# measure of fitness from the paper.\n",
    "# Here we represent this in linear space by transforming xlabels = 10**xticks\n",
    "xticks = ax.get_xticks()\n",
    "ax.set_xticklabels(['%0.2f'%x for x in 10**xticks], fontsize=22) \n",
    "\n",
    "\n",
    "# Similarly in our dataset, we're all in log-space base 10.\n",
    "yticks = ax.get_yticks()\n",
    "ax.set_yticklabels(['%0.0f'%x for x in 10**yticks], fontsize=22) \n",
    "\n",
    "ax.set_xlabel('')\n",
    "ax.set_ylabel('')\n",
    "\n",
    "plt.grid(True)\n",
    "plt.show()\n",
    "\n",
    "if MAKE_HEATMAP_WITH_ET_UNIREP_GOF_VARIANTS_ONLY:\n",
    "    plot_style_utils.save_for_pub(fig=fig, path='figures/observed_vs_additive_predicted_ETUniRep_only')\n",
    "    top_clust_df.to_csv('Cluster_1_ET_UniRep_BLAC_designs.csv')\n",
    "else:\n",
    "    plot_style_utils.save_for_pub(fig=fig, path='figures/observed_vs_additive_predicted')\n",
    "    top_clust_df.to_csv('Cluster_1_BLAC_designs.csv')"
   ]
  },
  {
   "cell_type": "code",
   "execution_count": 25,
   "metadata": {},
   "outputs": [
    {
     "data": {
      "image/png": "[encoded data removed]",
      "text/plain": [
       "<Figure size 504x72 with 1 Axes>"
      ]
     },
     "metadata": {},
     "output_type": "display_data"
    }
   ],
   "source": [
    "ax = sns.palplot(pal_to_use)\n",
    "fig = plt.gca().get_figure()\n",
    "plt.show()\n",
    "\n",
    "plot_style_utils.save_for_pub(fig=fig, path='figures/observed_vs_additive_predicted_colorbar')"
   ]
  },
  {
   "cell_type": "markdown",
   "metadata": {},
   "source": [
    "## Compute distances of successful UniRep designs to nearest Evotuning set member"
   ]
  },
  {
   "cell_type": "markdown",
   "metadata": {},
   "source": [
    "First filter by those that are some what close to wild-type"
   ]
  },
  {
   "cell_type": "code",
   "execution_count": 26,
   "metadata": {},
   "outputs": [
    {
     "name": "stdout",
     "output_type": "stream",
     "text": [
      "62155\n"
     ]
    }
   ],
   "source": [
    "with open('../A011_examine_UniRep_manifolds/BLAC_evotuning_seqs_train_betalac2.txt') as f:\n",
    "    content = f.readlines()\n",
    "et_seqs = [x.strip() for x in content] \n",
    "\n",
    "print(len(et_seqs))"
   ]
  },
  {
   "cell_type": "code",
   "execution_count": 27,
   "metadata": {
    "collapsed": true
   },
   "outputs": [],
   "source": [
    "ld_wt = utils.levenshtein_distance_matrix([constants.BETA_LAC_AA_SEQ], et_seqs).reshape(-1)"
   ]
  },
  {
   "cell_type": "code",
   "execution_count": 28,
   "metadata": {},
   "outputs": [
    {
     "data": {
      "image/png": "[encoded data removed]",
      "text/plain": [
       "<Figure size 432x288 with 1 Axes>"
      ]
     },
     "metadata": {},
     "output_type": "display_data"
    }
   ],
   "source": [
    "plt.hist(ld_wt)\n",
    "plt.show()"
   ]
  },
  {
   "cell_type": "code",
   "execution_count": 29,
   "metadata": {},
   "outputs": [
    {
     "name": "stdout",
     "output_type": "stream",
     "text": [
      "524\n"
     ]
    }
   ],
   "source": [
    "et_seqs_possible_close = list(np.array(et_seqs)[ld_wt < 40])\n",
    "print(len(et_seqs_possible_close))"
   ]
  },
  {
   "cell_type": "code",
   "execution_count": 30,
   "metadata": {},
   "outputs": [
    {
     "name": "stdout",
     "output_type": "stream",
     "text": [
      "(612, 47)\n"
     ]
    }
   ],
   "source": [
    "df_super_func = df_func_clust[clusters <= 3]\n",
    "print(df_super_func.shape)"
   ]
  },
  {
   "cell_type": "code",
   "execution_count": 31,
   "metadata": {},
   "outputs": [
    {
     "name": "stdout",
     "output_type": "stream",
     "text": [
      "(612, 47)\n"
     ]
    }
   ],
   "source": [
    "df_super_func_unirep = df_super_func[df_super_func['model'] == 'ET_Global_Init_1']\n",
    "print(df_super_func_unirep.shape)"
   ]
  },
  {
   "cell_type": "code",
   "execution_count": 32,
   "metadata": {
    "collapsed": true
   },
   "outputs": [],
   "source": [
    "ld_mat = utils.levenshtein_distance_matrix(list(df_super_func_unirep['seq']), et_seqs_possible_close)"
   ]
  },
  {
   "cell_type": "code",
   "execution_count": 33,
   "metadata": {},
   "outputs": [
    {
     "name": "stdout",
     "output_type": "stream",
     "text": [
      "(612,)\n"
     ]
    }
   ],
   "source": [
    "min_dist = np.min(ld_mat, axis=1)\n",
    "print(min_dist.shape)"
   ]
  },
  {
   "cell_type": "markdown",
   "metadata": {},
   "source": [
    "And to wild-type"
   ]
  },
  {
   "cell_type": "code",
   "execution_count": 34,
   "metadata": {
    "collapsed": true
   },
   "outputs": [],
   "source": [
    "ld_wt = utils.levenshtein_distance_matrix(list(df_super_func_unirep['seq']), [constants.BETA_LAC_AA_SEQ]).reshape(-1)"
   ]
  },
  {
   "cell_type": "markdown",
   "metadata": {},
   "source": [
    "## Now plot"
   ]
  },
  {
   "cell_type": "code",
   "execution_count": 35,
   "metadata": {
    "collapsed": true
   },
   "outputs": [],
   "source": [
    "def dist_plot(ax, dists):\n",
    "    uv, uc = np.unique(dists, return_counts=True)\n",
    "    \n",
    "    plot_style_utils.prettify_ax(ax)\n",
    "    \n",
    "    ax.bar(uv, uc, color=plot_style_utils.GRAY)\n",
    "    ax.axvline(np.median(dists), color='r')\n",
    "    \n",
    "    ax.set_xticks([1,3,5,7])\n",
    "    ax.tick_params(axis='y', which='minor', pad=1)\n",
    "    ax.grid(True)"
   ]
  },
  {
   "cell_type": "code",
   "execution_count": 36,
   "metadata": {},
   "outputs": [
    {
     "data": {
      "image/png": "[encoded data removed]",
      "text/plain": [
       "<Figure size 360x230.4 with 2 Axes>"
      ]
     },
     "metadata": {},
     "output_type": "display_data"
    }
   ],
   "source": [
    "fig, ax = plt.subplots(1,2, sharey=True, figsize=(5,3.2))\n",
    "dist_plot(ax[0], ld_wt)\n",
    "dist_plot(ax[1], min_dist)\n",
    "plt.show()\n",
    "\n",
    "if MAKE_HEATMAP_WITH_ET_UNIREP_GOF_VARIANTS_ONLY:\n",
    "    plot_style_utils.save_for_pub(fig=fig, path='figures/lev_distances_to_WT_and_ET_seqs_ETUniRep_only')\n",
    "else:\n",
    "    plot_style_utils.save_for_pub(fig=fig, path='figures/lev_distances_to_WT_and_ET_seqs')"
   ]
  }
 ],
 "metadata": {
  "kernelspec": {
   "display_name": "Python 3",
   "language": "python",
   "name": "python3"
  },
  "language_info": {
   "codemirror_mode": {
    "name": "ipython",
    "version": 3
   },
   "file_extension": ".py",
   "mimetype": "text/x-python",
   "name": "python",
   "nbconvert_exporter": "python",
   "pygments_lexer": "ipython3",
   "version": "3.5.2"
  }
 },
 "nbformat": 4,
 "nbformat_minor": 2
}
